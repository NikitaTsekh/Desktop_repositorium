{
 "cells": [
  {
   "cell_type": "code",
   "execution_count": 1,
   "id": "3748686d-bc58-429d-99e5-c56e57286b88",
   "metadata": {
    "execution": {
     "iopub.execute_input": "2023-02-10T07:13:01.407990Z",
     "iopub.status.busy": "2023-02-10T07:13:01.407720Z",
     "iopub.status.idle": "2023-02-10T07:13:02.751325Z",
     "shell.execute_reply": "2023-02-10T07:13:02.750873Z",
     "shell.execute_reply.started": "2023-02-10T07:13:01.407931Z"
    },
    "tags": []
   },
   "outputs": [],
   "source": [
    "import pandas as pd\n",
    "import numpy as np\n",
    "from statsmodels.stats.proportion import proportions_ztest\n",
    "import seaborn as sns\n",
    "import matplotlib.pyplot as plt\n",
    "\n",
    "\n",
    "plt.style.use('dark_background')\n"
   ]
  },
  {
   "cell_type": "markdown",
   "id": "c985d1ac-f5b6-4c66-bd52-f4f26f348ce3",
   "metadata": {},
   "source": [
    "Manager Vine Day claims that 80% clients are happy with the booze. We asked 100 people and 75 are happy. What can we conlcude from this?"
   ]
  },
  {
   "cell_type": "code",
   "execution_count": 2,
   "id": "5b5d176a-3253-4a31-bad3-58c0305b222f",
   "metadata": {
    "execution": {
     "iopub.execute_input": "2023-02-10T07:13:02.752180Z",
     "iopub.status.busy": "2023-02-10T07:13:02.751951Z",
     "iopub.status.idle": "2023-02-10T07:13:02.762857Z",
     "shell.execute_reply": "2023-02-10T07:13:02.762194Z",
     "shell.execute_reply.started": "2023-02-10T07:13:02.752165Z"
    },
    "tags": []
   },
   "outputs": [
    {
     "data": {
      "text/plain": [
       "array([1, 1, 0, 1, 0, 1, 1, 1, 1, 1, 1, 1, 0, 1, 1, 1, 1, 0, 1, 1, 1, 1,\n",
       "       1, 1, 0, 0, 0, 1, 1, 0, 1, 1, 0, 0, 1, 1, 1, 1, 0, 0, 0, 1, 1, 1,\n",
       "       0, 1, 0, 0, 1, 1, 0, 0, 1, 1, 1, 1, 1, 1, 1, 1, 1, 1, 1, 1, 0, 1,\n",
       "       1, 1, 1, 1, 1, 1, 1, 1, 0, 1, 1, 0, 1, 1, 1, 0, 1, 1, 1, 1, 1, 1,\n",
       "       1, 0, 1, 1, 1, 1, 1, 0, 1, 1, 1, 0])"
      ]
     },
     "execution_count": 2,
     "metadata": {},
     "output_type": "execute_result"
    }
   ],
   "source": [
    "#Lets assume that 'happines' is 80 %. What is the probabiltiy of getting 75 and lower percents if we have 100 sample of people\n",
    "\n",
    "np.random.binomial(1,0.8,size=100) #we generated 100 people where people are happy in 80 %"
   ]
  },
  {
   "cell_type": "code",
   "execution_count": 3,
   "id": "1b7fab70-e474-4168-8a2a-e419edc4d24e",
   "metadata": {
    "execution": {
     "iopub.execute_input": "2023-02-10T07:13:02.764132Z",
     "iopub.status.busy": "2023-02-10T07:13:02.763717Z",
     "iopub.status.idle": "2023-02-10T07:13:03.461116Z",
     "shell.execute_reply": "2023-02-10T07:13:03.460598Z",
     "shell.execute_reply.started": "2023-02-10T07:13:02.764108Z"
    },
    "tags": []
   },
   "outputs": [
    {
     "data": {
      "text/plain": [
       "0.13036"
      ]
     },
     "execution_count": 3,
     "metadata": {},
     "output_type": "execute_result"
    }
   ],
   "source": [
    "np.mean([np.random.binomial(1,0.8,size=100).mean()  <= 0.75 for _ in range(100000)])"
   ]
  },
  {
   "cell_type": "markdown",
   "id": "5064f578-fd0b-45ac-8679-d065248a2aeb",
   "metadata": {},
   "source": [
    "So we don't have enough evidence to kick his theory\n",
    "\n",
    "H0 - happines of people is 80%\n",
    "H1 - happines is less that 80%\n",
    "\n",
    "\n",
    "p-value is never equally to someting but always more or less\n",
    "\n",
    "\n",
    "Bootstrat is the same as monte carlo"
   ]
  },
  {
   "cell_type": "code",
   "execution_count": null,
   "id": "0ecabd82-9804-4b12-a3d3-eecc2d31cf25",
   "metadata": {
    "tags": []
   },
   "outputs": [],
   "source": []
  },
  {
   "cell_type": "code",
   "execution_count": 4,
   "id": "3cca033b-b465-482e-b7ca-0cf334f4d093",
   "metadata": {
    "execution": {
     "iopub.execute_input": "2023-02-10T07:13:03.463003Z",
     "iopub.status.busy": "2023-02-10T07:13:03.462834Z",
     "iopub.status.idle": "2023-02-10T07:13:03.477106Z",
     "shell.execute_reply": "2023-02-10T07:13:03.476672Z",
     "shell.execute_reply.started": "2023-02-10T07:13:03.462988Z"
    },
    "tags": []
   },
   "outputs": [
    {
     "data": {
      "text/plain": [
       "(-1.1547005383792526, 0.12410653949496159)"
      ]
     },
     "execution_count": 4,
     "metadata": {},
     "output_type": "execute_result"
    }
   ],
   "source": [
    "proportions_ztest(75,100,value = 0.8,alternative='smaller')"
   ]
  },
  {
   "cell_type": "code",
   "execution_count": 5,
   "id": "554c5c19-bf25-4568-861f-b26533c435f6",
   "metadata": {
    "execution": {
     "iopub.execute_input": "2023-02-10T07:13:03.477826Z",
     "iopub.status.busy": "2023-02-10T07:13:03.477662Z",
     "iopub.status.idle": "2023-02-10T07:13:04.518134Z",
     "shell.execute_reply": "2023-02-10T07:13:04.517654Z",
     "shell.execute_reply.started": "2023-02-10T07:13:03.477810Z"
    },
    "tags": []
   },
   "outputs": [
    {
     "data": {
      "text/plain": [
       "<AxesSubplot: ylabel='Count'>"
      ]
     },
     "execution_count": 5,
     "metadata": {},
     "output_type": "execute_result"
    },
    {
     "data": {
      "image/png": "[encoded data removed]",
      "text/plain": [
       "<Figure size 640x480 with 1 Axes>"
      ]
     },
     "metadata": {},
     "output_type": "display_data"
    }
   ],
   "source": [
    "sns.histplot([np.random.binomial(1,0.8,size=100).mean() for _ in range(100000)])"
   ]
  },
  {
   "cell_type": "markdown",
   "id": "9796bf0c-2908-4481-b161-4e2d36b65a65",
   "metadata": {},
   "source": [
    "p value is like sqare on the graph, its like 12 % of the whole figure"
   ]
  },
  {
   "cell_type": "markdown",
   "id": "18868615-7251-4f3a-810c-b9a39fa1daae",
   "metadata": {},
   "source": [
    "Conversion on landing page is 10 %\n",
    "\n",
    "We will show new landing page only to 30% of clients"
   ]
  },
  {
   "cell_type": "code",
   "execution_count": 6,
   "id": "a327eb9a-2db9-43f5-9035-3897b642a69c",
   "metadata": {
    "execution": {
     "iopub.execute_input": "2023-02-10T07:13:04.518929Z",
     "iopub.status.busy": "2023-02-10T07:13:04.518732Z",
     "iopub.status.idle": "2023-02-10T07:13:04.521974Z",
     "shell.execute_reply": "2023-02-10T07:13:04.521456Z",
     "shell.execute_reply.started": "2023-02-10T07:13:04.518914Z"
    },
    "tags": []
   },
   "outputs": [],
   "source": [
    "df = pd.DataFrame({'group':['old landing(A)','new landing (B)'],\n",
    "                  'lead':[700,300],'sale':[70,48]})"
   ]
  },
  {
   "cell_type": "code",
   "execution_count": 7,
   "id": "6499f6d9-602a-43be-a0b6-f8bbc234729a",
   "metadata": {
    "execution": {
     "iopub.execute_input": "2023-02-10T07:13:04.522863Z",
     "iopub.status.busy": "2023-02-10T07:13:04.522689Z",
     "iopub.status.idle": "2023-02-10T07:13:04.530685Z",
     "shell.execute_reply": "2023-02-10T07:13:04.530142Z",
     "shell.execute_reply.started": "2023-02-10T07:13:04.522847Z"
    },
    "tags": []
   },
   "outputs": [
    {
     "data": {
      "text/html": [
       "<div>\n",
       "<style scoped>\n",
       "    .dataframe tbody tr th:only-of-type {\n",
       "        vertical-align: middle;\n",
       "    }\n",
       "\n",
       "    .dataframe tbody tr th {\n",
       "        vertical-align: top;\n",
       "    }\n",
       "\n",
       "    .dataframe thead th {\n",
       "        text-align: right;\n",
       "    }\n",
       "</style>\n",
       "<table border=\"1\" class=\"dataframe\">\n",
       "  <thead>\n",
       "    <tr style=\"text-align: right;\">\n",
       "      <th></th>\n",
       "      <th>group</th>\n",
       "      <th>lead</th>\n",
       "      <th>sale</th>\n",
       "    </tr>\n",
       "  </thead>\n",
       "  <tbody>\n",
       "    <tr>\n",
       "      <th>0</th>\n",
       "      <td>old landing(A)</td>\n",
       "      <td>700</td>\n",
       "      <td>70</td>\n",
       "    </tr>\n",
       "    <tr>\n",
       "      <th>1</th>\n",
       "      <td>new landing (B)</td>\n",
       "      <td>300</td>\n",
       "      <td>48</td>\n",
       "    </tr>\n",
       "  </tbody>\n",
       "</table>\n",
       "</div>"
      ],
      "text/plain": [
       "             group  lead  sale\n",
       "0   old landing(A)   700    70\n",
       "1  new landing (B)   300    48"
      ]
     },
     "execution_count": 7,
     "metadata": {},
     "output_type": "execute_result"
    }
   ],
   "source": [
    "df"
   ]
  },
  {
   "cell_type": "code",
   "execution_count": 8,
   "id": "be2ea823-a3ae-4c33-a498-918434a4cf71",
   "metadata": {
    "execution": {
     "iopub.execute_input": "2023-02-10T07:13:04.531747Z",
     "iopub.status.busy": "2023-02-10T07:13:04.531368Z",
     "iopub.status.idle": "2023-02-10T07:13:04.535340Z",
     "shell.execute_reply": "2023-02-10T07:13:04.534864Z",
     "shell.execute_reply.started": "2023-02-10T07:13:04.531724Z"
    },
    "tags": []
   },
   "outputs": [],
   "source": [
    "df['cr'] = df['sale']/df['lead']"
   ]
  },
  {
   "cell_type": "code",
   "execution_count": 9,
   "id": "3f07539c-3652-4f63-9679-070d7a2ee746",
   "metadata": {
    "execution": {
     "iopub.execute_input": "2023-02-10T07:13:04.536121Z",
     "iopub.status.busy": "2023-02-10T07:13:04.535955Z",
     "iopub.status.idle": "2023-02-10T07:13:04.541804Z",
     "shell.execute_reply": "2023-02-10T07:13:04.541344Z",
     "shell.execute_reply.started": "2023-02-10T07:13:04.536100Z"
    },
    "tags": []
   },
   "outputs": [
    {
     "data": {
      "text/html": [
       "<div>\n",
       "<style scoped>\n",
       "    .dataframe tbody tr th:only-of-type {\n",
       "        vertical-align: middle;\n",
       "    }\n",
       "\n",
       "    .dataframe tbody tr th {\n",
       "        vertical-align: top;\n",
       "    }\n",
       "\n",
       "    .dataframe thead th {\n",
       "        text-align: right;\n",
       "    }\n",
       "</style>\n",
       "<table border=\"1\" class=\"dataframe\">\n",
       "  <thead>\n",
       "    <tr style=\"text-align: right;\">\n",
       "      <th></th>\n",
       "      <th>group</th>\n",
       "      <th>lead</th>\n",
       "      <th>sale</th>\n",
       "      <th>cr</th>\n",
       "    </tr>\n",
       "  </thead>\n",
       "  <tbody>\n",
       "    <tr>\n",
       "      <th>0</th>\n",
       "      <td>old landing(A)</td>\n",
       "      <td>700</td>\n",
       "      <td>70</td>\n",
       "      <td>0.10</td>\n",
       "    </tr>\n",
       "    <tr>\n",
       "      <th>1</th>\n",
       "      <td>new landing (B)</td>\n",
       "      <td>300</td>\n",
       "      <td>48</td>\n",
       "      <td>0.16</td>\n",
       "    </tr>\n",
       "  </tbody>\n",
       "</table>\n",
       "</div>"
      ],
      "text/plain": [
       "             group  lead  sale    cr\n",
       "0   old landing(A)   700    70  0.10\n",
       "1  new landing (B)   300    48  0.16"
      ]
     },
     "execution_count": 9,
     "metadata": {},
     "output_type": "execute_result"
    }
   ],
   "source": [
    "df"
   ]
  },
  {
   "cell_type": "markdown",
   "id": "550b9ed5-5d7f-4d64-bb1f-b8e28f066e22",
   "metadata": {},
   "source": [
    "Lets assume that there is no real difference. Whats the probabilit of getting such or even higher difference assuming there is no diference?"
   ]
  },
  {
   "cell_type": "code",
   "execution_count": 10,
   "id": "32e48430-d2b4-4ace-9918-a66fbc9abaf9",
   "metadata": {
    "execution": {
     "iopub.execute_input": "2023-02-10T07:13:04.542589Z",
     "iopub.status.busy": "2023-02-10T07:13:04.542397Z",
     "iopub.status.idle": "2023-02-10T07:13:04.545775Z",
     "shell.execute_reply": "2023-02-10T07:13:04.545278Z",
     "shell.execute_reply.started": "2023-02-10T07:13:04.542574Z"
    },
    "tags": []
   },
   "outputs": [
    {
     "data": {
      "text/plain": [
       "0.118"
      ]
     },
     "execution_count": 10,
     "metadata": {},
     "output_type": "execute_result"
    }
   ],
   "source": [
    "(70+48)/1000"
   ]
  },
  {
   "cell_type": "code",
   "execution_count": 11,
   "id": "7c98a9b7-9a17-4ad3-b910-cc124ddcb28d",
   "metadata": {
    "execution": {
     "iopub.execute_input": "2023-02-10T07:13:04.546824Z",
     "iopub.status.busy": "2023-02-10T07:13:04.546488Z",
     "iopub.status.idle": "2023-02-10T07:13:04.550906Z",
     "shell.execute_reply": "2023-02-10T07:13:04.550459Z",
     "shell.execute_reply.started": "2023-02-10T07:13:04.546805Z"
    },
    "tags": []
   },
   "outputs": [
    {
     "data": {
      "text/plain": [
       "0.11857142857142858"
      ]
     },
     "execution_count": 11,
     "metadata": {},
     "output_type": "execute_result"
    }
   ],
   "source": [
    "np.random.binomial(1,0.118,size=700).mean() #this is generator for our null hypothesis"
   ]
  },
  {
   "cell_type": "code",
   "execution_count": 12,
   "id": "34d8b779-530b-4bb9-ac28-a14c64903eb9",
   "metadata": {
    "execution": {
     "iopub.execute_input": "2023-02-10T07:13:04.551843Z",
     "iopub.status.busy": "2023-02-10T07:13:04.551675Z",
     "iopub.status.idle": "2023-02-10T07:13:04.556273Z",
     "shell.execute_reply": "2023-02-10T07:13:04.555874Z",
     "shell.execute_reply.started": "2023-02-10T07:13:04.551828Z"
    },
    "tags": []
   },
   "outputs": [
    {
     "data": {
      "text/plain": [
       "0.010952380952380963"
      ]
     },
     "execution_count": 12,
     "metadata": {},
     "output_type": "execute_result"
    }
   ],
   "source": [
    "abs(np.random.binomial(1,0.118,size=300).mean()-np.random.binomial(1,0.118,size=700).mean())"
   ]
  },
  {
   "cell_type": "code",
   "execution_count": 13,
   "id": "31729892-a2c9-4506-b99e-37975afd0b3c",
   "metadata": {
    "execution": {
     "iopub.execute_input": "2023-02-10T07:13:04.558022Z",
     "iopub.status.busy": "2023-02-10T07:13:04.557818Z",
     "iopub.status.idle": "2023-02-10T07:13:04.561002Z",
     "shell.execute_reply": "2023-02-10T07:13:04.560566Z",
     "shell.execute_reply.started": "2023-02-10T07:13:04.558007Z"
    },
    "tags": []
   },
   "outputs": [
    {
     "data": {
      "text/plain": [
       "0.06"
      ]
     },
     "execution_count": 13,
     "metadata": {},
     "output_type": "execute_result"
    }
   ],
   "source": [
    "abs(0.1-0.16)"
   ]
  },
  {
   "cell_type": "code",
   "execution_count": 14,
   "id": "e952c20e-b7d6-4aad-b475-a3cb0c3b26ca",
   "metadata": {
    "execution": {
     "iopub.execute_input": "2023-02-10T07:13:04.561893Z",
     "iopub.status.busy": "2023-02-10T07:13:04.561627Z",
     "iopub.status.idle": "2023-02-10T07:13:06.948655Z",
     "shell.execute_reply": "2023-02-10T07:13:06.948199Z",
     "shell.execute_reply.started": "2023-02-10T07:13:04.561879Z"
    },
    "tags": []
   },
   "outputs": [
    {
     "data": {
      "text/plain": [
       "0.00696"
      ]
     },
     "execution_count": 14,
     "metadata": {},
     "output_type": "execute_result"
    }
   ],
   "source": [
    "\n",
    "np.mean([abs(np.random.binomial(1,0.118,size=300).mean()-np.random.binomial(1,0.118,size=700).mean()) >= 0.06 for _ in range(100000)])"
   ]
  },
  {
   "attachments": {
    "185f6bcf-ea1a-4f19-ad96-5aa64473c284.png": {
     "image/png": "[encoded data removed]"
    }
   },
   "cell_type": "markdown",
   "id": "cf58fe6f-498f-4a2f-bf7c-67b120d57e7c",
   "metadata": {},
   "source": [
    "![image.png](attachment:185f6bcf-ea1a-4f19-ad96-5aa64473c284.png)\n",
    "https://www.evanmiller.org/ab-testing/chi-squared.html"
   ]
  },
  {
   "cell_type": "code",
   "execution_count": 15,
   "id": "d675e0cd-a04a-4a41-8021-f8a3712cd88b",
   "metadata": {
    "execution": {
     "iopub.execute_input": "2023-02-10T07:13:06.949349Z",
     "iopub.status.busy": "2023-02-10T07:13:06.949182Z",
     "iopub.status.idle": "2023-02-10T07:13:06.953500Z",
     "shell.execute_reply": "2023-02-10T07:13:06.952762Z",
     "shell.execute_reply.started": "2023-02-10T07:13:06.949335Z"
    },
    "tags": []
   },
   "outputs": [
    {
     "data": {
      "text/plain": [
       "(-2.695166510284625, 0.007035346384355496)"
      ]
     },
     "execution_count": 15,
     "metadata": {},
     "output_type": "execute_result"
    }
   ],
   "source": [
    "proportions_ztest([70,48],[700,300])"
   ]
  },
  {
   "cell_type": "code",
   "execution_count": 16,
   "id": "c9339bd3-0a55-47fc-8d6c-9fab332f6fb1",
   "metadata": {
    "execution": {
     "iopub.execute_input": "2023-02-10T07:13:06.954412Z",
     "iopub.status.busy": "2023-02-10T07:13:06.954240Z",
     "iopub.status.idle": "2023-02-10T07:13:06.965222Z",
     "shell.execute_reply": "2023-02-10T07:13:06.964745Z",
     "shell.execute_reply.started": "2023-02-10T07:13:06.954396Z"
    },
    "tags": []
   },
   "outputs": [
    {
     "data": {
      "text/plain": [
       "(-2.695166510284625, 0.007035346384355496)"
      ]
     },
     "execution_count": 16,
     "metadata": {},
     "output_type": "execute_result"
    }
   ],
   "source": [
    "proportions_ztest([70,48],[700,300])"
   ]
  },
  {
   "cell_type": "code",
   "execution_count": 31,
   "id": "806327af-9fa1-4e4e-98e7-26f83a92f788",
   "metadata": {
    "execution": {
     "iopub.execute_input": "2023-02-10T07:16:37.559545Z",
     "iopub.status.busy": "2023-02-10T07:16:37.558742Z",
     "iopub.status.idle": "2023-02-10T07:16:37.566099Z",
     "shell.execute_reply": "2023-02-10T07:16:37.564777Z",
     "shell.execute_reply.started": "2023-02-10T07:16:37.559476Z"
    },
    "tags": []
   },
   "outputs": [],
   "source": [
    "from tqdm import tqdm"
   ]
  },
  {
   "cell_type": "code",
   "execution_count": 41,
   "id": "423bfee1-adc1-44cc-8525-5413d520558f",
   "metadata": {
    "execution": {
     "iopub.execute_input": "2023-02-10T07:22:00.914705Z",
     "iopub.status.busy": "2023-02-10T07:22:00.914486Z",
     "iopub.status.idle": "2023-02-10T07:22:24.883328Z",
     "shell.execute_reply": "2023-02-10T07:22:24.882845Z",
     "shell.execute_reply.started": "2023-02-10T07:22:00.914690Z"
    },
    "tags": []
   },
   "outputs": [],
   "source": [
    "n = 1000\n",
    "result = []\n",
    "for _ in (range(n)):\n",
    "  a = np.random.binomial(1,0.118,size=700)\n",
    "  b = np.random.binomial(1,0.118,size=300)\n",
    "  diff = abs(a.mean() - b.mean())\n",
    "  # null_hyp_prob = np.concatenate([a,b]).mean()\n",
    "  pval = np.mean([abs(np.random.binomial(1,0.118,size=300).mean()\n",
    "             -np.random.binomial(1,0.118,size=700).mean())\n",
    "         >= diff for _ in range(1000)])\n",
    "  result.append(pval)"
   ]
  },
  {
   "cell_type": "code",
   "execution_count": 42,
   "id": "239f32b1-92dc-4725-9c71-8a10491b601b",
   "metadata": {
    "execution": {
     "iopub.execute_input": "2023-02-10T07:22:27.576848Z",
     "iopub.status.busy": "2023-02-10T07:22:27.576533Z",
     "iopub.status.idle": "2023-02-10T07:22:27.697233Z",
     "shell.execute_reply": "2023-02-10T07:22:27.696731Z",
     "shell.execute_reply.started": "2023-02-10T07:22:27.576826Z"
    },
    "tags": []
   },
   "outputs": [
    {
     "data": {
      "text/plain": [
       "<AxesSubplot: >"
      ]
     },
     "execution_count": 42,
     "metadata": {},
     "output_type": "execute_result"
    },
    {
     "data": {
      "image/png": "[encoded data removed]",
      "text/plain": [
       "<Figure size 640x480 with 1 Axes>"
      ]
     },
     "metadata": {},
     "output_type": "display_data"
    }
   ],
   "source": [
    "pd.Series(result).hist()"
   ]
  },
  {
   "cell_type": "code",
   "execution_count": 46,
   "id": "0febf56c-e662-4320-bce7-a73d1a40255b",
   "metadata": {
    "execution": {
     "iopub.execute_input": "2023-02-10T07:26:10.225109Z",
     "iopub.status.busy": "2023-02-10T07:26:10.224488Z",
     "iopub.status.idle": "2023-02-10T07:26:10.233201Z",
     "shell.execute_reply": "2023-02-10T07:26:10.232074Z",
     "shell.execute_reply.started": "2023-02-10T07:26:10.225055Z"
    },
    "tags": []
   },
   "outputs": [
    {
     "data": {
      "text/plain": [
       "0.046"
      ]
     },
     "execution_count": 46,
     "metadata": {},
     "output_type": "execute_result"
    }
   ],
   "source": [
    "(np.array(result) <0.05).mean()"
   ]
  },
  {
   "cell_type": "code",
   "execution_count": 48,
   "id": "fb941ca9-aff9-4767-b6d3-c1ebf8aa9f7e",
   "metadata": {
    "execution": {
     "iopub.execute_input": "2023-02-10T07:29:09.441860Z",
     "iopub.status.busy": "2023-02-10T07:29:09.441401Z",
     "iopub.status.idle": "2023-02-10T07:29:09.447325Z",
     "shell.execute_reply": "2023-02-10T07:29:09.446340Z",
     "shell.execute_reply.started": "2023-02-10T07:29:09.441821Z"
    },
    "tags": []
   },
   "outputs": [],
   "source": [
    "df=pd.DataFrame(np.random.normal(size=1000))"
   ]
  },
  {
   "cell_type": "code",
   "execution_count": 49,
   "id": "9582a0af-f95f-4124-9a9c-12865f374429",
   "metadata": {
    "execution": {
     "iopub.execute_input": "2023-02-10T07:29:14.815160Z",
     "iopub.status.busy": "2023-02-10T07:29:14.813086Z",
     "iopub.status.idle": "2023-02-10T07:29:14.966283Z",
     "shell.execute_reply": "2023-02-10T07:29:14.965665Z",
     "shell.execute_reply.started": "2023-02-10T07:29:14.815047Z"
    },
    "tags": []
   },
   "outputs": [
    {
     "data": {
      "text/plain": [
       "array([[<AxesSubplot: title={'center': '0'}>]], dtype=object)"
      ]
     },
     "execution_count": 49,
     "metadata": {},
     "output_type": "execute_result"
    },
    {
     "data": {
      "image/png": "[encoded data removed]",
      "text/plain": [
       "<Figure size 640x480 with 1 Axes>"
      ]
     },
     "metadata": {},
     "output_type": "display_data"
    }
   ],
   "source": [
    "df.hist()"
   ]
  },
  {
   "cell_type": "code",
   "execution_count": 53,
   "id": "2dca4e93-104b-4afe-9938-24832427ffa0",
   "metadata": {
    "execution": {
     "iopub.execute_input": "2023-02-10T07:30:04.250913Z",
     "iopub.status.busy": "2023-02-10T07:30:04.250143Z",
     "iopub.status.idle": "2023-02-10T07:30:04.256050Z",
     "shell.execute_reply": "2023-02-10T07:30:04.255194Z",
     "shell.execute_reply.started": "2023-02-10T07:30:04.250878Z"
    },
    "tags": []
   },
   "outputs": [],
   "source": [
    "df=df.sort_values(0)"
   ]
  },
  {
   "cell_type": "code",
   "execution_count": 54,
   "id": "e7a0fc10-c821-4649-8bc6-684ef7e1a31d",
   "metadata": {
    "execution": {
     "iopub.execute_input": "2023-02-10T07:30:42.894316Z",
     "iopub.status.busy": "2023-02-10T07:30:42.893354Z",
     "iopub.status.idle": "2023-02-10T07:30:42.906724Z",
     "shell.execute_reply": "2023-02-10T07:30:42.904333Z",
     "shell.execute_reply.started": "2023-02-10T07:30:42.894239Z"
    },
    "tags": []
   },
   "outputs": [],
   "source": [
    "df['cnt'] = range(1,1001)"
   ]
  },
  {
   "cell_type": "code",
   "execution_count": 55,
   "id": "eb65ad0b-65cb-40ad-bfc5-86abd3155a40",
   "metadata": {
    "execution": {
     "iopub.execute_input": "2023-02-10T07:30:56.614132Z",
     "iopub.status.busy": "2023-02-10T07:30:56.612711Z",
     "iopub.status.idle": "2023-02-10T07:30:56.624749Z",
     "shell.execute_reply": "2023-02-10T07:30:56.623007Z",
     "shell.execute_reply.started": "2023-02-10T07:30:56.614060Z"
    },
    "tags": []
   },
   "outputs": [],
   "source": [
    "df['pct']=df['cnt']/1000"
   ]
  },
  {
   "cell_type": "code",
   "execution_count": 56,
   "id": "d89e540c-b648-4047-ae9e-467909c71d1a",
   "metadata": {
    "execution": {
     "iopub.execute_input": "2023-02-10T07:30:59.513187Z",
     "iopub.status.busy": "2023-02-10T07:30:59.511349Z",
     "iopub.status.idle": "2023-02-10T07:30:59.538213Z",
     "shell.execute_reply": "2023-02-10T07:30:59.537259Z",
     "shell.execute_reply.started": "2023-02-10T07:30:59.513108Z"
    },
    "tags": []
   },
   "outputs": [
    {
     "data": {
      "text/html": [
       "<div>\n",
       "<style scoped>\n",
       "    .dataframe tbody tr th:only-of-type {\n",
       "        vertical-align: middle;\n",
       "    }\n",
       "\n",
       "    .dataframe tbody tr th {\n",
       "        vertical-align: top;\n",
       "    }\n",
       "\n",
       "    .dataframe thead th {\n",
       "        text-align: right;\n",
       "    }\n",
       "</style>\n",
       "<table border=\"1\" class=\"dataframe\">\n",
       "  <thead>\n",
       "    <tr style=\"text-align: right;\">\n",
       "      <th></th>\n",
       "      <th>0</th>\n",
       "      <th>cnt</th>\n",
       "      <th>pct</th>\n",
       "    </tr>\n",
       "  </thead>\n",
       "  <tbody>\n",
       "    <tr>\n",
       "      <th>147</th>\n",
       "      <td>-3.561620</td>\n",
       "      <td>1</td>\n",
       "      <td>0.001</td>\n",
       "    </tr>\n",
       "    <tr>\n",
       "      <th>617</th>\n",
       "      <td>-3.308855</td>\n",
       "      <td>2</td>\n",
       "      <td>0.002</td>\n",
       "    </tr>\n",
       "    <tr>\n",
       "      <th>587</th>\n",
       "      <td>-2.949875</td>\n",
       "      <td>3</td>\n",
       "      <td>0.003</td>\n",
       "    </tr>\n",
       "    <tr>\n",
       "      <th>458</th>\n",
       "      <td>-2.806050</td>\n",
       "      <td>4</td>\n",
       "      <td>0.004</td>\n",
       "    </tr>\n",
       "    <tr>\n",
       "      <th>889</th>\n",
       "      <td>-2.779864</td>\n",
       "      <td>5</td>\n",
       "      <td>0.005</td>\n",
       "    </tr>\n",
       "    <tr>\n",
       "      <th>...</th>\n",
       "      <td>...</td>\n",
       "      <td>...</td>\n",
       "      <td>...</td>\n",
       "    </tr>\n",
       "    <tr>\n",
       "      <th>382</th>\n",
       "      <td>2.462598</td>\n",
       "      <td>996</td>\n",
       "      <td>0.996</td>\n",
       "    </tr>\n",
       "    <tr>\n",
       "      <th>482</th>\n",
       "      <td>2.469598</td>\n",
       "      <td>997</td>\n",
       "      <td>0.997</td>\n",
       "    </tr>\n",
       "    <tr>\n",
       "      <th>206</th>\n",
       "      <td>2.642759</td>\n",
       "      <td>998</td>\n",
       "      <td>0.998</td>\n",
       "    </tr>\n",
       "    <tr>\n",
       "      <th>367</th>\n",
       "      <td>2.711405</td>\n",
       "      <td>999</td>\n",
       "      <td>0.999</td>\n",
       "    </tr>\n",
       "    <tr>\n",
       "      <th>555</th>\n",
       "      <td>2.730143</td>\n",
       "      <td>1000</td>\n",
       "      <td>1.000</td>\n",
       "    </tr>\n",
       "  </tbody>\n",
       "</table>\n",
       "<p>1000 rows × 3 columns</p>\n",
       "</div>"
      ],
      "text/plain": [
       "            0   cnt    pct\n",
       "147 -3.561620     1  0.001\n",
       "617 -3.308855     2  0.002\n",
       "587 -2.949875     3  0.003\n",
       "458 -2.806050     4  0.004\n",
       "889 -2.779864     5  0.005\n",
       "..        ...   ...    ...\n",
       "382  2.462598   996  0.996\n",
       "482  2.469598   997  0.997\n",
       "206  2.642759   998  0.998\n",
       "367  2.711405   999  0.999\n",
       "555  2.730143  1000  1.000\n",
       "\n",
       "[1000 rows x 3 columns]"
      ]
     },
     "execution_count": 56,
     "metadata": {},
     "output_type": "execute_result"
    }
   ],
   "source": [
    "df"
   ]
  },
  {
   "cell_type": "code",
   "execution_count": 57,
   "id": "7ceb8e52-97de-434b-972d-fabe979a5a45",
   "metadata": {
    "execution": {
     "iopub.execute_input": "2023-02-10T07:32:25.486179Z",
     "iopub.status.busy": "2023-02-10T07:32:25.485682Z",
     "iopub.status.idle": "2023-02-10T07:32:25.604690Z",
     "shell.execute_reply": "2023-02-10T07:32:25.604231Z",
     "shell.execute_reply.started": "2023-02-10T07:32:25.486160Z"
    },
    "tags": []
   },
   "outputs": [
    {
     "data": {
      "text/plain": [
       "<AxesSubplot: >"
      ]
     },
     "execution_count": 57,
     "metadata": {},
     "output_type": "execute_result"
    },
    {
     "data": {
      "image/png": "[encoded data removed]",
      "text/plain": [
       "<Figure size 640x480 with 1 Axes>"
      ]
     },
     "metadata": {},
     "output_type": "display_data"
    }
   ],
   "source": [
    "df['pct'].hist()"
   ]
  },
  {
   "cell_type": "code",
   "execution_count": 58,
   "id": "258f739d-f1bb-4c7d-8252-1a1b2ca228a2",
   "metadata": {
    "execution": {
     "iopub.execute_input": "2023-02-10T07:34:21.592056Z",
     "iopub.status.busy": "2023-02-10T07:34:21.591702Z",
     "iopub.status.idle": "2023-02-10T07:34:21.599005Z",
     "shell.execute_reply": "2023-02-10T07:34:21.598201Z",
     "shell.execute_reply.started": "2023-02-10T07:34:21.592029Z"
    },
    "tags": []
   },
   "outputs": [],
   "source": [
    "df['bin'] = pd.cut(df['pct'],10)"
   ]
  },
  {
   "cell_type": "code",
   "execution_count": 59,
   "id": "e994da78-ae3d-4bd1-a252-6c38f3b4c28c",
   "metadata": {
    "execution": {
     "iopub.execute_input": "2023-02-10T07:34:36.285179Z",
     "iopub.status.busy": "2023-02-10T07:34:36.284872Z",
     "iopub.status.idle": "2023-02-10T07:34:36.292431Z",
     "shell.execute_reply": "2023-02-10T07:34:36.291693Z",
     "shell.execute_reply.started": "2023-02-10T07:34:36.285155Z"
    },
    "tags": []
   },
   "outputs": [
    {
     "data": {
      "text/plain": [
       "bin\n",
       "(1e-06, 0.101]    100\n",
       "(0.101, 0.201]    100\n",
       "(0.201, 0.301]    100\n",
       "(0.301, 0.401]    100\n",
       "(0.401, 0.5]      100\n",
       "(0.5, 0.6]        100\n",
       "(0.6, 0.7]        100\n",
       "(0.7, 0.8]        100\n",
       "(0.8, 0.9]        100\n",
       "(0.9, 1.0]        100\n",
       "Name: pct, dtype: int64"
      ]
     },
     "execution_count": 59,
     "metadata": {},
     "output_type": "execute_result"
    }
   ],
   "source": [
    "df.groupby('bin')['pct'].count()"
   ]
  },
  {
   "cell_type": "markdown",
   "id": "86d361d8-3378-4876-b97d-95222fb495fa",
   "metadata": {},
   "source": [
    "Force is connected with mistake of 2nd gender . It is 1 - FN \n",
    "\n",
    "\n",
    "Recall is force, or TPR\n",
    "\n"
   ]
  },
  {
   "cell_type": "code",
   "execution_count": 80,
   "id": "ab8d784c-f371-4e99-98d3-88fc6799f107",
   "metadata": {
    "execution": {
     "iopub.execute_input": "2023-02-10T07:59:43.984465Z",
     "iopub.status.busy": "2023-02-10T07:59:43.983639Z",
     "iopub.status.idle": "2023-02-10T08:00:09.110385Z",
     "shell.execute_reply": "2023-02-10T08:00:09.109877Z",
     "shell.execute_reply.started": "2023-02-10T07:59:43.984420Z"
    },
    "tags": []
   },
   "outputs": [
    {
     "name": "stderr",
     "output_type": "stream",
     "text": [
      "\n",
      "  0%|                                                  | 0/1000 [00:00<?, ?it/s]\u001b[A\n",
      "  0%|▏                                         | 4/1000 [00:00<00:25, 39.18it/s]\u001b[A\n",
      "  1%|▍                                         | 9/1000 [00:00<00:24, 39.73it/s]\u001b[A\n",
      "  1%|▌                                        | 14/1000 [00:00<00:24, 40.15it/s]\u001b[A\n",
      "  2%|▊                                        | 19/1000 [00:00<00:24, 40.45it/s]\u001b[A\n",
      "  2%|▉                                        | 24/1000 [00:00<00:23, 40.68it/s]\u001b[A\n",
      "  3%|█▏                                       | 29/1000 [00:00<00:23, 40.60it/s]\u001b[A\n",
      "  3%|█▍                                       | 34/1000 [00:00<00:23, 40.68it/s]\u001b[A\n",
      "  4%|█▌                                       | 39/1000 [00:00<00:24, 39.86it/s]\u001b[A\n",
      "  4%|█▊                                       | 43/1000 [00:01<00:24, 39.71it/s]\u001b[A\n",
      "  5%|█▉                                       | 47/1000 [00:01<00:24, 39.47it/s]\u001b[A\n",
      "  5%|██                                       | 51/1000 [00:01<00:24, 39.48it/s]\u001b[A\n",
      "  6%|██▎                                      | 55/1000 [00:01<00:24, 39.29it/s]\u001b[A\n",
      "  6%|██▍                                      | 60/1000 [00:01<00:23, 39.66it/s]\u001b[A\n",
      "  6%|██▌                                      | 64/1000 [00:01<00:23, 39.68it/s]\u001b[A\n",
      "  7%|██▊                                      | 68/1000 [00:01<00:23, 39.51it/s]\u001b[A\n",
      "  7%|██▉                                      | 72/1000 [00:01<00:24, 38.18it/s]\u001b[A\n",
      "  8%|███                                      | 76/1000 [00:01<00:24, 38.47it/s]\u001b[A\n",
      "  8%|███▎                                     | 80/1000 [00:02<00:23, 38.76it/s]\u001b[A\n",
      "  8%|███▍                                     | 85/1000 [00:02<00:23, 39.36it/s]\u001b[A\n",
      "  9%|███▋                                     | 89/1000 [00:02<00:23, 39.51it/s]\u001b[A\n",
      "  9%|███▊                                     | 94/1000 [00:02<00:22, 39.91it/s]\u001b[A\n",
      " 10%|████                                     | 99/1000 [00:02<00:22, 40.44it/s]\u001b[A\n",
      " 10%|████▏                                   | 104/1000 [00:02<00:22, 40.41it/s]\u001b[A\n",
      " 11%|████▎                                   | 109/1000 [00:02<00:21, 40.68it/s]\u001b[A\n",
      " 11%|████▌                                   | 114/1000 [00:02<00:22, 39.28it/s]\u001b[A\n",
      " 12%|████▋                                   | 118/1000 [00:02<00:22, 38.54it/s]\u001b[A\n",
      " 12%|████▉                                   | 122/1000 [00:03<00:22, 38.27it/s]\u001b[A\n",
      " 13%|█████                                   | 126/1000 [00:03<00:22, 38.60it/s]\u001b[A\n",
      " 13%|█████▏                                  | 131/1000 [00:03<00:22, 39.48it/s]\u001b[A\n",
      " 14%|█████▍                                  | 136/1000 [00:03<00:21, 39.86it/s]\u001b[A\n",
      " 14%|█████▋                                  | 141/1000 [00:03<00:21, 40.23it/s]\u001b[A\n",
      " 15%|█████▊                                  | 146/1000 [00:03<00:21, 40.39it/s]\u001b[A\n",
      " 15%|██████                                  | 151/1000 [00:03<00:20, 40.44it/s]\u001b[A\n",
      " 16%|██████▏                                 | 156/1000 [00:03<00:20, 40.32it/s]\u001b[A\n",
      " 16%|██████▍                                 | 161/1000 [00:04<00:20, 40.46it/s]\u001b[A\n",
      " 17%|██████▋                                 | 166/1000 [00:04<00:20, 40.62it/s]\u001b[A\n",
      " 17%|██████▊                                 | 171/1000 [00:04<00:20, 40.93it/s]\u001b[A\n",
      " 18%|███████                                 | 176/1000 [00:04<00:20, 40.93it/s]\u001b[A\n",
      " 18%|███████▏                                | 181/1000 [00:04<00:20, 40.91it/s]\u001b[A\n",
      " 19%|███████▍                                | 186/1000 [00:04<00:20, 40.25it/s]\u001b[A\n",
      " 19%|███████▋                                | 191/1000 [00:04<00:20, 40.27it/s]\u001b[A\n",
      " 20%|███████▊                                | 196/1000 [00:04<00:19, 40.44it/s]\u001b[A\n",
      " 20%|████████                                | 201/1000 [00:05<00:19, 40.66it/s]\u001b[A\n",
      " 21%|████████▏                               | 206/1000 [00:05<00:19, 40.48it/s]\u001b[A\n",
      " 21%|████████▍                               | 211/1000 [00:05<00:19, 39.88it/s]\u001b[A\n",
      " 22%|████████▌                               | 215/1000 [00:05<00:19, 39.50it/s]\u001b[A\n",
      " 22%|████████▊                               | 219/1000 [00:05<00:20, 38.91it/s]\u001b[A\n",
      " 22%|████████▉                               | 223/1000 [00:05<00:20, 38.45it/s]\u001b[A\n",
      " 23%|█████████                               | 227/1000 [00:05<00:20, 37.94it/s]\u001b[A\n",
      " 23%|█████████▏                              | 231/1000 [00:05<00:20, 37.99it/s]\u001b[A\n",
      " 24%|█████████▍                              | 236/1000 [00:05<00:19, 38.72it/s]\u001b[A\n",
      " 24%|█████████▌                              | 240/1000 [00:06<00:19, 38.94it/s]\u001b[A\n",
      " 24%|█████████▊                              | 245/1000 [00:06<00:19, 39.38it/s]\u001b[A\n",
      " 25%|██████████                              | 250/1000 [00:06<00:18, 39.71it/s]\u001b[A\n",
      " 25%|██████████▏                             | 254/1000 [00:06<00:18, 39.65it/s]\u001b[A\n",
      " 26%|██████████▎                             | 258/1000 [00:06<00:18, 39.21it/s]\u001b[A\n",
      " 26%|██████████▌                             | 263/1000 [00:06<00:18, 39.54it/s]\u001b[A\n",
      " 27%|██████████▋                             | 268/1000 [00:06<00:18, 39.97it/s]\u001b[A\n",
      " 27%|██████████▉                             | 273/1000 [00:06<00:18, 40.28it/s]\u001b[A\n",
      " 28%|███████████                             | 278/1000 [00:06<00:17, 40.39it/s]\u001b[A\n",
      " 28%|███████████▎                            | 283/1000 [00:07<00:17, 40.45it/s]\u001b[A\n",
      " 29%|███████████▌                            | 288/1000 [00:07<00:17, 40.51it/s]\u001b[A\n",
      " 29%|███████████▋                            | 293/1000 [00:07<00:17, 40.47it/s]\u001b[A\n",
      " 30%|███████████▉                            | 298/1000 [00:07<00:17, 40.04it/s]\u001b[A\n",
      " 30%|████████████                            | 303/1000 [00:07<00:17, 40.22it/s]\u001b[A\n",
      " 31%|████████████▎                           | 308/1000 [00:07<00:17, 40.50it/s]\u001b[A\n",
      " 31%|████████████▌                           | 313/1000 [00:07<00:16, 40.67it/s]\u001b[A\n",
      " 32%|████████████▋                           | 318/1000 [00:07<00:16, 40.23it/s]\u001b[A\n",
      " 32%|████████████▉                           | 323/1000 [00:08<00:16, 39.99it/s]\u001b[A\n",
      " 33%|█████████████                           | 328/1000 [00:08<00:16, 40.29it/s]\u001b[A\n",
      " 33%|█████████████▎                          | 333/1000 [00:08<00:16, 40.62it/s]\u001b[A\n",
      " 34%|█████████████▌                          | 338/1000 [00:08<00:16, 40.45it/s]\u001b[A\n",
      " 34%|█████████████▋                          | 343/1000 [00:08<00:16, 40.45it/s]\u001b[A\n",
      " 35%|█████████████▉                          | 348/1000 [00:08<00:16, 40.48it/s]\u001b[A\n",
      " 35%|██████████████                          | 353/1000 [00:08<00:16, 40.38it/s]\u001b[A\n",
      " 36%|██████████████▎                         | 358/1000 [00:08<00:16, 40.08it/s]\u001b[A\n",
      " 36%|██████████████▌                         | 363/1000 [00:09<00:16, 39.36it/s]\u001b[A\n",
      " 37%|██████████████▋                         | 367/1000 [00:09<00:16, 39.45it/s]\u001b[A\n",
      " 37%|██████████████▉                         | 372/1000 [00:09<00:15, 39.79it/s]\u001b[A\n",
      " 38%|███████████████                         | 377/1000 [00:09<00:15, 40.07it/s]\u001b[A\n",
      " 38%|███████████████▎                        | 382/1000 [00:09<00:15, 40.20it/s]\u001b[A\n",
      " 39%|███████████████▍                        | 387/1000 [00:09<00:15, 40.19it/s]\u001b[A\n",
      " 39%|███████████████▋                        | 392/1000 [00:09<00:15, 40.32it/s]\u001b[A\n",
      " 40%|███████████████▉                        | 397/1000 [00:09<00:14, 40.65it/s]\u001b[A\n",
      " 40%|████████████████                        | 402/1000 [00:10<00:14, 40.69it/s]\u001b[A\n",
      " 41%|████████████████▎                       | 407/1000 [00:10<00:14, 40.43it/s]\u001b[A\n",
      " 41%|████████████████▍                       | 412/1000 [00:10<00:15, 39.04it/s]\u001b[A\n",
      " 42%|████████████████▋                       | 416/1000 [00:10<00:14, 39.24it/s]\u001b[A\n",
      " 42%|████████████████▊                       | 421/1000 [00:10<00:14, 39.58it/s]\u001b[A\n",
      " 43%|█████████████████                       | 426/1000 [00:10<00:14, 39.95it/s]\u001b[A\n",
      " 43%|█████████████████▏                      | 431/1000 [00:10<00:14, 40.13it/s]\u001b[A\n",
      " 44%|█████████████████▍                      | 436/1000 [00:10<00:13, 40.44it/s]\u001b[A\n",
      " 44%|█████████████████▋                      | 441/1000 [00:11<00:13, 40.66it/s]\u001b[A\n",
      " 45%|█████████████████▊                      | 446/1000 [00:11<00:13, 40.33it/s]\u001b[A\n",
      " 45%|██████████████████                      | 451/1000 [00:11<00:13, 40.37it/s]\u001b[A\n",
      " 46%|██████████████████▏                     | 456/1000 [00:11<00:13, 40.69it/s]\u001b[A\n",
      " 46%|██████████████████▍                     | 461/1000 [00:11<00:13, 40.48it/s]\u001b[A\n",
      " 47%|██████████████████▋                     | 466/1000 [00:11<00:13, 40.07it/s]\u001b[A\n",
      " 47%|██████████████████▊                     | 471/1000 [00:11<00:13, 39.88it/s]\u001b[A\n",
      " 48%|███████████████████                     | 476/1000 [00:11<00:13, 40.04it/s]\u001b[A\n",
      " 48%|███████████████████▏                    | 481/1000 [00:12<00:13, 39.82it/s]\u001b[A\n",
      " 49%|███████████████████▍                    | 486/1000 [00:12<00:12, 40.11it/s]\u001b[A\n",
      " 49%|███████████████████▋                    | 491/1000 [00:12<00:12, 40.44it/s]\u001b[A\n",
      " 50%|███████████████████▊                    | 496/1000 [00:12<00:12, 40.56it/s]\u001b[A\n",
      " 50%|████████████████████                    | 501/1000 [00:12<00:12, 40.79it/s]\u001b[A\n",
      " 51%|████████████████████▏                   | 506/1000 [00:12<00:12, 40.69it/s]\u001b[A\n",
      " 51%|████████████████████▍                   | 511/1000 [00:12<00:11, 40.95it/s]\u001b[A\n",
      " 52%|████████████████████▋                   | 516/1000 [00:12<00:12, 40.12it/s]\u001b[A\n",
      " 52%|████████████████████▊                   | 521/1000 [00:13<00:11, 40.16it/s]\u001b[A\n",
      " 53%|█████████████████████                   | 526/1000 [00:13<00:11, 40.27it/s]\u001b[A\n",
      " 53%|█████████████████████▏                  | 531/1000 [00:13<00:11, 40.21it/s]\u001b[A\n",
      " 54%|█████████████████████▍                  | 536/1000 [00:13<00:11, 40.18it/s]\u001b[A\n",
      " 54%|█████████████████████▋                  | 541/1000 [00:13<00:11, 40.42it/s]\u001b[A\n",
      " 55%|█████████████████████▊                  | 546/1000 [00:13<00:11, 40.40it/s]\u001b[A\n",
      " 55%|██████████████████████                  | 551/1000 [00:13<00:11, 40.36it/s]\u001b[A\n",
      " 56%|██████████████████████▏                 | 556/1000 [00:13<00:10, 40.49it/s]\u001b[A\n",
      " 56%|██████████████████████▍                 | 561/1000 [00:14<00:10, 40.61it/s]\u001b[A\n",
      " 57%|██████████████████████▋                 | 566/1000 [00:14<00:10, 40.77it/s]\u001b[A\n",
      " 57%|██████████████████████▊                 | 571/1000 [00:14<00:10, 40.85it/s]\u001b[A\n",
      " 58%|███████████████████████                 | 576/1000 [00:14<00:10, 40.88it/s]\u001b[A\n",
      " 58%|███████████████████████▏                | 581/1000 [00:14<00:10, 40.84it/s]\u001b[A\n",
      " 59%|███████████████████████▍                | 586/1000 [00:14<00:10, 40.48it/s]\u001b[A\n",
      " 59%|███████████████████████▋                | 591/1000 [00:14<00:10, 39.69it/s]\u001b[A\n",
      " 60%|███████████████████████▊                | 595/1000 [00:14<00:10, 39.26it/s]\u001b[A\n",
      " 60%|███████████████████████▉                | 599/1000 [00:14<00:10, 38.37it/s]\u001b[A\n",
      " 60%|████████████████████████                | 603/1000 [00:15<00:10, 38.47it/s]\u001b[A\n",
      " 61%|████████████████████████▎               | 607/1000 [00:15<00:10, 37.55it/s]\u001b[A\n",
      " 61%|████████████████████████▍               | 611/1000 [00:15<00:10, 36.98it/s]\u001b[A\n",
      " 62%|████████████████████████▌               | 615/1000 [00:15<00:10, 36.57it/s]\u001b[A\n",
      " 62%|████████████████████████▊               | 619/1000 [00:15<00:10, 36.38it/s]\u001b[A\n",
      " 62%|████████████████████████▉               | 623/1000 [00:15<00:10, 36.01it/s]\u001b[A\n",
      " 63%|█████████████████████████               | 628/1000 [00:15<00:09, 37.54it/s]\u001b[A\n",
      " 63%|█████████████████████████▎              | 633/1000 [00:15<00:09, 38.64it/s]\u001b[A\n",
      " 64%|█████████████████████████▌              | 638/1000 [00:16<00:09, 39.23it/s]\u001b[A\n",
      " 64%|█████████████████████████▋              | 643/1000 [00:16<00:08, 39.85it/s]\u001b[A\n",
      " 65%|█████████████████████████▉              | 648/1000 [00:16<00:08, 40.00it/s]\u001b[A\n",
      " 65%|██████████████████████████              | 653/1000 [00:16<00:08, 40.15it/s]\u001b[A\n",
      " 66%|██████████████████████████▎             | 658/1000 [00:16<00:08, 40.22it/s]\u001b[A\n",
      " 66%|██████████████████████████▌             | 663/1000 [00:16<00:08, 40.26it/s]\u001b[A\n",
      " 67%|██████████████████████████▋             | 668/1000 [00:16<00:08, 40.36it/s]\u001b[A\n",
      " 67%|██████████████████████████▉             | 673/1000 [00:16<00:08, 40.57it/s]\u001b[A\n",
      " 68%|███████████████████████████             | 678/1000 [00:16<00:07, 40.49it/s]\u001b[A\n",
      " 68%|███████████████████████████▎            | 683/1000 [00:17<00:07, 39.65it/s]\u001b[A\n",
      " 69%|███████████████████████████▌            | 688/1000 [00:17<00:07, 39.82it/s]\u001b[A\n",
      " 69%|███████████████████████████▋            | 693/1000 [00:17<00:07, 40.21it/s]\u001b[A\n",
      " 70%|███████████████████████████▉            | 698/1000 [00:17<00:07, 40.63it/s]\u001b[A\n",
      " 70%|████████████████████████████            | 703/1000 [00:17<00:07, 40.84it/s]\u001b[A\n",
      " 71%|████████████████████████████▎           | 708/1000 [00:17<00:07, 40.97it/s]\u001b[A\n",
      " 71%|████████████████████████████▌           | 713/1000 [00:17<00:07, 40.82it/s]\u001b[A\n",
      " 72%|████████████████████████████▋           | 718/1000 [00:17<00:06, 40.35it/s]\u001b[A\n",
      " 72%|████████████████████████████▉           | 723/1000 [00:18<00:06, 40.00it/s]\u001b[A\n",
      " 73%|█████████████████████████████           | 728/1000 [00:18<00:06, 39.54it/s]\u001b[A\n",
      " 73%|█████████████████████████████▎          | 732/1000 [00:18<00:06, 39.36it/s]\u001b[A\n",
      " 74%|█████████████████████████████▍          | 736/1000 [00:18<00:07, 37.09it/s]\u001b[A\n",
      " 74%|█████████████████████████████▌          | 740/1000 [00:18<00:07, 36.91it/s]\u001b[A\n",
      " 74%|█████████████████████████████▊          | 744/1000 [00:18<00:06, 37.03it/s]\u001b[A\n",
      " 75%|█████████████████████████████▉          | 748/1000 [00:18<00:06, 37.59it/s]\u001b[A\n",
      " 75%|██████████████████████████████          | 752/1000 [00:18<00:06, 38.04it/s]\u001b[A\n",
      " 76%|██████████████████████████████▎         | 757/1000 [00:19<00:06, 38.90it/s]\u001b[A\n",
      " 76%|██████████████████████████████▍         | 761/1000 [00:19<00:06, 37.70it/s]\u001b[A\n",
      " 76%|██████████████████████████████▌         | 765/1000 [00:19<00:06, 38.31it/s]\u001b[A\n",
      " 77%|██████████████████████████████▊         | 769/1000 [00:19<00:05, 38.66it/s]\u001b[A\n",
      " 77%|██████████████████████████████▉         | 773/1000 [00:19<00:05, 38.45it/s]\u001b[A\n",
      " 78%|███████████████████████████████         | 778/1000 [00:19<00:05, 38.89it/s]\u001b[A\n",
      " 78%|███████████████████████████████▎        | 782/1000 [00:19<00:05, 38.94it/s]\u001b[A\n",
      " 79%|███████████████████████████████▍        | 786/1000 [00:19<00:05, 39.11it/s]\u001b[A\n",
      " 79%|███████████████████████████████▌        | 790/1000 [00:19<00:05, 39.10it/s]\u001b[A\n",
      " 79%|███████████████████████████████▊        | 794/1000 [00:19<00:05, 39.18it/s]\u001b[A\n",
      " 80%|███████████████████████████████▉        | 799/1000 [00:20<00:05, 39.63it/s]\u001b[A\n",
      " 80%|████████████████████████████████        | 803/1000 [00:20<00:04, 39.57it/s]\u001b[A\n",
      " 81%|████████████████████████████████▎       | 808/1000 [00:20<00:04, 39.86it/s]\u001b[A\n",
      " 81%|████████████████████████████████▌       | 813/1000 [00:20<00:04, 40.04it/s]\u001b[A\n",
      " 82%|████████████████████████████████▋       | 818/1000 [00:20<00:04, 40.31it/s]\u001b[A\n",
      " 82%|████████████████████████████████▉       | 823/1000 [00:20<00:04, 40.37it/s]\u001b[A\n",
      " 83%|█████████████████████████████████       | 828/1000 [00:20<00:04, 40.66it/s]\u001b[A\n",
      " 83%|█████████████████████████████████▎      | 833/1000 [00:20<00:04, 40.77it/s]\u001b[A\n",
      " 84%|█████████████████████████████████▌      | 838/1000 [00:21<00:03, 40.97it/s]\u001b[A\n",
      " 84%|█████████████████████████████████▋      | 843/1000 [00:21<00:03, 40.82it/s]\u001b[A\n",
      " 85%|█████████████████████████████████▉      | 848/1000 [00:21<00:03, 40.92it/s]\u001b[A\n",
      " 85%|██████████████████████████████████      | 853/1000 [00:21<00:03, 41.09it/s]\u001b[A\n",
      " 86%|██████████████████████████████████▎     | 858/1000 [00:21<00:03, 40.40it/s]\u001b[A\n",
      " 86%|██████████████████████████████████▌     | 863/1000 [00:21<00:03, 40.55it/s]\u001b[A\n",
      " 87%|██████████████████████████████████▋     | 868/1000 [00:21<00:03, 40.64it/s]\u001b[A\n",
      " 87%|██████████████████████████████████▉     | 873/1000 [00:21<00:03, 40.69it/s]\u001b[A\n",
      " 88%|███████████████████████████████████     | 878/1000 [00:22<00:03, 40.64it/s]\u001b[A\n",
      " 88%|███████████████████████████████████▎    | 883/1000 [00:22<00:02, 39.69it/s]\u001b[A\n",
      " 89%|███████████████████████████████████▌    | 888/1000 [00:22<00:02, 40.10it/s]\u001b[A\n",
      " 89%|███████████████████████████████████▋    | 893/1000 [00:22<00:02, 40.30it/s]\u001b[A\n",
      " 90%|███████████████████████████████████▉    | 898/1000 [00:22<00:02, 38.90it/s]\u001b[A\n",
      " 90%|████████████████████████████████████    | 902/1000 [00:22<00:02, 39.12it/s]\u001b[A\n",
      " 91%|████████████████████████████████████▎   | 907/1000 [00:22<00:02, 39.62it/s]\u001b[A\n",
      " 91%|████████████████████████████████████▍   | 912/1000 [00:22<00:02, 39.80it/s]\u001b[A\n",
      " 92%|████████████████████████████████████▋   | 916/1000 [00:23<00:02, 39.74it/s]\u001b[A\n",
      " 92%|████████████████████████████████████▊   | 921/1000 [00:23<00:01, 39.96it/s]\u001b[A\n",
      " 92%|█████████████████████████████████████   | 925/1000 [00:23<00:01, 39.23it/s]\u001b[A\n",
      " 93%|█████████████████████████████████████▏  | 930/1000 [00:23<00:01, 39.87it/s]\u001b[A\n",
      " 93%|█████████████████████████████████████▎  | 934/1000 [00:23<00:01, 39.69it/s]\u001b[A\n",
      " 94%|█████████████████████████████████████▌  | 939/1000 [00:23<00:01, 40.01it/s]\u001b[A\n",
      " 94%|█████████████████████████████████████▊  | 944/1000 [00:23<00:01, 40.40it/s]\u001b[A\n",
      " 95%|█████████████████████████████████████▉  | 949/1000 [00:23<00:01, 40.33it/s]\u001b[A\n",
      " 95%|██████████████████████████████████████▏ | 954/1000 [00:23<00:01, 40.37it/s]\u001b[A\n",
      " 96%|██████████████████████████████████████▎ | 959/1000 [00:24<00:01, 39.78it/s]\u001b[A\n",
      " 96%|██████████████████████████████████████▌ | 963/1000 [00:24<00:00, 38.07it/s]\u001b[A\n",
      " 97%|██████████████████████████████████████▋ | 967/1000 [00:24<00:00, 37.86it/s]\u001b[A\n",
      " 97%|██████████████████████████████████████▉ | 972/1000 [00:24<00:00, 38.69it/s]\u001b[A\n",
      " 98%|███████████████████████████████████████ | 977/1000 [00:24<00:00, 39.38it/s]\u001b[A\n",
      " 98%|███████████████████████████████████████▎| 982/1000 [00:24<00:00, 39.72it/s]\u001b[A\n",
      " 99%|███████████████████████████████████████▍| 987/1000 [00:24<00:00, 40.11it/s]\u001b[A\n",
      " 99%|███████████████████████████████████████▋| 992/1000 [00:24<00:00, 40.27it/s]\u001b[A\n",
      "100%|███████████████████████████████████████| 1000/1000 [00:25<00:00, 39.81it/s]\u001b[A\n"
     ]
    }
   ],
   "source": [
    "n = 1000\n",
    "result = []\n",
    "for _ in tqdm(range(n)):\n",
    "  a = np.random.binomial(1,0.10,size=700)\n",
    "  b = np.random.binomial(1,0.12,size=300)\n",
    "  diff = abs(a.mean() - b.mean())\n",
    "  null_hyp_prob = np.concatenate([a,b]).mean()\n",
    "  pval = np.mean([abs(np.random.binomial(1,null_hyp_prob,size=300).mean() \n",
    "  - np.random.binomial(1,null_hyp_prob,size=700).mean()) >= diff for _ in range(1000)])\n",
    "  result.append(pval)"
   ]
  },
  {
   "cell_type": "code",
   "execution_count": 64,
   "id": "ad6e5380-1d8e-4e89-b28b-253547c35ddf",
   "metadata": {
    "execution": {
     "iopub.execute_input": "2023-02-10T07:43:40.588362Z",
     "iopub.status.busy": "2023-02-10T07:43:40.588201Z",
     "iopub.status.idle": "2023-02-10T07:43:40.710339Z",
     "shell.execute_reply": "2023-02-10T07:43:40.709792Z",
     "shell.execute_reply.started": "2023-02-10T07:43:40.588347Z"
    },
    "tags": []
   },
   "outputs": [
    {
     "data": {
      "text/plain": [
       "<AxesSubplot: >"
      ]
     },
     "execution_count": 64,
     "metadata": {},
     "output_type": "execute_result"
    },
    {
     "data": {
      "image/png": "[encoded data removed]",
      "text/plain": [
       "<Figure size 640x480 with 1 Axes>"
      ]
     },
     "metadata": {},
     "output_type": "display_data"
    }
   ],
   "source": [
    "pd.Series(result).hist()"
   ]
  },
  {
   "cell_type": "code",
   "execution_count": 66,
   "id": "dfee96d9-b775-4c8a-b6fb-d0bb7d648243",
   "metadata": {
    "execution": {
     "iopub.execute_input": "2023-02-10T07:43:58.369648Z",
     "iopub.status.busy": "2023-02-10T07:43:58.369201Z",
     "iopub.status.idle": "2023-02-10T07:43:58.378443Z",
     "shell.execute_reply": "2023-02-10T07:43:58.377459Z",
     "shell.execute_reply.started": "2023-02-10T07:43:58.369611Z"
    },
    "tags": []
   },
   "outputs": [
    {
     "data": {
      "text/plain": [
       "0.134"
      ]
     },
     "execution_count": 66,
     "metadata": {},
     "output_type": "execute_result"
    }
   ],
   "source": [
    "(pd.Series(result) <0.05).mean() #this is statisitcal power we shoyl deie about st power before experiment"
   ]
  },
  {
   "cell_type": "markdown",
   "id": "ceea8188-4ce3-40e2-af5a-920e5e676590",
   "metadata": {
    "tags": []
   },
   "source": [
    "https://www.evanmiller.org/ab-testing/sample-size.html\n",
    " # Experiment design"
   ]
  },
  {
   "cell_type": "code",
   "execution_count": 67,
   "id": "c65bf060-787d-405f-bab3-f49720d46fc0",
   "metadata": {
    "execution": {
     "iopub.execute_input": "2023-02-10T07:48:24.923737Z",
     "iopub.status.busy": "2023-02-10T07:48:24.922321Z",
     "iopub.status.idle": "2023-02-10T07:48:49.357262Z",
     "shell.execute_reply": "2023-02-10T07:48:49.356721Z",
     "shell.execute_reply.started": "2023-02-10T07:48:24.923617Z"
    },
    "tags": []
   },
   "outputs": [],
   "source": [
    "n = 1000\n",
    "result = []\n",
    "for _ in (range(n)):\n",
    "  a = np.random.binomial(1,0.10,size=700)\n",
    "  b = np.random.binomial(1,0.15,size=300)\n",
    "  diff = abs(a.mean() - b.mean())\n",
    "  # null_hyp_prob = np.concatenate([a,b]).mean()\n",
    "  pval = np.mean([abs(np.random.binomial(1,0.118,size=300).mean()\n",
    "             -np.random.binomial(1,0.118,size=700).mean())\n",
    "         >= diff for _ in range(1000)])\n",
    "  result.append(pval)"
   ]
  },
  {
   "cell_type": "code",
   "execution_count": 68,
   "id": "5dcdcb9d-696c-4dc3-9831-84cde4319ef0",
   "metadata": {
    "execution": {
     "iopub.execute_input": "2023-02-10T07:48:49.358238Z",
     "iopub.status.busy": "2023-02-10T07:48:49.358087Z",
     "iopub.status.idle": "2023-02-10T07:48:49.490264Z",
     "shell.execute_reply": "2023-02-10T07:48:49.489757Z",
     "shell.execute_reply.started": "2023-02-10T07:48:49.358223Z"
    },
    "tags": []
   },
   "outputs": [
    {
     "data": {
      "text/plain": [
       "<AxesSubplot: >"
      ]
     },
     "execution_count": 68,
     "metadata": {},
     "output_type": "execute_result"
    },
    {
     "data": {
      "image/png": "[encoded data removed]",
      "text/plain": [
       "<Figure size 640x480 with 1 Axes>"
      ]
     },
     "metadata": {},
     "output_type": "display_data"
    }
   ],
   "source": [
    "pd.Series(result).hist()"
   ]
  },
  {
   "cell_type": "code",
   "execution_count": 69,
   "id": "d4a10d41-d924-4fb3-8eac-615d6b54a82e",
   "metadata": {
    "execution": {
     "iopub.execute_input": "2023-02-10T07:49:35.795886Z",
     "iopub.status.busy": "2023-02-10T07:49:35.794992Z",
     "iopub.status.idle": "2023-02-10T07:49:35.806418Z",
     "shell.execute_reply": "2023-02-10T07:49:35.805453Z",
     "shell.execute_reply.started": "2023-02-10T07:49:35.795800Z"
    },
    "tags": []
   },
   "outputs": [
    {
     "data": {
      "text/plain": [
       "0.612"
      ]
     },
     "execution_count": 69,
     "metadata": {},
     "output_type": "execute_result"
    }
   ],
   "source": [
    "(pd.Series(result)<0.05).mean()"
   ]
  },
  {
   "cell_type": "code",
   "execution_count": null,
   "id": "e0372ef1-bd81-43d9-b96a-c8c3211b126a",
   "metadata": {},
   "outputs": [],
   "source": []
  },
  {
   "cell_type": "code",
   "execution_count": 71,
   "id": "a6b68820-8ed0-4936-b407-51c5472fcb62",
   "metadata": {
    "execution": {
     "iopub.execute_input": "2023-02-10T07:54:34.063999Z",
     "iopub.status.busy": "2023-02-10T07:54:34.063780Z",
     "iopub.status.idle": "2023-02-10T07:54:34.075731Z",
     "shell.execute_reply": "2023-02-10T07:54:34.075102Z",
     "shell.execute_reply.started": "2023-02-10T07:54:34.063981Z"
    },
    "tags": []
   },
   "outputs": [
    {
     "data": {
      "text/plain": [
       "680.3526619127882"
      ]
     },
     "execution_count": 71,
     "metadata": {},
     "output_type": "execute_result"
    }
   ],
   "source": [
    "import statsmodels.stats.api as sms\n",
    "es = sms.proportion_effectsize(0.10, 0.15)\n",
    "sms.NormalIndPower().solve_power(es, power=0.8, alpha=0.05, ratio=1)"
   ]
  },
  {
   "cell_type": "code",
   "execution_count": 77,
   "id": "daa00c7c-9543-40eb-9ca3-2c0c51bddf09",
   "metadata": {
    "execution": {
     "iopub.execute_input": "2023-02-10T07:57:44.536622Z",
     "iopub.status.busy": "2023-02-10T07:57:44.535829Z",
     "iopub.status.idle": "2023-02-10T07:57:44.689310Z",
     "shell.execute_reply": "2023-02-10T07:57:44.688781Z",
     "shell.execute_reply.started": "2023-02-10T07:57:44.536553Z"
    },
    "tags": []
   },
   "outputs": [],
   "source": [
    "n = 1000\n",
    "result = []\n",
    "for _ in (range(n)):\n",
    "  a = np.random.binomial(1,0.10,size=680)\n",
    "  b = np.random.binomial(1,0.15,size=680)\n",
    "  # diff = abs(a.mean() - b.mean())\n",
    "  # null_hyp_prob = np.concatenate([a,b]).mean()\n",
    "  _, pval = proportions_ztest([a.sum(),b.sum()],[len(a),len(b)])\n",
    "  result.append(pval)"
   ]
  },
  {
   "cell_type": "code",
   "execution_count": 78,
   "id": "df6bfc4f-316b-43ec-bc2e-462195e5a5ca",
   "metadata": {
    "execution": {
     "iopub.execute_input": "2023-02-10T07:57:46.859705Z",
     "iopub.status.busy": "2023-02-10T07:57:46.859468Z",
     "iopub.status.idle": "2023-02-10T07:57:46.973231Z",
     "shell.execute_reply": "2023-02-10T07:57:46.972618Z",
     "shell.execute_reply.started": "2023-02-10T07:57:46.859690Z"
    },
    "tags": []
   },
   "outputs": [
    {
     "data": {
      "text/plain": [
       "<AxesSubplot: >"
      ]
     },
     "execution_count": 78,
     "metadata": {},
     "output_type": "execute_result"
    },
    {
     "data": {
      "image/png": "[encoded data removed]",
      "text/plain": [
       "<Figure size 640x480 with 1 Axes>"
      ]
     },
     "metadata": {},
     "output_type": "display_data"
    }
   ],
   "source": [
    "pd.Series(result).hist()"
   ]
  },
  {
   "cell_type": "code",
   "execution_count": 79,
   "id": "eb1dcf7c-9a4a-44db-8871-e692fc70e001",
   "metadata": {
    "execution": {
     "iopub.execute_input": "2023-02-10T07:58:01.934430Z",
     "iopub.status.busy": "2023-02-10T07:58:01.933953Z",
     "iopub.status.idle": "2023-02-10T07:58:01.938864Z",
     "shell.execute_reply": "2023-02-10T07:58:01.938409Z",
     "shell.execute_reply.started": "2023-02-10T07:58:01.934409Z"
    },
    "tags": []
   },
   "outputs": [
    {
     "data": {
      "text/plain": [
       "0.789"
      ]
     },
     "execution_count": 79,
     "metadata": {},
     "output_type": "execute_result"
    }
   ],
   "source": [
    "(pd.Series(result)<0.05).mean()"
   ]
  },
  {
   "cell_type": "markdown",
   "id": "4668ad16-464d-476e-8864-cbc79f89b1d3",
   "metadata": {},
   "source": [
    "There should be 727 people in bigger group"
   ]
  }
 ],
 "metadata": {
  "kernelspec": {
   "display_name": "Python 3 (ipykernel)",
   "language": "python",
   "name": "python3"
  },
  "language_info": {
   "codemirror_mode": {
    "name": "ipython",
    "version": 3
   },
   "file_extension": ".py",
   "mimetype": "text/x-python",
   "name": "python",
   "nbconvert_exporter": "python",
   "pygments_lexer": "ipython3",
   "version": "3.10.6"
  }
 },
 "nbformat": 4,
 "nbformat_minor": 5
}
