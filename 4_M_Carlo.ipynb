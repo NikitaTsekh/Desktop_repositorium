{
 "cells": [
  {
   "cell_type": "code",
   "execution_count": 186,
   "id": "72622f47-36fb-44fc-9a62-9229dc5f63db",
   "metadata": {
    "execution": {
     "iopub.execute_input": "2023-02-03T17:42:17.075707Z",
     "iopub.status.busy": "2023-02-03T17:42:17.075504Z",
     "iopub.status.idle": "2023-02-03T17:42:17.078547Z",
     "shell.execute_reply": "2023-02-03T17:42:17.077972Z",
     "shell.execute_reply.started": "2023-02-03T17:42:17.075690Z"
    },
    "tags": []
   },
   "outputs": [],
   "source": [
    "import pandas as pd\n",
    "import numpy as np\n",
    "from random import shuffle\n",
    "import random\n",
    "import seaborn as sns"
   ]
  },
  {
   "cell_type": "code",
   "execution_count": 2,
   "id": "f49e77a1-62cb-4e93-976d-b3520a41274e",
   "metadata": {
    "execution": {
     "iopub.execute_input": "2023-02-03T16:36:50.428673Z",
     "iopub.status.busy": "2023-02-03T16:36:50.428459Z",
     "iopub.status.idle": "2023-02-03T16:36:50.431701Z",
     "shell.execute_reply": "2023-02-03T16:36:50.431311Z",
     "shell.execute_reply.started": "2023-02-03T16:36:50.428657Z"
    }
   },
   "outputs": [],
   "source": [
    "dice = pd.Series([1,2,3,4,5,6])"
   ]
  },
  {
   "cell_type": "code",
   "execution_count": 3,
   "id": "559aa64b-1cee-4fa9-90e9-c8381b5365c5",
   "metadata": {
    "execution": {
     "iopub.execute_input": "2023-02-03T16:36:50.432530Z",
     "iopub.status.busy": "2023-02-03T16:36:50.432360Z",
     "iopub.status.idle": "2023-02-03T16:36:50.468306Z",
     "shell.execute_reply": "2023-02-03T16:36:50.467878Z",
     "shell.execute_reply.started": "2023-02-03T16:36:50.432514Z"
    }
   },
   "outputs": [
    {
     "data": {
      "text/plain": [
       "5"
      ]
     },
     "execution_count": 3,
     "metadata": {},
     "output_type": "execute_result"
    }
   ],
   "source": [
    "dice.sample(1).values[0]"
   ]
  },
  {
   "cell_type": "code",
   "execution_count": 4,
   "id": "ae06a21c-3fc5-4de1-be20-19035ba73c5b",
   "metadata": {
    "execution": {
     "iopub.execute_input": "2023-02-03T16:36:50.469782Z",
     "iopub.status.busy": "2023-02-03T16:36:50.469581Z",
     "iopub.status.idle": "2023-02-03T16:36:51.012466Z",
     "shell.execute_reply": "2023-02-03T16:36:51.011934Z",
     "shell.execute_reply.started": "2023-02-03T16:36:50.469765Z"
    }
   },
   "outputs": [],
   "source": [
    "rolls = [dice.sample(1).values[0] for _ in range(10000)]"
   ]
  },
  {
   "cell_type": "code",
   "execution_count": 5,
   "id": "e5ca43da-3bce-4c94-9dbe-9df8730ba764",
   "metadata": {
    "execution": {
     "iopub.execute_input": "2023-02-03T16:36:51.013262Z",
     "iopub.status.busy": "2023-02-03T16:36:51.013033Z",
     "iopub.status.idle": "2023-02-03T16:36:51.017280Z",
     "shell.execute_reply": "2023-02-03T16:36:51.016807Z",
     "shell.execute_reply.started": "2023-02-03T16:36:51.013241Z"
    }
   },
   "outputs": [
    {
     "data": {
      "text/plain": [
       "[2, 5, 5, 1, 6, 6, 6, 6, 5, 4]"
      ]
     },
     "execution_count": 5,
     "metadata": {},
     "output_type": "execute_result"
    }
   ],
   "source": [
    "rolls[0:10]"
   ]
  },
  {
   "cell_type": "code",
   "execution_count": 6,
   "id": "cc264ce1-2e68-4071-acf7-d070f81c168f",
   "metadata": {
    "execution": {
     "iopub.execute_input": "2023-02-03T16:36:51.018351Z",
     "iopub.status.busy": "2023-02-03T16:36:51.018091Z",
     "iopub.status.idle": "2023-02-03T16:36:51.049564Z",
     "shell.execute_reply": "2023-02-03T16:36:51.048889Z",
     "shell.execute_reply.started": "2023-02-03T16:36:51.018329Z"
    }
   },
   "outputs": [
    {
     "data": {
      "text/plain": [
       "4    0.1700\n",
       "2    0.1688\n",
       "1    0.1679\n",
       "6    0.1671\n",
       "3    0.1643\n",
       "5    0.1619\n",
       "dtype: float64"
      ]
     },
     "execution_count": 6,
     "metadata": {},
     "output_type": "execute_result"
    }
   ],
   "source": [
    "pd.Series(rolls).value_counts(normalize = True)"
   ]
  },
  {
   "cell_type": "code",
   "execution_count": 7,
   "id": "84aaf01c-5d75-41b2-afe5-9c7e0676a47f",
   "metadata": {
    "execution": {
     "iopub.execute_input": "2023-02-03T16:36:51.050524Z",
     "iopub.status.busy": "2023-02-03T16:36:51.050298Z",
     "iopub.status.idle": "2023-02-03T16:36:51.054339Z",
     "shell.execute_reply": "2023-02-03T16:36:51.053961Z",
     "shell.execute_reply.started": "2023-02-03T16:36:51.050503Z"
    }
   },
   "outputs": [
    {
     "data": {
      "text/plain": [
       "0.16666666666666666"
      ]
     },
     "execution_count": 7,
     "metadata": {},
     "output_type": "execute_result"
    }
   ],
   "source": [
    "1/6"
   ]
  },
  {
   "cell_type": "code",
   "execution_count": 8,
   "id": "15f88377-e7aa-471b-bf3b-27de9bb264f0",
   "metadata": {
    "execution": {
     "iopub.execute_input": "2023-02-03T16:36:51.055217Z",
     "iopub.status.busy": "2023-02-03T16:36:51.054957Z",
     "iopub.status.idle": "2023-02-03T16:36:51.059487Z",
     "shell.execute_reply": "2023-02-03T16:36:51.059056Z",
     "shell.execute_reply.started": "2023-02-03T16:36:51.055203Z"
    }
   },
   "outputs": [
    {
     "data": {
      "text/plain": [
       "1    0.166667\n",
       "2    0.166667\n",
       "3    0.166667\n",
       "4    0.166667\n",
       "5    0.166667\n",
       "6    0.166667\n",
       "dtype: float64"
      ]
     },
     "execution_count": 8,
     "metadata": {},
     "output_type": "execute_result"
    }
   ],
   "source": [
    "dice.value_counts(normalize = True)"
   ]
  },
  {
   "cell_type": "markdown",
   "id": "265da6a9-89b1-4ddf-be8a-4c0e4d0772b4",
   "metadata": {},
   "source": [
    "Find probability that in group of 23 people there would be two with the same birthday"
   ]
  },
  {
   "cell_type": "code",
   "execution_count": 9,
   "id": "b972892c-f0ed-4042-8773-354b434aacca",
   "metadata": {
    "execution": {
     "iopub.execute_input": "2023-02-03T16:36:51.060342Z",
     "iopub.status.busy": "2023-02-03T16:36:51.060163Z",
     "iopub.status.idle": "2023-02-03T16:36:51.063194Z",
     "shell.execute_reply": "2023-02-03T16:36:51.062745Z",
     "shell.execute_reply.started": "2023-02-03T16:36:51.060328Z"
    },
    "tags": []
   },
   "outputs": [],
   "source": [
    "birthdays = [np.random.randint(1,366) for _ in range(23)]"
   ]
  },
  {
   "cell_type": "code",
   "execution_count": 10,
   "id": "72f3e1ac-f0af-4908-8869-d968c46692b5",
   "metadata": {
    "execution": {
     "iopub.execute_input": "2023-02-03T16:37:07.048243Z",
     "iopub.status.busy": "2023-02-03T16:37:07.047436Z",
     "iopub.status.idle": "2023-02-03T16:37:07.060466Z",
     "shell.execute_reply": "2023-02-03T16:37:07.057455Z",
     "shell.execute_reply.started": "2023-02-03T16:37:07.048173Z"
    },
    "tags": []
   },
   "outputs": [
    {
     "name": "stdout",
     "output_type": "stream",
     "text": [
      "1\n"
     ]
    }
   ],
   "source": [
    "print(len(birthdays)-len(set(birthdays)))"
   ]
  },
  {
   "cell_type": "code",
   "execution_count": 11,
   "id": "df16f458-7da2-4019-9c20-5377921d3bd1",
   "metadata": {
    "execution": {
     "iopub.execute_input": "2023-02-03T16:37:09.960171Z",
     "iopub.status.busy": "2023-02-03T16:37:09.959891Z",
     "iopub.status.idle": "2023-02-03T16:37:09.964926Z",
     "shell.execute_reply": "2023-02-03T16:37:09.964458Z",
     "shell.execute_reply.started": "2023-02-03T16:37:09.960148Z"
    },
    "tags": []
   },
   "outputs": [
    {
     "data": {
      "text/plain": [
       "[312]"
      ]
     },
     "execution_count": 11,
     "metadata": {},
     "output_type": "execute_result"
    }
   ],
   "source": [
    "def find_duplicates(lst):\n",
    "    return [item for item in set(lst) if lst.count(item) > 1]\n",
    "\n",
    "find_duplicates(birthdays)"
   ]
  },
  {
   "cell_type": "code",
   "execution_count": 13,
   "id": "e4c0cb40-ee27-4ae0-91cd-bfe8a582f9b3",
   "metadata": {
    "execution": {
     "iopub.execute_input": "2023-02-03T16:37:26.849223Z",
     "iopub.status.busy": "2023-02-03T16:37:26.848425Z",
     "iopub.status.idle": "2023-02-03T16:37:26.873645Z",
     "shell.execute_reply": "2023-02-03T16:37:26.872280Z",
     "shell.execute_reply.started": "2023-02-03T16:37:26.849153Z"
    },
    "tags": []
   },
   "outputs": [
    {
     "data": {
      "text/plain": [
       "0.53"
      ]
     },
     "execution_count": 13,
     "metadata": {},
     "output_type": "execute_result"
    }
   ],
   "source": [
    "def detect_duplicates(size=23,experiments=100):\n",
    "    true_count = 0\n",
    "    for i in range (0,experiments):\n",
    "        birthdays = [np.random.randint(1,366) for _ in range(size)]\n",
    "        if len(birthdays)-len(set(birthdays)) !=0:\n",
    "            true_count += 1\n",
    "        else:\n",
    "            pass\n",
    "    return true_count/experiments\n",
    "\n",
    "\n",
    "detect_duplicates()"
   ]
  },
  {
   "cell_type": "markdown",
   "id": "ecfd4489-857b-4514-bdb3-27da07411a2c",
   "metadata": {},
   "source": [
    "Exam: Stundet is ready for 20 tickets from 30. What is his best tactc to go, first or second, so probability of getting prepared ticket higher?"
   ]
  },
  {
   "cell_type": "code",
   "execution_count": 14,
   "id": "9d0a52ec-d684-482f-bc5d-5134f4d613df",
   "metadata": {
    "collapsed": true,
    "execution": {
     "iopub.execute_input": "2023-02-03T16:37:56.087172Z",
     "iopub.status.busy": "2023-02-03T16:37:56.086526Z",
     "iopub.status.idle": "2023-02-03T16:37:56.090986Z",
     "shell.execute_reply": "2023-02-03T16:37:56.090279Z",
     "shell.execute_reply.started": "2023-02-03T16:37:56.087152Z"
    },
    "jupyter": {
     "outputs_hidden": true
    },
    "tags": []
   },
   "outputs": [
    {
     "data": {
      "text/plain": [
       "[1,\n",
       " 2,\n",
       " 3,\n",
       " 4,\n",
       " 5,\n",
       " 6,\n",
       " 7,\n",
       " 8,\n",
       " 9,\n",
       " 10,\n",
       " 11,\n",
       " 12,\n",
       " 13,\n",
       " 14,\n",
       " 15,\n",
       " 16,\n",
       " 17,\n",
       " 18,\n",
       " 19,\n",
       " 20,\n",
       " 21,\n",
       " 22,\n",
       " 23,\n",
       " 24,\n",
       " 25,\n",
       " 26,\n",
       " 27,\n",
       " 28,\n",
       " 29,\n",
       " 30,\n",
       " 31,\n",
       " 32]"
      ]
     },
     "execution_count": 14,
     "metadata": {},
     "output_type": "execute_result"
    }
   ],
   "source": [
    "tickets = list(range(1,33))\n",
    "tickets"
   ]
  },
  {
   "cell_type": "code",
   "execution_count": 15,
   "id": "a0df2c59-fc35-4161-a25c-9a34c13f585a",
   "metadata": {
    "execution": {
     "iopub.execute_input": "2023-02-03T16:37:56.092285Z",
     "iopub.status.busy": "2023-02-03T16:37:56.091949Z",
     "iopub.status.idle": "2023-02-03T16:37:56.103593Z",
     "shell.execute_reply": "2023-02-03T16:37:56.102698Z",
     "shell.execute_reply.started": "2023-02-03T16:37:56.092270Z"
    }
   },
   "outputs": [
    {
     "data": {
      "text/plain": [
       "[1, 2, 3, 4, 5, 6, 7, 8, 9, 10, 11, 12, 13, 14, 15, 16, 17, 18, 19, 20]"
      ]
     },
     "execution_count": 15,
     "metadata": {},
     "output_type": "execute_result"
    }
   ],
   "source": [
    "student = list(range(1,21))\n",
    "student "
   ]
  },
  {
   "cell_type": "code",
   "execution_count": 16,
   "id": "5851af18-a94d-44f5-ac8a-d4f38dd76da6",
   "metadata": {
    "collapsed": true,
    "execution": {
     "iopub.execute_input": "2023-02-03T16:37:56.104924Z",
     "iopub.status.busy": "2023-02-03T16:37:56.104664Z",
     "iopub.status.idle": "2023-02-03T16:37:56.108830Z",
     "shell.execute_reply": "2023-02-03T16:37:56.108257Z",
     "shell.execute_reply.started": "2023-02-03T16:37:56.104907Z"
    },
    "jupyter": {
     "outputs_hidden": true
    },
    "tags": []
   },
   "outputs": [
    {
     "data": {
      "text/plain": [
       "[4,\n",
       " 32,\n",
       " 10,\n",
       " 15,\n",
       " 25,\n",
       " 13,\n",
       " 22,\n",
       " 31,\n",
       " 19,\n",
       " 1,\n",
       " 27,\n",
       " 29,\n",
       " 7,\n",
       " 30,\n",
       " 11,\n",
       " 20,\n",
       " 28,\n",
       " 14,\n",
       " 6,\n",
       " 12,\n",
       " 3,\n",
       " 24,\n",
       " 8,\n",
       " 9,\n",
       " 18,\n",
       " 16,\n",
       " 5,\n",
       " 23,\n",
       " 17,\n",
       " 21,\n",
       " 2,\n",
       " 26]"
      ]
     },
     "execution_count": 16,
     "metadata": {},
     "output_type": "execute_result"
    }
   ],
   "source": [
    "shuffle(tickets)\n",
    "tickets"
   ]
  },
  {
   "cell_type": "code",
   "execution_count": 17,
   "id": "a6c0db0e-f1f6-4bcc-87e3-098ead012cfb",
   "metadata": {
    "execution": {
     "iopub.execute_input": "2023-02-03T16:38:09.344304Z",
     "iopub.status.busy": "2023-02-03T16:38:09.343664Z",
     "iopub.status.idle": "2023-02-03T16:38:09.355761Z",
     "shell.execute_reply": "2023-02-03T16:38:09.353799Z",
     "shell.execute_reply.started": "2023-02-03T16:38:09.344248Z"
    },
    "tags": []
   },
   "outputs": [
    {
     "data": {
      "text/plain": [
       "False"
      ]
     },
     "execution_count": 17,
     "metadata": {},
     "output_type": "execute_result"
    }
   ],
   "source": [
    "26 in student"
   ]
  },
  {
   "cell_type": "code",
   "execution_count": 19,
   "id": "bb4f681e-28c5-47e7-ac1c-c8ad12a28ec6",
   "metadata": {
    "execution": {
     "iopub.execute_input": "2023-02-03T16:39:05.927341Z",
     "iopub.status.busy": "2023-02-03T16:39:05.926633Z",
     "iopub.status.idle": "2023-02-03T16:39:05.930560Z",
     "shell.execute_reply": "2023-02-03T16:39:05.929991Z",
     "shell.execute_reply.started": "2023-02-03T16:39:05.927322Z"
    },
    "tags": []
   },
   "outputs": [],
   "source": [
    "def lucky_student():\n",
    "    '''\n",
    "    In this function we check\n",
    "    '''\n",
    "\n",
    "    n = 1000000\n",
    "    student = list(range(1,21))\n",
    "    tickets = list(range(1,31))\n",
    "    result_1 = []\n",
    "\n",
    "\n",
    "    for _ in range(n):\n",
    "        shuffle(tickets)\n",
    "        result_1.append(tickets[0] in student )\n",
    "\n",
    "    return (np.mean(result_1))"
   ]
  },
  {
   "cell_type": "code",
   "execution_count": 52,
   "id": "d858e17e-446e-4b66-b7e2-ad49dcf2e39f",
   "metadata": {
    "execution": {
     "iopub.execute_input": "2023-02-03T16:46:04.658546Z",
     "iopub.status.busy": "2023-02-03T16:46:04.657755Z",
     "iopub.status.idle": "2023-02-03T16:46:04.670510Z",
     "shell.execute_reply": "2023-02-03T16:46:04.669025Z",
     "shell.execute_reply.started": "2023-02-03T16:46:04.658476Z"
    },
    "tags": []
   },
   "outputs": [],
   "source": [
    "def lucky_2nd_student():\n",
    "    '''\n",
    "    In this function we check\n",
    "    '''\n",
    "\n",
    "    n = 1000000\n",
    "    student = list(range(1,21))\n",
    "    # tickets = list(range(1,31))\n",
    "\n",
    "    result = []\n",
    "    \n",
    "\n",
    "    for _ in range(n):\n",
    "        tickets = list(range(1,31))\n",
    "        shuffle(tickets)\n",
    "        index_to_remove = random.randint(0, len(tickets) - 1)\n",
    "        tickets.pop(index_to_remove)\n",
    "        result.append(tickets[0] in student )\n",
    "\n",
    "    return (np.mean(result))"
   ]
  },
  {
   "cell_type": "code",
   "execution_count": 53,
   "id": "1b3c55ed-5238-4e0a-8b4c-1589d595560b",
   "metadata": {
    "execution": {
     "iopub.execute_input": "2023-02-03T16:46:06.611073Z",
     "iopub.status.busy": "2023-02-03T16:46:06.610820Z",
     "iopub.status.idle": "2023-02-03T16:46:22.579555Z",
     "shell.execute_reply": "2023-02-03T16:46:22.578919Z",
     "shell.execute_reply.started": "2023-02-03T16:46:06.611054Z"
    },
    "tags": []
   },
   "outputs": [
    {
     "name": "stdout",
     "output_type": "stream",
     "text": [
      "0.66569\n",
      "Analytical solution:  0.6666666666666666\n",
      "0.667105\n"
     ]
    }
   ],
   "source": [
    "print(lucky_student())\n",
    "print('Analytical solution: ', 20/30)\n",
    "print(lucky_2nd_student())"
   ]
  },
  {
   "cell_type": "code",
   "execution_count": 57,
   "id": "2124ef32-473c-44e8-9e32-f2afeef3f24b",
   "metadata": {
    "execution": {
     "iopub.execute_input": "2023-02-03T16:49:26.374883Z",
     "iopub.status.busy": "2023-02-03T16:49:26.374245Z",
     "iopub.status.idle": "2023-02-03T16:49:43.408130Z",
     "shell.execute_reply": "2023-02-03T16:49:43.407482Z",
     "shell.execute_reply.started": "2023-02-03T16:49:26.374830Z"
    },
    "tags": []
   },
   "outputs": [
    {
     "name": "stdout",
     "output_type": "stream",
     "text": [
      "Stundetnt goes first:\n",
      "0.666768\n",
      "Analytical solution:  0.6666666666666666\n",
      "Student goes second:\n",
      "0.666251\n",
      "Analytical solution:  0.6666666666666666\n"
     ]
    }
   ],
   "source": [
    "print(\"Stundetnt goes first:\")\n",
    "print(lucky_student())\n",
    "print('Analytical solution: ', 20/30)\n",
    "print(\"Student goes second:\")\n",
    "print(lucky_2nd_student())\n",
    "print('Analytical solution: ', (2/3)*(19/29)+(1/3)*(20/29))"
   ]
  },
  {
   "cell_type": "markdown",
   "id": "8132677a-3da4-4562-9c5d-155107cb72a2",
   "metadata": {},
   "source": [
    "Ночью произошло ДТП с участием такси. В городе работают две компании такси — «Синие» и «Зелёные». «Зелёным» принадлежит 85% такси, «Синим» 15%. Свидетель аварии утверждает, что такси принадлежало «Синим». Следственный эксперимент показал, что ночью свидетель верно определяет цвет такси в 80%. Какова вероятность того, что такси действительно принадлежало «Синим»?"
   ]
  },
  {
   "cell_type": "code",
   "execution_count": null,
   "id": "1d2e212d-f480-4d03-81ad-32e6017bca0a",
   "metadata": {
    "execution": {
     "iopub.execute_input": "2023-02-03T17:48:35.826183Z",
     "iopub.status.busy": "2023-02-03T17:48:35.825697Z",
     "iopub.status.idle": "2023-02-03T17:48:35.832069Z",
     "shell.execute_reply": "2023-02-03T17:48:35.831566Z",
     "shell.execute_reply.started": "2023-02-03T17:48:35.826164Z"
    },
    "tags": []
   },
   "outputs": [
    {
     "data": {
      "text/plain": [
       "real_car\n",
       "0    0.801534\n",
       "1    0.807869\n",
       "Name: guess, dtype: float64"
      ]
     },
     "execution_count": 209,
     "metadata": {},
     "output_type": "execute_result"
    }
   ],
   "source": [
    "d={'real_car':np.random.binomial(1,0.15,10000),'guess':np.random.binomial(1,0.8,10000)}\n",
    "\n",
    "df1 = pd.DataFrame(data=d)\n",
    "df1.groupby('real_car')['guess'].mean()\n",
    "#real car 1 - green, 0 -blue. guess -0 - false, 1 -true"
   ]
  },
  {
   "cell_type": "markdown",
   "id": "189d4cc9-25b5-4769-a914-f6e1c8b8c11c",
   "metadata": {},
   "source": [
    "Real Answer (the same asp precision TP/TP+FP)"
   ]
  },
  {
   "cell_type": "code",
   "execution_count": 215,
   "id": "13069b3b-4ba6-4564-a3e2-1a9e1203cbd9",
   "metadata": {
    "execution": {
     "iopub.execute_input": "2023-02-03T17:55:43.425331Z",
     "iopub.status.busy": "2023-02-03T17:55:43.425091Z",
     "iopub.status.idle": "2023-02-03T17:55:43.431859Z",
     "shell.execute_reply": "2023-02-03T17:55:43.431452Z",
     "shell.execute_reply.started": "2023-02-03T17:55:43.425314Z"
    },
    "tags": []
   },
   "outputs": [
    {
     "data": {
      "text/plain": [
       "0.41048637461193516"
      ]
     },
     "execution_count": 215,
     "metadata": {},
     "output_type": "execute_result"
    }
   ],
   "source": [
    "df.loc[lambda x:((x['taxi']==1) & (x['witness_answer']==1))].shape[0]/df.loc[lambda x:((x['taxi']==1) & (x['witness_answer']==1)|(x['taxi']==0) & (x['witness_answer']==1))].shape[0]"
   ]
  },
  {
   "cell_type": "code",
   "execution_count": null,
   "id": "e84e6e21-58bb-425c-84ca-e8e85d5653f2",
   "metadata": {},
   "outputs": [],
   "source": [
    "#analytic solution\n",
    "\n",
    "12/(0.2*85+ 0.8 * 15) "
   ]
  },
  {
   "cell_type": "code",
   "execution_count": 207,
   "id": "163161a1-3f50-4c0a-af27-ffb0a0e0fd5c",
   "metadata": {
    "execution": {
     "iopub.execute_input": "2023-02-03T17:46:15.945660Z",
     "iopub.status.busy": "2023-02-03T17:46:15.944972Z",
     "iopub.status.idle": "2023-02-03T17:46:15.950904Z",
     "shell.execute_reply": "2023-02-03T17:46:15.950358Z",
     "shell.execute_reply.started": "2023-02-03T17:46:15.945639Z"
    },
    "tags": []
   },
   "outputs": [
    {
     "data": {
      "text/plain": [
       "witness_answer\n",
       "0    0.040558\n",
       "1    0.410486\n",
       "Name: taxi, dtype: float64"
      ]
     },
     "execution_count": 207,
     "metadata": {},
     "output_type": "execute_result"
    }
   ],
   "source": [
    "df.groupby('witness_answer')['taxi'].mean()"
   ]
  },
  {
   "cell_type": "code",
   "execution_count": 155,
   "id": "62821d69-ea87-4089-b1c5-49d55e50be52",
   "metadata": {
    "execution": {
     "iopub.execute_input": "2023-02-03T17:30:49.293590Z",
     "iopub.status.busy": "2023-02-03T17:30:49.292955Z",
     "iopub.status.idle": "2023-02-03T17:30:49.479019Z",
     "shell.execute_reply": "2023-02-03T17:30:49.478399Z",
     "shell.execute_reply.started": "2023-02-03T17:30:49.293537Z"
    },
    "tags": []
   },
   "outputs": [
    {
     "data": {
      "text/plain": [
       "<AxesSubplot: ylabel='Count'>"
      ]
     },
     "execution_count": 155,
     "metadata": {},
     "output_type": "execute_result"
    },
    {
     "data": {
      "image/png": "[encoded data removed]",
      "text/plain": [
       "<Figure size 640x480 with 1 Axes>"
      ]
     },
     "metadata": {},
     "output_type": "display_data"
    }
   ],
   "source": [
    "sns.histplot(np.random.binomial(1,0.8,10000))"
   ]
  },
  {
   "cell_type": "code",
   "execution_count": 159,
   "id": "a49c273a-52ee-49a5-a589-cfc3c9a87f7c",
   "metadata": {
    "execution": {
     "iopub.execute_input": "2023-02-03T17:33:18.471030Z",
     "iopub.status.busy": "2023-02-03T17:33:18.470802Z",
     "iopub.status.idle": "2023-02-03T17:33:18.601356Z",
     "shell.execute_reply": "2023-02-03T17:33:18.600765Z",
     "shell.execute_reply.started": "2023-02-03T17:33:18.471009Z"
    },
    "tags": []
   },
   "outputs": [
    {
     "data": {
      "text/plain": [
       "<AxesSubplot: ylabel='Density'>"
      ]
     },
     "execution_count": 159,
     "metadata": {},
     "output_type": "execute_result"
    },
    {
     "data": {
      "image/png": "[encoded data removed]",
      "text/plain": [
       "<Figure size 640x480 with 1 Axes>"
      ]
     },
     "metadata": {},
     "output_type": "display_data"
    }
   ],
   "source": [
    "sns.histplot(np.random.binomial(1,0.15,1000),stat='density')"
   ]
  },
  {
   "cell_type": "markdown",
   "id": "70473de6-f8ca-46d3-be5f-c2aac168b135",
   "metadata": {},
   "source": [
    "Русская рулетка. Есть револьвер с 2 вставленными подряд патронами. Первый крутит барабан и стреляет и остается жив. Твоя очередь: тебе предлагает покрутить барабан перед выстрелом. Согласишься или сразу выстрелишь и почему?"
   ]
  },
  {
   "cell_type": "code",
   "execution_count": 223,
   "id": "a0c0bb74-52cc-4b8c-99df-33a2a0e6cd20",
   "metadata": {
    "execution": {
     "iopub.execute_input": "2023-02-03T18:09:01.111063Z",
     "iopub.status.busy": "2023-02-03T18:09:01.109627Z",
     "iopub.status.idle": "2023-02-03T18:09:01.120756Z",
     "shell.execute_reply": "2023-02-03T18:09:01.117881Z",
     "shell.execute_reply.started": "2023-02-03T18:09:01.110986Z"
    },
    "tags": []
   },
   "outputs": [],
   "source": [
    "chamber =[1,1,0,0,0,0]\n"
   ]
  },
  {
   "cell_type": "code",
   "execution_count": 229,
   "id": "40dbd889-d2a9-4981-8a25-ecdfa159e953",
   "metadata": {
    "execution": {
     "iopub.execute_input": "2023-02-03T18:10:38.130779Z",
     "iopub.status.busy": "2023-02-03T18:10:38.129590Z",
     "iopub.status.idle": "2023-02-03T18:10:38.144852Z",
     "shell.execute_reply": "2023-02-03T18:10:38.143013Z",
     "shell.execute_reply.started": "2023-02-03T18:10:38.130670Z"
    },
    "tags": []
   },
   "outputs": [],
   "source": [
    "def one_turn(chamber):\n",
    "    new_chamber=[0,0,0,0,0,0]\n",
    "    n = len(chamber)\n",
    "    for i in range(n):\n",
    "        if i < n-1:\n",
    "            new_chamber[i+1] = chamber[i]\n",
    "        else:\n",
    "            new_chamber[0]=chamber[i]\n",
    "    return new_chamber"
   ]
  },
  {
   "cell_type": "code",
   "execution_count": 249,
   "id": "e4acbd83-1ae2-4341-9238-5d41a5cba20c",
   "metadata": {
    "execution": {
     "iopub.execute_input": "2023-02-03T18:19:43.553440Z",
     "iopub.status.busy": "2023-02-03T18:19:43.553018Z",
     "iopub.status.idle": "2023-02-03T18:19:43.556617Z",
     "shell.execute_reply": "2023-02-03T18:19:43.555758Z",
     "shell.execute_reply.started": "2023-02-03T18:19:43.553420Z"
    },
    "tags": []
   },
   "outputs": [],
   "source": [
    "def spin_chamber(chamber):\n",
    "    n = np.random.randint(1,7)\n",
    "    for i in range(n):\n",
    "        chamber = one_turn(chamber)\n",
    "    return chamber"
   ]
  },
  {
   "cell_type": "code",
   "execution_count": 280,
   "id": "df3d6c1f-cad9-4495-a5af-3bf8fb09d653",
   "metadata": {
    "execution": {
     "iopub.execute_input": "2023-02-03T18:19:53.180215Z",
     "iopub.status.busy": "2023-02-03T18:19:53.179992Z",
     "iopub.status.idle": "2023-02-03T18:19:53.184018Z",
     "shell.execute_reply": "2023-02-03T18:19:53.183567Z",
     "shell.execute_reply.started": "2023-02-03T18:19:53.180196Z"
    },
    "tags": []
   },
   "outputs": [
    {
     "data": {
      "text/plain": [
       "[1, 0, 0, 0, 0, 1]"
      ]
     },
     "execution_count": 280,
     "metadata": {},
     "output_type": "execute_result"
    }
   ],
   "source": [
    "spin_chamber(chamber)"
   ]
  },
  {
   "cell_type": "code",
   "execution_count": 237,
   "id": "443480a1-f9da-4ea2-aed8-430b089093e5",
   "metadata": {
    "execution": {
     "iopub.execute_input": "2023-02-03T18:10:43.817028Z",
     "iopub.status.busy": "2023-02-03T18:10:43.816506Z",
     "iopub.status.idle": "2023-02-03T18:10:43.822019Z",
     "shell.execute_reply": "2023-02-03T18:10:43.820985Z",
     "shell.execute_reply.started": "2023-02-03T18:10:43.817006Z"
    },
    "tags": []
   },
   "outputs": [
    {
     "data": {
      "text/plain": [
       "[0, 1, 1, 0, 0, 0]"
      ]
     },
     "execution_count": 237,
     "metadata": {},
     "output_type": "execute_result"
    }
   ],
   "source": [
    "one_turn(chamber)"
   ]
  },
  {
   "cell_type": "code",
   "execution_count": 292,
   "id": "fed5ca25-6555-494e-a63b-31961b6ca0a0",
   "metadata": {
    "execution": {
     "iopub.execute_input": "2023-02-03T18:23:26.986474Z",
     "iopub.status.busy": "2023-02-03T18:23:26.985933Z",
     "iopub.status.idle": "2023-02-03T18:23:27.000213Z",
     "shell.execute_reply": "2023-02-03T18:23:26.999503Z",
     "shell.execute_reply.started": "2023-02-03T18:23:26.986430Z"
    },
    "tags": []
   },
   "outputs": [
    {
     "data": {
      "text/plain": [
       "[0, 1, 1, 0, 0, 0]    0.23\n",
       "[0, 0, 0, 0, 1, 1]    0.21\n",
       "[0, 0, 1, 1, 0, 0]    0.16\n",
       "[0, 0, 0, 1, 1, 0]    0.15\n",
       "[1, 1, 0, 0, 0, 0]    0.14\n",
       "[1, 0, 0, 0, 0, 1]    0.11\n",
       "dtype: float64"
      ]
     },
     "execution_count": 292,
     "metadata": {},
     "output_type": "execute_result"
    }
   ],
   "source": [
    "pd.Series([spin_chamber([1,1,0,0,0]) for _ in range(100)]).value_counts(normalize=True)"
   ]
  },
  {
   "cell_type": "code",
   "execution_count": 247,
   "id": "57325f4a-8b69-4997-9f53-611d52c80309",
   "metadata": {
    "execution": {
     "iopub.execute_input": "2023-02-03T18:13:21.196706Z",
     "iopub.status.busy": "2023-02-03T18:13:21.195973Z",
     "iopub.status.idle": "2023-02-03T18:13:21.201392Z",
     "shell.execute_reply": "2023-02-03T18:13:21.200858Z",
     "shell.execute_reply.started": "2023-02-03T18:13:21.196683Z"
    },
    "tags": []
   },
   "outputs": [
    {
     "data": {
      "text/plain": [
       "[1, 0, 0, 0, 0, 1]"
      ]
     },
     "execution_count": 247,
     "metadata": {},
     "output_type": "execute_result"
    }
   ],
   "source": [
    "one_turn([0, 0, 0, 0, 1, 1])"
   ]
  },
  {
   "cell_type": "code",
   "execution_count": 306,
   "id": "57114d40-6fe3-4880-a37c-3369cb6a515b",
   "metadata": {
    "execution": {
     "iopub.execute_input": "2023-02-03T18:35:27.002306Z",
     "iopub.status.busy": "2023-02-03T18:35:27.002087Z",
     "iopub.status.idle": "2023-02-03T18:35:27.006277Z",
     "shell.execute_reply": "2023-02-03T18:35:27.005520Z",
     "shell.execute_reply.started": "2023-02-03T18:35:27.002288Z"
    },
    "tags": []
   },
   "outputs": [
    {
     "name": "stdout",
     "output_type": "stream",
     "text": [
      "0\n"
     ]
    }
   ],
   "source": [
    "#loading revolver\n",
    "chamber = [1,1,0,0,0,0]\n",
    "# first player\n",
    "chamber=spin_chamber(chamber)\n",
    "# first player shoots\n",
    "chamber=one_turn(chamber)\n",
    "p1 = chamber[0]\n",
    "\n",
    "chamber[0] =0\n",
    "# if first player is alive \n",
    "chamber=spin_chamber(chamber)\n",
    "\n",
    "#then second player turns  chamber  - \n",
    "\n",
    "chamber=one_turn(chamber)\n",
    "p2 = chamber[0]\n",
    "\n"
   ]
  },
  {
   "cell_type": "code",
   "execution_count": 321,
   "id": "f38faef6-e5f3-47fb-b1b4-b917b94b3559",
   "metadata": {
    "execution": {
     "iopub.execute_input": "2023-02-03T18:39:48.967622Z",
     "iopub.status.busy": "2023-02-03T18:39:48.967272Z",
     "iopub.status.idle": "2023-02-03T18:39:49.139963Z",
     "shell.execute_reply": "2023-02-03T18:39:49.138758Z",
     "shell.execute_reply.started": "2023-02-03T18:39:48.967576Z"
    },
    "tags": []
   },
   "outputs": [],
   "source": [
    "n = 10000\n",
    "result = []\n",
    "for _ in range(n):\n",
    "    #loading revolver\n",
    "    chamber = [1,1,0,0,0,0]\n",
    "    # first player\n",
    "    chamber=spin_chamber(chamber)\n",
    "    # first player shoots\n",
    "    chamber=one_turn(chamber)\n",
    "    p1 = chamber[0]\n",
    "\n",
    "    chamber[0] =0\n",
    "    # if first player is alive \n",
    "    chamber=spin_chamber(chamber)\n",
    "\n",
    "    #then second player turns  chamber  - \n",
    "\n",
    "    chamber=one_turn(chamber)\n",
    "    p2 = chamber[0]\n",
    "\n",
    "    result.append((p1,p2))\n",
    "\n"
   ]
  },
  {
   "cell_type": "code",
   "execution_count": 322,
   "id": "5a72ecde-6abe-4205-8e97-7ff221be9d36",
   "metadata": {
    "execution": {
     "iopub.execute_input": "2023-02-03T18:39:51.193922Z",
     "iopub.status.busy": "2023-02-03T18:39:51.193200Z",
     "iopub.status.idle": "2023-02-03T18:39:51.211623Z",
     "shell.execute_reply": "2023-02-03T18:39:51.210498Z",
     "shell.execute_reply.started": "2023-02-03T18:39:51.193898Z"
    },
    "tags": []
   },
   "outputs": [
    {
     "data": {
      "text/html": [
       "<div>\n",
       "<style scoped>\n",
       "    .dataframe tbody tr th:only-of-type {\n",
       "        vertical-align: middle;\n",
       "    }\n",
       "\n",
       "    .dataframe tbody tr th {\n",
       "        vertical-align: top;\n",
       "    }\n",
       "\n",
       "    .dataframe thead th {\n",
       "        text-align: right;\n",
       "    }\n",
       "</style>\n",
       "<table border=\"1\" class=\"dataframe\">\n",
       "  <thead>\n",
       "    <tr style=\"text-align: right;\">\n",
       "      <th></th>\n",
       "      <th>count</th>\n",
       "      <th>mean</th>\n",
       "    </tr>\n",
       "    <tr>\n",
       "      <th>p1</th>\n",
       "      <th></th>\n",
       "      <th></th>\n",
       "    </tr>\n",
       "  </thead>\n",
       "  <tbody>\n",
       "    <tr>\n",
       "      <th>0</th>\n",
       "      <td>6635</td>\n",
       "      <td>0.325396</td>\n",
       "    </tr>\n",
       "    <tr>\n",
       "      <th>1</th>\n",
       "      <td>3365</td>\n",
       "      <td>0.168499</td>\n",
       "    </tr>\n",
       "  </tbody>\n",
       "</table>\n",
       "</div>"
      ],
      "text/plain": [
       "    count      mean\n",
       "p1                 \n",
       "0    6635  0.325396\n",
       "1    3365  0.168499"
      ]
     },
     "execution_count": 322,
     "metadata": {},
     "output_type": "execute_result"
    }
   ],
   "source": [
    "t= pd.DataFrame(result,columns = ['p1','p2'])\n",
    "\n",
    "t.groupby('p1')['p2'].agg(['count','mean'])"
   ]
  },
  {
   "cell_type": "code",
   "execution_count": 327,
   "id": "4c6b19c2-cb0b-4603-b0c8-e7e4304a89ea",
   "metadata": {
    "execution": {
     "iopub.execute_input": "2023-02-03T18:40:41.104759Z",
     "iopub.status.busy": "2023-02-03T18:40:41.104091Z",
     "iopub.status.idle": "2023-02-03T18:40:41.187534Z",
     "shell.execute_reply": "2023-02-03T18:40:41.186240Z",
     "shell.execute_reply.started": "2023-02-03T18:40:41.104738Z"
    },
    "tags": []
   },
   "outputs": [],
   "source": [
    "n = 10000\n",
    "result = []\n",
    "for _ in range(n):\n",
    "    #loading revolver\n",
    "    chamber = [1,1,0,0,0,0]\n",
    "    # first player\n",
    "    chamber=spin_chamber(chamber)\n",
    "    # first player shoots\n",
    "    chamber=one_turn(chamber)\n",
    "    p1 = chamber[0]\n",
    "\n",
    "    chamber[0] =0\n",
    "    # if first player is alive \n",
    "    # chamber=spin_chamber(chamber)\n",
    "\n",
    "    #second player  does not turn  chamber  - \n",
    "    chamber = one_turn(chamber)\n",
    "    \n",
    "    p2 = chamber[0]\n",
    "\n",
    "    result.append((p1,p2))\n",
    "\n"
   ]
  },
  {
   "cell_type": "code",
   "execution_count": 328,
   "id": "f4f9a467-74f4-4df1-8ec9-fbf2cbee8519",
   "metadata": {
    "execution": {
     "iopub.execute_input": "2023-02-03T18:40:42.670315Z",
     "iopub.status.busy": "2023-02-03T18:40:42.669982Z",
     "iopub.status.idle": "2023-02-03T18:40:42.685276Z",
     "shell.execute_reply": "2023-02-03T18:40:42.684534Z",
     "shell.execute_reply.started": "2023-02-03T18:40:42.670291Z"
    },
    "tags": []
   },
   "outputs": [
    {
     "data": {
      "text/html": [
       "<div>\n",
       "<style scoped>\n",
       "    .dataframe tbody tr th:only-of-type {\n",
       "        vertical-align: middle;\n",
       "    }\n",
       "\n",
       "    .dataframe tbody tr th {\n",
       "        vertical-align: top;\n",
       "    }\n",
       "\n",
       "    .dataframe thead th {\n",
       "        text-align: right;\n",
       "    }\n",
       "</style>\n",
       "<table border=\"1\" class=\"dataframe\">\n",
       "  <thead>\n",
       "    <tr style=\"text-align: right;\">\n",
       "      <th></th>\n",
       "      <th>count</th>\n",
       "      <th>mean</th>\n",
       "    </tr>\n",
       "    <tr>\n",
       "      <th>p1</th>\n",
       "      <th></th>\n",
       "      <th></th>\n",
       "    </tr>\n",
       "  </thead>\n",
       "  <tbody>\n",
       "    <tr>\n",
       "      <th>0</th>\n",
       "      <td>6637</td>\n",
       "      <td>0.251921</td>\n",
       "    </tr>\n",
       "    <tr>\n",
       "      <th>1</th>\n",
       "      <td>3363</td>\n",
       "      <td>0.508177</td>\n",
       "    </tr>\n",
       "  </tbody>\n",
       "</table>\n",
       "</div>"
      ],
      "text/plain": [
       "    count      mean\n",
       "p1                 \n",
       "0    6637  0.251921\n",
       "1    3363  0.508177"
      ]
     },
     "execution_count": 328,
     "metadata": {},
     "output_type": "execute_result"
    }
   ],
   "source": [
    "t= pd.DataFrame(result,columns = ['p1','p2'])\n",
    "\n",
    "t.groupby('p1')['p2'].agg(['count','mean'])"
   ]
  },
  {
   "cell_type": "markdown",
   "id": "b38ba1ec-9897-4f60-82e5-789270cb3f82",
   "metadata": {},
   "source": [
    "Hence its more handy to not turn the chamber"
   ]
  },
  {
   "cell_type": "code",
   "execution_count": 337,
   "id": "d841d70a-fd22-4427-b6d1-8b5331ae6602",
   "metadata": {
    "execution": {
     "iopub.execute_input": "2023-02-03T19:11:59.485087Z",
     "iopub.status.busy": "2023-02-03T19:11:59.484312Z",
     "iopub.status.idle": "2023-02-03T19:11:59.493535Z",
     "shell.execute_reply": "2023-02-03T19:11:59.492417Z",
     "shell.execute_reply.started": "2023-02-03T19:11:59.485016Z"
    },
    "tags": []
   },
   "outputs": [
    {
     "data": {
      "text/plain": [
       "0.3333333333333333"
      ]
     },
     "execution_count": 337,
     "metadata": {},
     "output_type": "execute_result"
    }
   ],
   "source": [
    "#analytical solution\n",
    "\n",
    "2/6"
   ]
  },
  {
   "cell_type": "code",
   "execution_count": 338,
   "id": "d0d04f62-c85c-45d9-84c9-1ca30e0592de",
   "metadata": {
    "execution": {
     "iopub.execute_input": "2023-02-03T19:12:10.436974Z",
     "iopub.status.busy": "2023-02-03T19:12:10.436714Z",
     "iopub.status.idle": "2023-02-03T19:12:10.441698Z",
     "shell.execute_reply": "2023-02-03T19:12:10.440911Z",
     "shell.execute_reply.started": "2023-02-03T19:12:10.436952Z"
    },
    "tags": []
   },
   "outputs": [
    {
     "data": {
      "text/plain": [
       "0.6"
      ]
     },
     "execution_count": 338,
     "metadata": {},
     "output_type": "execute_result"
    }
   ],
   "source": [
    "3/5"
   ]
  },
  {
   "cell_type": "code",
   "execution_count": 330,
   "id": "ece3411b-4a83-43bc-a3ca-a75f3ef32aac",
   "metadata": {
    "execution": {
     "iopub.execute_input": "2023-02-03T19:09:58.536257Z",
     "iopub.status.busy": "2023-02-03T19:09:58.535981Z",
     "iopub.status.idle": "2023-02-03T19:09:58.541286Z",
     "shell.execute_reply": "2023-02-03T19:09:58.540239Z",
     "shell.execute_reply.started": "2023-02-03T19:09:58.536233Z"
    },
    "tags": []
   },
   "outputs": [
    {
     "data": {
      "text/plain": [
       "array([8, 9, 0, 1, 2, 3, 4, 5, 6, 7])"
      ]
     },
     "execution_count": 330,
     "metadata": {},
     "output_type": "execute_result"
    }
   ],
   "source": [
    "x = np.arange(10)\n",
    "np.roll(x, 2)"
   ]
  },
  {
   "cell_type": "code",
   "execution_count": 332,
   "id": "2a7b181c-016b-4c78-971f-3eb2b267a2d5",
   "metadata": {
    "execution": {
     "iopub.execute_input": "2023-02-03T19:10:11.380431Z",
     "iopub.status.busy": "2023-02-03T19:10:11.380234Z",
     "iopub.status.idle": "2023-02-03T19:10:11.383925Z",
     "shell.execute_reply": "2023-02-03T19:10:11.383517Z",
     "shell.execute_reply.started": "2023-02-03T19:10:11.380416Z"
    },
    "tags": []
   },
   "outputs": [
    {
     "data": {
      "text/plain": [
       "array([0, 1, 2, 3, 4, 5, 6, 7, 8, 9])"
      ]
     },
     "execution_count": 332,
     "metadata": {},
     "output_type": "execute_result"
    }
   ],
   "source": [
    "x"
   ]
  },
  {
   "cell_type": "code",
   "execution_count": 335,
   "id": "a97c6a81-3c35-49dd-91cb-efbd505b6455",
   "metadata": {
    "execution": {
     "iopub.execute_input": "2023-02-03T19:10:27.293393Z",
     "iopub.status.busy": "2023-02-03T19:10:27.292757Z",
     "iopub.status.idle": "2023-02-03T19:10:27.298557Z",
     "shell.execute_reply": "2023-02-03T19:10:27.297770Z",
     "shell.execute_reply.started": "2023-02-03T19:10:27.293366Z"
    },
    "tags": []
   },
   "outputs": [
    {
     "data": {
      "text/plain": [
       "array([8, 9, 0, 1, 2, 3, 4, 5, 6, 7])"
      ]
     },
     "execution_count": 335,
     "metadata": {},
     "output_type": "execute_result"
    }
   ],
   "source": [
    "np.roll(x, 2)"
   ]
  }
 ],
 "metadata": {
  "kernelspec": {
   "display_name": "Python 3 (ipykernel)",
   "language": "python",
   "name": "python3"
  },
  "language_info": {
   "codemirror_mode": {
    "name": "ipython",
    "version": 3
   },
   "file_extension": ".py",
   "mimetype": "text/x-python",
   "name": "python",
   "nbconvert_exporter": "python",
   "pygments_lexer": "ipython3",
   "version": "3.10.6"
  }
 },
 "nbformat": 4,
 "nbformat_minor": 5
}
