{
 "cells": [
  {
   "cell_type": "markdown",
   "id": "434c54af",
   "metadata": {
    "toc": true
   },
   "source": [
    "<h1>Содержание<span class=\"tocSkip\"></span></h1>\n",
    "<div class=\"toc\"><ul class=\"toc-item\"><li><span><a href=\"#Imports\" data-toc-modified-id=\"Imports-1\"><span class=\"toc-item-num\">1&nbsp;&nbsp;</span>Imports</a></span></li></ul></div>"
   ]
  },
  {
   "cell_type": "markdown",
   "id": "90ba85db",
   "metadata": {},
   "source": [
    "### Imports"
   ]
  },
  {
   "cell_type": "code",
   "execution_count": 3,
   "id": "a9fa321a",
   "metadata": {
    "ExecuteTime": {
     "end_time": "2023-01-23T09:41:10.291341Z",
     "start_time": "2023-01-23T09:41:10.274388Z"
    }
   },
   "outputs": [],
   "source": [
    "import pandas as pd\n",
    "import numpy as np"
   ]
  },
  {
   "cell_type": "code",
   "execution_count": 35,
   "id": "afe0ecb5",
   "metadata": {
    "ExecuteTime": {
     "end_time": "2023-01-22T01:01:33.162746Z",
     "start_time": "2023-01-22T01:01:33.152773Z"
    }
   },
   "outputs": [
    {
     "data": {
      "text/plain": [
       "0"
      ]
     },
     "execution_count": 35,
     "metadata": {},
     "output_type": "execute_result"
    }
   ],
   "source": [
    "np.random.binomial(1,0.5)"
   ]
  },
  {
   "cell_type": "code",
   "execution_count": 36,
   "id": "8fe42417",
   "metadata": {
    "ExecuteTime": {
     "end_time": "2023-01-22T01:01:35.373644Z",
     "start_time": "2023-01-22T01:01:35.359682Z"
    }
   },
   "outputs": [
    {
     "data": {
      "text/plain": [
       "0"
      ]
     },
     "execution_count": 36,
     "metadata": {},
     "output_type": "execute_result"
    }
   ],
   "source": [
    "np.random.binomial(1,0.5)"
   ]
  },
  {
   "cell_type": "code",
   "execution_count": 37,
   "id": "2a5361b1",
   "metadata": {
    "ExecuteTime": {
     "end_time": "2023-01-22T01:02:19.823469Z",
     "start_time": "2023-01-22T01:02:19.776595Z"
    }
   },
   "outputs": [],
   "source": [
    "result = []\n",
    "for i in range(3):\n",
    "    result.append(np.random.binomial(1,0.5))"
   ]
  },
  {
   "cell_type": "code",
   "execution_count": 38,
   "id": "4281fbad",
   "metadata": {
    "ExecuteTime": {
     "end_time": "2023-01-22T01:02:23.751381Z",
     "start_time": "2023-01-22T01:02:23.744428Z"
    }
   },
   "outputs": [
    {
     "data": {
      "text/plain": [
       "[0, 1, 0]"
      ]
     },
     "execution_count": 38,
     "metadata": {},
     "output_type": "execute_result"
    }
   ],
   "source": [
    "result"
   ]
  },
  {
   "cell_type": "code",
   "execution_count": 110,
   "id": "80d27c89",
   "metadata": {
    "ExecuteTime": {
     "end_time": "2023-01-22T01:04:39.839118Z",
     "start_time": "2023-01-22T01:04:39.824022Z"
    }
   },
   "outputs": [
    {
     "data": {
      "text/plain": [
       "[0, 0, 1, 1, 0, 0, 0, 0, 0, 1]"
      ]
     },
     "execution_count": 110,
     "metadata": {},
     "output_type": "execute_result"
    }
   ],
   "source": [
    "[np.random.binomial(1,0.5) for _ in range(10)]"
   ]
  },
  {
   "cell_type": "code",
   "execution_count": 111,
   "id": "a9c88173",
   "metadata": {
    "ExecuteTime": {
     "end_time": "2023-01-22T01:05:09.417268Z",
     "start_time": "2023-01-22T01:05:09.360420Z"
    }
   },
   "outputs": [
    {
     "data": {
      "text/plain": [
       "array([1, 1, 1])"
      ]
     },
     "execution_count": 111,
     "metadata": {},
     "output_type": "execute_result"
    }
   ],
   "source": [
    "np.random.binomial(1,0.5,size=3)"
   ]
  },
  {
   "cell_type": "code",
   "execution_count": 142,
   "id": "3446f53b",
   "metadata": {
    "ExecuteTime": {
     "end_time": "2023-01-22T01:31:27.669957Z",
     "start_time": "2023-01-22T01:31:27.654001Z"
    }
   },
   "outputs": [
    {
     "data": {
      "text/plain": [
       "0    1\n",
       "1    1\n",
       "2    0\n",
       "3    1\n",
       "4    0\n",
       "5    0\n",
       "6    1\n",
       "7    1\n",
       "8    0\n",
       "9    0\n",
       "dtype: int64"
      ]
     },
     "execution_count": 142,
     "metadata": {},
     "output_type": "execute_result"
    }
   ],
   "source": [
    "pd.Series([0,1]).sample(10,replace = True).reset_index(drop=True)"
   ]
  },
  {
   "cell_type": "markdown",
   "id": "5c6619f1",
   "metadata": {},
   "source": [
    "Выборка возвращением - это бутстрап."
   ]
  },
  {
   "cell_type": "code",
   "execution_count": 140,
   "id": "80f33b17",
   "metadata": {
    "ExecuteTime": {
     "end_time": "2023-01-22T01:29:28.762755Z",
     "start_time": "2023-01-22T01:29:28.749790Z"
    }
   },
   "outputs": [
    {
     "data": {
      "text/plain": [
       "3    0.277778\n",
       "4    0.222222\n",
       "6    0.166667\n",
       "5    0.166667\n",
       "1    0.111111\n",
       "2    0.055556\n",
       "dtype: float64"
      ]
     },
     "execution_count": 140,
     "metadata": {},
     "output_type": "execute_result"
    }
   ],
   "source": [
    "pd.Series([1,2,3,4,5,6]).sample(18,replace=True).value_counts(normalize = True)"
   ]
  },
  {
   "cell_type": "code",
   "execution_count": 145,
   "id": "34012a91",
   "metadata": {
    "ExecuteTime": {
     "end_time": "2023-01-22T01:33:14.195148Z",
     "start_time": "2023-01-22T01:33:14.182183Z"
    }
   },
   "outputs": [
    {
     "data": {
      "text/plain": [
       "5    16773\n",
       "1    16735\n",
       "4    16676\n",
       "3    16669\n",
       "2    16590\n",
       "6    16557\n",
       "dtype: int64"
      ]
     },
     "execution_count": 145,
     "metadata": {},
     "output_type": "execute_result"
    }
   ],
   "source": [
    "pd.Series(np.random.randint(1,7,size =100000)).value_counts()"
   ]
  },
  {
   "cell_type": "code",
   "execution_count": 146,
   "id": "1d398e4b",
   "metadata": {
    "ExecuteTime": {
     "end_time": "2023-01-22T01:35:25.534614Z",
     "start_time": "2023-01-22T01:35:25.525638Z"
    }
   },
   "outputs": [
    {
     "data": {
      "text/plain": [
       "1"
      ]
     },
     "execution_count": 146,
     "metadata": {},
     "output_type": "execute_result"
    }
   ],
   "source": [
    "np.random.binomial(1,0.7)"
   ]
  },
  {
   "cell_type": "code",
   "execution_count": 148,
   "id": "005b8d01",
   "metadata": {
    "ExecuteTime": {
     "end_time": "2023-01-22T01:36:36.482149Z",
     "start_time": "2023-01-22T01:36:36.477163Z"
    }
   },
   "outputs": [
    {
     "data": {
      "text/plain": [
       "[1, 1, 1, 1, 1, 1, 1, 0, 0, 0]"
      ]
     },
     "execution_count": 148,
     "metadata": {},
     "output_type": "execute_result"
    }
   ],
   "source": [
    "[1]*7+[0]*3"
   ]
  },
  {
   "cell_type": "markdown",
   "id": "174cccdb",
   "metadata": {},
   "source": [
    "Binominal is equal to uniform ins some manner"
   ]
  },
  {
   "cell_type": "code",
   "execution_count": 157,
   "id": "950228c0",
   "metadata": {
    "ExecuteTime": {
     "end_time": "2023-01-22T01:55:59.724774Z",
     "start_time": "2023-01-22T01:55:59.596119Z"
    }
   },
   "outputs": [
    {
     "data": {
      "text/plain": [
       "<AxesSubplot:>"
      ]
     },
     "execution_count": 157,
     "metadata": {},
     "output_type": "execute_result"
    },
    {
     "data": {
      "image/png": "[encoded data removed]",
      "text/plain": [
       "<Figure size 432x288 with 1 Axes>"
      ]
     },
     "metadata": {
      "needs_background": "light"
     },
     "output_type": "display_data"
    }
   ],
   "source": [
    "pd.Series(np.random.uniform(size=10000)).hist()"
   ]
  },
  {
   "cell_type": "code",
   "execution_count": 160,
   "id": "c6f87293",
   "metadata": {
    "ExecuteTime": {
     "end_time": "2023-01-22T01:58:43.764346Z",
     "start_time": "2023-01-22T01:58:43.203377Z"
    },
    "scrolled": true
   },
   "outputs": [
    {
     "data": {
      "text/plain": [
       "<AxesSubplot:>"
      ]
     },
     "execution_count": 160,
     "metadata": {},
     "output_type": "execute_result"
    },
    {
     "data": {
      "image/png": "[encoded data removed]",
      "text/plain": [
       "<Figure size 432x288 with 1 Axes>"
      ]
     },
     "metadata": {
      "needs_background": "light"
     },
     "output_type": "display_data"
    }
   ],
   "source": [
    "pd.Series(np.random.normal(size=10000000)).hist()"
   ]
  },
  {
   "cell_type": "markdown",
   "id": "dcee31cd",
   "metadata": {},
   "source": [
    "Распределение Пуассона"
   ]
  },
  {
   "cell_type": "code",
   "execution_count": 163,
   "id": "5e79d652",
   "metadata": {
    "ExecuteTime": {
     "end_time": "2023-01-22T02:03:43.394567Z",
     "start_time": "2023-01-22T02:03:43.259124Z"
    }
   },
   "outputs": [
    {
     "data": {
      "text/plain": [
       "<AxesSubplot:>"
      ]
     },
     "execution_count": 163,
     "metadata": {},
     "output_type": "execute_result"
    },
    {
     "data": {
      "image/png": "[encoded data removed]",
      "text/plain": [
       "<Figure size 432x288 with 1 Axes>"
      ]
     },
     "metadata": {
      "needs_background": "light"
     },
     "output_type": "display_data"
    }
   ],
   "source": [
    "pd.Series(np.random.poisson(5,size=10000)).hist()"
   ]
  },
  {
   "cell_type": "code",
   "execution_count": 165,
   "id": "63b001c0",
   "metadata": {
    "ExecuteTime": {
     "end_time": "2023-01-22T02:08:04.347470Z",
     "start_time": "2023-01-22T02:08:04.219773Z"
    }
   },
   "outputs": [
    {
     "data": {
      "text/plain": [
       "<AxesSubplot:>"
      ]
     },
     "execution_count": 165,
     "metadata": {},
     "output_type": "execute_result"
    },
    {
     "data": {
      "image/png": "[encoded data removed]",
      "text/plain": [
       "<Figure size 432x288 with 1 Axes>"
      ]
     },
     "metadata": {
      "needs_background": "light"
     },
     "output_type": "display_data"
    }
   ],
   "source": [
    "pd.Series(np.random.chisquare(100,size=1000)).hist()"
   ]
  },
  {
   "cell_type": "code",
   "execution_count": 167,
   "id": "0fe60eea",
   "metadata": {
    "ExecuteTime": {
     "end_time": "2023-01-22T02:08:28.958499Z",
     "start_time": "2023-01-22T02:08:28.812690Z"
    }
   },
   "outputs": [
    {
     "data": {
      "text/plain": [
       "<AxesSubplot:>"
      ]
     },
     "execution_count": 167,
     "metadata": {},
     "output_type": "execute_result"
    },
    {
     "data": {
      "image/png": "[encoded data removed]",
      "text/plain": [
       "<Figure size 432x288 with 1 Axes>"
      ]
     },
     "metadata": {
      "needs_background": "light"
     },
     "output_type": "display_data"
    }
   ],
   "source": [
    "pd.Series(np.random.lognormal(size=1000)).hist()"
   ]
  },
  {
   "cell_type": "code",
   "execution_count": 180,
   "id": "36e974dd",
   "metadata": {
    "ExecuteTime": {
     "end_time": "2023-01-22T02:31:43.627599Z",
     "start_time": "2023-01-22T02:31:43.512871Z"
    }
   },
   "outputs": [
    {
     "data": {
      "text/plain": [
       "<AxesSubplot:>"
      ]
     },
     "execution_count": 180,
     "metadata": {},
     "output_type": "execute_result"
    },
    {
     "data": {
      "image/png": "[encoded data removed]",
      "text/plain": [
       "<Figure size 432x288 with 1 Axes>"
      ]
     },
     "metadata": {
      "needs_background": "light"
     },
     "output_type": "display_data"
    }
   ],
   "source": [
    "pd.Series(np.random.pareto(1,size=10000)).hist()"
   ]
  },
  {
   "cell_type": "code",
   "execution_count": 181,
   "id": "fa38527a",
   "metadata": {
    "ExecuteTime": {
     "end_time": "2023-01-22T02:31:48.426314Z",
     "start_time": "2023-01-22T02:31:48.408362Z"
    }
   },
   "outputs": [],
   "source": [
    "uniform=pd.Series(np.random.uniform(size=10000))"
   ]
  },
  {
   "cell_type": "code",
   "execution_count": 182,
   "id": "4cee5e6d",
   "metadata": {
    "ExecuteTime": {
     "end_time": "2023-01-22T02:31:50.450313Z",
     "start_time": "2023-01-22T02:31:50.321656Z"
    }
   },
   "outputs": [
    {
     "data": {
      "text/plain": [
       "<AxesSubplot:>"
      ]
     },
     "execution_count": 182,
     "metadata": {},
     "output_type": "execute_result"
    },
    {
     "data": {
      "image/png": "[encoded data removed]",
      "text/plain": [
       "<Figure size 432x288 with 1 Axes>"
      ]
     },
     "metadata": {
      "needs_background": "light"
     },
     "output_type": "display_data"
    }
   ],
   "source": [
    "pd.Series(uniform.sample(100000,replace = True)).hist()"
   ]
  },
  {
   "cell_type": "code",
   "execution_count": 1,
   "id": "99849ec0",
   "metadata": {
    "ExecuteTime": {
     "end_time": "2023-01-23T09:40:44.871126Z",
     "start_time": "2023-01-23T09:40:36.730548Z"
    }
   },
   "outputs": [],
   "source": [
    "import seaborn as sns"
   ]
  },
  {
   "cell_type": "code",
   "execution_count": 9,
   "id": "4eefbd29",
   "metadata": {
    "ExecuteTime": {
     "end_time": "2023-01-23T09:42:55.078633Z",
     "start_time": "2023-01-23T09:42:55.066665Z"
    }
   },
   "outputs": [],
   "source": [
    "u=np.random.randint(1,7,size=1000000)"
   ]
  },
  {
   "cell_type": "code",
   "execution_count": 6,
   "id": "b6399eae",
   "metadata": {
    "ExecuteTime": {
     "end_time": "2023-01-23T09:41:20.450432Z",
     "start_time": "2023-01-23T09:41:19.851031Z"
    }
   },
   "outputs": [
    {
     "data": {
      "text/plain": [
       "<AxesSubplot:ylabel='Probability'>"
      ]
     },
     "execution_count": 6,
     "metadata": {},
     "output_type": "execute_result"
    },
    {
     "data": {
      "image/png": "[encoded data removed]",
      "text/plain": [
       "<Figure size 432x288 with 1 Axes>"
      ]
     },
     "metadata": {
      "needs_background": "light"
     },
     "output_type": "display_data"
    }
   ],
   "source": [
    "sns.histplot(np.random.randint(1,7,size=1000000),stat='probability')"
   ]
  },
  {
   "cell_type": "markdown",
   "id": "25544a36",
   "metadata": {},
   "source": [
    "**PDF** This is probability density function.\n",
    "\n",
    "PDF is derivative of CDF"
   ]
  },
  {
   "cell_type": "code",
   "execution_count": 10,
   "id": "708bbc8f",
   "metadata": {
    "ExecuteTime": {
     "end_time": "2023-01-23T09:42:58.689573Z",
     "start_time": "2023-01-23T09:42:57.938414Z"
    }
   },
   "outputs": [
    {
     "data": {
      "text/plain": [
       "<AxesSubplot:ylabel='Proportion'>"
      ]
     },
     "execution_count": 10,
     "metadata": {},
     "output_type": "execute_result"
    },
    {
     "data": {
      "image/png": "[encoded data removed]",
      "text/plain": [
       "<Figure size 432x288 with 1 Axes>"
      ]
     },
     "metadata": {
      "needs_background": "light"
     },
     "output_type": "display_data"
    }
   ],
   "source": [
    "sns.ecdfplot(u)"
   ]
  },
  {
   "cell_type": "markdown",
   "id": "41492a70",
   "metadata": {},
   "source": [
    "Это и есть вероятность\n",
    "Cumulative distributive function\n",
    "\n",
    "**PDF and CDF**\n",
    "\n",
    "Lets plot distribution where one sample is bigger than others"
   ]
  },
  {
   "cell_type": "code",
   "execution_count": 15,
   "id": "1f47af61",
   "metadata": {
    "ExecuteTime": {
     "end_time": "2023-01-23T09:59:34.347012Z",
     "start_time": "2023-01-23T09:59:34.165497Z"
    }
   },
   "outputs": [
    {
     "data": {
      "text/plain": [
       "<AxesSubplot:ylabel='Probability'>"
      ]
     },
     "execution_count": 15,
     "metadata": {},
     "output_type": "execute_result"
    },
    {
     "data": {
      "image/png": "[encoded data removed]",
      "text/plain": [
       "<Figure size 432x288 with 1 Axes>"
      ]
     },
     "metadata": {
      "needs_background": "light"
     },
     "output_type": "display_data"
    }
   ],
   "source": [
    "sns.histplot(pd.Series([1,2,3,4,4,4,4,5,6]).sample(10000,replace = True),stat = 'probability')"
   ]
  },
  {
   "cell_type": "code",
   "execution_count": 16,
   "id": "9fbcd0d4",
   "metadata": {
    "ExecuteTime": {
     "end_time": "2023-01-23T09:59:37.183955Z",
     "start_time": "2023-01-23T09:59:37.060208Z"
    }
   },
   "outputs": [
    {
     "data": {
      "text/plain": [
       "<AxesSubplot:ylabel='Proportion'>"
      ]
     },
     "execution_count": 16,
     "metadata": {},
     "output_type": "execute_result"
    },
    {
     "data": {
      "image/png": "[encoded data removed]",
      "text/plain": [
       "<Figure size 432x288 with 1 Axes>"
      ]
     },
     "metadata": {
      "needs_background": "light"
     },
     "output_type": "display_data"
    }
   ],
   "source": [
    "sns.ecdfplot(pd.Series([1,2,3,4,4,5,6]).sample(10000,replace = True))"
   ]
  },
  {
   "cell_type": "code",
   "execution_count": 20,
   "id": "c9ecf862",
   "metadata": {
    "ExecuteTime": {
     "end_time": "2023-01-23T10:08:20.401115Z",
     "start_time": "2023-01-23T10:08:20.099891Z"
    }
   },
   "outputs": [
    {
     "data": {
      "text/plain": [
       "<AxesSubplot:ylabel='Probability'>"
      ]
     },
     "execution_count": 20,
     "metadata": {},
     "output_type": "execute_result"
    },
    {
     "data": {
      "image/png": "[encoded data removed]",
      "text/plain": [
       "<Figure size 432x288 with 1 Axes>"
      ]
     },
     "metadata": {
      "needs_background": "light"
     },
     "output_type": "display_data"
    }
   ],
   "source": [
    "sns.histplot(np.random.normal(size=100000),stat = 'probability')"
   ]
  },
  {
   "attachments": {
    "image.png": {
     "image/png": "[encoded data removed]"
    }
   },
   "cell_type": "markdown",
   "id": "a53f1f14",
   "metadata": {},
   "source": [
    "![image.png](attachment:image.png)"
   ]
  },
  {
   "cell_type": "code",
   "execution_count": 18,
   "id": "1c575ef7",
   "metadata": {
    "ExecuteTime": {
     "end_time": "2023-01-23T10:01:44.122789Z",
     "start_time": "2023-01-23T10:01:43.996100Z"
    }
   },
   "outputs": [
    {
     "data": {
      "text/plain": [
       "<AxesSubplot:ylabel='Proportion'>"
      ]
     },
     "execution_count": 18,
     "metadata": {},
     "output_type": "execute_result"
    },
    {
     "data": {
      "image/png": "[encoded data removed]",
      "text/plain": [
       "<Figure size 432x288 with 1 Axes>"
      ]
     },
     "metadata": {
      "needs_background": "light"
     },
     "output_type": "display_data"
    }
   ],
   "source": [
    "sns.ecdfplot(np.random.normal(size=10000))"
   ]
  },
  {
   "cell_type": "code",
   "execution_count": 24,
   "id": "81501945",
   "metadata": {
    "ExecuteTime": {
     "end_time": "2023-01-23T10:14:00.201094Z",
     "start_time": "2023-01-23T10:14:00.044511Z"
    }
   },
   "outputs": [
    {
     "data": {
      "text/plain": [
       "<AxesSubplot:ylabel='Density'>"
      ]
     },
     "execution_count": 24,
     "metadata": {},
     "output_type": "execute_result"
    },
    {
     "data": {
      "image/png": "[encoded data removed]",
      "text/plain": [
       "<Figure size 432x288 with 1 Axes>"
      ]
     },
     "metadata": {
      "needs_background": "light"
     },
     "output_type": "display_data"
    }
   ],
   "source": [
    "sns.kdeplot(np.random.normal(size=10000))"
   ]
  },
  {
   "cell_type": "markdown",
   "id": "de30fb98",
   "metadata": {},
   "source": [
    "KDE and histogram is the same for us in usage"
   ]
  },
  {
   "cell_type": "code",
   "execution_count": 27,
   "id": "a0041a5c",
   "metadata": {
    "ExecuteTime": {
     "end_time": "2023-01-23T10:16:46.702092Z",
     "start_time": "2023-01-23T10:16:46.548503Z"
    }
   },
   "outputs": [
    {
     "data": {
      "text/plain": [
       "<AxesSubplot:ylabel='Count'>"
      ]
     },
     "execution_count": 27,
     "metadata": {},
     "output_type": "execute_result"
    },
    {
     "data": {
      "image/png": "[encoded data removed]",
      "text/plain": [
       "<Figure size 432x288 with 1 Axes>"
      ]
     },
     "metadata": {
      "needs_background": "light"
     },
     "output_type": "display_data"
    }
   ],
   "source": [
    "sns.histplot(np.random.uniform(size = 10000))"
   ]
  },
  {
   "cell_type": "code",
   "execution_count": 25,
   "id": "74a3dd50",
   "metadata": {
    "ExecuteTime": {
     "end_time": "2023-01-23T10:16:15.752789Z",
     "start_time": "2023-01-23T10:16:15.637099Z"
    }
   },
   "outputs": [
    {
     "data": {
      "text/plain": [
       "<AxesSubplot:ylabel='Proportion'>"
      ]
     },
     "execution_count": 25,
     "metadata": {},
     "output_type": "execute_result"
    },
    {
     "data": {
      "image/png": "[encoded data removed]",
      "text/plain": [
       "<Figure size 432x288 with 1 Axes>"
      ]
     },
     "metadata": {
      "needs_background": "light"
     },
     "output_type": "display_data"
    }
   ],
   "source": [
    "sns.ecdfplot(np.random.uniform(size = 10000))"
   ]
  },
  {
   "cell_type": "markdown",
   "id": "4ffc77ee",
   "metadata": {},
   "source": [
    "If it is CDF plot is straight line, it means we have uniform distribution"
   ]
  },
  {
   "cell_type": "code",
   "execution_count": 41,
   "id": "60452e3b",
   "metadata": {
    "ExecuteTime": {
     "end_time": "2023-01-23T10:46:42.747699Z",
     "start_time": "2023-01-23T10:46:42.614056Z"
    }
   },
   "outputs": [
    {
     "data": {
      "image/png": "[encoded data removed]",
      "text/plain": [
       "<Figure size 432x288 with 1 Axes>"
      ]
     },
     "metadata": {
      "needs_background": "light"
     },
     "output_type": "display_data"
    }
   ],
   "source": [
    "import numpy as np \n",
    "import pylab \n",
    "import scipy.stats as stats\n",
    "\n",
    "measurements = np.random.uniform(size = 100)  \n",
    "stats.probplot(measurements, dist=\"uniform\", plot=pylab)\n",
    "pylab.show()"
   ]
  },
  {
   "cell_type": "markdown",
   "id": "42813fe7",
   "metadata": {},
   "source": [
    "QQ plot ansewrs the question whether our distribution normal or whatever distribution we compare"
   ]
  },
  {
   "cell_type": "markdown",
   "id": "34574dc9",
   "metadata": {},
   "source": [
    "qq plot показывает насколько наши выборочные значения соответствуют предсказанным значениям, если бы наше распределение было идеально нормальным"
   ]
  },
  {
   "cell_type": "markdown",
   "id": "4c1bc289",
   "metadata": {},
   "source": [
    "Monte Carlo methods, or Monte Carlo experiments, are a broad class of computational algorithms that rely on repeated random sampling to obtain numerical results. The underlying concept is to use randomness to solve problems that might be deterministic in principle. They are often used in physical and mathematical problems and are most useful when it is difficult or impossible to use other approaches."
   ]
  },
  {
   "cell_type": "code",
   "execution_count": 54,
   "id": "768d50dc",
   "metadata": {
    "ExecuteTime": {
     "end_time": "2023-01-23T10:51:48.787489Z",
     "start_time": "2023-01-23T10:51:48.781505Z"
    }
   },
   "outputs": [
    {
     "data": {
      "text/plain": [
       "0"
      ]
     },
     "execution_count": 54,
     "metadata": {},
     "output_type": "execute_result"
    }
   ],
   "source": [
    "np.random.binomial(1,0.5,size=2).sum()"
   ]
  },
  {
   "cell_type": "code",
   "execution_count": null,
   "id": "84870233",
   "metadata": {},
   "outputs": [],
   "source": [
    "sns.ecdfplot(np.random.normal(size=10000))"
   ]
  },
  {
   "cell_type": "markdown",
   "id": "2c5b7d20",
   "metadata": {},
   "source": [
    "Какой шанс двух орлов подряд?"
   ]
  },
  {
   "cell_type": "code",
   "execution_count": 62,
   "id": "14b3e33f",
   "metadata": {
    "ExecuteTime": {
     "end_time": "2023-01-23T10:57:02.017826Z",
     "start_time": "2023-01-23T10:57:01.941005Z"
    }
   },
   "outputs": [],
   "source": [
    "n=10000\n",
    "result=[]\n",
    "np.random.binomial(1,0.5,size=2).sum()\n",
    "for _ in range(n):\n",
    "    result.append(np.random.binomial(1,0.5,size=2).sum())"
   ]
  },
  {
   "cell_type": "code",
   "execution_count": 57,
   "id": "ab25d372",
   "metadata": {
    "ExecuteTime": {
     "end_time": "2023-01-23T10:53:05.635602Z",
     "start_time": "2023-01-23T10:53:05.622637Z"
    }
   },
   "outputs": [
    {
     "data": {
      "text/plain": [
       "[2, 0, 0, 1, 2, 2, 1, 0, 2, 2]"
      ]
     },
     "execution_count": 57,
     "metadata": {},
     "output_type": "execute_result"
    }
   ],
   "source": [
    "result[:10]"
   ]
  },
  {
   "cell_type": "code",
   "execution_count": 63,
   "id": "69debaaf",
   "metadata": {
    "ExecuteTime": {
     "end_time": "2023-01-23T10:57:03.496881Z",
     "start_time": "2023-01-23T10:57:03.486908Z"
    }
   },
   "outputs": [
    {
     "data": {
      "text/plain": [
       "1    0.4969\n",
       "0    0.2522\n",
       "2    0.2509\n",
       "dtype: float64"
      ]
     },
     "execution_count": 63,
     "metadata": {},
     "output_type": "execute_result"
    }
   ],
   "source": [
    "pd.Series(result).value_counts(normalize = True)"
   ]
  },
  {
   "cell_type": "code",
   "execution_count": 64,
   "id": "c2e8ba50",
   "metadata": {
    "ExecuteTime": {
     "end_time": "2023-01-23T10:57:14.064989Z",
     "start_time": "2023-01-23T10:57:14.055015Z"
    }
   },
   "outputs": [
    {
     "data": {
      "text/plain": [
       "0.25"
      ]
     },
     "execution_count": 64,
     "metadata": {},
     "output_type": "execute_result"
    }
   ],
   "source": [
    "0.5*0.5"
   ]
  },
  {
   "cell_type": "code",
   "execution_count": 75,
   "id": "009f2d5a",
   "metadata": {
    "ExecuteTime": {
     "end_time": "2023-01-23T11:00:30.640565Z",
     "start_time": "2023-01-23T11:00:30.631590Z"
    }
   },
   "outputs": [
    {
     "data": {
      "text/plain": [
       "1    0.4947\n",
       "0    0.2550\n",
       "2    0.2503\n",
       "dtype: float64"
      ]
     },
     "execution_count": 75,
     "metadata": {},
     "output_type": "execute_result"
    }
   ],
   "source": [
    "#Bernulli  experimetn\n",
    "pd.Series(np.random.binomial(2,0.5,size=10000)).value_counts(normalize=True)"
   ]
  },
  {
   "cell_type": "code",
   "execution_count": 79,
   "id": "b2d06c31",
   "metadata": {
    "ExecuteTime": {
     "end_time": "2023-01-23T11:01:27.807915Z",
     "start_time": "2023-01-23T11:01:27.622410Z"
    }
   },
   "outputs": [
    {
     "data": {
      "text/plain": [
       "<AxesSubplot:ylabel='Count'>"
      ]
     },
     "execution_count": 79,
     "metadata": {},
     "output_type": "execute_result"
    },
    {
     "data": {
      "image/png": "[encoded data removed]",
      "text/plain": [
       "<Figure size 432x288 with 1 Axes>"
      ]
     },
     "metadata": {
      "needs_background": "light"
     },
     "output_type": "display_data"
    }
   ],
   "source": [
    "sns.histplot(pd.Series(np.random.binomial(10,0.5,size=10000)))"
   ]
  }
 ],
 "metadata": {
  "kernelspec": {
   "display_name": "Python 3",
   "language": "python",
   "name": "python3"
  },
  "language_info": {
   "codemirror_mode": {
    "name": "ipython",
    "version": 3
   },
   "file_extension": ".py",
   "mimetype": "text/x-python",
   "name": "python",
   "nbconvert_exporter": "python",
   "pygments_lexer": "ipython3",
   "version": "3.8.8"
  },
  "toc": {
   "base_numbering": 1,
   "nav_menu": {},
   "number_sections": true,
   "sideBar": true,
   "skip_h1_title": false,
   "title_cell": "Содержание",
   "title_sidebar": "Содержание",
   "toc_cell": true,
   "toc_position": {},
   "toc_section_display": true,
   "toc_window_display": true
  }
 },
 "nbformat": 4,
 "nbformat_minor": 5
}
