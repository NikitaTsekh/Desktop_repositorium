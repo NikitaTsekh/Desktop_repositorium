{
 "cells": [
  {
   "cell_type": "code",
   "execution_count": 1,
   "id": "0cfc077d-b6ce-4453-9d9a-8f23c6350e1d",
   "metadata": {
    "execution": {
     "iopub.execute_input": "2023-01-12T12:31:55.074086Z",
     "iopub.status.busy": "2023-01-12T12:31:55.073900Z",
     "iopub.status.idle": "2023-01-12T12:31:56.216473Z",
     "shell.execute_reply": "2023-01-12T12:31:56.215792Z",
     "shell.execute_reply.started": "2023-01-12T12:31:55.074039Z"
    },
    "tags": []
   },
   "outputs": [],
   "source": [
    "import pandas as pd\n",
    "import numpy as np\n",
    "from sympy import *\n",
    "from sklearn.tree import plot_tree\n",
    "from sklearn.datasets import make_regression\n",
    "from sklearn.datasets import make_classification\n",
    "from sklearn.metrics import roc_auc_score"
   ]
  },
  {
   "cell_type": "markdown",
   "id": "e4f323ea-3f5d-4145-9859-e638b0d4c13c",
   "metadata": {
    "execution": {
     "iopub.execute_input": "2023-01-12T08:20:19.112249Z",
     "iopub.status.busy": "2023-01-12T08:20:19.111839Z",
     "iopub.status.idle": "2023-01-12T08:20:19.115871Z",
     "shell.execute_reply": "2023-01-12T08:20:19.115075Z",
     "shell.execute_reply.started": "2023-01-12T08:20:19.112225Z"
    },
    "tags": []
   },
   "source": [
    "### Regressor"
   ]
  },
  {
   "cell_type": "code",
   "execution_count": 2,
   "id": "75929c22-cab3-4eb5-9e24-9a9693aacd60",
   "metadata": {
    "execution": {
     "iopub.execute_input": "2023-01-12T12:31:56.217434Z",
     "iopub.status.busy": "2023-01-12T12:31:56.217191Z",
     "iopub.status.idle": "2023-01-12T12:31:56.220844Z",
     "shell.execute_reply": "2023-01-12T12:31:56.220253Z",
     "shell.execute_reply.started": "2023-01-12T12:31:56.217419Z"
    },
    "tags": []
   },
   "outputs": [],
   "source": [
    "X,y = make_regression(n_samples=10, n_features=3)"
   ]
  },
  {
   "cell_type": "code",
   "execution_count": 3,
   "id": "5c823e57-af9e-4f1d-8f9f-474e8e253858",
   "metadata": {
    "execution": {
     "iopub.execute_input": "2023-01-12T12:31:56.221931Z",
     "iopub.status.busy": "2023-01-12T12:31:56.221656Z",
     "iopub.status.idle": "2023-01-12T12:31:56.244829Z",
     "shell.execute_reply": "2023-01-12T12:31:56.244391Z",
     "shell.execute_reply.started": "2023-01-12T12:31:56.221909Z"
    },
    "tags": []
   },
   "outputs": [
    {
     "data": {
      "text/plain": [
       "array([[ 1.18364646, -1.07315609,  0.9535462 ],\n",
       "       [-0.7616281 ,  0.26793157, -1.5464126 ],\n",
       "       [ 1.0464591 , -0.52031241, -0.648715  ],\n",
       "       [ 1.45874069,  0.9567993 ,  0.59861011],\n",
       "       [ 0.11515398,  0.77591108,  0.41559541],\n",
       "       [-0.05879936,  1.04069727, -0.37266572],\n",
       "       [ 1.19621635,  0.54277433,  0.30142806],\n",
       "       [ 0.27523679,  0.59498601, -0.15107492],\n",
       "       [ 0.04198505,  1.34000544,  1.25636189],\n",
       "       [-1.11148461, -0.77558678,  0.30287299]])"
      ]
     },
     "execution_count": 3,
     "metadata": {},
     "output_type": "execute_result"
    }
   ],
   "source": [
    "X"
   ]
  },
  {
   "cell_type": "code",
   "execution_count": 4,
   "id": "029155e8-0a46-4ee5-81c2-ddd4154f2ba4",
   "metadata": {
    "execution": {
     "iopub.execute_input": "2023-01-12T12:31:56.246177Z",
     "iopub.status.busy": "2023-01-12T12:31:56.246014Z",
     "iopub.status.idle": "2023-01-12T12:31:56.249563Z",
     "shell.execute_reply": "2023-01-12T12:31:56.249208Z",
     "shell.execute_reply.started": "2023-01-12T12:31:56.246163Z"
    },
    "tags": []
   },
   "outputs": [
    {
     "data": {
      "text/plain": [
       "array([ 131.67887341, -146.38386222,   27.60816351,  146.686975  ,\n",
       "         40.65112875,  -17.98679411,  106.38463845,   14.95919987,\n",
       "         92.7741205 ,  -65.06386623])"
      ]
     },
     "execution_count": 4,
     "metadata": {},
     "output_type": "execute_result"
    }
   ],
   "source": [
    "y"
   ]
  },
  {
   "cell_type": "code",
   "execution_count": 5,
   "id": "6ffce0d0-b954-4919-8d12-ab97aeb0bc53",
   "metadata": {
    "execution": {
     "iopub.execute_input": "2023-01-12T12:31:56.250224Z",
     "iopub.status.busy": "2023-01-12T12:31:56.250066Z",
     "iopub.status.idle": "2023-01-12T12:31:56.252590Z",
     "shell.execute_reply": "2023-01-12T12:31:56.252233Z",
     "shell.execute_reply.started": "2023-01-12T12:31:56.250210Z"
    },
    "tags": []
   },
   "outputs": [],
   "source": [
    "df = pd.DataFrame(X)"
   ]
  },
  {
   "cell_type": "code",
   "execution_count": 6,
   "id": "a200229e-f70c-4cd1-b665-dfe1fe7d4f23",
   "metadata": {
    "execution": {
     "iopub.execute_input": "2023-01-12T12:31:56.253805Z",
     "iopub.status.busy": "2023-01-12T12:31:56.253300Z",
     "iopub.status.idle": "2023-01-12T12:31:56.256552Z",
     "shell.execute_reply": "2023-01-12T12:31:56.256142Z",
     "shell.execute_reply.started": "2023-01-12T12:31:56.253787Z"
    },
    "tags": []
   },
   "outputs": [],
   "source": [
    "df['y_true']=y"
   ]
  },
  {
   "cell_type": "code",
   "execution_count": 7,
   "id": "056b8b69-e6c1-4bb7-b053-ffa683627163",
   "metadata": {
    "execution": {
     "iopub.execute_input": "2023-01-12T12:31:56.257334Z",
     "iopub.status.busy": "2023-01-12T12:31:56.257093Z",
     "iopub.status.idle": "2023-01-12T12:31:56.266591Z",
     "shell.execute_reply": "2023-01-12T12:31:56.266194Z",
     "shell.execute_reply.started": "2023-01-12T12:31:56.257319Z"
    },
    "tags": []
   },
   "outputs": [
    {
     "data": {
      "text/html": [
       "<div>\n",
       "<style scoped>\n",
       "    .dataframe tbody tr th:only-of-type {\n",
       "        vertical-align: middle;\n",
       "    }\n",
       "\n",
       "    .dataframe tbody tr th {\n",
       "        vertical-align: top;\n",
       "    }\n",
       "\n",
       "    .dataframe thead th {\n",
       "        text-align: right;\n",
       "    }\n",
       "</style>\n",
       "<table border=\"1\" class=\"dataframe\">\n",
       "  <thead>\n",
       "    <tr style=\"text-align: right;\">\n",
       "      <th></th>\n",
       "      <th>0</th>\n",
       "      <th>1</th>\n",
       "      <th>2</th>\n",
       "      <th>y_true</th>\n",
       "    </tr>\n",
       "  </thead>\n",
       "  <tbody>\n",
       "    <tr>\n",
       "      <th>0</th>\n",
       "      <td>1.183646</td>\n",
       "      <td>-1.073156</td>\n",
       "      <td>0.953546</td>\n",
       "      <td>131.678873</td>\n",
       "    </tr>\n",
       "    <tr>\n",
       "      <th>1</th>\n",
       "      <td>-0.761628</td>\n",
       "      <td>0.267932</td>\n",
       "      <td>-1.546413</td>\n",
       "      <td>-146.383862</td>\n",
       "    </tr>\n",
       "    <tr>\n",
       "      <th>2</th>\n",
       "      <td>1.046459</td>\n",
       "      <td>-0.520312</td>\n",
       "      <td>-0.648715</td>\n",
       "      <td>27.608164</td>\n",
       "    </tr>\n",
       "    <tr>\n",
       "      <th>3</th>\n",
       "      <td>1.458741</td>\n",
       "      <td>0.956799</td>\n",
       "      <td>0.598610</td>\n",
       "      <td>146.686975</td>\n",
       "    </tr>\n",
       "    <tr>\n",
       "      <th>4</th>\n",
       "      <td>0.115154</td>\n",
       "      <td>0.775911</td>\n",
       "      <td>0.415595</td>\n",
       "      <td>40.651129</td>\n",
       "    </tr>\n",
       "    <tr>\n",
       "      <th>5</th>\n",
       "      <td>-0.058799</td>\n",
       "      <td>1.040697</td>\n",
       "      <td>-0.372666</td>\n",
       "      <td>-17.986794</td>\n",
       "    </tr>\n",
       "    <tr>\n",
       "      <th>6</th>\n",
       "      <td>1.196216</td>\n",
       "      <td>0.542774</td>\n",
       "      <td>0.301428</td>\n",
       "      <td>106.384638</td>\n",
       "    </tr>\n",
       "    <tr>\n",
       "      <th>7</th>\n",
       "      <td>0.275237</td>\n",
       "      <td>0.594986</td>\n",
       "      <td>-0.151075</td>\n",
       "      <td>14.959200</td>\n",
       "    </tr>\n",
       "    <tr>\n",
       "      <th>8</th>\n",
       "      <td>0.041985</td>\n",
       "      <td>1.340005</td>\n",
       "      <td>1.256362</td>\n",
       "      <td>92.774121</td>\n",
       "    </tr>\n",
       "    <tr>\n",
       "      <th>9</th>\n",
       "      <td>-1.111485</td>\n",
       "      <td>-0.775587</td>\n",
       "      <td>0.302873</td>\n",
       "      <td>-65.063866</td>\n",
       "    </tr>\n",
       "  </tbody>\n",
       "</table>\n",
       "</div>"
      ],
      "text/plain": [
       "          0         1         2      y_true\n",
       "0  1.183646 -1.073156  0.953546  131.678873\n",
       "1 -0.761628  0.267932 -1.546413 -146.383862\n",
       "2  1.046459 -0.520312 -0.648715   27.608164\n",
       "3  1.458741  0.956799  0.598610  146.686975\n",
       "4  0.115154  0.775911  0.415595   40.651129\n",
       "5 -0.058799  1.040697 -0.372666  -17.986794\n",
       "6  1.196216  0.542774  0.301428  106.384638\n",
       "7  0.275237  0.594986 -0.151075   14.959200\n",
       "8  0.041985  1.340005  1.256362   92.774121\n",
       "9 -1.111485 -0.775587  0.302873  -65.063866"
      ]
     },
     "execution_count": 7,
     "metadata": {},
     "output_type": "execute_result"
    }
   ],
   "source": [
    "df"
   ]
  },
  {
   "cell_type": "code",
   "execution_count": 8,
   "id": "2084d169-36d1-4cf5-81c6-dabc17731f50",
   "metadata": {
    "execution": {
     "iopub.execute_input": "2023-01-12T12:31:56.267721Z",
     "iopub.status.busy": "2023-01-12T12:31:56.267327Z",
     "iopub.status.idle": "2023-01-12T12:31:56.270689Z",
     "shell.execute_reply": "2023-01-12T12:31:56.270255Z",
     "shell.execute_reply.started": "2023-01-12T12:31:56.267701Z"
    },
    "tags": []
   },
   "outputs": [],
   "source": [
    "#On step 1 we make constant prediction\n",
    "df['y_pred_0']=df['y_true'].mean()"
   ]
  },
  {
   "cell_type": "code",
   "execution_count": 9,
   "id": "37258c58-5a4c-4800-a961-ea00b058e1a3",
   "metadata": {
    "execution": {
     "iopub.execute_input": "2023-01-12T12:31:56.271432Z",
     "iopub.status.busy": "2023-01-12T12:31:56.271271Z",
     "iopub.status.idle": "2023-01-12T12:31:56.278592Z",
     "shell.execute_reply": "2023-01-12T12:31:56.278086Z",
     "shell.execute_reply.started": "2023-01-12T12:31:56.271417Z"
    },
    "tags": []
   },
   "outputs": [
    {
     "data": {
      "text/html": [
       "<div>\n",
       "<style scoped>\n",
       "    .dataframe tbody tr th:only-of-type {\n",
       "        vertical-align: middle;\n",
       "    }\n",
       "\n",
       "    .dataframe tbody tr th {\n",
       "        vertical-align: top;\n",
       "    }\n",
       "\n",
       "    .dataframe thead th {\n",
       "        text-align: right;\n",
       "    }\n",
       "</style>\n",
       "<table border=\"1\" class=\"dataframe\">\n",
       "  <thead>\n",
       "    <tr style=\"text-align: right;\">\n",
       "      <th></th>\n",
       "      <th>0</th>\n",
       "      <th>1</th>\n",
       "      <th>2</th>\n",
       "      <th>y_true</th>\n",
       "      <th>y_pred_0</th>\n",
       "    </tr>\n",
       "  </thead>\n",
       "  <tbody>\n",
       "    <tr>\n",
       "      <th>0</th>\n",
       "      <td>1.183646</td>\n",
       "      <td>-1.073156</td>\n",
       "      <td>0.953546</td>\n",
       "      <td>131.678873</td>\n",
       "      <td>33.130858</td>\n",
       "    </tr>\n",
       "    <tr>\n",
       "      <th>1</th>\n",
       "      <td>-0.761628</td>\n",
       "      <td>0.267932</td>\n",
       "      <td>-1.546413</td>\n",
       "      <td>-146.383862</td>\n",
       "      <td>33.130858</td>\n",
       "    </tr>\n",
       "    <tr>\n",
       "      <th>2</th>\n",
       "      <td>1.046459</td>\n",
       "      <td>-0.520312</td>\n",
       "      <td>-0.648715</td>\n",
       "      <td>27.608164</td>\n",
       "      <td>33.130858</td>\n",
       "    </tr>\n",
       "    <tr>\n",
       "      <th>3</th>\n",
       "      <td>1.458741</td>\n",
       "      <td>0.956799</td>\n",
       "      <td>0.598610</td>\n",
       "      <td>146.686975</td>\n",
       "      <td>33.130858</td>\n",
       "    </tr>\n",
       "    <tr>\n",
       "      <th>4</th>\n",
       "      <td>0.115154</td>\n",
       "      <td>0.775911</td>\n",
       "      <td>0.415595</td>\n",
       "      <td>40.651129</td>\n",
       "      <td>33.130858</td>\n",
       "    </tr>\n",
       "    <tr>\n",
       "      <th>5</th>\n",
       "      <td>-0.058799</td>\n",
       "      <td>1.040697</td>\n",
       "      <td>-0.372666</td>\n",
       "      <td>-17.986794</td>\n",
       "      <td>33.130858</td>\n",
       "    </tr>\n",
       "    <tr>\n",
       "      <th>6</th>\n",
       "      <td>1.196216</td>\n",
       "      <td>0.542774</td>\n",
       "      <td>0.301428</td>\n",
       "      <td>106.384638</td>\n",
       "      <td>33.130858</td>\n",
       "    </tr>\n",
       "    <tr>\n",
       "      <th>7</th>\n",
       "      <td>0.275237</td>\n",
       "      <td>0.594986</td>\n",
       "      <td>-0.151075</td>\n",
       "      <td>14.959200</td>\n",
       "      <td>33.130858</td>\n",
       "    </tr>\n",
       "    <tr>\n",
       "      <th>8</th>\n",
       "      <td>0.041985</td>\n",
       "      <td>1.340005</td>\n",
       "      <td>1.256362</td>\n",
       "      <td>92.774121</td>\n",
       "      <td>33.130858</td>\n",
       "    </tr>\n",
       "    <tr>\n",
       "      <th>9</th>\n",
       "      <td>-1.111485</td>\n",
       "      <td>-0.775587</td>\n",
       "      <td>0.302873</td>\n",
       "      <td>-65.063866</td>\n",
       "      <td>33.130858</td>\n",
       "    </tr>\n",
       "  </tbody>\n",
       "</table>\n",
       "</div>"
      ],
      "text/plain": [
       "          0         1         2      y_true   y_pred_0\n",
       "0  1.183646 -1.073156  0.953546  131.678873  33.130858\n",
       "1 -0.761628  0.267932 -1.546413 -146.383862  33.130858\n",
       "2  1.046459 -0.520312 -0.648715   27.608164  33.130858\n",
       "3  1.458741  0.956799  0.598610  146.686975  33.130858\n",
       "4  0.115154  0.775911  0.415595   40.651129  33.130858\n",
       "5 -0.058799  1.040697 -0.372666  -17.986794  33.130858\n",
       "6  1.196216  0.542774  0.301428  106.384638  33.130858\n",
       "7  0.275237  0.594986 -0.151075   14.959200  33.130858\n",
       "8  0.041985  1.340005  1.256362   92.774121  33.130858\n",
       "9 -1.111485 -0.775587  0.302873  -65.063866  33.130858"
      ]
     },
     "execution_count": 9,
     "metadata": {},
     "output_type": "execute_result"
    }
   ],
   "source": [
    "df"
   ]
  },
  {
   "cell_type": "code",
   "execution_count": 10,
   "id": "984ed359-c3c9-488d-afc4-102b693e5e3c",
   "metadata": {
    "execution": {
     "iopub.execute_input": "2023-01-12T12:31:56.279450Z",
     "iopub.status.busy": "2023-01-12T12:31:56.279168Z",
     "iopub.status.idle": "2023-01-12T12:31:56.281736Z",
     "shell.execute_reply": "2023-01-12T12:31:56.281320Z",
     "shell.execute_reply.started": "2023-01-12T12:31:56.279433Z"
    },
    "tags": []
   },
   "outputs": [],
   "source": [
    "from sklearn.metrics import mean_absolute_error, mean_squared_error"
   ]
  },
  {
   "cell_type": "code",
   "execution_count": 11,
   "id": "3fe73d37-d0ad-4d40-833c-63d3c00b3347",
   "metadata": {
    "execution": {
     "iopub.execute_input": "2023-01-12T12:31:56.282478Z",
     "iopub.status.busy": "2023-01-12T12:31:56.282302Z",
     "iopub.status.idle": "2023-01-12T12:31:56.286277Z",
     "shell.execute_reply": "2023-01-12T12:31:56.285914Z",
     "shell.execute_reply.started": "2023-01-12T12:31:56.282463Z"
    },
    "tags": []
   },
   "outputs": [
    {
     "data": {
      "text/plain": [
       "70.50428953080065"
      ]
     },
     "execution_count": 11,
     "metadata": {},
     "output_type": "execute_result"
    }
   ],
   "source": [
    "mean_absolute_error(df['y_true'],df['y_pred_0'])"
   ]
  },
  {
   "cell_type": "code",
   "execution_count": 12,
   "id": "a153d192-b1b4-4945-bd04-41603d8ed02a",
   "metadata": {
    "execution": {
     "iopub.execute_input": "2023-01-12T12:31:56.287070Z",
     "iopub.status.busy": "2023-01-12T12:31:56.286827Z",
     "iopub.status.idle": "2023-01-12T12:31:56.289490Z",
     "shell.execute_reply": "2023-01-12T12:31:56.289147Z",
     "shell.execute_reply.started": "2023-01-12T12:31:56.287056Z"
    },
    "tags": []
   },
   "outputs": [],
   "source": [
    "#Now we have to count residuals\n",
    "\n",
    "df['residuals_0']=df['y_true']-df['y_pred_0']"
   ]
  },
  {
   "cell_type": "code",
   "execution_count": 13,
   "id": "d8000aa2-971a-4d97-b81b-9005032e6813",
   "metadata": {
    "execution": {
     "iopub.execute_input": "2023-01-12T12:31:56.291921Z",
     "iopub.status.busy": "2023-01-12T12:31:56.291693Z",
     "iopub.status.idle": "2023-01-12T12:31:56.298291Z",
     "shell.execute_reply": "2023-01-12T12:31:56.297952Z",
     "shell.execute_reply.started": "2023-01-12T12:31:56.291907Z"
    },
    "tags": []
   },
   "outputs": [
    {
     "data": {
      "text/html": [
       "<div>\n",
       "<style scoped>\n",
       "    .dataframe tbody tr th:only-of-type {\n",
       "        vertical-align: middle;\n",
       "    }\n",
       "\n",
       "    .dataframe tbody tr th {\n",
       "        vertical-align: top;\n",
       "    }\n",
       "\n",
       "    .dataframe thead th {\n",
       "        text-align: right;\n",
       "    }\n",
       "</style>\n",
       "<table border=\"1\" class=\"dataframe\">\n",
       "  <thead>\n",
       "    <tr style=\"text-align: right;\">\n",
       "      <th></th>\n",
       "      <th>0</th>\n",
       "      <th>1</th>\n",
       "      <th>2</th>\n",
       "      <th>y_true</th>\n",
       "      <th>y_pred_0</th>\n",
       "      <th>residuals_0</th>\n",
       "    </tr>\n",
       "  </thead>\n",
       "  <tbody>\n",
       "    <tr>\n",
       "      <th>0</th>\n",
       "      <td>1.183646</td>\n",
       "      <td>-1.073156</td>\n",
       "      <td>0.953546</td>\n",
       "      <td>131.678873</td>\n",
       "      <td>33.130858</td>\n",
       "      <td>98.548016</td>\n",
       "    </tr>\n",
       "    <tr>\n",
       "      <th>1</th>\n",
       "      <td>-0.761628</td>\n",
       "      <td>0.267932</td>\n",
       "      <td>-1.546413</td>\n",
       "      <td>-146.383862</td>\n",
       "      <td>33.130858</td>\n",
       "      <td>-179.514720</td>\n",
       "    </tr>\n",
       "    <tr>\n",
       "      <th>2</th>\n",
       "      <td>1.046459</td>\n",
       "      <td>-0.520312</td>\n",
       "      <td>-0.648715</td>\n",
       "      <td>27.608164</td>\n",
       "      <td>33.130858</td>\n",
       "      <td>-5.522694</td>\n",
       "    </tr>\n",
       "    <tr>\n",
       "      <th>3</th>\n",
       "      <td>1.458741</td>\n",
       "      <td>0.956799</td>\n",
       "      <td>0.598610</td>\n",
       "      <td>146.686975</td>\n",
       "      <td>33.130858</td>\n",
       "      <td>113.556117</td>\n",
       "    </tr>\n",
       "    <tr>\n",
       "      <th>4</th>\n",
       "      <td>0.115154</td>\n",
       "      <td>0.775911</td>\n",
       "      <td>0.415595</td>\n",
       "      <td>40.651129</td>\n",
       "      <td>33.130858</td>\n",
       "      <td>7.520271</td>\n",
       "    </tr>\n",
       "    <tr>\n",
       "      <th>5</th>\n",
       "      <td>-0.058799</td>\n",
       "      <td>1.040697</td>\n",
       "      <td>-0.372666</td>\n",
       "      <td>-17.986794</td>\n",
       "      <td>33.130858</td>\n",
       "      <td>-51.117652</td>\n",
       "    </tr>\n",
       "    <tr>\n",
       "      <th>6</th>\n",
       "      <td>1.196216</td>\n",
       "      <td>0.542774</td>\n",
       "      <td>0.301428</td>\n",
       "      <td>106.384638</td>\n",
       "      <td>33.130858</td>\n",
       "      <td>73.253781</td>\n",
       "    </tr>\n",
       "    <tr>\n",
       "      <th>7</th>\n",
       "      <td>0.275237</td>\n",
       "      <td>0.594986</td>\n",
       "      <td>-0.151075</td>\n",
       "      <td>14.959200</td>\n",
       "      <td>33.130858</td>\n",
       "      <td>-18.171658</td>\n",
       "    </tr>\n",
       "    <tr>\n",
       "      <th>8</th>\n",
       "      <td>0.041985</td>\n",
       "      <td>1.340005</td>\n",
       "      <td>1.256362</td>\n",
       "      <td>92.774121</td>\n",
       "      <td>33.130858</td>\n",
       "      <td>59.643263</td>\n",
       "    </tr>\n",
       "    <tr>\n",
       "      <th>9</th>\n",
       "      <td>-1.111485</td>\n",
       "      <td>-0.775587</td>\n",
       "      <td>0.302873</td>\n",
       "      <td>-65.063866</td>\n",
       "      <td>33.130858</td>\n",
       "      <td>-98.194724</td>\n",
       "    </tr>\n",
       "  </tbody>\n",
       "</table>\n",
       "</div>"
      ],
      "text/plain": [
       "          0         1         2      y_true   y_pred_0  residuals_0\n",
       "0  1.183646 -1.073156  0.953546  131.678873  33.130858    98.548016\n",
       "1 -0.761628  0.267932 -1.546413 -146.383862  33.130858  -179.514720\n",
       "2  1.046459 -0.520312 -0.648715   27.608164  33.130858    -5.522694\n",
       "3  1.458741  0.956799  0.598610  146.686975  33.130858   113.556117\n",
       "4  0.115154  0.775911  0.415595   40.651129  33.130858     7.520271\n",
       "5 -0.058799  1.040697 -0.372666  -17.986794  33.130858   -51.117652\n",
       "6  1.196216  0.542774  0.301428  106.384638  33.130858    73.253781\n",
       "7  0.275237  0.594986 -0.151075   14.959200  33.130858   -18.171658\n",
       "8  0.041985  1.340005  1.256362   92.774121  33.130858    59.643263\n",
       "9 -1.111485 -0.775587  0.302873  -65.063866  33.130858   -98.194724"
      ]
     },
     "execution_count": 13,
     "metadata": {},
     "output_type": "execute_result"
    }
   ],
   "source": [
    "df"
   ]
  },
  {
   "cell_type": "code",
   "execution_count": 14,
   "id": "6029af5f-607c-4c55-88bb-90fe02c55724",
   "metadata": {
    "execution": {
     "iopub.execute_input": "2023-01-12T12:31:56.299075Z",
     "iopub.status.busy": "2023-01-12T12:31:56.298764Z",
     "iopub.status.idle": "2023-01-12T12:31:56.300923Z",
     "shell.execute_reply": "2023-01-12T12:31:56.300577Z",
     "shell.execute_reply.started": "2023-01-12T12:31:56.299061Z"
    },
    "tags": []
   },
   "outputs": [],
   "source": [
    "from sklearn.tree import DecisionTreeRegressor"
   ]
  },
  {
   "cell_type": "code",
   "execution_count": 15,
   "id": "bee76ed0-ffeb-402c-b2c6-9bd727cdf8a7",
   "metadata": {
    "execution": {
     "iopub.execute_input": "2023-01-12T12:31:56.301614Z",
     "iopub.status.busy": "2023-01-12T12:31:56.301380Z",
     "iopub.status.idle": "2023-01-12T12:31:56.303541Z",
     "shell.execute_reply": "2023-01-12T12:31:56.303206Z",
     "shell.execute_reply.started": "2023-01-12T12:31:56.301601Z"
    },
    "tags": []
   },
   "outputs": [],
   "source": [
    "tree_1 = DecisionTreeRegressor(max_depth=1)"
   ]
  },
  {
   "cell_type": "code",
   "execution_count": 16,
   "id": "9221c6c6-6034-4bb2-baa5-fd522eb8a350",
   "metadata": {
    "execution": {
     "iopub.execute_input": "2023-01-12T12:31:56.304206Z",
     "iopub.status.busy": "2023-01-12T12:31:56.303987Z",
     "iopub.status.idle": "2023-01-12T12:31:56.309693Z",
     "shell.execute_reply": "2023-01-12T12:31:56.309306Z",
     "shell.execute_reply.started": "2023-01-12T12:31:56.304193Z"
    },
    "tags": []
   },
   "outputs": [
    {
     "data": {
      "text/html": [
       "<style>#sk-container-id-1 {color: black;background-color: white;}#sk-container-id-1 pre{padding: 0;}#sk-container-id-1 div.sk-toggleable {background-color: white;}#sk-container-id-1 label.sk-toggleable__label {cursor: pointer;display: block;width: 100%;margin-bottom: 0;padding: 0.3em;box-sizing: border-box;text-align: center;}#sk-container-id-1 label.sk-toggleable__label-arrow:before {content: \"▸\";float: left;margin-right: 0.25em;color: #696969;}#sk-container-id-1 label.sk-toggleable__label-arrow:hover:before {color: black;}#sk-container-id-1 div.sk-estimator:hover label.sk-toggleable__label-arrow:before {color: black;}#sk-container-id-1 div.sk-toggleable__content {max-height: 0;max-width: 0;overflow: hidden;text-align: left;background-color: #f0f8ff;}#sk-container-id-1 div.sk-toggleable__content pre {margin: 0.2em;color: black;border-radius: 0.25em;background-color: #f0f8ff;}#sk-container-id-1 input.sk-toggleable__control:checked~div.sk-toggleable__content {max-height: 200px;max-width: 100%;overflow: auto;}#sk-container-id-1 input.sk-toggleable__control:checked~label.sk-toggleable__label-arrow:before {content: \"▾\";}#sk-container-id-1 div.sk-estimator input.sk-toggleable__control:checked~label.sk-toggleable__label {background-color: #d4ebff;}#sk-container-id-1 div.sk-label input.sk-toggleable__control:checked~label.sk-toggleable__label {background-color: #d4ebff;}#sk-container-id-1 input.sk-hidden--visually {border: 0;clip: rect(1px 1px 1px 1px);clip: rect(1px, 1px, 1px, 1px);height: 1px;margin: -1px;overflow: hidden;padding: 0;position: absolute;width: 1px;}#sk-container-id-1 div.sk-estimator {font-family: monospace;background-color: #f0f8ff;border: 1px dotted black;border-radius: 0.25em;box-sizing: border-box;margin-bottom: 0.5em;}#sk-container-id-1 div.sk-estimator:hover {background-color: #d4ebff;}#sk-container-id-1 div.sk-parallel-item::after {content: \"\";width: 100%;border-bottom: 1px solid gray;flex-grow: 1;}#sk-container-id-1 div.sk-label:hover label.sk-toggleable__label {background-color: #d4ebff;}#sk-container-id-1 div.sk-serial::before {content: \"\";position: absolute;border-left: 1px solid gray;box-sizing: border-box;top: 0;bottom: 0;left: 50%;z-index: 0;}#sk-container-id-1 div.sk-serial {display: flex;flex-direction: column;align-items: center;background-color: white;padding-right: 0.2em;padding-left: 0.2em;position: relative;}#sk-container-id-1 div.sk-item {position: relative;z-index: 1;}#sk-container-id-1 div.sk-parallel {display: flex;align-items: stretch;justify-content: center;background-color: white;position: relative;}#sk-container-id-1 div.sk-item::before, #sk-container-id-1 div.sk-parallel-item::before {content: \"\";position: absolute;border-left: 1px solid gray;box-sizing: border-box;top: 0;bottom: 0;left: 50%;z-index: -1;}#sk-container-id-1 div.sk-parallel-item {display: flex;flex-direction: column;z-index: 1;position: relative;background-color: white;}#sk-container-id-1 div.sk-parallel-item:first-child::after {align-self: flex-end;width: 50%;}#sk-container-id-1 div.sk-parallel-item:last-child::after {align-self: flex-start;width: 50%;}#sk-container-id-1 div.sk-parallel-item:only-child::after {width: 0;}#sk-container-id-1 div.sk-dashed-wrapped {border: 1px dashed gray;margin: 0 0.4em 0.5em 0.4em;box-sizing: border-box;padding-bottom: 0.4em;background-color: white;}#sk-container-id-1 div.sk-label label {font-family: monospace;font-weight: bold;display: inline-block;line-height: 1.2em;}#sk-container-id-1 div.sk-label-container {text-align: center;}#sk-container-id-1 div.sk-container {/* jupyter's `normalize.less` sets `[hidden] { display: none; }` but bootstrap.min.css set `[hidden] { display: none !important; }` so we also need the `!important` here to be able to override the default hidden behavior on the sphinx rendered scikit-learn.org. See: https://github.com/scikit-learn/scikit-learn/issues/21755 */display: inline-block !important;position: relative;}#sk-container-id-1 div.sk-text-repr-fallback {display: none;}</style><div id=\"sk-container-id-1\" class=\"sk-top-container\"><div class=\"sk-text-repr-fallback\"><pre>DecisionTreeRegressor(max_depth=1)</pre><b>In a Jupyter environment, please rerun this cell to show the HTML representation or trust the notebook. <br />On GitHub, the HTML representation is unable to render, please try loading this page with nbviewer.org.</b></div><div class=\"sk-container\" hidden><div class=\"sk-item\"><div class=\"sk-estimator sk-toggleable\"><input class=\"sk-toggleable__control sk-hidden--visually\" id=\"sk-estimator-id-1\" type=\"checkbox\" checked><label for=\"sk-estimator-id-1\" class=\"sk-toggleable__label sk-toggleable__label-arrow\">DecisionTreeRegressor</label><div class=\"sk-toggleable__content\"><pre>DecisionTreeRegressor(max_depth=1)</pre></div></div></div></div></div>"
      ],
      "text/plain": [
       "DecisionTreeRegressor(max_depth=1)"
      ]
     },
     "execution_count": 16,
     "metadata": {},
     "output_type": "execute_result"
    }
   ],
   "source": [
    "tree_1.fit(df[[0,1,2]],df['residuals_0'])"
   ]
  },
  {
   "cell_type": "code",
   "execution_count": 17,
   "id": "d774ef7f-81cd-4839-9c17-854d6ceee446",
   "metadata": {
    "execution": {
     "iopub.execute_input": "2023-01-12T12:31:56.310457Z",
     "iopub.status.busy": "2023-01-12T12:31:56.310260Z",
     "iopub.status.idle": "2023-01-12T12:31:56.315632Z",
     "shell.execute_reply": "2023-01-12T12:31:56.314855Z",
     "shell.execute_reply.started": "2023-01-12T12:31:56.310440Z"
    },
    "tags": []
   },
   "outputs": [],
   "source": [
    "df['tree_pred_1'] = tree_1.predict(df[[0,1,2]])"
   ]
  },
  {
   "cell_type": "code",
   "execution_count": 18,
   "id": "29bbfab0-fca9-4cd6-9732-1e5b43a8748e",
   "metadata": {
    "execution": {
     "iopub.execute_input": "2023-01-12T12:31:56.316668Z",
     "iopub.status.busy": "2023-01-12T12:31:56.316430Z",
     "iopub.status.idle": "2023-01-12T12:31:56.328490Z",
     "shell.execute_reply": "2023-01-12T12:31:56.328091Z",
     "shell.execute_reply.started": "2023-01-12T12:31:56.316652Z"
    },
    "tags": []
   },
   "outputs": [
    {
     "data": {
      "text/html": [
       "<div>\n",
       "<style scoped>\n",
       "    .dataframe tbody tr th:only-of-type {\n",
       "        vertical-align: middle;\n",
       "    }\n",
       "\n",
       "    .dataframe tbody tr th {\n",
       "        vertical-align: top;\n",
       "    }\n",
       "\n",
       "    .dataframe thead th {\n",
       "        text-align: right;\n",
       "    }\n",
       "</style>\n",
       "<table border=\"1\" class=\"dataframe\">\n",
       "  <thead>\n",
       "    <tr style=\"text-align: right;\">\n",
       "      <th></th>\n",
       "      <th>0</th>\n",
       "      <th>1</th>\n",
       "      <th>2</th>\n",
       "      <th>y_true</th>\n",
       "      <th>y_pred_0</th>\n",
       "      <th>residuals_0</th>\n",
       "      <th>tree_pred_1</th>\n",
       "    </tr>\n",
       "  </thead>\n",
       "  <tbody>\n",
       "    <tr>\n",
       "      <th>0</th>\n",
       "      <td>1.183646</td>\n",
       "      <td>-1.073156</td>\n",
       "      <td>0.953546</td>\n",
       "      <td>131.678873</td>\n",
       "      <td>33.130858</td>\n",
       "      <td>98.548016</td>\n",
       "      <td>46.975299</td>\n",
       "    </tr>\n",
       "    <tr>\n",
       "      <th>1</th>\n",
       "      <td>-0.761628</td>\n",
       "      <td>0.267932</td>\n",
       "      <td>-1.546413</td>\n",
       "      <td>-146.383862</td>\n",
       "      <td>33.130858</td>\n",
       "      <td>-179.514720</td>\n",
       "      <td>-109.609032</td>\n",
       "    </tr>\n",
       "    <tr>\n",
       "      <th>2</th>\n",
       "      <td>1.046459</td>\n",
       "      <td>-0.520312</td>\n",
       "      <td>-0.648715</td>\n",
       "      <td>27.608164</td>\n",
       "      <td>33.130858</td>\n",
       "      <td>-5.522694</td>\n",
       "      <td>46.975299</td>\n",
       "    </tr>\n",
       "    <tr>\n",
       "      <th>3</th>\n",
       "      <td>1.458741</td>\n",
       "      <td>0.956799</td>\n",
       "      <td>0.598610</td>\n",
       "      <td>146.686975</td>\n",
       "      <td>33.130858</td>\n",
       "      <td>113.556117</td>\n",
       "      <td>46.975299</td>\n",
       "    </tr>\n",
       "    <tr>\n",
       "      <th>4</th>\n",
       "      <td>0.115154</td>\n",
       "      <td>0.775911</td>\n",
       "      <td>0.415595</td>\n",
       "      <td>40.651129</td>\n",
       "      <td>33.130858</td>\n",
       "      <td>7.520271</td>\n",
       "      <td>46.975299</td>\n",
       "    </tr>\n",
       "    <tr>\n",
       "      <th>5</th>\n",
       "      <td>-0.058799</td>\n",
       "      <td>1.040697</td>\n",
       "      <td>-0.372666</td>\n",
       "      <td>-17.986794</td>\n",
       "      <td>33.130858</td>\n",
       "      <td>-51.117652</td>\n",
       "      <td>-109.609032</td>\n",
       "    </tr>\n",
       "    <tr>\n",
       "      <th>6</th>\n",
       "      <td>1.196216</td>\n",
       "      <td>0.542774</td>\n",
       "      <td>0.301428</td>\n",
       "      <td>106.384638</td>\n",
       "      <td>33.130858</td>\n",
       "      <td>73.253781</td>\n",
       "      <td>46.975299</td>\n",
       "    </tr>\n",
       "    <tr>\n",
       "      <th>7</th>\n",
       "      <td>0.275237</td>\n",
       "      <td>0.594986</td>\n",
       "      <td>-0.151075</td>\n",
       "      <td>14.959200</td>\n",
       "      <td>33.130858</td>\n",
       "      <td>-18.171658</td>\n",
       "      <td>46.975299</td>\n",
       "    </tr>\n",
       "    <tr>\n",
       "      <th>8</th>\n",
       "      <td>0.041985</td>\n",
       "      <td>1.340005</td>\n",
       "      <td>1.256362</td>\n",
       "      <td>92.774121</td>\n",
       "      <td>33.130858</td>\n",
       "      <td>59.643263</td>\n",
       "      <td>46.975299</td>\n",
       "    </tr>\n",
       "    <tr>\n",
       "      <th>9</th>\n",
       "      <td>-1.111485</td>\n",
       "      <td>-0.775587</td>\n",
       "      <td>0.302873</td>\n",
       "      <td>-65.063866</td>\n",
       "      <td>33.130858</td>\n",
       "      <td>-98.194724</td>\n",
       "      <td>-109.609032</td>\n",
       "    </tr>\n",
       "  </tbody>\n",
       "</table>\n",
       "</div>"
      ],
      "text/plain": [
       "          0         1         2      y_true   y_pred_0  residuals_0  \\\n",
       "0  1.183646 -1.073156  0.953546  131.678873  33.130858    98.548016   \n",
       "1 -0.761628  0.267932 -1.546413 -146.383862  33.130858  -179.514720   \n",
       "2  1.046459 -0.520312 -0.648715   27.608164  33.130858    -5.522694   \n",
       "3  1.458741  0.956799  0.598610  146.686975  33.130858   113.556117   \n",
       "4  0.115154  0.775911  0.415595   40.651129  33.130858     7.520271   \n",
       "5 -0.058799  1.040697 -0.372666  -17.986794  33.130858   -51.117652   \n",
       "6  1.196216  0.542774  0.301428  106.384638  33.130858    73.253781   \n",
       "7  0.275237  0.594986 -0.151075   14.959200  33.130858   -18.171658   \n",
       "8  0.041985  1.340005  1.256362   92.774121  33.130858    59.643263   \n",
       "9 -1.111485 -0.775587  0.302873  -65.063866  33.130858   -98.194724   \n",
       "\n",
       "   tree_pred_1  \n",
       "0    46.975299  \n",
       "1  -109.609032  \n",
       "2    46.975299  \n",
       "3    46.975299  \n",
       "4    46.975299  \n",
       "5  -109.609032  \n",
       "6    46.975299  \n",
       "7    46.975299  \n",
       "8    46.975299  \n",
       "9  -109.609032  "
      ]
     },
     "execution_count": 18,
     "metadata": {},
     "output_type": "execute_result"
    }
   ],
   "source": [
    "df"
   ]
  },
  {
   "cell_type": "code",
   "execution_count": null,
   "id": "dfead87c-89c7-4a04-b718-285abbd68157",
   "metadata": {
    "tags": []
   },
   "outputs": [],
   "source": []
  },
  {
   "cell_type": "code",
   "execution_count": 19,
   "id": "1d9dcf2b-a7f0-4d5a-ba8e-1074fc66470e",
   "metadata": {
    "execution": {
     "iopub.execute_input": "2023-01-12T12:31:56.329314Z",
     "iopub.status.busy": "2023-01-12T12:31:56.329021Z",
     "iopub.status.idle": "2023-01-12T12:31:56.804945Z",
     "shell.execute_reply": "2023-01-12T12:31:56.804404Z",
     "shell.execute_reply.started": "2023-01-12T12:31:56.329299Z"
    },
    "tags": []
   },
   "outputs": [
    {
     "data": {
      "text/plain": [
       "[Text(0.5, 0.75, 'X[0] <= -0.008\\nsquared_error = 7642.815\\nsamples = 10\\nvalue = 0.0'),\n",
       " Text(0.25, 0.25, 'squared_error = 2812.778\\nsamples = 3\\nvalue = -109.609'),\n",
       " Text(0.75, 0.25, 'squared_error = 2357.236\\nsamples = 7\\nvalue = 46.975')]"
      ]
     },
     "execution_count": 19,
     "metadata": {},
     "output_type": "execute_result"
    },
    {
     "data": {
      "image/png": "[encoded data removed]",
      "text/plain": [
       "<Figure size 640x480 with 1 Axes>"
      ]
     },
     "metadata": {},
     "output_type": "display_data"
    }
   ],
   "source": [
    "plot_tree(tree_1)"
   ]
  },
  {
   "cell_type": "markdown",
   "id": "7d8c07df-483c-4ef6-a42a-6b34c159f4b7",
   "metadata": {},
   "source": [
    "We see that most important feture is feature_1, and the best split is threshold '-0.269'.\n",
    "\n",
    "Then, if the value is less then '-0.269' we predict -101.321, else we predict 67.547"
   ]
  },
  {
   "cell_type": "code",
   "execution_count": 20,
   "id": "a8c52927-54ce-408c-9434-862310f43a21",
   "metadata": {
    "execution": {
     "iopub.execute_input": "2023-01-12T12:31:56.805815Z",
     "iopub.status.busy": "2023-01-12T12:31:56.805556Z",
     "iopub.status.idle": "2023-01-12T12:31:56.808456Z",
     "shell.execute_reply": "2023-01-12T12:31:56.807927Z",
     "shell.execute_reply.started": "2023-01-12T12:31:56.805799Z"
    },
    "tags": []
   },
   "outputs": [],
   "source": [
    "nu = 0.1"
   ]
  },
  {
   "cell_type": "code",
   "execution_count": 21,
   "id": "0feb0733-7244-46df-ba10-c66a32e4731c",
   "metadata": {
    "execution": {
     "iopub.execute_input": "2023-01-12T12:31:56.809279Z",
     "iopub.status.busy": "2023-01-12T12:31:56.809105Z",
     "iopub.status.idle": "2023-01-12T12:31:56.820392Z",
     "shell.execute_reply": "2023-01-12T12:31:56.819941Z",
     "shell.execute_reply.started": "2023-01-12T12:31:56.809263Z"
    },
    "tags": []
   },
   "outputs": [],
   "source": [
    "df['y_pred_1']= df['y_pred_0']+nu*df['tree_pred_1']"
   ]
  },
  {
   "cell_type": "code",
   "execution_count": 22,
   "id": "df147647-3db5-4665-957e-19f783b1699b",
   "metadata": {
    "execution": {
     "iopub.execute_input": "2023-01-12T12:31:56.821291Z",
     "iopub.status.busy": "2023-01-12T12:31:56.821074Z",
     "iopub.status.idle": "2023-01-12T12:31:56.826109Z",
     "shell.execute_reply": "2023-01-12T12:31:56.825453Z",
     "shell.execute_reply.started": "2023-01-12T12:31:56.821273Z"
    },
    "tags": []
   },
   "outputs": [
    {
     "data": {
      "text/plain": [
       "65.80675959296232"
      ]
     },
     "execution_count": 22,
     "metadata": {},
     "output_type": "execute_result"
    }
   ],
   "source": [
    "mean_absolute_error(df['y_true'],df['y_pred_1'])"
   ]
  },
  {
   "cell_type": "code",
   "execution_count": 23,
   "id": "0c8c1f8c-4c74-4169-9a28-3ccf6bced8f1",
   "metadata": {
    "execution": {
     "iopub.execute_input": "2023-01-12T12:31:56.827207Z",
     "iopub.status.busy": "2023-01-12T12:31:56.826805Z",
     "iopub.status.idle": "2023-01-12T12:31:56.830977Z",
     "shell.execute_reply": "2023-01-12T12:31:56.830378Z",
     "shell.execute_reply.started": "2023-01-12T12:31:56.827189Z"
    },
    "tags": []
   },
   "outputs": [],
   "source": [
    "df['residuals_1']=df['y_true']-df['y_pred_1']"
   ]
  },
  {
   "cell_type": "code",
   "execution_count": 24,
   "id": "87734b7c-674f-403b-9304-9d88c44ee08b",
   "metadata": {
    "execution": {
     "iopub.execute_input": "2023-01-12T12:31:56.831946Z",
     "iopub.status.busy": "2023-01-12T12:31:56.831651Z",
     "iopub.status.idle": "2023-01-12T12:31:56.834511Z",
     "shell.execute_reply": "2023-01-12T12:31:56.833991Z",
     "shell.execute_reply.started": "2023-01-12T12:31:56.831929Z"
    },
    "tags": []
   },
   "outputs": [],
   "source": [
    "tree_2 = DecisionTreeRegressor(max_depth=1)"
   ]
  },
  {
   "cell_type": "code",
   "execution_count": 25,
   "id": "cdd85a7f-0efb-47b5-afde-c664bd98ae1f",
   "metadata": {
    "execution": {
     "iopub.execute_input": "2023-01-12T12:31:56.835282Z",
     "iopub.status.busy": "2023-01-12T12:31:56.835032Z",
     "iopub.status.idle": "2023-01-12T12:31:56.841621Z",
     "shell.execute_reply": "2023-01-12T12:31:56.841127Z",
     "shell.execute_reply.started": "2023-01-12T12:31:56.835263Z"
    },
    "tags": []
   },
   "outputs": [
    {
     "data": {
      "text/html": [
       "<style>#sk-container-id-2 {color: black;background-color: white;}#sk-container-id-2 pre{padding: 0;}#sk-container-id-2 div.sk-toggleable {background-color: white;}#sk-container-id-2 label.sk-toggleable__label {cursor: pointer;display: block;width: 100%;margin-bottom: 0;padding: 0.3em;box-sizing: border-box;text-align: center;}#sk-container-id-2 label.sk-toggleable__label-arrow:before {content: \"▸\";float: left;margin-right: 0.25em;color: #696969;}#sk-container-id-2 label.sk-toggleable__label-arrow:hover:before {color: black;}#sk-container-id-2 div.sk-estimator:hover label.sk-toggleable__label-arrow:before {color: black;}#sk-container-id-2 div.sk-toggleable__content {max-height: 0;max-width: 0;overflow: hidden;text-align: left;background-color: #f0f8ff;}#sk-container-id-2 div.sk-toggleable__content pre {margin: 0.2em;color: black;border-radius: 0.25em;background-color: #f0f8ff;}#sk-container-id-2 input.sk-toggleable__control:checked~div.sk-toggleable__content {max-height: 200px;max-width: 100%;overflow: auto;}#sk-container-id-2 input.sk-toggleable__control:checked~label.sk-toggleable__label-arrow:before {content: \"▾\";}#sk-container-id-2 div.sk-estimator input.sk-toggleable__control:checked~label.sk-toggleable__label {background-color: #d4ebff;}#sk-container-id-2 div.sk-label input.sk-toggleable__control:checked~label.sk-toggleable__label {background-color: #d4ebff;}#sk-container-id-2 input.sk-hidden--visually {border: 0;clip: rect(1px 1px 1px 1px);clip: rect(1px, 1px, 1px, 1px);height: 1px;margin: -1px;overflow: hidden;padding: 0;position: absolute;width: 1px;}#sk-container-id-2 div.sk-estimator {font-family: monospace;background-color: #f0f8ff;border: 1px dotted black;border-radius: 0.25em;box-sizing: border-box;margin-bottom: 0.5em;}#sk-container-id-2 div.sk-estimator:hover {background-color: #d4ebff;}#sk-container-id-2 div.sk-parallel-item::after {content: \"\";width: 100%;border-bottom: 1px solid gray;flex-grow: 1;}#sk-container-id-2 div.sk-label:hover label.sk-toggleable__label {background-color: #d4ebff;}#sk-container-id-2 div.sk-serial::before {content: \"\";position: absolute;border-left: 1px solid gray;box-sizing: border-box;top: 0;bottom: 0;left: 50%;z-index: 0;}#sk-container-id-2 div.sk-serial {display: flex;flex-direction: column;align-items: center;background-color: white;padding-right: 0.2em;padding-left: 0.2em;position: relative;}#sk-container-id-2 div.sk-item {position: relative;z-index: 1;}#sk-container-id-2 div.sk-parallel {display: flex;align-items: stretch;justify-content: center;background-color: white;position: relative;}#sk-container-id-2 div.sk-item::before, #sk-container-id-2 div.sk-parallel-item::before {content: \"\";position: absolute;border-left: 1px solid gray;box-sizing: border-box;top: 0;bottom: 0;left: 50%;z-index: -1;}#sk-container-id-2 div.sk-parallel-item {display: flex;flex-direction: column;z-index: 1;position: relative;background-color: white;}#sk-container-id-2 div.sk-parallel-item:first-child::after {align-self: flex-end;width: 50%;}#sk-container-id-2 div.sk-parallel-item:last-child::after {align-self: flex-start;width: 50%;}#sk-container-id-2 div.sk-parallel-item:only-child::after {width: 0;}#sk-container-id-2 div.sk-dashed-wrapped {border: 1px dashed gray;margin: 0 0.4em 0.5em 0.4em;box-sizing: border-box;padding-bottom: 0.4em;background-color: white;}#sk-container-id-2 div.sk-label label {font-family: monospace;font-weight: bold;display: inline-block;line-height: 1.2em;}#sk-container-id-2 div.sk-label-container {text-align: center;}#sk-container-id-2 div.sk-container {/* jupyter's `normalize.less` sets `[hidden] { display: none; }` but bootstrap.min.css set `[hidden] { display: none !important; }` so we also need the `!important` here to be able to override the default hidden behavior on the sphinx rendered scikit-learn.org. See: https://github.com/scikit-learn/scikit-learn/issues/21755 */display: inline-block !important;position: relative;}#sk-container-id-2 div.sk-text-repr-fallback {display: none;}</style><div id=\"sk-container-id-2\" class=\"sk-top-container\"><div class=\"sk-text-repr-fallback\"><pre>DecisionTreeRegressor(max_depth=1)</pre><b>In a Jupyter environment, please rerun this cell to show the HTML representation or trust the notebook. <br />On GitHub, the HTML representation is unable to render, please try loading this page with nbviewer.org.</b></div><div class=\"sk-container\" hidden><div class=\"sk-item\"><div class=\"sk-estimator sk-toggleable\"><input class=\"sk-toggleable__control sk-hidden--visually\" id=\"sk-estimator-id-2\" type=\"checkbox\" checked><label for=\"sk-estimator-id-2\" class=\"sk-toggleable__label sk-toggleable__label-arrow\">DecisionTreeRegressor</label><div class=\"sk-toggleable__content\"><pre>DecisionTreeRegressor(max_depth=1)</pre></div></div></div></div></div>"
      ],
      "text/plain": [
       "DecisionTreeRegressor(max_depth=1)"
      ]
     },
     "execution_count": 25,
     "metadata": {},
     "output_type": "execute_result"
    }
   ],
   "source": [
    "tree_2.fit(df[[0,1,2]],df['residuals_1'])"
   ]
  },
  {
   "cell_type": "code",
   "execution_count": 26,
   "id": "da79c8b1-ee48-415c-b9aa-818054ebd527",
   "metadata": {
    "execution": {
     "iopub.execute_input": "2023-01-12T12:31:56.842694Z",
     "iopub.status.busy": "2023-01-12T12:31:56.842391Z",
     "iopub.status.idle": "2023-01-12T12:31:56.977649Z",
     "shell.execute_reply": "2023-01-12T12:31:56.977178Z",
     "shell.execute_reply.started": "2023-01-12T12:31:56.842676Z"
    },
    "tags": []
   },
   "outputs": [
    {
     "data": {
      "text/plain": [
       "[Text(0.5, 0.75, 'X[0] <= -0.008\\nsquared_error = 6664.521\\nsamples = 10\\nvalue = 0.0'),\n",
       " Text(0.25, 0.25, 'squared_error = 2812.778\\nsamples = 3\\nvalue = -98.648'),\n",
       " Text(0.75, 0.25, 'squared_error = 2357.236\\nsamples = 7\\nvalue = 42.278')]"
      ]
     },
     "execution_count": 26,
     "metadata": {},
     "output_type": "execute_result"
    },
    {
     "data": {
      "image/png": "[encoded data removed]",
      "text/plain": [
       "<Figure size 640x480 with 1 Axes>"
      ]
     },
     "metadata": {},
     "output_type": "display_data"
    }
   ],
   "source": [
    "plot_tree(tree_2)"
   ]
  },
  {
   "cell_type": "code",
   "execution_count": 27,
   "id": "ed579a23-554a-47a1-aa7e-11238b366f01",
   "metadata": {
    "execution": {
     "iopub.execute_input": "2023-01-12T12:31:56.979138Z",
     "iopub.status.busy": "2023-01-12T12:31:56.978887Z",
     "iopub.status.idle": "2023-01-12T12:31:56.984453Z",
     "shell.execute_reply": "2023-01-12T12:31:56.983850Z",
     "shell.execute_reply.started": "2023-01-12T12:31:56.979116Z"
    },
    "tags": []
   },
   "outputs": [],
   "source": [
    "df['y_pred_2']= df['y_pred_1']+nu*tree_2.predict(df[[0,1,2]])"
   ]
  },
  {
   "cell_type": "code",
   "execution_count": 28,
   "id": "5110e1d2-e0d7-492c-8e8c-9c383896d1ff",
   "metadata": {
    "execution": {
     "iopub.execute_input": "2023-01-12T12:31:56.985722Z",
     "iopub.status.busy": "2023-01-12T12:31:56.985308Z",
     "iopub.status.idle": "2023-01-12T12:31:56.996206Z",
     "shell.execute_reply": "2023-01-12T12:31:56.995759Z",
     "shell.execute_reply.started": "2023-01-12T12:31:56.985698Z"
    },
    "tags": []
   },
   "outputs": [
    {
     "data": {
      "text/plain": [
       "61.85998981336635"
      ]
     },
     "execution_count": 28,
     "metadata": {},
     "output_type": "execute_result"
    }
   ],
   "source": [
    "mean_absolute_error(df['y_true'],df['y_pred_2'])"
   ]
  },
  {
   "cell_type": "markdown",
   "id": "c777573e-3af6-42ae-9d8a-ea69909c22a5",
   "metadata": {},
   "source": [
    "Let's make GB using for loop"
   ]
  },
  {
   "cell_type": "code",
   "execution_count": 29,
   "id": "b0318c82-9dd1-4977-aa59-dc3e0bc8a466",
   "metadata": {
    "execution": {
     "iopub.execute_input": "2023-01-12T12:31:56.997212Z",
     "iopub.status.busy": "2023-01-12T12:31:56.996841Z",
     "iopub.status.idle": "2023-01-12T12:31:57.000409Z",
     "shell.execute_reply": "2023-01-12T12:31:56.999948Z",
     "shell.execute_reply.started": "2023-01-12T12:31:56.997195Z"
    },
    "tags": []
   },
   "outputs": [],
   "source": [
    "df=df[[0,1,2,'y_true']].copy()"
   ]
  },
  {
   "cell_type": "code",
   "execution_count": 30,
   "id": "db0d8457-a084-4ef6-89bd-ba411c2e788c",
   "metadata": {
    "execution": {
     "iopub.execute_input": "2023-01-12T12:31:57.001519Z",
     "iopub.status.busy": "2023-01-12T12:31:57.001133Z",
     "iopub.status.idle": "2023-01-12T12:31:57.008474Z",
     "shell.execute_reply": "2023-01-12T12:31:57.008066Z",
     "shell.execute_reply.started": "2023-01-12T12:31:57.001496Z"
    },
    "tags": []
   },
   "outputs": [
    {
     "data": {
      "text/html": [
       "<div>\n",
       "<style scoped>\n",
       "    .dataframe tbody tr th:only-of-type {\n",
       "        vertical-align: middle;\n",
       "    }\n",
       "\n",
       "    .dataframe tbody tr th {\n",
       "        vertical-align: top;\n",
       "    }\n",
       "\n",
       "    .dataframe thead th {\n",
       "        text-align: right;\n",
       "    }\n",
       "</style>\n",
       "<table border=\"1\" class=\"dataframe\">\n",
       "  <thead>\n",
       "    <tr style=\"text-align: right;\">\n",
       "      <th></th>\n",
       "      <th>0</th>\n",
       "      <th>1</th>\n",
       "      <th>2</th>\n",
       "      <th>y_true</th>\n",
       "    </tr>\n",
       "  </thead>\n",
       "  <tbody>\n",
       "    <tr>\n",
       "      <th>0</th>\n",
       "      <td>1.183646</td>\n",
       "      <td>-1.073156</td>\n",
       "      <td>0.953546</td>\n",
       "      <td>131.678873</td>\n",
       "    </tr>\n",
       "    <tr>\n",
       "      <th>1</th>\n",
       "      <td>-0.761628</td>\n",
       "      <td>0.267932</td>\n",
       "      <td>-1.546413</td>\n",
       "      <td>-146.383862</td>\n",
       "    </tr>\n",
       "    <tr>\n",
       "      <th>2</th>\n",
       "      <td>1.046459</td>\n",
       "      <td>-0.520312</td>\n",
       "      <td>-0.648715</td>\n",
       "      <td>27.608164</td>\n",
       "    </tr>\n",
       "    <tr>\n",
       "      <th>3</th>\n",
       "      <td>1.458741</td>\n",
       "      <td>0.956799</td>\n",
       "      <td>0.598610</td>\n",
       "      <td>146.686975</td>\n",
       "    </tr>\n",
       "    <tr>\n",
       "      <th>4</th>\n",
       "      <td>0.115154</td>\n",
       "      <td>0.775911</td>\n",
       "      <td>0.415595</td>\n",
       "      <td>40.651129</td>\n",
       "    </tr>\n",
       "    <tr>\n",
       "      <th>5</th>\n",
       "      <td>-0.058799</td>\n",
       "      <td>1.040697</td>\n",
       "      <td>-0.372666</td>\n",
       "      <td>-17.986794</td>\n",
       "    </tr>\n",
       "    <tr>\n",
       "      <th>6</th>\n",
       "      <td>1.196216</td>\n",
       "      <td>0.542774</td>\n",
       "      <td>0.301428</td>\n",
       "      <td>106.384638</td>\n",
       "    </tr>\n",
       "    <tr>\n",
       "      <th>7</th>\n",
       "      <td>0.275237</td>\n",
       "      <td>0.594986</td>\n",
       "      <td>-0.151075</td>\n",
       "      <td>14.959200</td>\n",
       "    </tr>\n",
       "    <tr>\n",
       "      <th>8</th>\n",
       "      <td>0.041985</td>\n",
       "      <td>1.340005</td>\n",
       "      <td>1.256362</td>\n",
       "      <td>92.774121</td>\n",
       "    </tr>\n",
       "    <tr>\n",
       "      <th>9</th>\n",
       "      <td>-1.111485</td>\n",
       "      <td>-0.775587</td>\n",
       "      <td>0.302873</td>\n",
       "      <td>-65.063866</td>\n",
       "    </tr>\n",
       "  </tbody>\n",
       "</table>\n",
       "</div>"
      ],
      "text/plain": [
       "          0         1         2      y_true\n",
       "0  1.183646 -1.073156  0.953546  131.678873\n",
       "1 -0.761628  0.267932 -1.546413 -146.383862\n",
       "2  1.046459 -0.520312 -0.648715   27.608164\n",
       "3  1.458741  0.956799  0.598610  146.686975\n",
       "4  0.115154  0.775911  0.415595   40.651129\n",
       "5 -0.058799  1.040697 -0.372666  -17.986794\n",
       "6  1.196216  0.542774  0.301428  106.384638\n",
       "7  0.275237  0.594986 -0.151075   14.959200\n",
       "8  0.041985  1.340005  1.256362   92.774121\n",
       "9 -1.111485 -0.775587  0.302873  -65.063866"
      ]
     },
     "execution_count": 30,
     "metadata": {},
     "output_type": "execute_result"
    }
   ],
   "source": [
    "df"
   ]
  },
  {
   "cell_type": "code",
   "execution_count": 31,
   "id": "a2366e1e-113b-4b88-8797-97d798a60a42",
   "metadata": {
    "execution": {
     "iopub.execute_input": "2023-01-12T12:31:57.009266Z",
     "iopub.status.busy": "2023-01-12T12:31:57.009102Z",
     "iopub.status.idle": "2023-01-12T12:31:57.012158Z",
     "shell.execute_reply": "2023-01-12T12:31:57.011796Z",
     "shell.execute_reply.started": "2023-01-12T12:31:57.009250Z"
    },
    "tags": []
   },
   "outputs": [
    {
     "data": {
      "text/plain": [
       "0"
      ]
     },
     "execution_count": 31,
     "metadata": {},
     "output_type": "execute_result"
    }
   ],
   "source": [
    "100 % 10"
   ]
  },
  {
   "cell_type": "code",
   "execution_count": 32,
   "id": "4d62944b-541b-4dfb-937a-b19b6f089c72",
   "metadata": {
    "execution": {
     "iopub.execute_input": "2023-01-12T12:31:57.012901Z",
     "iopub.status.busy": "2023-01-12T12:31:57.012653Z",
     "iopub.status.idle": "2023-01-12T12:32:11.334300Z",
     "shell.execute_reply": "2023-01-12T12:32:11.333832Z",
     "shell.execute_reply.started": "2023-01-12T12:31:57.012886Z"
    },
    "tags": []
   },
   "outputs": [
    {
     "name": "stdout",
     "output_type": "stream",
     "text": [
      "65.80675959296232\n",
      "1.915921602471267\n",
      "1.0445561436741913\n",
      "0.6203242903076086\n",
      "0.37180381356867825\n",
      "0.22699851437201862\n",
      "0.14070948742967815\n",
      "0.0864068246969211\n",
      "0.0532936566613051\n",
      "0.03298717507677047\n",
      "0.020389294548957437\n",
      "0.012566241376111797\n",
      "0.007685292743514083\n",
      "0.004808815660710763\n",
      "0.0029442160937238173\n",
      "0.0018234487450181191\n",
      "0.0011358394770448754\n",
      "0.0006943125042145227\n",
      "0.000428037054612318\n",
      "0.00026411645885247024\n",
      "0.00016383275083029503\n",
      "0.0001015021208264244\n",
      "6.211120975869733e-05\n",
      "3.8774738358959834e-05\n",
      "2.3765813997655982e-05\n",
      "1.4573203609735686e-05\n",
      "9.080030819141882e-06\n",
      "5.584445950646e-06\n",
      "3.4642849952248867e-06\n",
      "2.136905089322738e-06\n",
      "1.3148782780803003e-06\n",
      "8.115733164615335e-07\n",
      "5.076651218516304e-07\n",
      "3.140576700033648e-07\n",
      "1.9359406131513878e-07\n",
      "1.1788330542827907e-07\n",
      "7.27720456339398e-08\n",
      "4.507630464445356e-08\n",
      "2.7901251264950133e-08\n",
      "1.7309045041713488e-08\n",
      "1.1864091931101939e-08\n",
      "1.1864091931101939e-08\n",
      "1.1864091931101939e-08\n",
      "1.1864091931101939e-08\n",
      "1.1864091931101939e-08\n",
      "1.1864091931101939e-08\n",
      "1.1864091931101939e-08\n",
      "1.1864091931101939e-08\n",
      "1.1864091931101939e-08\n",
      "1.1864091931101939e-08\n"
     ]
    }
   ],
   "source": [
    "n =5000\n",
    "nu = 0.1\n",
    "trees = []\n",
    "df['y_pred'] = df['y_true'].mean()\n",
    "\n",
    "\n",
    "for i in range(n):\n",
    "    df['residual']=df['y_true'] - df['y_pred']\n",
    "    tree = DecisionTreeRegressor(max_depth = 1)\n",
    "    tree.fit(df[[0,1,2]],df['residual'])\n",
    "    df['y_pred'] += nu*tree.predict(df[[0,1,2]])\n",
    "    trees.append(tree)\n",
    "    if (i % 100) == 0:\n",
    "        print(mean_absolute_error(df['y_true'],df['y_pred']))"
   ]
  },
  {
   "cell_type": "code",
   "execution_count": 33,
   "id": "de3f07d4-e42a-43b7-ad7f-685e04f808c8",
   "metadata": {
    "execution": {
     "iopub.execute_input": "2023-01-12T12:32:11.335062Z",
     "iopub.status.busy": "2023-01-12T12:32:11.334904Z",
     "iopub.status.idle": "2023-01-12T12:32:11.339174Z",
     "shell.execute_reply": "2023-01-12T12:32:11.338597Z",
     "shell.execute_reply.started": "2023-01-12T12:32:11.335047Z"
    },
    "tags": []
   },
   "outputs": [],
   "source": [
    "test=df[[0,1,2]].copy()"
   ]
  },
  {
   "cell_type": "code",
   "execution_count": 34,
   "id": "0f685db6-b862-4e71-a75e-ec1ac7ce3195",
   "metadata": {
    "execution": {
     "iopub.execute_input": "2023-01-12T12:32:11.340127Z",
     "iopub.status.busy": "2023-01-12T12:32:11.339956Z",
     "iopub.status.idle": "2023-01-12T12:32:11.364851Z",
     "shell.execute_reply": "2023-01-12T12:32:11.364322Z",
     "shell.execute_reply.started": "2023-01-12T12:32:11.340112Z"
    },
    "tags": []
   },
   "outputs": [],
   "source": [
    "test['y_pred']=df['y_true'].mean()"
   ]
  },
  {
   "cell_type": "code",
   "execution_count": 35,
   "id": "f1bf0eac-b1ab-4525-9c18-a0c2fa8c5147",
   "metadata": {
    "execution": {
     "iopub.execute_input": "2023-01-12T12:32:11.365666Z",
     "iopub.status.busy": "2023-01-12T12:32:11.365458Z",
     "iopub.status.idle": "2023-01-12T12:32:17.321647Z",
     "shell.execute_reply": "2023-01-12T12:32:17.321121Z",
     "shell.execute_reply.started": "2023-01-12T12:32:11.365652Z"
    },
    "tags": []
   },
   "outputs": [],
   "source": [
    "for tree in trees:\n",
    "    test['y_pred'] += nu *  tree.predict(df[[0,1,2]])"
   ]
  },
  {
   "cell_type": "code",
   "execution_count": 36,
   "id": "0e4356fe-6be4-4dc2-b6d7-15b2ae2a6c95",
   "metadata": {
    "execution": {
     "iopub.execute_input": "2023-01-12T12:32:17.322445Z",
     "iopub.status.busy": "2023-01-12T12:32:17.322265Z",
     "iopub.status.idle": "2023-01-12T12:32:17.330093Z",
     "shell.execute_reply": "2023-01-12T12:32:17.329310Z",
     "shell.execute_reply.started": "2023-01-12T12:32:17.322431Z"
    },
    "tags": []
   },
   "outputs": [
    {
     "data": {
      "text/html": [
       "<div>\n",
       "<style scoped>\n",
       "    .dataframe tbody tr th:only-of-type {\n",
       "        vertical-align: middle;\n",
       "    }\n",
       "\n",
       "    .dataframe tbody tr th {\n",
       "        vertical-align: top;\n",
       "    }\n",
       "\n",
       "    .dataframe thead th {\n",
       "        text-align: right;\n",
       "    }\n",
       "</style>\n",
       "<table border=\"1\" class=\"dataframe\">\n",
       "  <thead>\n",
       "    <tr style=\"text-align: right;\">\n",
       "      <th></th>\n",
       "      <th>0</th>\n",
       "      <th>1</th>\n",
       "      <th>2</th>\n",
       "      <th>y_pred</th>\n",
       "    </tr>\n",
       "  </thead>\n",
       "  <tbody>\n",
       "    <tr>\n",
       "      <th>0</th>\n",
       "      <td>1.183646</td>\n",
       "      <td>-1.073156</td>\n",
       "      <td>0.953546</td>\n",
       "      <td>131.678873</td>\n",
       "    </tr>\n",
       "    <tr>\n",
       "      <th>1</th>\n",
       "      <td>-0.761628</td>\n",
       "      <td>0.267932</td>\n",
       "      <td>-1.546413</td>\n",
       "      <td>-146.383862</td>\n",
       "    </tr>\n",
       "    <tr>\n",
       "      <th>2</th>\n",
       "      <td>1.046459</td>\n",
       "      <td>-0.520312</td>\n",
       "      <td>-0.648715</td>\n",
       "      <td>27.608163</td>\n",
       "    </tr>\n",
       "    <tr>\n",
       "      <th>3</th>\n",
       "      <td>1.458741</td>\n",
       "      <td>0.956799</td>\n",
       "      <td>0.598610</td>\n",
       "      <td>146.686975</td>\n",
       "    </tr>\n",
       "    <tr>\n",
       "      <th>4</th>\n",
       "      <td>0.115154</td>\n",
       "      <td>0.775911</td>\n",
       "      <td>0.415595</td>\n",
       "      <td>40.651129</td>\n",
       "    </tr>\n",
       "    <tr>\n",
       "      <th>5</th>\n",
       "      <td>-0.058799</td>\n",
       "      <td>1.040697</td>\n",
       "      <td>-0.372666</td>\n",
       "      <td>-17.986794</td>\n",
       "    </tr>\n",
       "    <tr>\n",
       "      <th>6</th>\n",
       "      <td>1.196216</td>\n",
       "      <td>0.542774</td>\n",
       "      <td>0.301428</td>\n",
       "      <td>106.384638</td>\n",
       "    </tr>\n",
       "    <tr>\n",
       "      <th>7</th>\n",
       "      <td>0.275237</td>\n",
       "      <td>0.594986</td>\n",
       "      <td>-0.151075</td>\n",
       "      <td>14.959200</td>\n",
       "    </tr>\n",
       "    <tr>\n",
       "      <th>8</th>\n",
       "      <td>0.041985</td>\n",
       "      <td>1.340005</td>\n",
       "      <td>1.256362</td>\n",
       "      <td>92.774120</td>\n",
       "    </tr>\n",
       "    <tr>\n",
       "      <th>9</th>\n",
       "      <td>-1.111485</td>\n",
       "      <td>-0.775587</td>\n",
       "      <td>0.302873</td>\n",
       "      <td>-65.063866</td>\n",
       "    </tr>\n",
       "  </tbody>\n",
       "</table>\n",
       "</div>"
      ],
      "text/plain": [
       "          0         1         2      y_pred\n",
       "0  1.183646 -1.073156  0.953546  131.678873\n",
       "1 -0.761628  0.267932 -1.546413 -146.383862\n",
       "2  1.046459 -0.520312 -0.648715   27.608163\n",
       "3  1.458741  0.956799  0.598610  146.686975\n",
       "4  0.115154  0.775911  0.415595   40.651129\n",
       "5 -0.058799  1.040697 -0.372666  -17.986794\n",
       "6  1.196216  0.542774  0.301428  106.384638\n",
       "7  0.275237  0.594986 -0.151075   14.959200\n",
       "8  0.041985  1.340005  1.256362   92.774120\n",
       "9 -1.111485 -0.775587  0.302873  -65.063866"
      ]
     },
     "execution_count": 36,
     "metadata": {},
     "output_type": "execute_result"
    }
   ],
   "source": [
    "test"
   ]
  },
  {
   "cell_type": "markdown",
   "id": "fff3e7a7-ad5a-4919-9679-85611063e0af",
   "metadata": {},
   "source": [
    "y_true = Symbol('y_true')\n",
    "y_pred = Symbol('y_pred')"
   ]
  },
  {
   "cell_type": "code",
   "execution_count": 37,
   "id": "7f53f1f4-b448-4420-aa60-966a653d85cd",
   "metadata": {
    "execution": {
     "iopub.execute_input": "2023-01-12T12:32:17.331040Z",
     "iopub.status.busy": "2023-01-12T12:32:17.330834Z",
     "iopub.status.idle": "2023-01-12T12:32:17.352236Z",
     "shell.execute_reply": "2023-01-12T12:32:17.351723Z",
     "shell.execute_reply.started": "2023-01-12T12:32:17.331025Z"
    },
    "tags": []
   },
   "outputs": [],
   "source": [
    "y_true = Symbol('y_true')\n",
    "y_pred = Symbol('y_pred')"
   ]
  },
  {
   "cell_type": "code",
   "execution_count": 38,
   "id": "c8144433-bc5f-4f62-94f4-66baaf4de124",
   "metadata": {
    "execution": {
     "iopub.execute_input": "2023-01-12T12:32:17.352963Z",
     "iopub.status.busy": "2023-01-12T12:32:17.352822Z",
     "iopub.status.idle": "2023-01-12T12:32:17.500984Z",
     "shell.execute_reply": "2023-01-12T12:32:17.500490Z",
     "shell.execute_reply.started": "2023-01-12T12:32:17.352950Z"
    },
    "tags": []
   },
   "outputs": [
    {
     "data": {
      "text/latex": [
       "$\\displaystyle 0.5 \\left(- y_{pred} + y_{true}\\right)^{2}$"
      ],
      "text/plain": [
       "0.5*(-y_pred + y_true)**2"
      ]
     },
     "execution_count": 38,
     "metadata": {},
     "output_type": "execute_result"
    }
   ],
   "source": [
    "1/2*(y_true-y_pred)**2"
   ]
  },
  {
   "cell_type": "code",
   "execution_count": 39,
   "id": "69a9f050-76ea-44f4-abd3-be79c3890cae",
   "metadata": {
    "execution": {
     "iopub.execute_input": "2023-01-12T12:32:17.501757Z",
     "iopub.status.busy": "2023-01-12T12:32:17.501592Z",
     "iopub.status.idle": "2023-01-12T12:32:17.516494Z",
     "shell.execute_reply": "2023-01-12T12:32:17.516120Z",
     "shell.execute_reply.started": "2023-01-12T12:32:17.501742Z"
    },
    "tags": []
   },
   "outputs": [
    {
     "data": {
      "text/latex": [
       "$\\displaystyle 1.0 y_{pred} - 1.0 y_{true}$"
      ],
      "text/plain": [
       "1.0*y_pred - 1.0*y_true"
      ]
     },
     "execution_count": 39,
     "metadata": {},
     "output_type": "execute_result"
    }
   ],
   "source": [
    "diff(1/2*(y_true-y_pred)**2,y_pred)"
   ]
  },
  {
   "cell_type": "code",
   "execution_count": 40,
   "id": "d31a447f-1bfb-4f16-ac48-58eea06816b9",
   "metadata": {
    "execution": {
     "iopub.execute_input": "2023-01-12T12:32:17.519499Z",
     "iopub.status.busy": "2023-01-12T12:32:17.519339Z",
     "iopub.status.idle": "2023-01-12T12:32:17.523092Z",
     "shell.execute_reply": "2023-01-12T12:32:17.522732Z",
     "shell.execute_reply.started": "2023-01-12T12:32:17.519485Z"
    },
    "tags": []
   },
   "outputs": [
    {
     "data": {
      "text/plain": [
       "'1.0*y_pred - 1.0*y_true'"
      ]
     },
     "execution_count": 40,
     "metadata": {},
     "output_type": "execute_result"
    }
   ],
   "source": [
    "str(diff(1/2*(y_true-y_pred)**2,y_pred))"
   ]
  },
  {
   "cell_type": "code",
   "execution_count": 41,
   "id": "4552d6fc-d974-4b1a-a512-fa8c83e0ab12",
   "metadata": {
    "execution": {
     "iopub.execute_input": "2023-01-12T12:32:17.523858Z",
     "iopub.status.busy": "2023-01-12T12:32:17.523648Z",
     "iopub.status.idle": "2023-01-12T12:32:17.527641Z",
     "shell.execute_reply": "2023-01-12T12:32:17.527277Z",
     "shell.execute_reply.started": "2023-01-12T12:32:17.523843Z"
    },
    "tags": []
   },
   "outputs": [
    {
     "data": {
      "text/latex": [
       "$\\displaystyle y_{pred} - y_{true}$"
      ],
      "text/plain": [
       "y_pred - y_true"
      ]
     },
     "execution_count": 41,
     "metadata": {},
     "output_type": "execute_result"
    }
   ],
   "source": [
    "-(y_true - y_pred)"
   ]
  },
  {
   "cell_type": "markdown",
   "id": "338936cc-209d-4ce9-b583-97a53693b2ee",
   "metadata": {},
   "source": [
    "### Classifier"
   ]
  },
  {
   "cell_type": "code",
   "execution_count": 42,
   "id": "0ad5536d-df3f-41bb-9ca2-2080855a21b5",
   "metadata": {
    "execution": {
     "iopub.execute_input": "2023-01-12T12:32:17.528328Z",
     "iopub.status.busy": "2023-01-12T12:32:17.528179Z",
     "iopub.status.idle": "2023-01-12T12:32:17.531037Z",
     "shell.execute_reply": "2023-01-12T12:32:17.530686Z",
     "shell.execute_reply.started": "2023-01-12T12:32:17.528314Z"
    },
    "tags": []
   },
   "outputs": [],
   "source": [
    "X, y = make_classification(n_samples=10,n_features=3,n_redundant=0)"
   ]
  },
  {
   "cell_type": "code",
   "execution_count": 43,
   "id": "fe0dbedf-be98-4c30-83bc-a4415dd4609c",
   "metadata": {
    "execution": {
     "iopub.execute_input": "2023-01-12T12:32:17.531888Z",
     "iopub.status.busy": "2023-01-12T12:32:17.531622Z",
     "iopub.status.idle": "2023-01-12T12:32:17.534598Z",
     "shell.execute_reply": "2023-01-12T12:32:17.534119Z",
     "shell.execute_reply.started": "2023-01-12T12:32:17.531873Z"
    },
    "tags": []
   },
   "outputs": [],
   "source": [
    "df = pd.DataFrame(X)\n",
    "df['y_true'] = y"
   ]
  },
  {
   "cell_type": "code",
   "execution_count": 44,
   "id": "1064cf41-1bb1-4b86-987d-768d9dd97142",
   "metadata": {
    "execution": {
     "iopub.execute_input": "2023-01-12T12:32:17.535505Z",
     "iopub.status.busy": "2023-01-12T12:32:17.535173Z",
     "iopub.status.idle": "2023-01-12T12:32:17.541203Z",
     "shell.execute_reply": "2023-01-12T12:32:17.540831Z",
     "shell.execute_reply.started": "2023-01-12T12:32:17.535489Z"
    },
    "tags": []
   },
   "outputs": [
    {
     "data": {
      "text/html": [
       "<div>\n",
       "<style scoped>\n",
       "    .dataframe tbody tr th:only-of-type {\n",
       "        vertical-align: middle;\n",
       "    }\n",
       "\n",
       "    .dataframe tbody tr th {\n",
       "        vertical-align: top;\n",
       "    }\n",
       "\n",
       "    .dataframe thead th {\n",
       "        text-align: right;\n",
       "    }\n",
       "</style>\n",
       "<table border=\"1\" class=\"dataframe\">\n",
       "  <thead>\n",
       "    <tr style=\"text-align: right;\">\n",
       "      <th></th>\n",
       "      <th>0</th>\n",
       "      <th>1</th>\n",
       "      <th>2</th>\n",
       "      <th>y_true</th>\n",
       "    </tr>\n",
       "  </thead>\n",
       "  <tbody>\n",
       "    <tr>\n",
       "      <th>0</th>\n",
       "      <td>-1.454556</td>\n",
       "      <td>-0.043245</td>\n",
       "      <td>0.146780</td>\n",
       "      <td>1</td>\n",
       "    </tr>\n",
       "    <tr>\n",
       "      <th>1</th>\n",
       "      <td>-0.096646</td>\n",
       "      <td>-0.595320</td>\n",
       "      <td>0.432970</td>\n",
       "      <td>1</td>\n",
       "    </tr>\n",
       "    <tr>\n",
       "      <th>2</th>\n",
       "      <td>-0.239477</td>\n",
       "      <td>1.799347</td>\n",
       "      <td>0.783972</td>\n",
       "      <td>1</td>\n",
       "    </tr>\n",
       "    <tr>\n",
       "      <th>3</th>\n",
       "      <td>-0.348354</td>\n",
       "      <td>-0.956205</td>\n",
       "      <td>-1.097729</td>\n",
       "      <td>0</td>\n",
       "    </tr>\n",
       "    <tr>\n",
       "      <th>4</th>\n",
       "      <td>0.845638</td>\n",
       "      <td>-1.126061</td>\n",
       "      <td>1.382194</td>\n",
       "      <td>1</td>\n",
       "    </tr>\n",
       "    <tr>\n",
       "      <th>5</th>\n",
       "      <td>0.555960</td>\n",
       "      <td>0.645054</td>\n",
       "      <td>3.481544</td>\n",
       "      <td>1</td>\n",
       "    </tr>\n",
       "    <tr>\n",
       "      <th>6</th>\n",
       "      <td>0.250645</td>\n",
       "      <td>0.845656</td>\n",
       "      <td>-0.766981</td>\n",
       "      <td>0</td>\n",
       "    </tr>\n",
       "    <tr>\n",
       "      <th>7</th>\n",
       "      <td>-1.179168</td>\n",
       "      <td>-1.799384</td>\n",
       "      <td>-1.555949</td>\n",
       "      <td>0</td>\n",
       "    </tr>\n",
       "    <tr>\n",
       "      <th>8</th>\n",
       "      <td>-0.842090</td>\n",
       "      <td>1.565133</td>\n",
       "      <td>-0.639839</td>\n",
       "      <td>0</td>\n",
       "    </tr>\n",
       "    <tr>\n",
       "      <th>9</th>\n",
       "      <td>-1.747563</td>\n",
       "      <td>0.161952</td>\n",
       "      <td>-0.050866</td>\n",
       "      <td>0</td>\n",
       "    </tr>\n",
       "  </tbody>\n",
       "</table>\n",
       "</div>"
      ],
      "text/plain": [
       "          0         1         2  y_true\n",
       "0 -1.454556 -0.043245  0.146780       1\n",
       "1 -0.096646 -0.595320  0.432970       1\n",
       "2 -0.239477  1.799347  0.783972       1\n",
       "3 -0.348354 -0.956205 -1.097729       0\n",
       "4  0.845638 -1.126061  1.382194       1\n",
       "5  0.555960  0.645054  3.481544       1\n",
       "6  0.250645  0.845656 -0.766981       0\n",
       "7 -1.179168 -1.799384 -1.555949       0\n",
       "8 -0.842090  1.565133 -0.639839       0\n",
       "9 -1.747563  0.161952 -0.050866       0"
      ]
     },
     "execution_count": 44,
     "metadata": {},
     "output_type": "execute_result"
    }
   ],
   "source": [
    "df"
   ]
  },
  {
   "cell_type": "code",
   "execution_count": 45,
   "id": "05ddb068-f6d8-4db3-8512-17c36e74cc3c",
   "metadata": {
    "execution": {
     "iopub.execute_input": "2023-01-12T12:32:17.542070Z",
     "iopub.status.busy": "2023-01-12T12:32:17.541829Z",
     "iopub.status.idle": "2023-01-12T12:32:17.544875Z",
     "shell.execute_reply": "2023-01-12T12:32:17.544505Z",
     "shell.execute_reply.started": "2023-01-12T12:32:17.542055Z"
    },
    "tags": []
   },
   "outputs": [],
   "source": [
    "df['y_pred'] = df['y_true'].mean()"
   ]
  },
  {
   "cell_type": "code",
   "execution_count": 46,
   "id": "e11068e0-311c-42c9-bceb-e6c37f52cb16",
   "metadata": {
    "execution": {
     "iopub.execute_input": "2023-01-12T12:32:17.545697Z",
     "iopub.status.busy": "2023-01-12T12:32:17.545409Z",
     "iopub.status.idle": "2023-01-12T12:32:17.550133Z",
     "shell.execute_reply": "2023-01-12T12:32:17.549645Z",
     "shell.execute_reply.started": "2023-01-12T12:32:17.545666Z"
    },
    "tags": []
   },
   "outputs": [
    {
     "data": {
      "text/plain": [
       "0.5"
      ]
     },
     "execution_count": 46,
     "metadata": {},
     "output_type": "execute_result"
    }
   ],
   "source": [
    "roc_auc_score(df['y_true'],df['y_pred'])"
   ]
  },
  {
   "cell_type": "code",
   "execution_count": 47,
   "id": "131c15d4-33e9-4e34-91a7-31dd99be1ce8",
   "metadata": {
    "execution": {
     "iopub.execute_input": "2023-01-12T12:32:17.551023Z",
     "iopub.status.busy": "2023-01-12T12:32:17.550789Z",
     "iopub.status.idle": "2023-01-12T12:32:17.596993Z",
     "shell.execute_reply": "2023-01-12T12:32:17.596458Z",
     "shell.execute_reply.started": "2023-01-12T12:32:17.551006Z"
    },
    "tags": []
   },
   "outputs": [
    {
     "name": "stdout",
     "output_type": "stream",
     "text": [
      "1.0\n",
      "1.0\n",
      "1.0\n",
      "1.0\n",
      "1.0\n",
      "1.0\n",
      "1.0\n",
      "1.0\n",
      "1.0\n",
      "1.0\n"
     ]
    }
   ],
   "source": [
    "n = 10\n",
    "nu = 0.1\n",
    "trees = []\n",
    "df['y_pred'] = df['y_true'].mean()\n",
    "\n",
    "for i in range(n):\n",
    "    df['residual'] = df['y_true'] - df['y_pred']\n",
    "    tree = DecisionTreeRegressor(max_depth=1)\n",
    "    tree.fit(df[[0,1,2]],df['residual'])\n",
    "    df['y_pred'] += nu * tree.predict(df[[0,1,2]])\n",
    "    trees.append(tree)\n",
    "    print(roc_auc_score(df['y_true'],df['y_pred']))"
   ]
  },
  {
   "cell_type": "code",
   "execution_count": 48,
   "id": "ebaf4da4-518f-4dc6-b681-540e65a4d407",
   "metadata": {
    "execution": {
     "iopub.execute_input": "2023-01-12T12:32:17.597853Z",
     "iopub.status.busy": "2023-01-12T12:32:17.597642Z",
     "iopub.status.idle": "2023-01-12T12:32:17.605919Z",
     "shell.execute_reply": "2023-01-12T12:32:17.605294Z",
     "shell.execute_reply.started": "2023-01-12T12:32:17.597834Z"
    },
    "tags": []
   },
   "outputs": [
    {
     "data": {
      "text/html": [
       "<div>\n",
       "<style scoped>\n",
       "    .dataframe tbody tr th:only-of-type {\n",
       "        vertical-align: middle;\n",
       "    }\n",
       "\n",
       "    .dataframe tbody tr th {\n",
       "        vertical-align: top;\n",
       "    }\n",
       "\n",
       "    .dataframe thead th {\n",
       "        text-align: right;\n",
       "    }\n",
       "</style>\n",
       "<table border=\"1\" class=\"dataframe\">\n",
       "  <thead>\n",
       "    <tr style=\"text-align: right;\">\n",
       "      <th></th>\n",
       "      <th>0</th>\n",
       "      <th>1</th>\n",
       "      <th>2</th>\n",
       "      <th>y_true</th>\n",
       "      <th>y_pred</th>\n",
       "      <th>residual</th>\n",
       "    </tr>\n",
       "  </thead>\n",
       "  <tbody>\n",
       "    <tr>\n",
       "      <th>0</th>\n",
       "      <td>-1.454556</td>\n",
       "      <td>-0.043245</td>\n",
       "      <td>0.146780</td>\n",
       "      <td>1</td>\n",
       "      <td>0.825661</td>\n",
       "      <td>0.19371</td>\n",
       "    </tr>\n",
       "    <tr>\n",
       "      <th>1</th>\n",
       "      <td>-0.096646</td>\n",
       "      <td>-0.595320</td>\n",
       "      <td>0.432970</td>\n",
       "      <td>1</td>\n",
       "      <td>0.825661</td>\n",
       "      <td>0.19371</td>\n",
       "    </tr>\n",
       "    <tr>\n",
       "      <th>2</th>\n",
       "      <td>-0.239477</td>\n",
       "      <td>1.799347</td>\n",
       "      <td>0.783972</td>\n",
       "      <td>1</td>\n",
       "      <td>0.825661</td>\n",
       "      <td>0.19371</td>\n",
       "    </tr>\n",
       "    <tr>\n",
       "      <th>3</th>\n",
       "      <td>-0.348354</td>\n",
       "      <td>-0.956205</td>\n",
       "      <td>-1.097729</td>\n",
       "      <td>0</td>\n",
       "      <td>0.174339</td>\n",
       "      <td>-0.19371</td>\n",
       "    </tr>\n",
       "    <tr>\n",
       "      <th>4</th>\n",
       "      <td>0.845638</td>\n",
       "      <td>-1.126061</td>\n",
       "      <td>1.382194</td>\n",
       "      <td>1</td>\n",
       "      <td>0.825661</td>\n",
       "      <td>0.19371</td>\n",
       "    </tr>\n",
       "    <tr>\n",
       "      <th>5</th>\n",
       "      <td>0.555960</td>\n",
       "      <td>0.645054</td>\n",
       "      <td>3.481544</td>\n",
       "      <td>1</td>\n",
       "      <td>0.825661</td>\n",
       "      <td>0.19371</td>\n",
       "    </tr>\n",
       "    <tr>\n",
       "      <th>6</th>\n",
       "      <td>0.250645</td>\n",
       "      <td>0.845656</td>\n",
       "      <td>-0.766981</td>\n",
       "      <td>0</td>\n",
       "      <td>0.174339</td>\n",
       "      <td>-0.19371</td>\n",
       "    </tr>\n",
       "    <tr>\n",
       "      <th>7</th>\n",
       "      <td>-1.179168</td>\n",
       "      <td>-1.799384</td>\n",
       "      <td>-1.555949</td>\n",
       "      <td>0</td>\n",
       "      <td>0.174339</td>\n",
       "      <td>-0.19371</td>\n",
       "    </tr>\n",
       "    <tr>\n",
       "      <th>8</th>\n",
       "      <td>-0.842090</td>\n",
       "      <td>1.565133</td>\n",
       "      <td>-0.639839</td>\n",
       "      <td>0</td>\n",
       "      <td>0.174339</td>\n",
       "      <td>-0.19371</td>\n",
       "    </tr>\n",
       "    <tr>\n",
       "      <th>9</th>\n",
       "      <td>-1.747563</td>\n",
       "      <td>0.161952</td>\n",
       "      <td>-0.050866</td>\n",
       "      <td>0</td>\n",
       "      <td>0.174339</td>\n",
       "      <td>-0.19371</td>\n",
       "    </tr>\n",
       "  </tbody>\n",
       "</table>\n",
       "</div>"
      ],
      "text/plain": [
       "          0         1         2  y_true    y_pred  residual\n",
       "0 -1.454556 -0.043245  0.146780       1  0.825661   0.19371\n",
       "1 -0.096646 -0.595320  0.432970       1  0.825661   0.19371\n",
       "2 -0.239477  1.799347  0.783972       1  0.825661   0.19371\n",
       "3 -0.348354 -0.956205 -1.097729       0  0.174339  -0.19371\n",
       "4  0.845638 -1.126061  1.382194       1  0.825661   0.19371\n",
       "5  0.555960  0.645054  3.481544       1  0.825661   0.19371\n",
       "6  0.250645  0.845656 -0.766981       0  0.174339  -0.19371\n",
       "7 -1.179168 -1.799384 -1.555949       0  0.174339  -0.19371\n",
       "8 -0.842090  1.565133 -0.639839       0  0.174339  -0.19371\n",
       "9 -1.747563  0.161952 -0.050866       0  0.174339  -0.19371"
      ]
     },
     "execution_count": 48,
     "metadata": {},
     "output_type": "execute_result"
    }
   ],
   "source": [
    "df"
   ]
  },
  {
   "cell_type": "markdown",
   "id": "50cfa3d1-51b6-4ccc-96e1-ccff36aa5def",
   "metadata": {},
   "source": [
    "It is wrong to code GB in this way, but the notebooks is just for learning"
   ]
  }
 ],
 "metadata": {
  "kernelspec": {
   "display_name": "Python 3 (ipykernel)",
   "language": "python",
   "name": "python3"
  },
  "language_info": {
   "codemirror_mode": {
    "name": "ipython",
    "version": 3
   },
   "file_extension": ".py",
   "mimetype": "text/x-python",
   "name": "python",
   "nbconvert_exporter": "python",
   "pygments_lexer": "ipython3",
   "version": "3.10.6"
  }
 },
 "nbformat": 4,
 "nbformat_minor": 5
}
