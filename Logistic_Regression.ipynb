{
 "cells": [
  {
   "cell_type": "markdown",
   "id": "82348d38",
   "metadata": {
    "toc": true
   },
   "source": [
    "<h1>Содержание<span class=\"tocSkip\"></span></h1>\n",
    "<div class=\"toc\"><ul class=\"toc-item\"><li><span><a href=\"#Generating-dataframe\" data-toc-modified-id=\"Generating-dataframe-1\"><span class=\"toc-item-num\">1&nbsp;&nbsp;</span>Generating dataframe</a></span><ul class=\"toc-item\"><li><span><a href=\"#Plotting\" data-toc-modified-id=\"Plotting-1.1\"><span class=\"toc-item-num\">1.1&nbsp;&nbsp;</span>Plotting</a></span></li></ul></li><li><span><a href=\"#Fitting-with-MAE-as-loss-funtcion,-like-Linear-regression\" data-toc-modified-id=\"Fitting-with-MAE-as-loss-funtcion,-like-Linear-regression-2\"><span class=\"toc-item-num\">2&nbsp;&nbsp;</span>Fitting with MAE as loss funtcion, like Linear regression</a></span></li><li><span><a href=\"#Sigmoid-fitting\" data-toc-modified-id=\"Sigmoid-fitting-3\"><span class=\"toc-item-num\">3&nbsp;&nbsp;</span>Sigmoid fitting</a></span></li><li><span><a href=\"#Maximum-Likelihood\" data-toc-modified-id=\"Maximum-Likelihood-4\"><span class=\"toc-item-num\">4&nbsp;&nbsp;</span>Maximum Likelihood</a></span></li></ul></div>"
   ]
  },
  {
   "cell_type": "code",
   "execution_count": 173,
   "id": "feb417eb",
   "metadata": {
    "ExecuteTime": {
     "end_time": "2023-01-11T19:36:26.819062Z",
     "start_time": "2023-01-11T19:36:26.812082Z"
    }
   },
   "outputs": [],
   "source": [
    "import pandas as pd\n",
    "import numpy as np\n",
    "from ipywidgets import interactive\n",
    "import matplotlib.pyplot as plt\n",
    "import numpy as np\n",
    "from sklearn.metrics import roc_auc_score\n",
    "from sklearn.linear_model import LogisticRegression\n",
    "from sympy import *"
   ]
  },
  {
   "cell_type": "markdown",
   "id": "54850fda",
   "metadata": {},
   "source": [
    "### Generating dataframe"
   ]
  },
  {
   "cell_type": "code",
   "execution_count": 9,
   "id": "d6c0e7f4",
   "metadata": {
    "ExecuteTime": {
     "end_time": "2023-01-11T13:33:37.483241Z",
     "start_time": "2023-01-11T13:33:37.433373Z"
    }
   },
   "outputs": [],
   "source": [
    "df=pd.DataFrame({'x':[0.1,1.3,2,2.9,3.6,5.1], 'y':[0,0,1,0,1,1]})"
   ]
  },
  {
   "cell_type": "markdown",
   "id": "8a34a53a",
   "metadata": {
    "code_folding": []
   },
   "source": [
    "#### Plotting"
   ]
  },
  {
   "cell_type": "code",
   "execution_count": 174,
   "id": "4ed82a34",
   "metadata": {
    "ExecuteTime": {
     "end_time": "2023-01-11T19:36:28.900033Z",
     "start_time": "2023-01-11T19:36:28.722506Z"
    },
    "scrolled": true
   },
   "outputs": [
    {
     "data": {
      "application/vnd.jupyter.widget-view+json": {
       "model_id": "0baf91bdebba41628da2e5c77dad8e37",
       "version_major": 2,
       "version_minor": 0
      },
      "text/plain": [
       "interactive(children=(FloatSlider(value=0.0, description='m', max=2.0, min=-2.0), FloatSlider(value=0.0, descr…"
      ]
     },
     "metadata": {},
     "output_type": "display_data"
    }
   ],
   "source": [
    "\n",
    "def f(m, b):\n",
    "    plt.figure(2)\n",
    "    x = np.linspace(-10, 10, num=1000)\n",
    "    plt.grid()\n",
    "    plt.plot(x, m * x + b)\n",
    "    plt.scatter(df['x'],df['y'])\n",
    "    plt.xlim(-1,7)\n",
    "    plt.ylim(-1, 3)\n",
    "    plt.show()\n",
    "\n",
    "interactive_plot = interactive(f, m=(-2.0, 2.0), b=(-3, 3, 0.5))\n",
    "output = interactive_plot.children[-1]\n",
    "output.layout.height = '350px'\n",
    "interactive_plot"
   ]
  },
  {
   "cell_type": "markdown",
   "id": "e979e70d",
   "metadata": {},
   "source": [
    "### Fitting with MAE as loss funtcion, like Linear regression"
   ]
  },
  {
   "cell_type": "code",
   "execution_count": 175,
   "id": "65344b2c",
   "metadata": {
    "ExecuteTime": {
     "end_time": "2023-01-11T19:36:38.092279Z",
     "start_time": "2023-01-11T19:36:38.084299Z"
    }
   },
   "outputs": [],
   "source": [
    "m,b =1,1\n",
    "n=100\n",
    "df['pred']=m*df['x']+b\n",
    "nu = 0.1"
   ]
  },
  {
   "cell_type": "code",
   "execution_count": 176,
   "id": "24e67f0d",
   "metadata": {
    "ExecuteTime": {
     "end_time": "2023-01-11T19:36:54.419365Z",
     "start_time": "2023-01-11T19:36:54.307665Z"
    },
    "code_folding": []
   },
   "outputs": [
    {
     "name": "stdout",
     "output_type": "stream",
     "text": [
      "Mean_error: 2.275\n",
      "Mean_error: 0.5035555555555556\n",
      "Mean_error: 0.3471111111111111\n",
      "Mean_error: 0.3872222222222224\n",
      "Mean_error: 0.35888888888888903\n",
      "Mean_error: 0.3588888888888888\n",
      "Mean_error: 0.3588888888888886\n",
      "Mean_error: 0.3588888888888884\n",
      "Mean_error: 0.3588888888888882\n",
      "Mean_error: 0.358888888888888\n"
     ]
    }
   ],
   "source": [
    "for i in range(n):\n",
    "\n",
    "    df['err'] = df['y'] - df['pred']\n",
    "\n",
    "    df['m_change'] = df['x'] * np.sign(df['err'])\n",
    "    df['b_change'] = np.sign(df['err'])\n",
    "\n",
    "    m += nu*df['m_change'].mean()\n",
    "    b += nu*df['b_change'].mean()\n",
    "\n",
    "    df['pred'] = m * df['x'] + b\n",
    "\n",
    "    df['err'] = df['y'] - df['pred']\n",
    "    df['err_abs'] = np.abs(df['err'])\n",
    "    if i % 10 == 0:\n",
    "        print('Mean_error:', df['err_abs'].mean())\n"
   ]
  },
  {
   "cell_type": "code",
   "execution_count": 177,
   "id": "500b9dd3",
   "metadata": {
    "ExecuteTime": {
     "end_time": "2023-01-11T19:36:57.700201Z",
     "start_time": "2023-01-11T19:36:57.563968Z"
    }
   },
   "outputs": [
    {
     "data": {
      "text/plain": [
       "<matplotlib.collections.PathCollection at 0x1fbac7ae790>"
      ]
     },
     "execution_count": 177,
     "metadata": {},
     "output_type": "execute_result"
    },
    {
     "data": {
      "image/png": "[encoded data removed]",
      "text/plain": [
       "<Figure size 432x288 with 1 Axes>"
      ]
     },
     "metadata": {
      "needs_background": "light"
     },
     "output_type": "display_data"
    }
   ],
   "source": [
    "x = np.linspace(-10, 10, num=1000)\n",
    "plt.plot(x, m * x + b)\n",
    "plt.scatter(df['x'],df['y'])"
   ]
  },
  {
   "cell_type": "markdown",
   "id": "30c48980",
   "metadata": {},
   "source": [
    "Experimenting with Roc-Auc"
   ]
  },
  {
   "cell_type": "code",
   "execution_count": 179,
   "id": "26970d75",
   "metadata": {
    "ExecuteTime": {
     "end_time": "2023-01-11T19:37:33.231993Z",
     "start_time": "2023-01-11T19:37:33.220025Z"
    }
   },
   "outputs": [],
   "source": [
    "df['y_pred']=df['pred']>=0.196333"
   ]
  },
  {
   "cell_type": "code",
   "execution_count": 180,
   "id": "cb2693ff",
   "metadata": {
    "ExecuteTime": {
     "end_time": "2023-01-11T19:37:35.599057Z",
     "start_time": "2023-01-11T19:37:35.580107Z"
    }
   },
   "outputs": [
    {
     "data": {
      "text/html": [
       "<div>\n",
       "<style scoped>\n",
       "    .dataframe tbody tr th:only-of-type {\n",
       "        vertical-align: middle;\n",
       "    }\n",
       "\n",
       "    .dataframe tbody tr th {\n",
       "        vertical-align: top;\n",
       "    }\n",
       "\n",
       "    .dataframe thead th {\n",
       "        text-align: right;\n",
       "    }\n",
       "</style>\n",
       "<table border=\"1\" class=\"dataframe\">\n",
       "  <thead>\n",
       "    <tr style=\"text-align: right;\">\n",
       "      <th></th>\n",
       "      <th>x</th>\n",
       "      <th>y</th>\n",
       "      <th>pred</th>\n",
       "      <th>err</th>\n",
       "      <th>m_change</th>\n",
       "      <th>b_change</th>\n",
       "      <th>err_abs</th>\n",
       "      <th>l</th>\n",
       "      <th>y_pred</th>\n",
       "    </tr>\n",
       "  </thead>\n",
       "  <tbody>\n",
       "    <tr>\n",
       "      <th>0</th>\n",
       "      <td>0.1</td>\n",
       "      <td>0</td>\n",
       "      <td>-0.015667</td>\n",
       "      <td>0.015667</td>\n",
       "      <td>0.1</td>\n",
       "      <td>1.0</td>\n",
       "      <td>0.015667</td>\n",
       "      <td>-0.186521</td>\n",
       "      <td>False</td>\n",
       "    </tr>\n",
       "    <tr>\n",
       "      <th>1</th>\n",
       "      <td>1.3</td>\n",
       "      <td>0</td>\n",
       "      <td>0.196333</td>\n",
       "      <td>-0.196333</td>\n",
       "      <td>-1.3</td>\n",
       "      <td>-1.0</td>\n",
       "      <td>0.196333</td>\n",
       "      <td>-0.403782</td>\n",
       "      <td>True</td>\n",
       "    </tr>\n",
       "    <tr>\n",
       "      <th>2</th>\n",
       "      <td>2.0</td>\n",
       "      <td>1</td>\n",
       "      <td>0.320000</td>\n",
       "      <td>0.680000</td>\n",
       "      <td>2.0</td>\n",
       "      <td>1.0</td>\n",
       "      <td>0.680000</td>\n",
       "      <td>-0.787843</td>\n",
       "      <td>True</td>\n",
       "    </tr>\n",
       "    <tr>\n",
       "      <th>3</th>\n",
       "      <td>2.9</td>\n",
       "      <td>0</td>\n",
       "      <td>0.479000</td>\n",
       "      <td>-0.479000</td>\n",
       "      <td>-2.9</td>\n",
       "      <td>-1.0</td>\n",
       "      <td>0.479000</td>\n",
       "      <td>-0.963857</td>\n",
       "      <td>True</td>\n",
       "    </tr>\n",
       "    <tr>\n",
       "      <th>4</th>\n",
       "      <td>3.6</td>\n",
       "      <td>1</td>\n",
       "      <td>0.602667</td>\n",
       "      <td>0.397333</td>\n",
       "      <td>3.6</td>\n",
       "      <td>1.0</td>\n",
       "      <td>0.397333</td>\n",
       "      <td>-0.313117</td>\n",
       "      <td>True</td>\n",
       "    </tr>\n",
       "    <tr>\n",
       "      <th>5</th>\n",
       "      <td>5.1</td>\n",
       "      <td>1</td>\n",
       "      <td>0.867667</td>\n",
       "      <td>0.132333</td>\n",
       "      <td>-5.1</td>\n",
       "      <td>-1.0</td>\n",
       "      <td>0.132333</td>\n",
       "      <td>-0.114605</td>\n",
       "      <td>True</td>\n",
       "    </tr>\n",
       "  </tbody>\n",
       "</table>\n",
       "</div>"
      ],
      "text/plain": [
       "     x  y      pred       err  m_change  b_change   err_abs         l  y_pred\n",
       "0  0.1  0 -0.015667  0.015667       0.1       1.0  0.015667 -0.186521   False\n",
       "1  1.3  0  0.196333 -0.196333      -1.3      -1.0  0.196333 -0.403782    True\n",
       "2  2.0  1  0.320000  0.680000       2.0       1.0  0.680000 -0.787843    True\n",
       "3  2.9  0  0.479000 -0.479000      -2.9      -1.0  0.479000 -0.963857    True\n",
       "4  3.6  1  0.602667  0.397333       3.6       1.0  0.397333 -0.313117    True\n",
       "5  5.1  1  0.867667  0.132333      -5.1      -1.0  0.132333 -0.114605    True"
      ]
     },
     "execution_count": 180,
     "metadata": {},
     "output_type": "execute_result"
    }
   ],
   "source": [
    "df"
   ]
  },
  {
   "cell_type": "code",
   "execution_count": 181,
   "id": "598d8657",
   "metadata": {
    "ExecuteTime": {
     "end_time": "2023-01-11T19:37:37.261639Z",
     "start_time": "2023-01-11T19:37:37.251665Z"
    }
   },
   "outputs": [],
   "source": [
    "lr = LogisticRegression()"
   ]
  },
  {
   "cell_type": "code",
   "execution_count": 182,
   "id": "79acb99c",
   "metadata": {
    "ExecuteTime": {
     "end_time": "2023-01-11T19:37:41.368212Z",
     "start_time": "2023-01-11T19:37:41.355275Z"
    }
   },
   "outputs": [
    {
     "data": {
      "text/plain": [
       "LogisticRegression()"
      ]
     },
     "execution_count": 182,
     "metadata": {},
     "output_type": "execute_result"
    }
   ],
   "source": [
    "lr.fit(df[['x']],df['y'])"
   ]
  },
  {
   "cell_type": "code",
   "execution_count": 183,
   "id": "d5baeb3c",
   "metadata": {
    "ExecuteTime": {
     "end_time": "2023-01-11T19:37:44.338038Z",
     "start_time": "2023-01-11T19:37:44.324076Z"
    }
   },
   "outputs": [
    {
     "data": {
      "text/plain": [
       "array([0, 0, 0, 1, 1, 1], dtype=int64)"
      ]
     },
     "execution_count": 183,
     "metadata": {},
     "output_type": "execute_result"
    }
   ],
   "source": [
    "lr.predict(df[['x']])"
   ]
  },
  {
   "cell_type": "code",
   "execution_count": 184,
   "id": "256c6380",
   "metadata": {
    "ExecuteTime": {
     "end_time": "2023-01-11T19:37:46.647557Z",
     "start_time": "2023-01-11T19:37:46.626641Z"
    },
    "scrolled": true
   },
   "outputs": [
    {
     "data": {
      "text/plain": [
       "array([0.13704651, 0.28656152, 0.40833095, 0.58055537, 0.70398089,\n",
       "       0.88352048])"
      ]
     },
     "execution_count": 184,
     "metadata": {},
     "output_type": "execute_result"
    }
   ],
   "source": [
    "lr.predict_proba(df[['x']])[:,1]"
   ]
  },
  {
   "cell_type": "code",
   "execution_count": 193,
   "id": "22acf733",
   "metadata": {
    "ExecuteTime": {
     "end_time": "2023-01-11T19:39:15.757616Z",
     "start_time": "2023-01-11T19:39:15.739664Z"
    }
   },
   "outputs": [],
   "source": [
    "df['lr_pred']=lr.predict_proba(df[['x']])[:,1]"
   ]
  },
  {
   "cell_type": "code",
   "execution_count": 194,
   "id": "f74c8d1a",
   "metadata": {
    "ExecuteTime": {
     "end_time": "2023-01-11T19:39:17.458856Z",
     "start_time": "2023-01-11T19:39:17.450877Z"
    }
   },
   "outputs": [
    {
     "data": {
      "text/plain": [
       "0.888888888888889"
      ]
     },
     "execution_count": 194,
     "metadata": {},
     "output_type": "execute_result"
    }
   ],
   "source": [
    "roc_auc_score(df['y'],df['lr_pred'])"
   ]
  },
  {
   "cell_type": "code",
   "execution_count": 195,
   "id": "456c7480",
   "metadata": {
    "ExecuteTime": {
     "end_time": "2023-01-11T19:39:19.593658Z",
     "start_time": "2023-01-11T19:39:19.571690Z"
    }
   },
   "outputs": [
    {
     "data": {
      "text/html": [
       "<div>\n",
       "<style scoped>\n",
       "    .dataframe tbody tr th:only-of-type {\n",
       "        vertical-align: middle;\n",
       "    }\n",
       "\n",
       "    .dataframe tbody tr th {\n",
       "        vertical-align: top;\n",
       "    }\n",
       "\n",
       "    .dataframe thead th {\n",
       "        text-align: right;\n",
       "    }\n",
       "</style>\n",
       "<table border=\"1\" class=\"dataframe\">\n",
       "  <thead>\n",
       "    <tr style=\"text-align: right;\">\n",
       "      <th></th>\n",
       "      <th>x</th>\n",
       "      <th>y</th>\n",
       "      <th>pred</th>\n",
       "      <th>lr_pred</th>\n",
       "    </tr>\n",
       "  </thead>\n",
       "  <tbody>\n",
       "    <tr>\n",
       "      <th>0</th>\n",
       "      <td>0.1</td>\n",
       "      <td>0</td>\n",
       "      <td>-0.015667</td>\n",
       "      <td>0.137047</td>\n",
       "    </tr>\n",
       "    <tr>\n",
       "      <th>1</th>\n",
       "      <td>1.3</td>\n",
       "      <td>0</td>\n",
       "      <td>0.196333</td>\n",
       "      <td>0.286562</td>\n",
       "    </tr>\n",
       "    <tr>\n",
       "      <th>2</th>\n",
       "      <td>2.0</td>\n",
       "      <td>1</td>\n",
       "      <td>0.320000</td>\n",
       "      <td>0.408331</td>\n",
       "    </tr>\n",
       "    <tr>\n",
       "      <th>3</th>\n",
       "      <td>2.9</td>\n",
       "      <td>0</td>\n",
       "      <td>0.479000</td>\n",
       "      <td>0.580555</td>\n",
       "    </tr>\n",
       "    <tr>\n",
       "      <th>4</th>\n",
       "      <td>3.6</td>\n",
       "      <td>1</td>\n",
       "      <td>0.602667</td>\n",
       "      <td>0.703981</td>\n",
       "    </tr>\n",
       "    <tr>\n",
       "      <th>5</th>\n",
       "      <td>5.1</td>\n",
       "      <td>1</td>\n",
       "      <td>0.867667</td>\n",
       "      <td>0.883520</td>\n",
       "    </tr>\n",
       "  </tbody>\n",
       "</table>\n",
       "</div>"
      ],
      "text/plain": [
       "     x  y      pred   lr_pred\n",
       "0  0.1  0 -0.015667  0.137047\n",
       "1  1.3  0  0.196333  0.286562\n",
       "2  2.0  1  0.320000  0.408331\n",
       "3  2.9  0  0.479000  0.580555\n",
       "4  3.6  1  0.602667  0.703981\n",
       "5  5.1  1  0.867667  0.883520"
      ]
     },
     "execution_count": 195,
     "metadata": {},
     "output_type": "execute_result"
    }
   ],
   "source": [
    "df[['x','y','pred','lr_pred']]"
   ]
  },
  {
   "attachments": {
    "image.png": {
     "image/png": "[encoded data removed]"
    }
   },
   "cell_type": "markdown",
   "id": "7fb7438d",
   "metadata": {},
   "source": [
    "### Sigmoid fitting\n",
    "\n",
    "![image.png](attachment:image.png)"
   ]
  },
  {
   "cell_type": "code",
   "execution_count": 196,
   "id": "d6b0b62f",
   "metadata": {
    "ExecuteTime": {
     "end_time": "2023-01-11T19:39:22.053625Z",
     "start_time": "2023-01-11T19:39:21.884077Z"
    }
   },
   "outputs": [
    {
     "data": {
      "application/vnd.jupyter.widget-view+json": {
       "model_id": "b50c3e1d75984879a00a0312d927f250",
       "version_major": 2,
       "version_minor": 0
      },
      "text/plain": [
       "interactive(children=(FloatSlider(value=0.0, description='m', max=2.0, min=-2.0), FloatSlider(value=0.0, descr…"
      ]
     },
     "metadata": {},
     "output_type": "display_data"
    }
   ],
   "source": [
    "\n",
    "\n",
    "def f(m, b):\n",
    "    plt.figure(2)\n",
    "    x = np.linspace(-10, 10, num=1000)\n",
    "    plt.grid()\n",
    "    plt.plot(x, 1/(1+np.exp(-(m*x+b))))\n",
    "    plt.scatter(df['x'],df['y'])\n",
    "    plt.xlim(-1,7)\n",
    "    plt.ylim(0, 1)\n",
    "    plt.show()\n",
    "\n",
    "interactive_plot = interactive(f, m=(-2.0, 2.0), b=(-3, 3, 0.5))\n",
    "output = interactive_plot.children[-1]\n",
    "output.layout.height = '350px'\n",
    "interactive_plot"
   ]
  },
  {
   "cell_type": "markdown",
   "id": "f5b4340d",
   "metadata": {},
   "source": [
    "Lets count differentiate"
   ]
  },
  {
   "cell_type": "code",
   "execution_count": 197,
   "id": "6464e4ba",
   "metadata": {
    "ExecuteTime": {
     "end_time": "2023-01-11T19:39:36.225880Z",
     "start_time": "2023-01-11T19:39:36.211918Z"
    }
   },
   "outputs": [],
   "source": [
    "init_printing(use_latex = 'False')"
   ]
  },
  {
   "cell_type": "code",
   "execution_count": 198,
   "id": "9bbe1002",
   "metadata": {
    "ExecuteTime": {
     "end_time": "2023-01-11T19:39:39.308055Z",
     "start_time": "2023-01-11T19:39:39.300080Z"
    }
   },
   "outputs": [],
   "source": [
    "x_ = Symbol('x',real=True)\n",
    "y_ = Symbol('y',real=True)\n",
    "m_ = Symbol('m',real=True)\n",
    "b_ = Symbol('b',real=True)"
   ]
  },
  {
   "cell_type": "code",
   "execution_count": 201,
   "id": "8c0d41da",
   "metadata": {
    "ExecuteTime": {
     "end_time": "2023-01-11T19:39:59.342760Z",
     "start_time": "2023-01-11T19:39:59.331784Z"
    }
   },
   "outputs": [
    {
     "data": {
      "text/plain": [
       "    -b - m⋅x     ⎛          1      ⎞ \n",
       "-x⋅ℯ        ⋅sign⎜y - ─────────────⎟ \n",
       "                 ⎜     -b - m⋅x    ⎟ \n",
       "                 ⎝    ℯ         + 1⎠ \n",
       "─────────────────────────────────────\n",
       "                          2          \n",
       "           ⎛ -b - m⋅x    ⎞           \n",
       "           ⎝ℯ         + 1⎠           "
      ]
     },
     "execution_count": 201,
     "metadata": {},
     "output_type": "execute_result"
    }
   ],
   "source": [
    "e1= Abs(y_ - 1/(1+exp(-m_*x_-b_)))\n",
    "e1\n",
    "diff(e1,m_)"
   ]
  },
  {
   "cell_type": "code",
   "execution_count": 202,
   "id": "3da0f195",
   "metadata": {
    "ExecuteTime": {
     "end_time": "2023-01-11T19:40:02.435631Z",
     "start_time": "2023-01-11T19:40:02.427625Z"
    }
   },
   "outputs": [
    {
     "data": {
      "text/plain": [
       "'-x*exp(-b - m*x)*sign(y - 1/(exp(-b - m*x) + 1))/(exp(-b - m*x) + 1)**2'"
      ]
     },
     "execution_count": 202,
     "metadata": {},
     "output_type": "execute_result"
    }
   ],
   "source": [
    "str(diff(e1,m_))"
   ]
  },
  {
   "cell_type": "code",
   "execution_count": 203,
   "id": "c42aacca",
   "metadata": {
    "ExecuteTime": {
     "end_time": "2023-01-11T19:40:04.375105Z",
     "start_time": "2023-01-11T19:40:04.355158Z"
    }
   },
   "outputs": [
    {
     "data": {
      "text/plain": [
       "'-exp(-b - m*x)*sign(y - 1/(exp(-b - m*x) + 1))/(exp(-b - m*x) + 1)**2'"
      ]
     },
     "execution_count": 203,
     "metadata": {},
     "output_type": "execute_result"
    }
   ],
   "source": [
    "str(diff(e1,b_))"
   ]
  },
  {
   "cell_type": "code",
   "execution_count": 205,
   "id": "59f863f0",
   "metadata": {
    "ExecuteTime": {
     "end_time": "2023-01-11T19:40:13.211936Z",
     "start_time": "2023-01-11T19:40:13.203956Z"
    }
   },
   "outputs": [],
   "source": [
    "df=df[['x','y']].copy()\n",
    "\n",
    "m,b =1,1\n",
    "n=500\n",
    "df['pred']=(1/(np.exp(-b - m*df['x']) + 1))\n",
    "nu = .01"
   ]
  },
  {
   "cell_type": "code",
   "execution_count": 206,
   "id": "f6f701f5",
   "metadata": {
    "ExecuteTime": {
     "end_time": "2023-01-11T19:40:16.018669Z",
     "start_time": "2023-01-11T19:40:14.475981Z"
    }
   },
   "outputs": [
    {
     "name": "stdout",
     "output_type": "stream",
     "text": [
      "0.4110656495489276\n",
      "0.4086142737639986\n",
      "0.40608121877419756\n",
      "0.4034665555885153\n",
      "0.40077095442166105\n"
     ]
    }
   ],
   "source": [
    "for i in range(n):\n",
    "\n",
    "    df['err'] = df['y'] - df['pred']\n",
    "\n",
    "    df['m_change'] =  df['x']*np.exp(-b - m*df['x'])*np.sign(df['y'] - 1/(np.exp(-b - m*df['x']) + 1))/(np.exp(-b - m*df['x']) + 1)**2\n",
    "   \n",
    "    df['b_change'] = np.exp(-b - m*df['x'])*np.sign(df['y'] - 1/(np.exp(-b - m*df['x']) + 1))/(np.exp(-b - m*df['x']) + 1)**2\n",
    "\n",
    "    m += nu*df['m_change'].mean()\n",
    "    b += nu*df['b_change'].mean()\n",
    "\n",
    "    df['pred']=(1/(np.exp(-b - m*df['x']) + 1))**2\n",
    "\n",
    "    df['err'] = df['y'] - df['pred']\n",
    "    df['err_abs'] = np.abs(df['err'])\n",
    "    if i % 100 == 0:\n",
    "        print(df['err_abs'].mean())\n"
   ]
  },
  {
   "cell_type": "code",
   "execution_count": 207,
   "id": "be0f7529",
   "metadata": {
    "ExecuteTime": {
     "end_time": "2023-01-11T19:40:19.494998Z",
     "start_time": "2023-01-11T19:40:19.483028Z"
    }
   },
   "outputs": [
    {
     "data": {
      "text/plain": [
       "0.888888888888889"
      ]
     },
     "execution_count": 207,
     "metadata": {},
     "output_type": "execute_result"
    }
   ],
   "source": [
    "roc_auc_score(df['y'],df['pred'])"
   ]
  },
  {
   "cell_type": "code",
   "execution_count": 208,
   "id": "874a02ec",
   "metadata": {
    "ExecuteTime": {
     "end_time": "2023-01-11T19:40:21.562204Z",
     "start_time": "2023-01-11T19:40:21.547244Z"
    }
   },
   "outputs": [
    {
     "name": "stdout",
     "output_type": "stream",
     "text": [
      "0.9616188394884606 0.7954772469445639\n"
     ]
    }
   ],
   "source": [
    "print(m,b)"
   ]
  },
  {
   "cell_type": "code",
   "execution_count": 209,
   "id": "11d11ab9",
   "metadata": {
    "ExecuteTime": {
     "end_time": "2023-01-11T19:40:23.398267Z",
     "start_time": "2023-01-11T19:40:23.267110Z"
    },
    "scrolled": true
   },
   "outputs": [
    {
     "data": {
      "text/plain": [
       "<matplotlib.collections.PathCollection at 0x1fbac6e11f0>"
      ]
     },
     "execution_count": 209,
     "metadata": {},
     "output_type": "execute_result"
    },
    {
     "data": {
      "image/png": "[encoded data removed]",
      "text/plain": [
       "<Figure size 432x288 with 1 Axes>"
      ]
     },
     "metadata": {
      "needs_background": "light"
     },
     "output_type": "display_data"
    }
   ],
   "source": [
    "x = np.linspace(-10, 10, num=1000)\n",
    "plt.grid()\n",
    "plt.plot(x, 1/(1+np.exp(-(m*x+b))))\n",
    "plt.scatter(df['x'],df['y'])"
   ]
  },
  {
   "cell_type": "code",
   "execution_count": 210,
   "id": "a4479b43",
   "metadata": {
    "ExecuteTime": {
     "end_time": "2023-01-11T19:40:26.538884Z",
     "start_time": "2023-01-11T19:40:26.515946Z"
    }
   },
   "outputs": [],
   "source": [
    "#Lets compare with LR from sklearn\n",
    "lr = LogisticRegression()\n",
    "lr.fit(df[['x']],df['y'])\n",
    "df['lr_pred'] = lr.predict_proba(df[['x']])[:,1]"
   ]
  },
  {
   "cell_type": "code",
   "execution_count": 211,
   "id": "b5384ca1",
   "metadata": {
    "ExecuteTime": {
     "end_time": "2023-01-11T19:40:33.791657Z",
     "start_time": "2023-01-11T19:40:33.643847Z"
    }
   },
   "outputs": [
    {
     "data": {
      "text/plain": [
       "<matplotlib.collections.PathCollection at 0x1fbac7fd310>"
      ]
     },
     "execution_count": 211,
     "metadata": {},
     "output_type": "execute_result"
    },
    {
     "data": {
      "image/png": "[encoded data removed]",
      "text/plain": [
       "<Figure size 432x288 with 1 Axes>"
      ]
     },
     "metadata": {
      "needs_background": "light"
     },
     "output_type": "display_data"
    }
   ],
   "source": [
    "x = np.linspace(-10, 10, num=1000)\n",
    "plt.grid()\n",
    "plt.plot(x, 1/(1+np.exp(-(m * x + b))))\n",
    "plt.plot(x, 1/(1+np.exp(-(lr.coef_[0][0] * x + lr.intercept_[0]))))\n",
    "plt.scatter(df['x'],df['y'])"
   ]
  },
  {
   "cell_type": "code",
   "execution_count": 212,
   "id": "64673aac",
   "metadata": {
    "ExecuteTime": {
     "end_time": "2023-01-11T19:40:36.047230Z",
     "start_time": "2023-01-11T19:40:36.027283Z"
    }
   },
   "outputs": [
    {
     "data": {
      "text/plain": [
       "0.888888888888889"
      ]
     },
     "execution_count": 212,
     "metadata": {},
     "output_type": "execute_result"
    }
   ],
   "source": [
    "roc_auc_score(df['y'],df['pred'])"
   ]
  },
  {
   "cell_type": "code",
   "execution_count": 213,
   "id": "f35b7ff4",
   "metadata": {
    "ExecuteTime": {
     "end_time": "2023-01-11T19:40:38.006618Z",
     "start_time": "2023-01-11T19:40:37.996646Z"
    }
   },
   "outputs": [
    {
     "data": {
      "text/plain": [
       "0.888888888888889"
      ]
     },
     "execution_count": 213,
     "metadata": {},
     "output_type": "execute_result"
    }
   ],
   "source": [
    "roc_auc_score(df['y'],df['lr_pred'])"
   ]
  },
  {
   "cell_type": "markdown",
   "id": "71331409",
   "metadata": {},
   "source": [
    "Roc_auc are the same"
   ]
  },
  {
   "attachments": {
    "image.png": {
     "image/png": "[encoded data removed]"
    }
   },
   "cell_type": "markdown",
   "id": "b3a78173",
   "metadata": {},
   "source": [
    "### Maximum Likelihood\n",
    "\n",
    "!We don't change sign to the oppostie, because we need to maximize Likelihood!\n",
    "\n",
    "\n",
    "\n",
    "![image.png](attachment:image.png)"
   ]
  },
  {
   "cell_type": "code",
   "execution_count": 214,
   "id": "e13b9c52",
   "metadata": {
    "ExecuteTime": {
     "end_time": "2023-01-11T19:40:51.903656Z",
     "start_time": "2023-01-11T19:40:51.883710Z"
    }
   },
   "outputs": [
    {
     "data": {
      "text/plain": [
       "0   -0.070923\n",
       "1   -1.151151\n",
       "2    0.123756\n",
       "3   -2.821671\n",
       "4    0.050266\n",
       "5    0.017012\n",
       "dtype: float64"
      ]
     },
     "execution_count": 214,
     "metadata": {},
     "output_type": "execute_result"
    }
   ],
   "source": [
    "#derivative from maximum likelihood function\n",
    "(df['x'] *(((df['y'] - 1)* (np.exp(b + m *df['x'])) + df['y'])/(np.exp((b + m *df['x'])) + 1)))"
   ]
  },
  {
   "cell_type": "code",
   "execution_count": 222,
   "id": "b6cc68b2",
   "metadata": {
    "ExecuteTime": {
     "end_time": "2023-01-11T19:42:55.028990Z",
     "start_time": "2023-01-11T19:42:45.540872Z"
    }
   },
   "outputs": [
    {
     "name": "stdout",
     "output_type": "stream",
     "text": [
      "-7.726334156280739\n",
      "-4.832808902670181\n",
      "-3.989414284561417\n",
      "-3.7071205387367994\n",
      "-3.4802691828231787\n",
      "-3.293283837685814\n",
      "-3.1410030663721376\n",
      "-3.017329270049562\n",
      "-2.9169053540944123\n",
      "-2.8353438945366047\n",
      "-2.769129019556996\n",
      "-2.715465209569107\n",
      "-2.6721332624670495\n",
      "-2.6373680668247\n",
      "-2.60975991132354\n",
      "-2.5881768001072056\n",
      "-2.5717040991685103\n",
      "-2.559597921261448\n",
      "-2.5512491699041826\n",
      "-2.5461557615750334\n",
      "-2.5439010920755956\n",
      "-2.5441372660494705\n",
      "-2.5465719659250188\n",
      "-2.55095811092012\n",
      "-2.5570856644077438\n",
      "-2.564775103959744\n",
      "-2.573872185268342\n",
      "-2.5842437187107885\n",
      "-2.5957741430541494\n",
      "-2.60836273029918\n",
      "\n",
      "1.7096247837811582 -4.502557857230673\n"
     ]
    }
   ],
   "source": [
    "df=df[['x','y']].copy()\n",
    "\n",
    "m,b =1,1\n",
    "n=3000\n",
    "df['pred']=(1/(np.exp(-b - m*df['x']) + 1))\n",
    "nu = 0.01\n",
    "\n",
    "#Wit maximum likelihood\n",
    "for i in range(n):\n",
    "\n",
    "    df['err'] = df['y'] - df['pred']\n",
    "\n",
    "    df['m_change'] =  (df['x'] *(((df['y'] - 1)* (np.exp(b + m *df['x'])) + df['y'])/(np.exp((b + m *df['x'])) + 1)))\n",
    "   \n",
    "    df['b_change'] =(df['y'] - 1)* ((np.exp(b + m *df['x'])) + df['y'])/(np.exp((b + m *df['x'])) + 1)\n",
    "\n",
    "    m += nu*df['m_change'].mean()\n",
    "    b += nu*df['b_change'].mean()\n",
    "\n",
    "    df['pred']=(1/(np.exp(-b - m*df['x']) + 1))\n",
    "  \n",
    "    df['err'] = df['y'] * (np.log(df['pred']) + (1-df['y'])*np.log(1-df['pred']))\n",
    "    df['err_abs'] = np.abs(df['err'])\n",
    "    df['l'] = df['y']*(np.log(df['pred'])) + (1-df['y'])*(np.log(1-df['pred']))\n",
    "    if i % 100 == 0:\n",
    "        print(df['l'].sum())\n",
    "print()        \n",
    "print(m,b)"
   ]
  },
  {
   "cell_type": "code",
   "execution_count": 225,
   "id": "0adfb67a",
   "metadata": {
    "ExecuteTime": {
     "end_time": "2023-01-11T19:43:45.143780Z",
     "start_time": "2023-01-11T19:43:45.124349Z"
    }
   },
   "outputs": [
    {
     "data": {
      "text/plain": [
       "0.888888888888889"
      ]
     },
     "execution_count": 225,
     "metadata": {},
     "output_type": "execute_result"
    }
   ],
   "source": [
    "roc_auc_score(df['y'],df['pred'])"
   ]
  },
  {
   "cell_type": "markdown",
   "id": "70668732",
   "metadata": {},
   "source": [
    "Lets compare it with model from sklearn"
   ]
  },
  {
   "cell_type": "code",
   "execution_count": 226,
   "id": "6000c777",
   "metadata": {
    "ExecuteTime": {
     "end_time": "2023-01-11T19:44:06.475956Z",
     "start_time": "2023-01-11T19:44:06.332209Z"
    },
    "scrolled": false
   },
   "outputs": [
    {
     "data": {
      "text/plain": [
       "<matplotlib.collections.PathCollection at 0x1fbac64cf10>"
      ]
     },
     "execution_count": 226,
     "metadata": {},
     "output_type": "execute_result"
    },
    {
     "data": {
      "image/png": "[encoded data removed]",
      "text/plain": [
       "<Figure size 432x288 with 1 Axes>"
      ]
     },
     "metadata": {
      "needs_background": "light"
     },
     "output_type": "display_data"
    }
   ],
   "source": [
    "x = np.linspace(-10, 10, num=1000)\n",
    "plt.grid()\n",
    "plt.plot(x, 1/(1+np.exp(-(m * x + b))))\n",
    "plt.plot(x, 1/(1+np.exp(-(0.77324788 * x + -1.91736519))))\n",
    "plt.scatter(df['x'],df['y'])"
   ]
  }
 ],
 "metadata": {
  "kernelspec": {
   "display_name": "Python 3",
   "language": "python",
   "name": "python3"
  },
  "language_info": {
   "codemirror_mode": {
    "name": "ipython",
    "version": 3
   },
   "file_extension": ".py",
   "mimetype": "text/x-python",
   "name": "python",
   "nbconvert_exporter": "python",
   "pygments_lexer": "ipython3",
   "version": "3.8.8"
  },
  "toc": {
   "base_numbering": 1,
   "nav_menu": {},
   "number_sections": true,
   "sideBar": true,
   "skip_h1_title": false,
   "title_cell": "Содержание",
   "title_sidebar": "Содержание",
   "toc_cell": true,
   "toc_position": {},
   "toc_section_display": true,
   "toc_window_display": true
  }
 },
 "nbformat": 4,
 "nbformat_minor": 5
}
