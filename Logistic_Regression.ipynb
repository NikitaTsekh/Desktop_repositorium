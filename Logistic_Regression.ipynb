{
 "cells": [
  {
   "cell_type": "markdown",
   "id": "82348d38",
   "metadata": {
    "toc": true
   },
   "source": [
    "<h1>Содержание<span class=\"tocSkip\"></span></h1>\n",
    "<div class=\"toc\"><ul class=\"toc-item\"></ul></div>"
   ]
  },
  {
   "cell_type": "code",
   "execution_count": 1,
   "id": "feb417eb",
   "metadata": {
    "ExecuteTime": {
     "end_time": "2023-01-11T07:02:13.552860Z",
     "start_time": "2023-01-11T07:02:10.984053Z"
    }
   },
   "outputs": [],
   "source": [
    "import pandas as pd\n",
    "import numpy as np"
   ]
  },
  {
   "cell_type": "code",
   "execution_count": 2,
   "id": "d6c0e7f4",
   "metadata": {
    "ExecuteTime": {
     "end_time": "2023-01-11T07:02:13.600433Z",
     "start_time": "2023-01-11T07:02:13.553552Z"
    }
   },
   "outputs": [],
   "source": [
    "df=pd.DataFrame({'x':[0.1,1.3,2,2.9,3.6,5.1], 'y':[0,0,1,0,1,1]})"
   ]
  },
  {
   "cell_type": "code",
   "execution_count": 3,
   "id": "838f61b1",
   "metadata": {
    "ExecuteTime": {
     "end_time": "2023-01-11T07:02:16.693456Z",
     "start_time": "2023-01-11T07:02:15.509979Z"
    }
   },
   "outputs": [
    {
     "data": {
      "text/plain": [
       "<AxesSubplot:xlabel='x', ylabel='y'>"
      ]
     },
     "execution_count": 3,
     "metadata": {},
     "output_type": "execute_result"
    },
    {
     "data": {
      "image/png": "[encoded data removed]",
      "text/plain": [
       "<Figure size 432x288 with 1 Axes>"
      ]
     },
     "metadata": {
      "needs_background": "light"
     },
     "output_type": "display_data"
    }
   ],
   "source": [
    "df.plot(x='x',y='y',kind = 'scatter',grid = True)"
   ]
  },
  {
   "cell_type": "code",
   "execution_count": 8,
   "id": "4ed82a34",
   "metadata": {
    "ExecuteTime": {
     "end_time": "2023-01-10T22:55:40.617322Z",
     "start_time": "2023-01-10T22:55:40.453724Z"
    },
    "scrolled": true
   },
   "outputs": [
    {
     "data": {
      "application/vnd.jupyter.widget-view+json": {
       "model_id": "df90edff81c643e1bbd0c4d9b016304b",
       "version_major": 2,
       "version_minor": 0
      },
      "text/plain": [
       "interactive(children=(FloatSlider(value=0.0, description='m', max=2.0, min=-2.0), FloatSlider(value=0.0, descr…"
      ]
     },
     "metadata": {},
     "output_type": "display_data"
    }
   ],
   "source": [
    "from ipywidgets import interactive\n",
    "import matplotlib.pyplot as plt\n",
    "import numpy as np\n",
    "\n",
    "def f(m, b):\n",
    "    plt.figure(2)\n",
    "    x = np.linspace(-10, 10, num=1000)\n",
    "    plt.grid()\n",
    "    plt.plot(x, m * x + b)\n",
    "    plt.scatter(df['x'],df['y'])\n",
    "    plt.xlim(-1,7)\n",
    "    plt.ylim(-1, 3)\n",
    "    plt.show()\n",
    "\n",
    "interactive_plot = interactive(f, m=(-2.0, 2.0), b=(-3, 3, 0.5))\n",
    "output = interactive_plot.children[-1]\n",
    "output.layout.height = '350px'\n",
    "interactive_plot"
   ]
  },
  {
   "cell_type": "code",
   "execution_count": 9,
   "id": "90f93f14",
   "metadata": {
    "ExecuteTime": {
     "end_time": "2023-01-10T23:10:15.072424Z",
     "start_time": "2023-01-10T23:10:15.015549Z"
    }
   },
   "outputs": [
    {
     "data": {
      "text/html": [
       "<div>\n",
       "<style scoped>\n",
       "    .dataframe tbody tr th:only-of-type {\n",
       "        vertical-align: middle;\n",
       "    }\n",
       "\n",
       "    .dataframe tbody tr th {\n",
       "        vertical-align: top;\n",
       "    }\n",
       "\n",
       "    .dataframe thead th {\n",
       "        text-align: right;\n",
       "    }\n",
       "</style>\n",
       "<table border=\"1\" class=\"dataframe\">\n",
       "  <thead>\n",
       "    <tr style=\"text-align: right;\">\n",
       "      <th></th>\n",
       "      <th>x</th>\n",
       "      <th>y</th>\n",
       "    </tr>\n",
       "  </thead>\n",
       "  <tbody>\n",
       "    <tr>\n",
       "      <th>0</th>\n",
       "      <td>0.1</td>\n",
       "      <td>0</td>\n",
       "    </tr>\n",
       "    <tr>\n",
       "      <th>1</th>\n",
       "      <td>1.3</td>\n",
       "      <td>0</td>\n",
       "    </tr>\n",
       "    <tr>\n",
       "      <th>2</th>\n",
       "      <td>2.0</td>\n",
       "      <td>1</td>\n",
       "    </tr>\n",
       "    <tr>\n",
       "      <th>3</th>\n",
       "      <td>2.9</td>\n",
       "      <td>0</td>\n",
       "    </tr>\n",
       "    <tr>\n",
       "      <th>4</th>\n",
       "      <td>3.6</td>\n",
       "      <td>1</td>\n",
       "    </tr>\n",
       "    <tr>\n",
       "      <th>5</th>\n",
       "      <td>5.1</td>\n",
       "      <td>1</td>\n",
       "    </tr>\n",
       "  </tbody>\n",
       "</table>\n",
       "</div>"
      ],
      "text/plain": [
       "     x  y\n",
       "0  0.1  0\n",
       "1  1.3  0\n",
       "2  2.0  1\n",
       "3  2.9  0\n",
       "4  3.6  1\n",
       "5  5.1  1"
      ]
     },
     "execution_count": 9,
     "metadata": {},
     "output_type": "execute_result"
    }
   ],
   "source": [
    "df"
   ]
  },
  {
   "cell_type": "code",
   "execution_count": 34,
   "id": "65344b2c",
   "metadata": {
    "ExecuteTime": {
     "end_time": "2023-01-10T23:23:12.624948Z",
     "start_time": "2023-01-10T23:23:12.611966Z"
    }
   },
   "outputs": [],
   "source": [
    "m,b =1,1\n",
    "n=100\n",
    "df['pred']=m*df['x']+b\n",
    "nu = 0.1"
   ]
  },
  {
   "cell_type": "code",
   "execution_count": 35,
   "id": "24e67f0d",
   "metadata": {
    "ExecuteTime": {
     "end_time": "2023-01-10T23:23:15.206594Z",
     "start_time": "2023-01-10T23:23:15.100528Z"
    },
    "code_folding": []
   },
   "outputs": [
    {
     "name": "stdout",
     "output_type": "stream",
     "text": [
      "2.275\n",
      "0.5035555555555556\n",
      "0.3471111111111111\n",
      "0.3872222222222224\n",
      "0.35888888888888903\n",
      "0.3588888888888888\n",
      "0.3588888888888886\n",
      "0.3588888888888884\n",
      "0.3588888888888882\n",
      "0.358888888888888\n"
     ]
    }
   ],
   "source": [
    "for i in range(n):\n",
    "\n",
    "    df['err'] = df['y'] - df['pred']\n",
    "\n",
    "    df['m_change'] = df['x'] * np.sign(df['err'])\n",
    "    df['b_change'] = np.sign(df['err'])\n",
    "\n",
    "    m += nu*df['m_change'].mean()\n",
    "    b += nu*df['b_change'].mean()\n",
    "\n",
    "    df['pred'] = m * df['x'] + b\n",
    "\n",
    "    df['err'] = df['y'] - df['pred']\n",
    "    df['err_abs'] = np.abs(df['err'])\n",
    "    if i % 10 == 0:\n",
    "        print(df['err_abs'].mean())\n"
   ]
  },
  {
   "cell_type": "code",
   "execution_count": 36,
   "id": "500b9dd3",
   "metadata": {
    "ExecuteTime": {
     "end_time": "2023-01-10T23:23:17.644935Z",
     "start_time": "2023-01-10T23:23:17.499325Z"
    }
   },
   "outputs": [
    {
     "data": {
      "text/plain": [
       "<matplotlib.collections.PathCollection at 0x1af817f9160>"
      ]
     },
     "execution_count": 36,
     "metadata": {},
     "output_type": "execute_result"
    },
    {
     "data": {
      "image/png": "[encoded data removed]",
      "text/plain": [
       "<Figure size 432x288 with 1 Axes>"
      ]
     },
     "metadata": {
      "needs_background": "light"
     },
     "output_type": "display_data"
    }
   ],
   "source": [
    "x = np.linspace(-10, 10, num=1000)\n",
    "plt.plot(x, m * x + b)\n",
    "plt.scatter(df['x'],df['y'])"
   ]
  },
  {
   "cell_type": "code",
   "execution_count": 37,
   "id": "1504c577",
   "metadata": {
    "ExecuteTime": {
     "end_time": "2023-01-10T23:23:19.634000Z",
     "start_time": "2023-01-10T23:23:19.617502Z"
    }
   },
   "outputs": [
    {
     "data": {
      "text/html": [
       "<div>\n",
       "<style scoped>\n",
       "    .dataframe tbody tr th:only-of-type {\n",
       "        vertical-align: middle;\n",
       "    }\n",
       "\n",
       "    .dataframe tbody tr th {\n",
       "        vertical-align: top;\n",
       "    }\n",
       "\n",
       "    .dataframe thead th {\n",
       "        text-align: right;\n",
       "    }\n",
       "</style>\n",
       "<table border=\"1\" class=\"dataframe\">\n",
       "  <thead>\n",
       "    <tr style=\"text-align: right;\">\n",
       "      <th></th>\n",
       "      <th>x</th>\n",
       "      <th>y</th>\n",
       "      <th>pred</th>\n",
       "      <th>err</th>\n",
       "      <th>m_change</th>\n",
       "      <th>b_change</th>\n",
       "      <th>err_abs</th>\n",
       "    </tr>\n",
       "  </thead>\n",
       "  <tbody>\n",
       "    <tr>\n",
       "      <th>0</th>\n",
       "      <td>0.1</td>\n",
       "      <td>0</td>\n",
       "      <td>-0.015667</td>\n",
       "      <td>0.015667</td>\n",
       "      <td>0.1</td>\n",
       "      <td>1.0</td>\n",
       "      <td>0.015667</td>\n",
       "    </tr>\n",
       "    <tr>\n",
       "      <th>1</th>\n",
       "      <td>1.3</td>\n",
       "      <td>0</td>\n",
       "      <td>0.196333</td>\n",
       "      <td>-0.196333</td>\n",
       "      <td>-1.3</td>\n",
       "      <td>-1.0</td>\n",
       "      <td>0.196333</td>\n",
       "    </tr>\n",
       "    <tr>\n",
       "      <th>2</th>\n",
       "      <td>2.0</td>\n",
       "      <td>1</td>\n",
       "      <td>0.320000</td>\n",
       "      <td>0.680000</td>\n",
       "      <td>2.0</td>\n",
       "      <td>1.0</td>\n",
       "      <td>0.680000</td>\n",
       "    </tr>\n",
       "    <tr>\n",
       "      <th>3</th>\n",
       "      <td>2.9</td>\n",
       "      <td>0</td>\n",
       "      <td>0.479000</td>\n",
       "      <td>-0.479000</td>\n",
       "      <td>-2.9</td>\n",
       "      <td>-1.0</td>\n",
       "      <td>0.479000</td>\n",
       "    </tr>\n",
       "    <tr>\n",
       "      <th>4</th>\n",
       "      <td>3.6</td>\n",
       "      <td>1</td>\n",
       "      <td>0.602667</td>\n",
       "      <td>0.397333</td>\n",
       "      <td>3.6</td>\n",
       "      <td>1.0</td>\n",
       "      <td>0.397333</td>\n",
       "    </tr>\n",
       "    <tr>\n",
       "      <th>5</th>\n",
       "      <td>5.1</td>\n",
       "      <td>1</td>\n",
       "      <td>0.867667</td>\n",
       "      <td>0.132333</td>\n",
       "      <td>-5.1</td>\n",
       "      <td>-1.0</td>\n",
       "      <td>0.132333</td>\n",
       "    </tr>\n",
       "  </tbody>\n",
       "</table>\n",
       "</div>"
      ],
      "text/plain": [
       "     x  y      pred       err  m_change  b_change   err_abs\n",
       "0  0.1  0 -0.015667  0.015667       0.1       1.0  0.015667\n",
       "1  1.3  0  0.196333 -0.196333      -1.3      -1.0  0.196333\n",
       "2  2.0  1  0.320000  0.680000       2.0       1.0  0.680000\n",
       "3  2.9  0  0.479000 -0.479000      -2.9      -1.0  0.479000\n",
       "4  3.6  1  0.602667  0.397333       3.6       1.0  0.397333\n",
       "5  5.1  1  0.867667  0.132333      -5.1      -1.0  0.132333"
      ]
     },
     "execution_count": 37,
     "metadata": {},
     "output_type": "execute_result"
    }
   ],
   "source": [
    "df"
   ]
  },
  {
   "cell_type": "code",
   "execution_count": 38,
   "id": "f3fc4de9",
   "metadata": {
    "ExecuteTime": {
     "end_time": "2023-01-10T23:23:23.176824Z",
     "start_time": "2023-01-10T23:23:23.171839Z"
    }
   },
   "outputs": [
    {
     "data": {
      "text/plain": [
       "(0.17666666666666603, -0.033333333333333125)"
      ]
     },
     "execution_count": 38,
     "metadata": {},
     "output_type": "execute_result"
    }
   ],
   "source": [
    "m,b"
   ]
  },
  {
   "cell_type": "code",
   "execution_count": 42,
   "id": "26970d75",
   "metadata": {
    "ExecuteTime": {
     "end_time": "2023-01-10T23:24:04.331881Z",
     "start_time": "2023-01-10T23:24:04.323900Z"
    }
   },
   "outputs": [],
   "source": [
    "df['y_pred']=df['pred']>=0.196333"
   ]
  },
  {
   "cell_type": "code",
   "execution_count": 43,
   "id": "cb2693ff",
   "metadata": {
    "ExecuteTime": {
     "end_time": "2023-01-10T23:24:06.671213Z",
     "start_time": "2023-01-10T23:24:06.651124Z"
    }
   },
   "outputs": [
    {
     "data": {
      "text/html": [
       "<div>\n",
       "<style scoped>\n",
       "    .dataframe tbody tr th:only-of-type {\n",
       "        vertical-align: middle;\n",
       "    }\n",
       "\n",
       "    .dataframe tbody tr th {\n",
       "        vertical-align: top;\n",
       "    }\n",
       "\n",
       "    .dataframe thead th {\n",
       "        text-align: right;\n",
       "    }\n",
       "</style>\n",
       "<table border=\"1\" class=\"dataframe\">\n",
       "  <thead>\n",
       "    <tr style=\"text-align: right;\">\n",
       "      <th></th>\n",
       "      <th>x</th>\n",
       "      <th>y</th>\n",
       "      <th>pred</th>\n",
       "      <th>err</th>\n",
       "      <th>m_change</th>\n",
       "      <th>b_change</th>\n",
       "      <th>err_abs</th>\n",
       "      <th>y_pred</th>\n",
       "    </tr>\n",
       "  </thead>\n",
       "  <tbody>\n",
       "    <tr>\n",
       "      <th>0</th>\n",
       "      <td>0.1</td>\n",
       "      <td>0</td>\n",
       "      <td>-0.015667</td>\n",
       "      <td>0.015667</td>\n",
       "      <td>0.1</td>\n",
       "      <td>1.0</td>\n",
       "      <td>0.015667</td>\n",
       "      <td>False</td>\n",
       "    </tr>\n",
       "    <tr>\n",
       "      <th>1</th>\n",
       "      <td>1.3</td>\n",
       "      <td>0</td>\n",
       "      <td>0.196333</td>\n",
       "      <td>-0.196333</td>\n",
       "      <td>-1.3</td>\n",
       "      <td>-1.0</td>\n",
       "      <td>0.196333</td>\n",
       "      <td>True</td>\n",
       "    </tr>\n",
       "    <tr>\n",
       "      <th>2</th>\n",
       "      <td>2.0</td>\n",
       "      <td>1</td>\n",
       "      <td>0.320000</td>\n",
       "      <td>0.680000</td>\n",
       "      <td>2.0</td>\n",
       "      <td>1.0</td>\n",
       "      <td>0.680000</td>\n",
       "      <td>True</td>\n",
       "    </tr>\n",
       "    <tr>\n",
       "      <th>3</th>\n",
       "      <td>2.9</td>\n",
       "      <td>0</td>\n",
       "      <td>0.479000</td>\n",
       "      <td>-0.479000</td>\n",
       "      <td>-2.9</td>\n",
       "      <td>-1.0</td>\n",
       "      <td>0.479000</td>\n",
       "      <td>True</td>\n",
       "    </tr>\n",
       "    <tr>\n",
       "      <th>4</th>\n",
       "      <td>3.6</td>\n",
       "      <td>1</td>\n",
       "      <td>0.602667</td>\n",
       "      <td>0.397333</td>\n",
       "      <td>3.6</td>\n",
       "      <td>1.0</td>\n",
       "      <td>0.397333</td>\n",
       "      <td>True</td>\n",
       "    </tr>\n",
       "    <tr>\n",
       "      <th>5</th>\n",
       "      <td>5.1</td>\n",
       "      <td>1</td>\n",
       "      <td>0.867667</td>\n",
       "      <td>0.132333</td>\n",
       "      <td>-5.1</td>\n",
       "      <td>-1.0</td>\n",
       "      <td>0.132333</td>\n",
       "      <td>True</td>\n",
       "    </tr>\n",
       "  </tbody>\n",
       "</table>\n",
       "</div>"
      ],
      "text/plain": [
       "     x  y      pred       err  m_change  b_change   err_abs  y_pred\n",
       "0  0.1  0 -0.015667  0.015667       0.1       1.0  0.015667   False\n",
       "1  1.3  0  0.196333 -0.196333      -1.3      -1.0  0.196333    True\n",
       "2  2.0  1  0.320000  0.680000       2.0       1.0  0.680000    True\n",
       "3  2.9  0  0.479000 -0.479000      -2.9      -1.0  0.479000    True\n",
       "4  3.6  1  0.602667  0.397333       3.6       1.0  0.397333    True\n",
       "5  5.1  1  0.867667  0.132333      -5.1      -1.0  0.132333    True"
      ]
     },
     "execution_count": 43,
     "metadata": {},
     "output_type": "execute_result"
    }
   ],
   "source": [
    "df"
   ]
  },
  {
   "cell_type": "code",
   "execution_count": 31,
   "id": "598d8657",
   "metadata": {
    "ExecuteTime": {
     "end_time": "2023-01-10T23:21:30.538358Z",
     "start_time": "2023-01-10T23:21:25.444134Z"
    }
   },
   "outputs": [],
   "source": [
    "from sklearn.metrics import roc_auc_score"
   ]
  },
  {
   "cell_type": "code",
   "execution_count": 33,
   "id": "1075460e",
   "metadata": {
    "ExecuteTime": {
     "end_time": "2023-01-10T23:22:13.820230Z",
     "start_time": "2023-01-10T23:22:13.771724Z"
    }
   },
   "outputs": [
    {
     "data": {
      "text/plain": [
       "0.888888888888889"
      ]
     },
     "execution_count": 33,
     "metadata": {},
     "output_type": "execute_result"
    }
   ],
   "source": [
    "roc_auc_score(df['y'],df['pred'])"
   ]
  },
  {
   "cell_type": "code",
   "execution_count": 46,
   "id": "dda9f47c",
   "metadata": {
    "ExecuteTime": {
     "end_time": "2023-01-10T23:29:25.158596Z",
     "start_time": "2023-01-10T23:29:25.154608Z"
    }
   },
   "outputs": [],
   "source": [
    "from sklearn.linear_model import LogisticRegression"
   ]
  },
  {
   "cell_type": "code",
   "execution_count": 47,
   "id": "7dd44f32",
   "metadata": {
    "ExecuteTime": {
     "end_time": "2023-01-10T23:29:33.354805Z",
     "start_time": "2023-01-10T23:29:33.347824Z"
    }
   },
   "outputs": [],
   "source": [
    "lr = LogisticRegression()"
   ]
  },
  {
   "cell_type": "code",
   "execution_count": 50,
   "id": "79acb99c",
   "metadata": {
    "ExecuteTime": {
     "end_time": "2023-01-10T23:30:14.151717Z",
     "start_time": "2023-01-10T23:30:14.131691Z"
    }
   },
   "outputs": [
    {
     "data": {
      "text/plain": [
       "LogisticRegression()"
      ]
     },
     "execution_count": 50,
     "metadata": {},
     "output_type": "execute_result"
    }
   ],
   "source": [
    "lr.fit(df[['x']],df['y'])"
   ]
  },
  {
   "cell_type": "code",
   "execution_count": 51,
   "id": "d5baeb3c",
   "metadata": {
    "ExecuteTime": {
     "end_time": "2023-01-10T23:31:10.139545Z",
     "start_time": "2023-01-10T23:31:10.123616Z"
    }
   },
   "outputs": [
    {
     "data": {
      "text/plain": [
       "array([0, 0, 0, 1, 1, 1], dtype=int64)"
      ]
     },
     "execution_count": 51,
     "metadata": {},
     "output_type": "execute_result"
    }
   ],
   "source": [
    "lr.predict(df[['x']])"
   ]
  },
  {
   "cell_type": "code",
   "execution_count": 61,
   "id": "256c6380",
   "metadata": {
    "ExecuteTime": {
     "end_time": "2023-01-10T23:32:37.091954Z",
     "start_time": "2023-01-10T23:32:37.082978Z"
    }
   },
   "outputs": [
    {
     "data": {
      "text/plain": [
       "array([0.13704651, 0.28656152, 0.40833095, 0.58055537, 0.70398089,\n",
       "       0.88352048])"
      ]
     },
     "execution_count": 61,
     "metadata": {},
     "output_type": "execute_result"
    }
   ],
   "source": [
    "lr.predict_proba(df[['x']])[:,1]"
   ]
  },
  {
   "cell_type": "code",
   "execution_count": 62,
   "id": "22acf733",
   "metadata": {
    "ExecuteTime": {
     "end_time": "2023-01-10T23:35:19.484688Z",
     "start_time": "2023-01-10T23:35:19.475711Z"
    }
   },
   "outputs": [],
   "source": [
    "df['lr_pred']=lr.predict_proba(df[['x']])[:,1]"
   ]
  },
  {
   "cell_type": "code",
   "execution_count": 64,
   "id": "f74c8d1a",
   "metadata": {
    "ExecuteTime": {
     "end_time": "2023-01-10T23:35:51.909799Z",
     "start_time": "2023-01-10T23:35:51.899825Z"
    }
   },
   "outputs": [
    {
     "data": {
      "text/plain": [
       "0.888888888888889"
      ]
     },
     "execution_count": 64,
     "metadata": {},
     "output_type": "execute_result"
    }
   ],
   "source": [
    "roc_auc_score(df['y'],df['lr_pred'])"
   ]
  },
  {
   "cell_type": "code",
   "execution_count": 65,
   "id": "456c7480",
   "metadata": {
    "ExecuteTime": {
     "end_time": "2023-01-10T23:36:28.324468Z",
     "start_time": "2023-01-10T23:36:28.312500Z"
    }
   },
   "outputs": [
    {
     "data": {
      "text/html": [
       "<div>\n",
       "<style scoped>\n",
       "    .dataframe tbody tr th:only-of-type {\n",
       "        vertical-align: middle;\n",
       "    }\n",
       "\n",
       "    .dataframe tbody tr th {\n",
       "        vertical-align: top;\n",
       "    }\n",
       "\n",
       "    .dataframe thead th {\n",
       "        text-align: right;\n",
       "    }\n",
       "</style>\n",
       "<table border=\"1\" class=\"dataframe\">\n",
       "  <thead>\n",
       "    <tr style=\"text-align: right;\">\n",
       "      <th></th>\n",
       "      <th>x</th>\n",
       "      <th>y</th>\n",
       "      <th>pred</th>\n",
       "      <th>lr_pred</th>\n",
       "    </tr>\n",
       "  </thead>\n",
       "  <tbody>\n",
       "    <tr>\n",
       "      <th>0</th>\n",
       "      <td>0.1</td>\n",
       "      <td>0</td>\n",
       "      <td>-0.015667</td>\n",
       "      <td>0.137047</td>\n",
       "    </tr>\n",
       "    <tr>\n",
       "      <th>1</th>\n",
       "      <td>1.3</td>\n",
       "      <td>0</td>\n",
       "      <td>0.196333</td>\n",
       "      <td>0.286562</td>\n",
       "    </tr>\n",
       "    <tr>\n",
       "      <th>2</th>\n",
       "      <td>2.0</td>\n",
       "      <td>1</td>\n",
       "      <td>0.320000</td>\n",
       "      <td>0.408331</td>\n",
       "    </tr>\n",
       "    <tr>\n",
       "      <th>3</th>\n",
       "      <td>2.9</td>\n",
       "      <td>0</td>\n",
       "      <td>0.479000</td>\n",
       "      <td>0.580555</td>\n",
       "    </tr>\n",
       "    <tr>\n",
       "      <th>4</th>\n",
       "      <td>3.6</td>\n",
       "      <td>1</td>\n",
       "      <td>0.602667</td>\n",
       "      <td>0.703981</td>\n",
       "    </tr>\n",
       "    <tr>\n",
       "      <th>5</th>\n",
       "      <td>5.1</td>\n",
       "      <td>1</td>\n",
       "      <td>0.867667</td>\n",
       "      <td>0.883520</td>\n",
       "    </tr>\n",
       "  </tbody>\n",
       "</table>\n",
       "</div>"
      ],
      "text/plain": [
       "     x  y      pred   lr_pred\n",
       "0  0.1  0 -0.015667  0.137047\n",
       "1  1.3  0  0.196333  0.286562\n",
       "2  2.0  1  0.320000  0.408331\n",
       "3  2.9  0  0.479000  0.580555\n",
       "4  3.6  1  0.602667  0.703981\n",
       "5  5.1  1  0.867667  0.883520"
      ]
     },
     "execution_count": 65,
     "metadata": {},
     "output_type": "execute_result"
    }
   ],
   "source": [
    "df[['x','y','pred','lr_pred']]"
   ]
  },
  {
   "cell_type": "code",
   "execution_count": null,
   "id": "6a3b5984",
   "metadata": {},
   "outputs": [],
   "source": [
    "r f m \n",
    "recency frequency monetary\n",
    "как давно, как часто,  как много денег\n",
    "\n",
    "1: 1,2,2300\n",
    "    \n",
    "2: 2,1,1500\n",
    "    \n",
    "0-1"
   ]
  },
  {
   "attachments": {
    "image.png": {
     "image/png": "[encoded data removed]"
    }
   },
   "cell_type": "markdown",
   "id": "aa289a7a",
   "metadata": {},
   "source": [
    "Логистическая функция\n",
    "\n",
    "\n",
    "![image.png](attachment:image.png)"
   ]
  },
  {
   "cell_type": "code",
   "execution_count": 8,
   "id": "366faae4",
   "metadata": {
    "ExecuteTime": {
     "end_time": "2023-01-11T07:14:04.066957Z",
     "start_time": "2023-01-11T07:14:03.901400Z"
    }
   },
   "outputs": [
    {
     "data": {
      "application/vnd.jupyter.widget-view+json": {
       "model_id": "78c840e3240344ceba5ea39f450117f5",
       "version_major": 2,
       "version_minor": 0
      },
      "text/plain": [
       "interactive(children=(FloatSlider(value=0.0, description='m', max=2.0, min=-2.0), FloatSlider(value=0.0, descr…"
      ]
     },
     "metadata": {},
     "output_type": "display_data"
    }
   ],
   "source": [
    "from ipywidgets import interactive\n",
    "import matplotlib.pyplot as plt\n",
    "import numpy as np\n",
    "\n",
    "def f(m, b):\n",
    "    plt.figure(2)\n",
    "    x = np.linspace(-10, 10, num=1000)\n",
    "    plt.grid()\n",
    "    plt.plot(x, 1/(1+np.exp(-(m*x+b))))\n",
    "    plt.scatter(df['x'],df['y'])\n",
    "    plt.xlim(-1,7)\n",
    "    plt.ylim(0, 1)\n",
    "    plt.show()\n",
    "\n",
    "interactive_plot = interactive(f, m=(-2.0, 2.0), b=(-3, 3, 0.5))\n",
    "output = interactive_plot.children[-1]\n",
    "output.layout.height = '350px'\n",
    "interactive_plot"
   ]
  }
 ],
 "metadata": {
  "kernelspec": {
   "display_name": "Python 3",
   "language": "python",
   "name": "python3"
  },
  "language_info": {
   "codemirror_mode": {
    "name": "ipython",
    "version": 3
   },
   "file_extension": ".py",
   "mimetype": "text/x-python",
   "name": "python",
   "nbconvert_exporter": "python",
   "pygments_lexer": "ipython3",
   "version": "3.8.8"
  },
  "toc": {
   "base_numbering": 1,
   "nav_menu": {},
   "number_sections": true,
   "sideBar": true,
   "skip_h1_title": false,
   "title_cell": "Содержание",
   "title_sidebar": "Содержание",
   "toc_cell": true,
   "toc_position": {},
   "toc_section_display": true,
   "toc_window_display": true
  }
 },
 "nbformat": 4,
 "nbformat_minor": 5
}
