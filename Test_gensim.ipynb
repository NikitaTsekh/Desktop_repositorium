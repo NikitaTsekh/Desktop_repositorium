{
 "cells": [
  {
   "cell_type": "markdown",
   "id": "2948fd2a",
   "metadata": {
    "toc": true
   },
   "source": [
    "<h1>Содержание<span class=\"tocSkip\"></span></h1>\n",
    "<div class=\"toc\"><ul class=\"toc-item\"></ul></div>"
   ]
  },
  {
   "cell_type": "code",
   "execution_count": 1,
   "id": "5ad67e2f",
   "metadata": {},
   "outputs": [],
   "source": [
    "import pandas as pd\n",
    "import re\n",
    "from sklearn.feature_extraction.text import CountVectorizer\n",
    "from nltk.corpus import stopwords \n",
    "import nltk\n",
    "import numpy as np\n",
    "from pymystem3 import Mystem\n",
    "m = Mystem() \n",
    "import matplotlib.pyplot as plt\n",
    "from tqdm import tqdm\n",
    "import plotly.express as px\n",
    "import gensim.corpora as corpora\n",
    "import gensim.models\n",
    "import spacy\n",
    "from gensim.utils import simple_preprocess"
   ]
  },
  {
   "cell_type": "code",
   "execution_count": 2,
   "id": "f6ebd79c",
   "metadata": {
    "scrolled": true
   },
   "outputs": [
    {
     "data": {
      "text/plain": [
       "[[(0, 1), (1, 1), (2, 1)],\n",
       " [(1, 1), (2, 1), (3, 1), (4, 1)],\n",
       " [(0, 1), (2, 1), (4, 1)],\n",
       " [(2, 1), (5, 1), (6, 1), (7, 1), (8, 1)],\n",
       " [(8, 1), (9, 1), (10, 1)]]"
      ]
     },
     "execution_count": 2,
     "metadata": {},
     "output_type": "execute_result"
    }
   ],
   "source": [
    "from gensim.corpora import Dictionary\n",
    "from gensim.utils import tokenize\n",
    "\n",
    "texts=[u\"Пушистый котенок мурлыкал.\", \n",
    "       u\"Пушистый кот мурлыкал и мяукал\", \n",
    "       u\"Пушистый котенок мяукал.\",\n",
    "       u\"Громкий пушистый пудель бегал и лаял.\",\n",
    "       u\"Пудель рычал и гавкал.\"]\n",
    "\n",
    "stop_words = set(stopwords.words('russian')) \n",
    "\n",
    "def remove_stopwords(texts):\n",
    "    return [[word for word in simple_preprocess(str(doc)) if word not in stop_words] for doc in texts]\n",
    "\n",
    "tokenized_texts = [list(tokenize(text.lower()))for text in texts]\n",
    "tokenized_texts_processed= remove_stopwords(tokenized_texts)\n",
    "dictionary= Dictionary(tokenized_texts_processed)\n",
    "corpus= [dictionary.doc2bow(text) for text in tokenized_texts_processed]\n",
    "corpus"
   ]
  },
  {
   "cell_type": "code",
   "execution_count": 3,
   "id": "b79ba175",
   "metadata": {},
   "outputs": [
    {
     "data": {
      "text/plain": [
       "[(0,\n",
       "  '0.689*\"пушистый\" + 0.357*\"мяукал\" + 0.357*\"мурлыкал\" + 0.331*\"котенок\" + 0.198*\"пудель\" + 0.192*\"кот\" + 0.167*\"бегал\" + 0.167*\"громкий\" + 0.167*\"лаял\" + 0.031*\"рычал\"'),\n",
       " (1,\n",
       "  '0.572*\"пудель\" + 0.350*\"бегал\" + 0.350*\"громкий\" + 0.350*\"лаял\" + -0.261*\"мяукал\" + -0.261*\"мурлыкал\" + 0.222*\"рычал\" + 0.222*\"гавкал\" + -0.219*\"котенок\" + -0.152*\"кот\"')]"
      ]
     },
     "execution_count": 3,
     "metadata": {},
     "output_type": "execute_result"
    }
   ],
   "source": [
    "from gensim.models import LsiModel\n",
    "model = LsiModel (corpus=corpus, num_topics=2, id2word=dictionary)\n",
    "model.print_topics()"
   ]
  },
  {
   "cell_type": "code",
   "execution_count": null,
   "id": "f97bb251",
   "metadata": {
    "scrolled": true
   },
   "outputs": [],
   "source": [
    "import gensim\n",
    "lda_model = gensim.models.LdaMulticore(corpus=corpus,\n",
    "                                       id2word=dictionary,\n",
    "                                       num_topics=2)\n",
    "lda_model.print_topics()"
   ]
  },
  {
   "cell_type": "markdown",
   "id": "d932d86a",
   "metadata": {},
   "source": [
    "Почему на LDA темы получаются хуже чем на LSI? в видосе который смотрел ровно наоборот, код вроде тот же скопировал. "
   ]
  },
  {
   "cell_type": "code",
   "execution_count": null,
   "id": "60992515",
   "metadata": {},
   "outputs": [],
   "source": []
  }
 ],
 "metadata": {
  "kernelspec": {
   "display_name": "Python 3",
   "language": "python",
   "name": "python3"
  },
  "language_info": {
   "codemirror_mode": {
    "name": "ipython",
    "version": 3
   },
   "file_extension": ".py",
   "mimetype": "text/x-python",
   "name": "python",
   "nbconvert_exporter": "python",
   "pygments_lexer": "ipython3",
   "version": "3.8.8"
  },
  "toc": {
   "base_numbering": 1,
   "nav_menu": {},
   "number_sections": true,
   "sideBar": true,
   "skip_h1_title": false,
   "title_cell": "Содержание",
   "title_sidebar": "Содержание",
   "toc_cell": true,
   "toc_position": {},
   "toc_section_display": true,
   "toc_window_display": true
  }
 },
 "nbformat": 4,
 "nbformat_minor": 5
}
