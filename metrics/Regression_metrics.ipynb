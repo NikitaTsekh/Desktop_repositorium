{
 "cells": [
  {
   "cell_type": "markdown",
   "id": "d8f19854-2776-4db6-a986-6ccd074431cc",
   "metadata": {},
   "source": [
    "## Imports"
   ]
  },
  {
   "cell_type": "code",
   "execution_count": 1,
   "id": "2d272261-1cd1-415e-b53f-effe1e7e408b",
   "metadata": {
    "execution": {
     "iopub.execute_input": "2023-03-15T07:14:28.360366Z",
     "iopub.status.busy": "2023-03-15T07:14:28.360107Z",
     "iopub.status.idle": "2023-03-15T07:14:29.188526Z",
     "shell.execute_reply": "2023-03-15T07:14:29.188030Z",
     "shell.execute_reply.started": "2023-03-15T07:14:28.360316Z"
    },
    "tags": []
   },
   "outputs": [],
   "source": [
    "from sklearn.datasets import load_diabetes\n",
    "from sklearn.linear_model import LinearRegression\n",
    "from sklearn.model_selection import train_test_split\n",
    "import pandas as pd\n",
    "import numpy as np\n",
    "from sklearn.metrics import mean_absolute_error, mean_squared_error, r2_score, mean_squared_log_error, mean_absolute_percentage_error\n",
    "from lightgbm import LGBMRegressor\n",
    "\n",
    "import matplotlib.pyplot as plt"
   ]
  },
  {
   "cell_type": "markdown",
   "id": "e0f6e42c-0677-40a0-9c92-fe5a23214321",
   "metadata": {},
   "source": [
    "## Main Code"
   ]
  },
  {
   "cell_type": "code",
   "execution_count": 2,
   "id": "5c09eac2-cedd-429f-9c18-88bb16e3c933",
   "metadata": {
    "execution": {
     "iopub.execute_input": "2023-03-15T07:14:29.189433Z",
     "iopub.status.busy": "2023-03-15T07:14:29.189175Z",
     "iopub.status.idle": "2023-03-15T07:14:29.564311Z",
     "shell.execute_reply": "2023-03-15T07:14:29.563798Z",
     "shell.execute_reply.started": "2023-03-15T07:14:29.189417Z"
    },
    "tags": []
   },
   "outputs": [],
   "source": [
    "\n",
    "# Load the diabetes dataset\n",
    "X, y = load_diabetes(return_X_y=True)\n",
    "\n",
    "df = pd.DataFrame(data= np.c_[X, y], columns= [\"Feature_\"+str(i) for i in range(X.shape[1])] + [\"Target\"])\n",
    "# Split the data into train and test sets\n",
    "X_train, X_test, y_train, y_test = train_test_split(X, y, test_size=0.2)\n",
    "\n",
    "# Fit linear regression model to the training data\n",
    "reg = LinearRegression().fit(X_train, y_train)\n",
    "lightGBM=LGBMRegressor().fit(X_train, y_train)\n",
    "\n",
    "\n",
    "\n",
    "# Make a prediction on the test data\n",
    "predictions = reg.predict(X_test)\n",
    "\n",
    "# predictions = lightGBM.predict(X_test)"
   ]
  },
  {
   "cell_type": "code",
   "execution_count": 3,
   "id": "6666ea98-61fe-42b6-8894-b3335b50f52d",
   "metadata": {
    "execution": {
     "iopub.execute_input": "2023-03-15T07:14:29.565626Z",
     "iopub.status.busy": "2023-03-15T07:14:29.565197Z",
     "iopub.status.idle": "2023-03-15T07:14:29.583058Z",
     "shell.execute_reply": "2023-03-15T07:14:29.582507Z",
     "shell.execute_reply.started": "2023-03-15T07:14:29.565605Z"
    },
    "tags": []
   },
   "outputs": [
    {
     "data": {
      "text/html": [
       "<div>\n",
       "<style scoped>\n",
       "    .dataframe tbody tr th:only-of-type {\n",
       "        vertical-align: middle;\n",
       "    }\n",
       "\n",
       "    .dataframe tbody tr th {\n",
       "        vertical-align: top;\n",
       "    }\n",
       "\n",
       "    .dataframe thead th {\n",
       "        text-align: right;\n",
       "    }\n",
       "</style>\n",
       "<table border=\"1\" class=\"dataframe\">\n",
       "  <thead>\n",
       "    <tr style=\"text-align: right;\">\n",
       "      <th></th>\n",
       "      <th>Feature_0</th>\n",
       "      <th>Feature_1</th>\n",
       "      <th>Feature_2</th>\n",
       "      <th>Feature_3</th>\n",
       "      <th>Feature_4</th>\n",
       "      <th>Feature_5</th>\n",
       "      <th>Feature_6</th>\n",
       "      <th>Feature_7</th>\n",
       "      <th>Feature_8</th>\n",
       "      <th>Feature_9</th>\n",
       "      <th>Target</th>\n",
       "    </tr>\n",
       "  </thead>\n",
       "  <tbody>\n",
       "    <tr>\n",
       "      <th>0</th>\n",
       "      <td>0.038076</td>\n",
       "      <td>0.050680</td>\n",
       "      <td>0.061696</td>\n",
       "      <td>0.021872</td>\n",
       "      <td>-0.044223</td>\n",
       "      <td>-0.034821</td>\n",
       "      <td>-0.043401</td>\n",
       "      <td>-0.002592</td>\n",
       "      <td>0.019907</td>\n",
       "      <td>-0.017646</td>\n",
       "      <td>151.0</td>\n",
       "    </tr>\n",
       "    <tr>\n",
       "      <th>1</th>\n",
       "      <td>-0.001882</td>\n",
       "      <td>-0.044642</td>\n",
       "      <td>-0.051474</td>\n",
       "      <td>-0.026328</td>\n",
       "      <td>-0.008449</td>\n",
       "      <td>-0.019163</td>\n",
       "      <td>0.074412</td>\n",
       "      <td>-0.039493</td>\n",
       "      <td>-0.068332</td>\n",
       "      <td>-0.092204</td>\n",
       "      <td>75.0</td>\n",
       "    </tr>\n",
       "    <tr>\n",
       "      <th>2</th>\n",
       "      <td>0.085299</td>\n",
       "      <td>0.050680</td>\n",
       "      <td>0.044451</td>\n",
       "      <td>-0.005670</td>\n",
       "      <td>-0.045599</td>\n",
       "      <td>-0.034194</td>\n",
       "      <td>-0.032356</td>\n",
       "      <td>-0.002592</td>\n",
       "      <td>0.002861</td>\n",
       "      <td>-0.025930</td>\n",
       "      <td>141.0</td>\n",
       "    </tr>\n",
       "    <tr>\n",
       "      <th>3</th>\n",
       "      <td>-0.089063</td>\n",
       "      <td>-0.044642</td>\n",
       "      <td>-0.011595</td>\n",
       "      <td>-0.036656</td>\n",
       "      <td>0.012191</td>\n",
       "      <td>0.024991</td>\n",
       "      <td>-0.036038</td>\n",
       "      <td>0.034309</td>\n",
       "      <td>0.022688</td>\n",
       "      <td>-0.009362</td>\n",
       "      <td>206.0</td>\n",
       "    </tr>\n",
       "    <tr>\n",
       "      <th>4</th>\n",
       "      <td>0.005383</td>\n",
       "      <td>-0.044642</td>\n",
       "      <td>-0.036385</td>\n",
       "      <td>0.021872</td>\n",
       "      <td>0.003935</td>\n",
       "      <td>0.015596</td>\n",
       "      <td>0.008142</td>\n",
       "      <td>-0.002592</td>\n",
       "      <td>-0.031988</td>\n",
       "      <td>-0.046641</td>\n",
       "      <td>135.0</td>\n",
       "    </tr>\n",
       "  </tbody>\n",
       "</table>\n",
       "</div>"
      ],
      "text/plain": [
       "   Feature_0  Feature_1  Feature_2  Feature_3  Feature_4  Feature_5  \\\n",
       "0   0.038076   0.050680   0.061696   0.021872  -0.044223  -0.034821   \n",
       "1  -0.001882  -0.044642  -0.051474  -0.026328  -0.008449  -0.019163   \n",
       "2   0.085299   0.050680   0.044451  -0.005670  -0.045599  -0.034194   \n",
       "3  -0.089063  -0.044642  -0.011595  -0.036656   0.012191   0.024991   \n",
       "4   0.005383  -0.044642  -0.036385   0.021872   0.003935   0.015596   \n",
       "\n",
       "   Feature_6  Feature_7  Feature_8  Feature_9  Target  \n",
       "0  -0.043401  -0.002592   0.019907  -0.017646   151.0  \n",
       "1   0.074412  -0.039493  -0.068332  -0.092204    75.0  \n",
       "2  -0.032356  -0.002592   0.002861  -0.025930   141.0  \n",
       "3  -0.036038   0.034309   0.022688  -0.009362   206.0  \n",
       "4   0.008142  -0.002592  -0.031988  -0.046641   135.0  "
      ]
     },
     "execution_count": 3,
     "metadata": {},
     "output_type": "execute_result"
    }
   ],
   "source": [
    "df.head()"
   ]
  },
  {
   "cell_type": "code",
   "execution_count": 4,
   "id": "131e0ebf-309c-441d-96f6-bb0e4d40c989",
   "metadata": {
    "execution": {
     "iopub.execute_input": "2023-03-15T07:14:29.585043Z",
     "iopub.status.busy": "2023-03-15T07:14:29.584775Z",
     "iopub.status.idle": "2023-03-15T07:14:29.588588Z",
     "shell.execute_reply": "2023-03-15T07:14:29.587937Z",
     "shell.execute_reply.started": "2023-03-15T07:14:29.585022Z"
    },
    "tags": []
   },
   "outputs": [],
   "source": [
    "data = pd.DataFrame({'y_test': y_test, 'predictions': predictions})"
   ]
  },
  {
   "cell_type": "code",
   "execution_count": 5,
   "id": "186ca36a-6dfb-4d77-b27f-c56c284a1905",
   "metadata": {
    "execution": {
     "iopub.execute_input": "2023-03-15T07:14:29.589662Z",
     "iopub.status.busy": "2023-03-15T07:14:29.589423Z",
     "iopub.status.idle": "2023-03-15T07:14:29.596781Z",
     "shell.execute_reply": "2023-03-15T07:14:29.596266Z",
     "shell.execute_reply.started": "2023-03-15T07:14:29.589639Z"
    },
    "tags": []
   },
   "outputs": [
    {
     "data": {
      "text/html": [
       "<div>\n",
       "<style scoped>\n",
       "    .dataframe tbody tr th:only-of-type {\n",
       "        vertical-align: middle;\n",
       "    }\n",
       "\n",
       "    .dataframe tbody tr th {\n",
       "        vertical-align: top;\n",
       "    }\n",
       "\n",
       "    .dataframe thead th {\n",
       "        text-align: right;\n",
       "    }\n",
       "</style>\n",
       "<table border=\"1\" class=\"dataframe\">\n",
       "  <thead>\n",
       "    <tr style=\"text-align: right;\">\n",
       "      <th></th>\n",
       "      <th>y_test</th>\n",
       "      <th>predictions</th>\n",
       "    </tr>\n",
       "  </thead>\n",
       "  <tbody>\n",
       "    <tr>\n",
       "      <th>0</th>\n",
       "      <td>156.0</td>\n",
       "      <td>162.534424</td>\n",
       "    </tr>\n",
       "    <tr>\n",
       "      <th>1</th>\n",
       "      <td>83.0</td>\n",
       "      <td>125.322377</td>\n",
       "    </tr>\n",
       "    <tr>\n",
       "      <th>2</th>\n",
       "      <td>221.0</td>\n",
       "      <td>201.617941</td>\n",
       "    </tr>\n",
       "    <tr>\n",
       "      <th>3</th>\n",
       "      <td>93.0</td>\n",
       "      <td>85.401151</td>\n",
       "    </tr>\n",
       "    <tr>\n",
       "      <th>4</th>\n",
       "      <td>135.0</td>\n",
       "      <td>133.088486</td>\n",
       "    </tr>\n",
       "  </tbody>\n",
       "</table>\n",
       "</div>"
      ],
      "text/plain": [
       "   y_test  predictions\n",
       "0   156.0   162.534424\n",
       "1    83.0   125.322377\n",
       "2   221.0   201.617941\n",
       "3    93.0    85.401151\n",
       "4   135.0   133.088486"
      ]
     },
     "execution_count": 5,
     "metadata": {},
     "output_type": "execute_result"
    }
   ],
   "source": [
    "data.head()"
   ]
  },
  {
   "cell_type": "markdown",
   "id": "2009f67f-54e0-46a9-b58c-a05b4794152b",
   "metadata": {},
   "source": [
    "Lets code funcions to calculate metrics"
   ]
  },
  {
   "cell_type": "code",
   "execution_count": 6,
   "id": "d4e4f117-d927-4649-8648-cad58dcbf6b2",
   "metadata": {
    "execution": {
     "iopub.execute_input": "2023-03-15T07:14:29.598029Z",
     "iopub.status.busy": "2023-03-15T07:14:29.597676Z",
     "iopub.status.idle": "2023-03-15T07:14:29.605370Z",
     "shell.execute_reply": "2023-03-15T07:14:29.604634Z",
     "shell.execute_reply.started": "2023-03-15T07:14:29.598006Z"
    },
    "tags": []
   },
   "outputs": [],
   "source": [
    "def mse(predictions,target):\n",
    "    \n",
    "    '''\n",
    "    mse = (target-predicions)**2/N\n",
    "    '''\n",
    "    \n",
    "    mse =((target-predictions)**2).sum()/len(target)\n",
    "    return mse\n",
    "\n",
    "\n",
    "def mae(predictions,target):\n",
    "    \n",
    "    '''\n",
    "    mae = |target-predicions|/N\n",
    "    '''\n",
    "    \n",
    "    mae =(np.abs(target-predictions)).sum()/len(target)\n",
    "    return mae\n",
    "\n",
    "\n",
    "def rmse(predictions,target):\n",
    "    \n",
    "    '''\n",
    "    rmse = ((target-predicions)**2/N)**0.5\n",
    "    '''\n",
    "    \n",
    "    rmse =(((target-predictions)**2).sum()/len(target))**0.5\n",
    "    return rmse\n",
    "\n",
    "\n",
    "def r2(predictions,target):\n",
    "    \n",
    "    '''\n",
    "    R² = 1 - (Σ(y_i - ŷ_i)^2 / Σ(y_i - y_mean)^2)\n",
    "    '''\n",
    "    \n",
    "    r2 =1-((((target-predictions)**2)).sum()/((target-target.mean())**2).sum())\n",
    "    return r2\n",
    "\n",
    "def mape(predictions,target):\n",
    "    \n",
    "    '''\n",
    "    MAPE= (1/n) * Σ|(y_i - ŷ_i) / y_i|\n",
    "    '''\n",
    "    \n",
    "    mape =(((np.abs(target-predictions))/target).sum()/len(target))\n",
    "    return mape\n",
    "\n",
    "\n",
    "def smape(predictions,target):\n",
    "    '''\n",
    "    SMAPE = 2*(1/n)*Σ|(y_i - ŷ_i) / (|y_i|+|ŷ_i|)\n",
    "    '''\n",
    "    denominator = np.abs(predictions) + np.abs(target)\n",
    "    denominator[denominator == 0] = 1\n",
    "    return np.mean(2 * np.abs(target - predictions) / denominator)"
   ]
  },
  {
   "cell_type": "code",
   "execution_count": 7,
   "id": "64de10a2-3fe0-4448-a872-d25facce3966",
   "metadata": {
    "execution": {
     "iopub.execute_input": "2023-03-15T07:14:29.606643Z",
     "iopub.status.busy": "2023-03-15T07:14:29.606401Z",
     "iopub.status.idle": "2023-03-15T07:14:29.613915Z",
     "shell.execute_reply": "2023-03-15T07:14:29.613393Z",
     "shell.execute_reply.started": "2023-03-15T07:14:29.606623Z"
    },
    "tags": []
   },
   "outputs": [
    {
     "name": "stdout",
     "output_type": "stream",
     "text": [
      "mse 3079.0495229548574\n",
      "mae 44.4118074031388\n",
      "rmse 55.48918383752691\n",
      "r2 0.5257212647708659\n",
      "mape 0.41925517999215706\n",
      "smape 0.3265599159517065\n"
     ]
    }
   ],
   "source": [
    "print('mse',mse(data['predictions'],data['y_test']))\n",
    "print('mae',mae(data['predictions'],data['y_test']))\n",
    "print('rmse',rmse(data['predictions'],data['y_test']))\n",
    "print('r2',r2(data['predictions'],data['y_test']))\n",
    "print('mape',mape(data['predictions'],data['y_test']))\n",
    "print('smape',smape(data['predictions'],data['y_test']))"
   ]
  },
  {
   "cell_type": "markdown",
   "id": "06352324-62c1-4b09-a5a7-06b774fa4005",
   "metadata": {},
   "source": [
    "Lets compare with results from sklearn"
   ]
  },
  {
   "cell_type": "code",
   "execution_count": 8,
   "id": "e6dce946-5ba4-44d9-ab94-f25b04adaea2",
   "metadata": {
    "execution": {
     "iopub.execute_input": "2023-03-15T07:14:29.614761Z",
     "iopub.status.busy": "2023-03-15T07:14:29.614549Z",
     "iopub.status.idle": "2023-03-15T07:14:29.619949Z",
     "shell.execute_reply": "2023-03-15T07:14:29.619418Z",
     "shell.execute_reply.started": "2023-03-15T07:14:29.614745Z"
    },
    "tags": []
   },
   "outputs": [
    {
     "name": "stdout",
     "output_type": "stream",
     "text": [
      "Mean Squared Error: 3079.0495229548574\n",
      "Mean Absolute Error: 44.4118074031388\n",
      "Root Mean Squared Error: 55.48918383752691\n",
      "R-squared: 0.5257212647708659\n",
      "Mean Absolute Percentage Error: 0.41925517999215706\n"
     ]
    }
   ],
   "source": [
    "\n",
    "\n",
    "# Mean Squared Error\n",
    "mse = mean_squared_error(data['y_test'], data['predictions'])\n",
    "print(\"Mean Squared Error:\", mse)\n",
    "\n",
    "# Mean Absolute Error\n",
    "mae = mean_absolute_error(data['y_test'], data['predictions'])\n",
    "print(\"Mean Absolute Error:\", mae)\n",
    "\n",
    "\n",
    "# Root Mean Squared Error\n",
    "rmse = np.sqrt(mse)\n",
    "print(\"Root Mean Squared Error:\", rmse)\n",
    "\n",
    "# R-squared\n",
    "r2 = r2_score(data['y_test'], data['predictions'])\n",
    "print(\"R-squared:\", r2)\n",
    "\n",
    "# Mean Absolute Percentage Error\n",
    "mape = mean_absolute_percentage_error(data['y_test'], data['predictions'])\n",
    "print(\"Mean Absolute Percentage Error:\", mape)\n",
    "\n"
   ]
  },
  {
   "cell_type": "markdown",
   "id": "e75d9b04-c420-4c25-8539-178ff54228eb",
   "metadata": {
    "execution": {
     "iopub.execute_input": "2023-01-21T23:44:02.795153Z",
     "iopub.status.busy": "2023-01-21T23:44:02.793914Z",
     "iopub.status.idle": "2023-01-21T23:44:02.816287Z",
     "shell.execute_reply": "2023-01-21T23:44:02.815485Z",
     "shell.execute_reply.started": "2023-01-21T23:44:02.795043Z"
    },
    "tags": []
   },
   "source": [
    "## Conclusion\n",
    "\n",
    "\n",
    "Below are simple explanations for r2 and mape"
   ]
  },
  {
   "cell_type": "markdown",
   "id": "fa738ac0-d380-4c10-a296-c5a7ac19b800",
   "metadata": {},
   "source": [
    "**The R-squared (R²)** \n",
    "metric is a measure of how well the independent variables in a regression model are able to predict the dependent variable. It is a value between 0 and 1, where a value of 1 indicates that the model perfectly explains the variation in the dependent variable, and a value of 0 indicates that the model explains none of the variation in the dependent variable.\n",
    "\n",
    "In simpler terms, R-squared measures the proportion of the variance in the dependent variable that is predictable from the independent variable(s). It tells us how well the model fits the data.\n",
    "\n",
    "For example, if an R-squared value of 0.8 is obtained, it means that 80% of the variance in the dependent variable is explained by the independent variable(s).\n",
    "\n",
    "It is important to note that a high R-squared value does not necessarily indicate that a model is a good fit for the data. It only indicates that the model explains a large portion of the variance in the dependent variable. Other factors, such as the presence of outliers or the ability of the model to make accurate predictions on new unseen data, should also be considered when evaluating the performance of a model."
   ]
  },
  {
   "cell_type": "markdown",
   "id": "03ca02bd-4c7b-4137-b1c5-412e7089d0b7",
   "metadata": {},
   "source": [
    "R2 is from 0 to 1. Closer to 1its better"
   ]
  },
  {
   "cell_type": "markdown",
   "id": "d172e945-f44f-4046-9f44-bd1bca45c47a",
   "metadata": {},
   "source": [
    "**The Mean Absolute Percentage Error (MAPE)** is a metric used to evaluate the accuracy of a model's predictions. It measures the average percentage difference between the predicted values and the actual values.\n",
    "\n",
    "The formula for MAPE is:\n",
    "MAPE = (1/n) * Σ|(y_i - ŷ_i) / y_i|\n",
    "\n",
    "Where y_i is the actual value and ŷ_i is the predicted value for the i-th sample, and n is the total number of samples.\n",
    "\n",
    "In simpler terms, MAPE is the average of the absolute percentage differences between the predicted values and the actual values. It is a measure of how close the predictions are to the actual values, with a lower value indicating a better fit.\n",
    "\n",
    "For example, if a model has a MAPE of 10%, it means that the average difference between the predicted values and the actual values is 10% of the actual value.\n",
    "\n",
    "It is important to note that MAPE is sensitive to outliers, if there are very large values in the dataset it will have a significant impact on the value of MAPE, so it should be used with care and it is not recommended to use it when the dataset has very large values."
   ]
  }
 ],
 "metadata": {
  "kernelspec": {
   "display_name": "Python 3 (ipykernel)",
   "language": "python",
   "name": "python3"
  },
  "language_info": {
   "codemirror_mode": {
    "name": "ipython",
    "version": 3
   },
   "file_extension": ".py",
   "mimetype": "text/x-python",
   "name": "python",
   "nbconvert_exporter": "python",
   "pygments_lexer": "ipython3",
   "version": "3.10.6"
  }
 },
 "nbformat": 4,
 "nbformat_minor": 5
}
