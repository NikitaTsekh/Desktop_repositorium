{
 "cells": [
  {
   "cell_type": "markdown",
   "id": "34a5efbe-df4c-4157-86a5-94f10aa5d617",
   "metadata": {},
   "source": [
    "### Import tools"
   ]
  },
  {
   "cell_type": "code",
   "execution_count": 50,
   "id": "8251f7ea-a8b2-4f83-beac-edf16c769274",
   "metadata": {
    "execution": {
     "iopub.execute_input": "2023-01-15T14:27:40.378783Z",
     "iopub.status.busy": "2023-01-15T14:27:40.378414Z",
     "iopub.status.idle": "2023-01-15T14:27:40.382372Z",
     "shell.execute_reply": "2023-01-15T14:27:40.381789Z",
     "shell.execute_reply.started": "2023-01-15T14:27:40.378765Z"
    },
    "tags": []
   },
   "outputs": [],
   "source": [
    "import pandas as pd\n",
    "import numpy as np\n",
    "import seaborn as sns\n",
    "from matplotlib import pyplot as plt\n",
    "from sklearn.linear_model import LogisticRegression\n",
    "from sklearn.model_selection import train_test_split\n",
    "from sklearn.preprocessing import StandardScaler\n",
    "from sklearn.tree import DecisionTreeClassifier\n",
    "from sklearn.tree import plot_tree"
   ]
  },
  {
   "cell_type": "markdown",
   "id": "5bbbd8c7-954a-4973-9ffe-0a7d2fbce252",
   "metadata": {},
   "source": [
    "STAT QUEST\n"
   ]
  },
  {
   "cell_type": "code",
   "execution_count": 2,
   "id": "823d7e7d-8b25-482f-be16-9290d468a596",
   "metadata": {
    "execution": {
     "iopub.execute_input": "2023-01-15T14:12:58.165047Z",
     "iopub.status.busy": "2023-01-15T14:12:58.164287Z",
     "iopub.status.idle": "2023-01-15T14:12:58.168301Z",
     "shell.execute_reply": "2023-01-15T14:12:58.167853Z",
     "shell.execute_reply.started": "2023-01-15T14:12:58.165025Z"
    },
    "tags": []
   },
   "outputs": [],
   "source": [
    "d = {'chest_paint': [0,1,1,1 ], 'good_blood_circ': [0,1,1,0],'blocked_art':[0,1,0,1],'weight':[125,180,210,167],'heart_disease':[0,1,0,1]}\n",
    "df = pd.DataFrame(data=d)"
   ]
  },
  {
   "cell_type": "code",
   "execution_count": 42,
   "id": "28ce1d89-3f02-4dc7-8009-e39416de7640",
   "metadata": {
    "execution": {
     "iopub.execute_input": "2023-01-15T14:21:04.183584Z",
     "iopub.status.busy": "2023-01-15T14:21:04.183238Z",
     "iopub.status.idle": "2023-01-15T14:21:04.189316Z",
     "shell.execute_reply": "2023-01-15T14:21:04.188892Z",
     "shell.execute_reply.started": "2023-01-15T14:21:04.183559Z"
    },
    "tags": []
   },
   "outputs": [
    {
     "data": {
      "text/html": [
       "<div>\n",
       "<style scoped>\n",
       "    .dataframe tbody tr th:only-of-type {\n",
       "        vertical-align: middle;\n",
       "    }\n",
       "\n",
       "    .dataframe tbody tr th {\n",
       "        vertical-align: top;\n",
       "    }\n",
       "\n",
       "    .dataframe thead th {\n",
       "        text-align: right;\n",
       "    }\n",
       "</style>\n",
       "<table border=\"1\" class=\"dataframe\">\n",
       "  <thead>\n",
       "    <tr style=\"text-align: right;\">\n",
       "      <th></th>\n",
       "      <th>chest_paint</th>\n",
       "      <th>good_blood_circ</th>\n",
       "      <th>blocked_art</th>\n",
       "      <th>weight</th>\n",
       "      <th>heart_disease</th>\n",
       "    </tr>\n",
       "  </thead>\n",
       "  <tbody>\n",
       "    <tr>\n",
       "      <th>0</th>\n",
       "      <td>0</td>\n",
       "      <td>0</td>\n",
       "      <td>0</td>\n",
       "      <td>125</td>\n",
       "      <td>0</td>\n",
       "    </tr>\n",
       "    <tr>\n",
       "      <th>1</th>\n",
       "      <td>1</td>\n",
       "      <td>1</td>\n",
       "      <td>1</td>\n",
       "      <td>180</td>\n",
       "      <td>1</td>\n",
       "    </tr>\n",
       "    <tr>\n",
       "      <th>2</th>\n",
       "      <td>1</td>\n",
       "      <td>1</td>\n",
       "      <td>0</td>\n",
       "      <td>210</td>\n",
       "      <td>0</td>\n",
       "    </tr>\n",
       "    <tr>\n",
       "      <th>3</th>\n",
       "      <td>1</td>\n",
       "      <td>0</td>\n",
       "      <td>1</td>\n",
       "      <td>167</td>\n",
       "      <td>1</td>\n",
       "    </tr>\n",
       "  </tbody>\n",
       "</table>\n",
       "</div>"
      ],
      "text/plain": [
       "   chest_paint  good_blood_circ  blocked_art  weight  heart_disease\n",
       "0            0                0            0     125              0\n",
       "1            1                1            1     180              1\n",
       "2            1                1            0     210              0\n",
       "3            1                0            1     167              1"
      ]
     },
     "execution_count": 42,
     "metadata": {},
     "output_type": "execute_result"
    }
   ],
   "source": [
    "df"
   ]
  },
  {
   "cell_type": "markdown",
   "id": "791fba36-1a1f-4659-b88a-47ca8b4b9fc1",
   "metadata": {},
   "source": [
    "Setp1\n",
    "\n",
    "Randomly select samples from original dataset"
   ]
  },
  {
   "cell_type": "code",
   "execution_count": 41,
   "id": "2bba054b-6246-4ddd-a9c1-5db2b25e821e",
   "metadata": {
    "execution": {
     "iopub.execute_input": "2023-01-15T14:20:53.052090Z",
     "iopub.status.busy": "2023-01-15T14:20:53.051862Z",
     "iopub.status.idle": "2023-01-15T14:20:53.058324Z",
     "shell.execute_reply": "2023-01-15T14:20:53.057820Z",
     "shell.execute_reply.started": "2023-01-15T14:20:53.052075Z"
    },
    "tags": []
   },
   "outputs": [
    {
     "data": {
      "text/html": [
       "<div>\n",
       "<style scoped>\n",
       "    .dataframe tbody tr th:only-of-type {\n",
       "        vertical-align: middle;\n",
       "    }\n",
       "\n",
       "    .dataframe tbody tr th {\n",
       "        vertical-align: top;\n",
       "    }\n",
       "\n",
       "    .dataframe thead th {\n",
       "        text-align: right;\n",
       "    }\n",
       "</style>\n",
       "<table border=\"1\" class=\"dataframe\">\n",
       "  <thead>\n",
       "    <tr style=\"text-align: right;\">\n",
       "      <th></th>\n",
       "      <th>chest_paint</th>\n",
       "      <th>good_blood_circ</th>\n",
       "      <th>blocked_art</th>\n",
       "      <th>weight</th>\n",
       "      <th>heart_disease</th>\n",
       "    </tr>\n",
       "  </thead>\n",
       "  <tbody>\n",
       "    <tr>\n",
       "      <th>3</th>\n",
       "      <td>1</td>\n",
       "      <td>0</td>\n",
       "      <td>1</td>\n",
       "      <td>167</td>\n",
       "      <td>1</td>\n",
       "    </tr>\n",
       "    <tr>\n",
       "      <th>2</th>\n",
       "      <td>1</td>\n",
       "      <td>1</td>\n",
       "      <td>0</td>\n",
       "      <td>210</td>\n",
       "      <td>0</td>\n",
       "    </tr>\n",
       "    <tr>\n",
       "      <th>2</th>\n",
       "      <td>1</td>\n",
       "      <td>1</td>\n",
       "      <td>0</td>\n",
       "      <td>210</td>\n",
       "      <td>0</td>\n",
       "    </tr>\n",
       "    <tr>\n",
       "      <th>2</th>\n",
       "      <td>1</td>\n",
       "      <td>1</td>\n",
       "      <td>0</td>\n",
       "      <td>210</td>\n",
       "      <td>0</td>\n",
       "    </tr>\n",
       "  </tbody>\n",
       "</table>\n",
       "</div>"
      ],
      "text/plain": [
       "   chest_paint  good_blood_circ  blocked_art  weight  heart_disease\n",
       "3            1                0            1     167              1\n",
       "2            1                1            0     210              0\n",
       "2            1                1            0     210              0\n",
       "2            1                1            0     210              0"
      ]
     },
     "execution_count": 41,
     "metadata": {},
     "output_type": "execute_result"
    }
   ],
   "source": [
    "n=df.shape[0]\n",
    "df_bootstrapped = df.iloc[np.random.randint(n, size=n)]\n",
    "df_bootstrapped"
   ]
  },
  {
   "cell_type": "markdown",
   "id": "e013fe97-740e-4a9a-b71f-08275f3ea468",
   "metadata": {},
   "source": [
    "Setp2\n",
    "\n",
    "Create a decision tree using the bootstrapped dataset, but only use a random subset of variables (or columns) at each step\n",
    "\n"
   ]
  },
  {
   "cell_type": "code",
   "execution_count": 57,
   "id": "79d828a9-94de-463e-a82f-77354856cbea",
   "metadata": {
    "execution": {
     "iopub.execute_input": "2023-01-15T14:30:31.109726Z",
     "iopub.status.busy": "2023-01-15T14:30:31.109494Z",
     "iopub.status.idle": "2023-01-15T14:30:31.114865Z",
     "shell.execute_reply": "2023-01-15T14:30:31.114265Z",
     "shell.execute_reply.started": "2023-01-15T14:30:31.109710Z"
    },
    "tags": []
   },
   "outputs": [
    {
     "data": {
      "text/plain": [
       "'good_blood_circ'"
      ]
     },
     "execution_count": 57,
     "metadata": {},
     "output_type": "execute_result"
    }
   ],
   "source": [
    "\n",
    "df.drop(columns='heart_disease').sample(2, axis=1).columns[1]"
   ]
  },
  {
   "cell_type": "code",
   "execution_count": 61,
   "id": "e77a69d4-82ee-48bb-9699-abb98b16991b",
   "metadata": {
    "execution": {
     "iopub.execute_input": "2023-01-15T14:31:47.935900Z",
     "iopub.status.busy": "2023-01-15T14:31:47.935455Z",
     "iopub.status.idle": "2023-01-15T14:31:47.948901Z",
     "shell.execute_reply": "2023-01-15T14:31:47.948149Z",
     "shell.execute_reply.started": "2023-01-15T14:31:47.935862Z"
    },
    "tags": []
   },
   "outputs": [
    {
     "data": {
      "text/html": [
       "<style>#sk-container-id-3 {color: black;background-color: white;}#sk-container-id-3 pre{padding: 0;}#sk-container-id-3 div.sk-toggleable {background-color: white;}#sk-container-id-3 label.sk-toggleable__label {cursor: pointer;display: block;width: 100%;margin-bottom: 0;padding: 0.3em;box-sizing: border-box;text-align: center;}#sk-container-id-3 label.sk-toggleable__label-arrow:before {content: \"▸\";float: left;margin-right: 0.25em;color: #696969;}#sk-container-id-3 label.sk-toggleable__label-arrow:hover:before {color: black;}#sk-container-id-3 div.sk-estimator:hover label.sk-toggleable__label-arrow:before {color: black;}#sk-container-id-3 div.sk-toggleable__content {max-height: 0;max-width: 0;overflow: hidden;text-align: left;background-color: #f0f8ff;}#sk-container-id-3 div.sk-toggleable__content pre {margin: 0.2em;color: black;border-radius: 0.25em;background-color: #f0f8ff;}#sk-container-id-3 input.sk-toggleable__control:checked~div.sk-toggleable__content {max-height: 200px;max-width: 100%;overflow: auto;}#sk-container-id-3 input.sk-toggleable__control:checked~label.sk-toggleable__label-arrow:before {content: \"▾\";}#sk-container-id-3 div.sk-estimator input.sk-toggleable__control:checked~label.sk-toggleable__label {background-color: #d4ebff;}#sk-container-id-3 div.sk-label input.sk-toggleable__control:checked~label.sk-toggleable__label {background-color: #d4ebff;}#sk-container-id-3 input.sk-hidden--visually {border: 0;clip: rect(1px 1px 1px 1px);clip: rect(1px, 1px, 1px, 1px);height: 1px;margin: -1px;overflow: hidden;padding: 0;position: absolute;width: 1px;}#sk-container-id-3 div.sk-estimator {font-family: monospace;background-color: #f0f8ff;border: 1px dotted black;border-radius: 0.25em;box-sizing: border-box;margin-bottom: 0.5em;}#sk-container-id-3 div.sk-estimator:hover {background-color: #d4ebff;}#sk-container-id-3 div.sk-parallel-item::after {content: \"\";width: 100%;border-bottom: 1px solid gray;flex-grow: 1;}#sk-container-id-3 div.sk-label:hover label.sk-toggleable__label {background-color: #d4ebff;}#sk-container-id-3 div.sk-serial::before {content: \"\";position: absolute;border-left: 1px solid gray;box-sizing: border-box;top: 0;bottom: 0;left: 50%;z-index: 0;}#sk-container-id-3 div.sk-serial {display: flex;flex-direction: column;align-items: center;background-color: white;padding-right: 0.2em;padding-left: 0.2em;position: relative;}#sk-container-id-3 div.sk-item {position: relative;z-index: 1;}#sk-container-id-3 div.sk-parallel {display: flex;align-items: stretch;justify-content: center;background-color: white;position: relative;}#sk-container-id-3 div.sk-item::before, #sk-container-id-3 div.sk-parallel-item::before {content: \"\";position: absolute;border-left: 1px solid gray;box-sizing: border-box;top: 0;bottom: 0;left: 50%;z-index: -1;}#sk-container-id-3 div.sk-parallel-item {display: flex;flex-direction: column;z-index: 1;position: relative;background-color: white;}#sk-container-id-3 div.sk-parallel-item:first-child::after {align-self: flex-end;width: 50%;}#sk-container-id-3 div.sk-parallel-item:last-child::after {align-self: flex-start;width: 50%;}#sk-container-id-3 div.sk-parallel-item:only-child::after {width: 0;}#sk-container-id-3 div.sk-dashed-wrapped {border: 1px dashed gray;margin: 0 0.4em 0.5em 0.4em;box-sizing: border-box;padding-bottom: 0.4em;background-color: white;}#sk-container-id-3 div.sk-label label {font-family: monospace;font-weight: bold;display: inline-block;line-height: 1.2em;}#sk-container-id-3 div.sk-label-container {text-align: center;}#sk-container-id-3 div.sk-container {/* jupyter's `normalize.less` sets `[hidden] { display: none; }` but bootstrap.min.css set `[hidden] { display: none !important; }` so we also need the `!important` here to be able to override the default hidden behavior on the sphinx rendered scikit-learn.org. See: https://github.com/scikit-learn/scikit-learn/issues/21755 */display: inline-block !important;position: relative;}#sk-container-id-3 div.sk-text-repr-fallback {display: none;}</style><div id=\"sk-container-id-3\" class=\"sk-top-container\"><div class=\"sk-text-repr-fallback\"><pre>DecisionTreeClassifier()</pre><b>In a Jupyter environment, please rerun this cell to show the HTML representation or trust the notebook. <br />On GitHub, the HTML representation is unable to render, please try loading this page with nbviewer.org.</b></div><div class=\"sk-container\" hidden><div class=\"sk-item\"><div class=\"sk-estimator sk-toggleable\"><input class=\"sk-toggleable__control sk-hidden--visually\" id=\"sk-estimator-id-3\" type=\"checkbox\" checked><label for=\"sk-estimator-id-3\" class=\"sk-toggleable__label sk-toggleable__label-arrow\">DecisionTreeClassifier</label><div class=\"sk-toggleable__content\"><pre>DecisionTreeClassifier()</pre></div></div></div></div></div>"
      ],
      "text/plain": [
       "DecisionTreeClassifier()"
      ]
     },
     "execution_count": 61,
     "metadata": {},
     "output_type": "execute_result"
    }
   ],
   "source": [
    "#We will select only 2\n",
    "tree_1 = DecisionTreeClassifier()\n",
    "\n",
    "tree_1.fit(df.drop(columns='heart_disease').sample(2, axis=1),df[['heart_disease']])"
   ]
  },
  {
   "cell_type": "code",
   "execution_count": 62,
   "id": "344fed7a-ffe6-4fdd-8900-35ff442c5c12",
   "metadata": {
    "execution": {
     "iopub.execute_input": "2023-01-15T14:31:49.481283Z",
     "iopub.status.busy": "2023-01-15T14:31:49.480448Z",
     "iopub.status.idle": "2023-01-15T14:31:49.694804Z",
     "shell.execute_reply": "2023-01-15T14:31:49.694294Z",
     "shell.execute_reply.started": "2023-01-15T14:31:49.481207Z"
    },
    "tags": []
   },
   "outputs": [
    {
     "data": {
      "text/plain": [
       "[Text(0.4, 0.8333333333333334, 'X[0] <= 146.0\\ngini = 0.5\\nsamples = 4\\nvalue = [2, 2]'),\n",
       " Text(0.2, 0.5, 'gini = 0.0\\nsamples = 1\\nvalue = [1, 0]'),\n",
       " Text(0.6, 0.5, 'X[0] <= 195.0\\ngini = 0.444\\nsamples = 3\\nvalue = [1, 2]'),\n",
       " Text(0.4, 0.16666666666666666, 'gini = 0.0\\nsamples = 2\\nvalue = [0, 2]'),\n",
       " Text(0.8, 0.16666666666666666, 'gini = 0.0\\nsamples = 1\\nvalue = [1, 0]')]"
      ]
     },
     "execution_count": 62,
     "metadata": {},
     "output_type": "execute_result"
    },
    {
     "data": {
      "image/png": "[encoded data removed]",
      "text/plain": [
       "<Figure size 640x480 with 1 Axes>"
      ]
     },
     "metadata": {},
     "output_type": "display_data"
    }
   ],
   "source": [
    "plot_tree(tree_1)"
   ]
  },
  {
   "cell_type": "markdown",
   "id": "4669d3f2-e292-42a6-8a77-3636ba53277c",
   "metadata": {
    "execution": {
     "iopub.execute_input": "2023-01-15T14:35:52.821835Z",
     "iopub.status.busy": "2023-01-15T14:35:52.821578Z",
     "iopub.status.idle": "2023-01-15T14:35:52.825832Z",
     "shell.execute_reply": "2023-01-15T14:35:52.825109Z",
     "shell.execute_reply.started": "2023-01-15T14:35:52.821817Z"
    },
    "tags": []
   },
   "source": [
    "Step 3.\n",
    "\n",
    "Go to step 1 and repeat 100 times\n",
    "\n",
    "\n",
    "\n",
    "FOr predicting new data, see which option got the more votes\n",
    "\n",
    "\n",
    "Bootstrapping + aggregating = Bagging"
   ]
  },
  {
   "cell_type": "markdown",
   "id": "cffa8648-7fc6-4811-bd95-26be1c6c6a2f",
   "metadata": {},
   "source": [
    "\n",
    "Step 4.\n",
    "\n",
    "\n",
    "We run out of bag sample through all trees where the sample was not included and see where it correctly or not predicts those samples.\n",
    "\n",
    "We find out-of-bag samples incorrectly labeled\n",
    "\n",
    "\n",
    "\n",
    "Ultimately we measuer our random forrest by measuering how correctly our Out-of_bag samples had been classified\n",
    "\n",
    "\n",
    "\n",
    "Step 5.\n",
    "\n",
    "\n",
    "Compare forrest built with 2 variables per step with random forrest with 3 variables per step"
   ]
  },
  {
   "cell_type": "markdown",
   "id": "b3bcea22-cf4c-42a9-8712-df8fe774456c",
   "metadata": {},
   "source": [
    "Gini impurity \n",
    "\n",
    "![image.png](attachment:8e5a3940-ea1e-4a76-b7cd-cfb2e7ee4ce0.png)"
   ]
  },
  {
   "cell_type": "markdown",
   "id": "9fc16f41-5544-4256-b4d6-e9e11e266d24",
   "metadata": {},
   "source": [
    "For numerical data, its more complicated:\n",
    "-Sorting\n",
    "\n",
    "-calculating averages"
   ]
  },
  {
   "cell_type": "markdown",
   "id": "d02f61c6-92e5-439a-a984-fac0754093c8",
   "metadata": {},
   "source": [
    "We choose sample with lowest impurity. Its loves_soda"
   ]
  }
 ],
 "metadata": {
  "kernelspec": {
   "display_name": "Python 3 (ipykernel)",
   "language": "python",
   "name": "python3"
  },
  "language_info": {
   "codemirror_mode": {
    "name": "ipython",
    "version": 3
   },
   "file_extension": ".py",
   "mimetype": "text/x-python",
   "name": "python",
   "nbconvert_exporter": "python",
   "pygments_lexer": "ipython3",
   "version": "3.10.6"
  }
 },
 "nbformat": 4,
 "nbformat_minor": 5
}
