{
 "cells": [
  {
   "cell_type": "markdown",
   "id": "05c26904",
   "metadata": {
    "toc": true
   },
   "source": [
    "### Imports\n"
   ]
  },
  {
   "cell_type": "code",
   "execution_count": 1,
   "id": "9ae38205",
   "metadata": {
    "ExecuteTime": {
     "end_time": "2023-01-09T17:22:36.201698Z",
     "start_time": "2023-01-09T17:22:35.621201Z"
    },
    "execution": {
     "iopub.execute_input": "2023-01-10T11:47:38.504958Z",
     "iopub.status.busy": "2023-01-10T11:47:38.504053Z",
     "iopub.status.idle": "2023-01-10T11:47:39.526212Z",
     "shell.execute_reply": "2023-01-10T11:47:39.525338Z",
     "shell.execute_reply.started": "2023-01-10T11:47:38.504771Z"
    },
    "tags": []
   },
   "outputs": [],
   "source": [
    "import pandas as pd\n",
    "import numpy as np\n",
    "from matplotlib import pyplot as plt\n",
    "\n"
   ]
  },
  {
   "cell_type": "markdown",
   "id": "46387b51-e460-4bc9-8cf0-16a52c2b69cb",
   "metadata": {},
   "source": [
    "### DataFrame creating\n",
    "\n",
    "We will use 3D dataset for simpliticy"
   ]
  },
  {
   "cell_type": "code",
   "execution_count": 48,
   "id": "438b952c-14ad-4ea1-9dd2-390e3252d420",
   "metadata": {
    "execution": {
     "iopub.execute_input": "2023-01-10T12:27:40.692798Z",
     "iopub.status.busy": "2023-01-10T12:27:40.692255Z",
     "iopub.status.idle": "2023-01-10T12:27:42.432728Z",
     "shell.execute_reply": "2023-01-10T12:27:42.431999Z",
     "shell.execute_reply.started": "2023-01-10T12:27:40.692753Z"
    },
    "tags": []
   },
   "outputs": [
    {
     "name": "stdout",
     "output_type": "stream",
     "text": [
      "Initial_MSE: 9.539091157538566\n",
      "y=1.5637517865177981xX1+-1.2212964045501509xX2+2.009525070515334\n",
      "Final_MSE_after 1000 steps: 1.0164375195707551\n",
      "best_MSE:  1.0164375195707551\n"
     ]
    }
   ],
   "source": [
    "df =pd.DataFrame({'x1':[1.14,3.64,5.31,8.61,9.66],'x2':[2.14,4.64,6.31,7.61,10.66],'y':[1.6,0.49,4.14,6.28,3.7]})\n",
    "\n",
    "m1,m2,mb=1,1,1 #random m and b\n",
    "m1,m2,mb=0,0,0 #random m and b\n",
    "nu=0.01\n",
    "n=1000 #число шагов\n",
    "df = df[['x1','x2','y']].copy()\n",
    "\n",
    "df['y_pred']=df['x1']*m1+df['x2']*m2+b\n",
    "df['err_se']=(df['y']-df['y_pred'])**2\n",
    "print('Initial_MSE:', df['err_se'].mean())\n",
    "best_MSE=100\n",
    "best_m1=0\n",
    "best_m2=0\n",
    "best_b=0\n",
    "for i in range(n):\n",
    "    df['m1_change']=2*df['x1']*(df['y']-df['y_pred'])\n",
    "    df['m2_change']=2*df['x2']*(df['y']-df['y_pred'])\n",
    "    df['b_change']=2*(df['y']-df['y_pred'])\n",
    "    m1=m1+nu*df['m1_change'].mean()\n",
    "    m2=m2+nu*df['m2_change'].mean()\n",
    "    b=b+nu*df['b_change'].mean()\n",
    "    \n",
    "    df['y_pred']=df['x1']*m1+df['x2']*m2+b\n",
    "    # err_abs_previous = df.err_abs.mean()\n",
    "    df['err_se']=(df['y']-df['y_pred'])**2\n",
    "    if ((df['err_se'].mean()<best_MSE)):\n",
    "        best_MSE= df['err_se'].mean()\n",
    "        best_m1=m1\n",
    "        best_m2=m2\n",
    "        best_b=b\n",
    "    # print(df['err_se'].mean())\n",
    "print(f'y={m1}xX1+{m2}xX2+{b}')\n",
    "print(f'Final_MSE_after {n} steps:', df['err_se'].mean())\n",
    "\n",
    "print('best_MSE: ',best_MSE)"
   ]
  },
  {
   "cell_type": "code",
   "execution_count": 49,
   "id": "97295466-cdc9-4eba-aef9-c39bd081e6f6",
   "metadata": {
    "execution": {
     "iopub.execute_input": "2023-01-10T12:35:28.333540Z",
     "iopub.status.busy": "2023-01-10T12:35:28.333122Z",
     "iopub.status.idle": "2023-01-10T12:35:28.341769Z",
     "shell.execute_reply": "2023-01-10T12:35:28.341249Z",
     "shell.execute_reply.started": "2023-01-10T12:35:28.333522Z"
    },
    "tags": []
   },
   "outputs": [
    {
     "data": {
      "text/html": [
       "<div>\n",
       "<style scoped>\n",
       "    .dataframe tbody tr th:only-of-type {\n",
       "        vertical-align: middle;\n",
       "    }\n",
       "\n",
       "    .dataframe tbody tr th {\n",
       "        vertical-align: top;\n",
       "    }\n",
       "\n",
       "    .dataframe thead th {\n",
       "        text-align: right;\n",
       "    }\n",
       "</style>\n",
       "<table border=\"1\" class=\"dataframe\">\n",
       "  <thead>\n",
       "    <tr style=\"text-align: right;\">\n",
       "      <th></th>\n",
       "      <th>x1</th>\n",
       "      <th>x2</th>\n",
       "      <th>y</th>\n",
       "      <th>y_pred</th>\n",
       "    </tr>\n",
       "  </thead>\n",
       "  <tbody>\n",
       "    <tr>\n",
       "      <th>0</th>\n",
       "      <td>1.14</td>\n",
       "      <td>2.14</td>\n",
       "      <td>1.60</td>\n",
       "      <td>4.28</td>\n",
       "    </tr>\n",
       "    <tr>\n",
       "      <th>1</th>\n",
       "      <td>3.64</td>\n",
       "      <td>4.64</td>\n",
       "      <td>0.49</td>\n",
       "      <td>9.28</td>\n",
       "    </tr>\n",
       "    <tr>\n",
       "      <th>2</th>\n",
       "      <td>5.31</td>\n",
       "      <td>6.31</td>\n",
       "      <td>4.14</td>\n",
       "      <td>12.62</td>\n",
       "    </tr>\n",
       "    <tr>\n",
       "      <th>3</th>\n",
       "      <td>8.61</td>\n",
       "      <td>7.61</td>\n",
       "      <td>6.28</td>\n",
       "      <td>17.22</td>\n",
       "    </tr>\n",
       "    <tr>\n",
       "      <th>4</th>\n",
       "      <td>9.66</td>\n",
       "      <td>10.66</td>\n",
       "      <td>3.70</td>\n",
       "      <td>21.32</td>\n",
       "    </tr>\n",
       "  </tbody>\n",
       "</table>\n",
       "</div>"
      ],
      "text/plain": [
       "     x1     x2     y  y_pred\n",
       "0  1.14   2.14  1.60    4.28\n",
       "1  3.64   4.64  0.49    9.28\n",
       "2  5.31   6.31  4.14   12.62\n",
       "3  8.61   7.61  6.28   17.22\n",
       "4  9.66  10.66  3.70   21.32"
      ]
     },
     "metadata": {},
     "output_type": "display_data"
    }
   ],
   "source": [
    "df =pd.DataFrame({'x1':[1.14,3.64,5.31,8.61,9.66],'x2':[2.14,4.64,6.31,7.61,10.66],'y':[1.6,0.49,4.14,6.28,3.7]})\n",
    "\n",
    "m1,m2,b=1,1,1 #random m and b\n",
    "nu=0.1\n",
    "\n",
    "df['y_pred']=df['x1']*m1+df['x2']*m2 +b\n",
    "display(df)\n",
    "# df['err_se']=(df['y']-df['y_pred'])**2"
   ]
  },
  {
   "cell_type": "markdown",
   "id": "01e484dd-8006-4e68-9194-89a80b78f056",
   "metadata": {},
   "source": [
    "### Linear regresssion manually self-made"
   ]
  },
  {
   "cell_type": "code",
   "execution_count": 57,
   "id": "cafa89e6-57e5-4e75-b694-1b83f57b9a0d",
   "metadata": {
    "execution": {
     "iopub.execute_input": "2023-01-10T12:38:06.145868Z",
     "iopub.status.busy": "2023-01-10T12:38:06.145028Z",
     "iopub.status.idle": "2023-01-10T12:38:07.915214Z",
     "shell.execute_reply": "2023-01-10T12:38:07.914689Z",
     "shell.execute_reply.started": "2023-01-10T12:38:06.145796Z"
    },
    "tags": []
   },
   "outputs": [
    {
     "name": "stdout",
     "output_type": "stream",
     "text": [
      "Initial_MSE: 117.30097999999998\n",
      "y=1.5631475586925132xX1+-1.2204847850998022xX2+2.0076576513270967\n",
      "Final_MSE_after 1000 steps: 1.0165485115704012\n",
      "best_MSE:  1.0165485115704012\n"
     ]
    }
   ],
   "source": [
    "#learning rate уменьшили до однйо сотой, так как иначе кривая улетает не туда сразу и не попадает в нужную точку\n",
    "#и ошибка становится огромной. но это если мы стартуем от m и b равным 1,1. Если стартуем 100,1 то надо 5000 шакгов. В идеале в алгоритме менять скорость обучения и число шагов постепенно\n",
    "df =pd.DataFrame({'x1':[1.14,3.64,5.31,8.61,9.66],'x2':[2.14,4.64,6.31,7.61,10.66],'y':[1.6,0.49,4.14,6.28,3.7]})\n",
    "\n",
    "m1,m2,b=1,1,1 #random m and b\n",
    "nu=0.01\n",
    "n=1000 #число шагов\n",
    "df = df[['x1','x2','y']].copy()\n",
    "\n",
    "df['y_pred']=df['x1']*m1+df['x2']*m2+b\n",
    "df['err_se']=(df['y']-df['y_pred'])**2\n",
    "print('Initial_MSE:', df['err_se'].mean())\n",
    "best_MSE=100\n",
    "best_m1=0\n",
    "best_m2=0\n",
    "best_b=0\n",
    "for i in range(n):\n",
    "    df['m1_change']=2*df['x1']*(df['y']-df['y_pred'])\n",
    "    df['m2_change']=2*df['x2']*(df['y']-df['y_pred'])\n",
    "    df['b_change']=2*(df['y']-df['y_pred'])\n",
    "    m1=m1+nu*df['m1_change'].mean()\n",
    "    m2=m2+nu*df['m2_change'].mean()\n",
    "    b=b+nu*df['b_change'].mean()\n",
    "    \n",
    "    df['y_pred']=df['x1']*m1+df['x2']*m2+b\n",
    "    # err_abs_previous = df.err_abs.mean()\n",
    "    df['err_se']=(df['y']-df['y_pred'])**2\n",
    "    if ((df['err_se'].mean()<best_MSE)):\n",
    "        best_MSE= df['err_se'].mean()\n",
    "        best_m1=m1\n",
    "        best_m2=m2\n",
    "        best_b=b\n",
    "    # print(df['err_se'].mean())\n",
    "print(f'y={m1}xX1+{m2}xX2+{b}')\n",
    "print(f'Final_MSE_after {n} steps:', df['err_se'].mean())\n",
    "\n",
    "print('best_MSE: ',best_MSE)"
   ]
  },
  {
   "cell_type": "markdown",
   "id": "153e861e-e333-43ef-a0bd-b562b87b13d6",
   "metadata": {
    "execution": {
     "iopub.execute_input": "2023-01-10T12:17:46.036763Z",
     "iopub.status.busy": "2023-01-10T12:17:46.036296Z",
     "iopub.status.idle": "2023-01-10T12:17:46.046161Z",
     "shell.execute_reply": "2023-01-10T12:17:46.045163Z",
     "shell.execute_reply.started": "2023-01-10T12:17:46.036725Z"
    },
    "tags": []
   },
   "source": [
    "### Linear Regression using self_made_class\n",
    "\n",
    "just making the same, but it is usable for any dimension dataset"
   ]
  },
  {
   "cell_type": "code",
   "execution_count": 51,
   "id": "b014c6f2-6b63-4740-9454-f9a340e3a82e",
   "metadata": {
    "execution": {
     "iopub.execute_input": "2023-01-10T12:37:17.431258Z",
     "iopub.status.busy": "2023-01-10T12:37:17.430463Z",
     "iopub.status.idle": "2023-01-10T12:37:17.438169Z",
     "shell.execute_reply": "2023-01-10T12:37:17.437597Z",
     "shell.execute_reply.started": "2023-01-10T12:37:17.431189Z"
    },
    "tags": []
   },
   "outputs": [],
   "source": [
    "class LinearRegression() :\n",
    "\t\n",
    "\tdef __init__( self, learning_rate, iterations ) :\n",
    "\t\t\n",
    "\t\tself.learning_rate = learning_rate\n",
    "\t\t\n",
    "\t\tself.iterations = iterations\n",
    "\t\t\n",
    "\t# Function for model training\n",
    "\t\t\t\n",
    "\tdef fit( self, X, Y ) :\n",
    "\t\t\n",
    "\t\t# no_of_training_examples, no_of_features\n",
    "\t\t\n",
    "\t\tself.m, self.n = X.shape\n",
    "\t\t\n",
    "\t\t# weight initialization\n",
    "\t\t\n",
    "\t\tself.W = np.ones( self.n )\n",
    "\t\t\n",
    "\t\tself.b = 1\n",
    "\t\t\n",
    "\t\tself.X = X\n",
    "\t\t\n",
    "\t\tself.Y = Y\n",
    "\t\t\n",
    "\t\t\n",
    "\t\t# gradient descent learning\n",
    "\t\t\t\t\n",
    "\t\tfor i in range( self.iterations ) :\n",
    "\t\t\t\n",
    "\t\t\tself.update_weights()\n",
    "\t\t\t\n",
    "\t\treturn self\n",
    "\t\n",
    "\t# Helper function to update weights in gradient descent\n",
    "\t\n",
    "\tdef update_weights( self ) :\n",
    "\t\t\t\n",
    "\t\tY_pred = self.predict( self.X )\n",
    "\t\t\n",
    "\t\t# calculate gradients\n",
    "\t\n",
    "\t\tdW = - ( 2 * ( self.X.T ).dot( self.Y - Y_pred ) ) / self.m  #derivative for mse with respect to W\n",
    "\t\n",
    "\t\tdb = - 2 * np.sum( self.Y - Y_pred ) / self.m #derivative for mse with respect to b\n",
    "\t\t\n",
    "\t\t# update weights\n",
    "\t\n",
    "\t\tself.W = self.W - self.learning_rate * dW\n",
    "\t\n",
    "\t\tself.b = self.b - self.learning_rate * db\n",
    "\t\t\n",
    "\t\treturn self\n",
    "\t\n",
    "\t# Hypothetical function h( x )\n",
    "\t\n",
    "\tdef predict( self, X ) :\n",
    "\t\n",
    "\t\treturn X.dot( self.W ) + self.b\n",
    "\t"
   ]
  },
  {
   "cell_type": "code",
   "execution_count": 55,
   "id": "094f02b2-551b-40e5-81ec-eb6b711ab3b5",
   "metadata": {
    "execution": {
     "iopub.execute_input": "2023-01-10T12:37:48.518615Z",
     "iopub.status.busy": "2023-01-10T12:37:48.518290Z",
     "iopub.status.idle": "2023-01-10T12:37:48.541503Z",
     "shell.execute_reply": "2023-01-10T12:37:48.540976Z",
     "shell.execute_reply.started": "2023-01-10T12:37:48.518598Z"
    },
    "tags": []
   },
   "outputs": [
    {
     "name": "stdout",
     "output_type": "stream",
     "text": [
      "[ 1.56314756 -1.22048479] 2.007657651327096\n"
     ]
    }
   ],
   "source": [
    "#fitting the model\n",
    "X =  df[['x1','x2']].values\n",
    "\n",
    "Y = df.iloc[:,2].values\n",
    "\n",
    "\n",
    "model = LinearRegression( iterations = 1000, learning_rate = 0.01 )\n",
    "model.fit(X,Y)\n"
   ]
  },
  {
   "cell_type": "code",
   "execution_count": 56,
   "id": "1ce98018-7b7f-4b3c-8c57-4e3390ae9529",
   "metadata": {
    "execution": {
     "iopub.execute_input": "2023-01-10T12:37:51.047064Z",
     "iopub.status.busy": "2023-01-10T12:37:51.046857Z",
     "iopub.status.idle": "2023-01-10T12:37:51.058691Z",
     "shell.execute_reply": "2023-01-10T12:37:51.058204Z",
     "shell.execute_reply.started": "2023-01-10T12:37:51.047048Z"
    },
    "tags": []
   },
   "outputs": [
    {
     "name": "stdout",
     "output_type": "stream",
     "text": [
      "1.563147558692513 -1.2204847850998022 2.007657651327096\n"
     ]
    },
    {
     "data": {
      "text/html": [
       "<div>\n",
       "<style scoped>\n",
       "    .dataframe tbody tr th:only-of-type {\n",
       "        vertical-align: middle;\n",
       "    }\n",
       "\n",
       "    .dataframe tbody tr th {\n",
       "        vertical-align: top;\n",
       "    }\n",
       "\n",
       "    .dataframe thead th {\n",
       "        text-align: right;\n",
       "    }\n",
       "</style>\n",
       "<table border=\"1\" class=\"dataframe\">\n",
       "  <thead>\n",
       "    <tr style=\"text-align: right;\">\n",
       "      <th></th>\n",
       "      <th>x1</th>\n",
       "      <th>x2</th>\n",
       "      <th>y</th>\n",
       "      <th>y_pred</th>\n",
       "      <th>err_se</th>\n",
       "      <th>m1_change</th>\n",
       "      <th>m2_change</th>\n",
       "      <th>b_change</th>\n",
       "    </tr>\n",
       "  </thead>\n",
       "  <tbody>\n",
       "    <tr>\n",
       "      <th>0</th>\n",
       "      <td>1.14</td>\n",
       "      <td>2.14</td>\n",
       "      <td>1.60</td>\n",
       "      <td>1.177808</td>\n",
       "      <td>0.178246</td>\n",
       "      <td>7.516233e-01</td>\n",
       "      <td>1.410942e+00</td>\n",
       "      <td>6.593187e-01</td>\n",
       "    </tr>\n",
       "    <tr>\n",
       "      <th>1</th>\n",
       "      <td>3.64</td>\n",
       "      <td>4.64</td>\n",
       "      <td>0.49</td>\n",
       "      <td>2.034465</td>\n",
       "      <td>2.385373</td>\n",
       "      <td>-1.149031e+01</td>\n",
       "      <td>-1.464699e+01</td>\n",
       "      <td>-3.156678e+00</td>\n",
       "    </tr>\n",
       "    <tr>\n",
       "      <th>2</th>\n",
       "      <td>5.31</td>\n",
       "      <td>6.31</td>\n",
       "      <td>4.14</td>\n",
       "      <td>2.606712</td>\n",
       "      <td>2.350971</td>\n",
       "      <td>1.633991e+01</td>\n",
       "      <td>1.941711e+01</td>\n",
       "      <td>3.077197e+00</td>\n",
       "    </tr>\n",
       "    <tr>\n",
       "      <th>3</th>\n",
       "      <td>8.61</td>\n",
       "      <td>7.61</td>\n",
       "      <td>6.28</td>\n",
       "      <td>6.178469</td>\n",
       "      <td>0.010309</td>\n",
       "      <td>5.103569e-09</td>\n",
       "      <td>4.510820e-09</td>\n",
       "      <td>5.927490e-10</td>\n",
       "    </tr>\n",
       "    <tr>\n",
       "      <th>4</th>\n",
       "      <td>9.66</td>\n",
       "      <td>10.66</td>\n",
       "      <td>3.70</td>\n",
       "      <td>4.097295</td>\n",
       "      <td>0.157844</td>\n",
       "      <td>-5.601230e+00</td>\n",
       "      <td>-6.181067e+00</td>\n",
       "      <td>-5.798374e-01</td>\n",
       "    </tr>\n",
       "  </tbody>\n",
       "</table>\n",
       "</div>"
      ],
      "text/plain": [
       "     x1     x2     y    y_pred    err_se     m1_change     m2_change  \\\n",
       "0  1.14   2.14  1.60  1.177808  0.178246  7.516233e-01  1.410942e+00   \n",
       "1  3.64   4.64  0.49  2.034465  2.385373 -1.149031e+01 -1.464699e+01   \n",
       "2  5.31   6.31  4.14  2.606712  2.350971  1.633991e+01  1.941711e+01   \n",
       "3  8.61   7.61  6.28  6.178469  0.010309  5.103569e-09  4.510820e-09   \n",
       "4  9.66  10.66  3.70  4.097295  0.157844 -5.601230e+00 -6.181067e+00   \n",
       "\n",
       "       b_change  \n",
       "0  6.593187e-01  \n",
       "1 -3.156678e+00  \n",
       "2  3.077197e+00  \n",
       "3  5.927490e-10  \n",
       "4 -5.798374e-01  "
      ]
     },
     "metadata": {},
     "output_type": "display_data"
    },
    {
     "name": "stdout",
     "output_type": "stream",
     "text": [
      "1.0165485115704005\n"
     ]
    }
   ],
   "source": [
    "#Checking resuult\n",
    "m1=model.W[0]\n",
    "m2=model.W[1]\n",
    "b=model.b\n",
    "print(m1,m2,b)\n",
    "\n",
    "df['y_pred']=df['x1']*m1+df['x2']*m2 +b\n",
    "df['err_se']=(df['y']-df['y_pred'])**2\n",
    "display(df)\n",
    "print(df['err_se'].mean())"
   ]
  },
  {
   "cell_type": "markdown",
   "id": "1c545972-15d0-4756-8d64-d50d420a6360",
   "metadata": {},
   "source": [
    "Loading from sklearn module"
   ]
  },
  {
   "cell_type": "code",
   "execution_count": 60,
   "id": "8d51e123-e966-42da-87d4-f3bc98cbf188",
   "metadata": {
    "execution": {
     "iopub.execute_input": "2023-01-10T12:40:55.321558Z",
     "iopub.status.busy": "2023-01-10T12:40:55.321327Z",
     "iopub.status.idle": "2023-01-10T12:40:55.330261Z",
     "shell.execute_reply": "2023-01-10T12:40:55.329569Z",
     "shell.execute_reply.started": "2023-01-10T12:40:55.321541Z"
    },
    "tags": []
   },
   "outputs": [
    {
     "data": {
      "text/html": [
       "<style>#sk-container-id-1 {color: black;background-color: white;}#sk-container-id-1 pre{padding: 0;}#sk-container-id-1 div.sk-toggleable {background-color: white;}#sk-container-id-1 label.sk-toggleable__label {cursor: pointer;display: block;width: 100%;margin-bottom: 0;padding: 0.3em;box-sizing: border-box;text-align: center;}#sk-container-id-1 label.sk-toggleable__label-arrow:before {content: \"▸\";float: left;margin-right: 0.25em;color: #696969;}#sk-container-id-1 label.sk-toggleable__label-arrow:hover:before {color: black;}#sk-container-id-1 div.sk-estimator:hover label.sk-toggleable__label-arrow:before {color: black;}#sk-container-id-1 div.sk-toggleable__content {max-height: 0;max-width: 0;overflow: hidden;text-align: left;background-color: #f0f8ff;}#sk-container-id-1 div.sk-toggleable__content pre {margin: 0.2em;color: black;border-radius: 0.25em;background-color: #f0f8ff;}#sk-container-id-1 input.sk-toggleable__control:checked~div.sk-toggleable__content {max-height: 200px;max-width: 100%;overflow: auto;}#sk-container-id-1 input.sk-toggleable__control:checked~label.sk-toggleable__label-arrow:before {content: \"▾\";}#sk-container-id-1 div.sk-estimator input.sk-toggleable__control:checked~label.sk-toggleable__label {background-color: #d4ebff;}#sk-container-id-1 div.sk-label input.sk-toggleable__control:checked~label.sk-toggleable__label {background-color: #d4ebff;}#sk-container-id-1 input.sk-hidden--visually {border: 0;clip: rect(1px 1px 1px 1px);clip: rect(1px, 1px, 1px, 1px);height: 1px;margin: -1px;overflow: hidden;padding: 0;position: absolute;width: 1px;}#sk-container-id-1 div.sk-estimator {font-family: monospace;background-color: #f0f8ff;border: 1px dotted black;border-radius: 0.25em;box-sizing: border-box;margin-bottom: 0.5em;}#sk-container-id-1 div.sk-estimator:hover {background-color: #d4ebff;}#sk-container-id-1 div.sk-parallel-item::after {content: \"\";width: 100%;border-bottom: 1px solid gray;flex-grow: 1;}#sk-container-id-1 div.sk-label:hover label.sk-toggleable__label {background-color: #d4ebff;}#sk-container-id-1 div.sk-serial::before {content: \"\";position: absolute;border-left: 1px solid gray;box-sizing: border-box;top: 0;bottom: 0;left: 50%;z-index: 0;}#sk-container-id-1 div.sk-serial {display: flex;flex-direction: column;align-items: center;background-color: white;padding-right: 0.2em;padding-left: 0.2em;position: relative;}#sk-container-id-1 div.sk-item {position: relative;z-index: 1;}#sk-container-id-1 div.sk-parallel {display: flex;align-items: stretch;justify-content: center;background-color: white;position: relative;}#sk-container-id-1 div.sk-item::before, #sk-container-id-1 div.sk-parallel-item::before {content: \"\";position: absolute;border-left: 1px solid gray;box-sizing: border-box;top: 0;bottom: 0;left: 50%;z-index: -1;}#sk-container-id-1 div.sk-parallel-item {display: flex;flex-direction: column;z-index: 1;position: relative;background-color: white;}#sk-container-id-1 div.sk-parallel-item:first-child::after {align-self: flex-end;width: 50%;}#sk-container-id-1 div.sk-parallel-item:last-child::after {align-self: flex-start;width: 50%;}#sk-container-id-1 div.sk-parallel-item:only-child::after {width: 0;}#sk-container-id-1 div.sk-dashed-wrapped {border: 1px dashed gray;margin: 0 0.4em 0.5em 0.4em;box-sizing: border-box;padding-bottom: 0.4em;background-color: white;}#sk-container-id-1 div.sk-label label {font-family: monospace;font-weight: bold;display: inline-block;line-height: 1.2em;}#sk-container-id-1 div.sk-label-container {text-align: center;}#sk-container-id-1 div.sk-container {/* jupyter's `normalize.less` sets `[hidden] { display: none; }` but bootstrap.min.css set `[hidden] { display: none !important; }` so we also need the `!important` here to be able to override the default hidden behavior on the sphinx rendered scikit-learn.org. See: https://github.com/scikit-learn/scikit-learn/issues/21755 */display: inline-block !important;position: relative;}#sk-container-id-1 div.sk-text-repr-fallback {display: none;}</style><div id=\"sk-container-id-1\" class=\"sk-top-container\"><div class=\"sk-text-repr-fallback\"><pre>LinearRegression()</pre><b>In a Jupyter environment, please rerun this cell to show the HTML representation or trust the notebook. <br />On GitHub, the HTML representation is unable to render, please try loading this page with nbviewer.org.</b></div><div class=\"sk-container\" hidden><div class=\"sk-item\"><div class=\"sk-estimator sk-toggleable\"><input class=\"sk-toggleable__control sk-hidden--visually\" id=\"sk-estimator-id-1\" type=\"checkbox\" checked><label for=\"sk-estimator-id-1\" class=\"sk-toggleable__label sk-toggleable__label-arrow\">LinearRegression</label><div class=\"sk-toggleable__content\"><pre>LinearRegression()</pre></div></div></div></div></div>"
      ],
      "text/plain": [
       "LinearRegression()"
      ]
     },
     "execution_count": 60,
     "metadata": {},
     "output_type": "execute_result"
    }
   ],
   "source": [
    "from sklearn.linear_model import LinearRegression\n",
    "model = LinearRegression()\n",
    "model.fit(df[['x1','x2']],df[['y']])"
   ]
  },
  {
   "cell_type": "code",
   "execution_count": 61,
   "id": "8e98dfbe-1d1b-4a30-b095-5fd225306f24",
   "metadata": {
    "execution": {
     "iopub.execute_input": "2023-01-10T12:40:57.115749Z",
     "iopub.status.busy": "2023-01-10T12:40:57.115375Z",
     "iopub.status.idle": "2023-01-10T12:40:57.119251Z",
     "shell.execute_reply": "2023-01-10T12:40:57.118723Z",
     "shell.execute_reply.started": "2023-01-10T12:40:57.115730Z"
    },
    "tags": []
   },
   "outputs": [
    {
     "data": {
      "text/plain": [
       "-1.3126202757666159"
      ]
     },
     "execution_count": 61,
     "metadata": {},
     "output_type": "execute_result"
    }
   ],
   "source": [
    "model.coef_[0][1]"
   ]
  },
  {
   "cell_type": "code",
   "execution_count": 62,
   "id": "baccc054",
   "metadata": {
    "ExecuteTime": {
     "end_time": "2023-01-09T18:04:26.714087Z",
     "start_time": "2023-01-09T18:04:26.698130Z"
    },
    "execution": {
     "iopub.execute_input": "2023-01-10T12:40:59.558782Z",
     "iopub.status.busy": "2023-01-10T12:40:59.557806Z",
     "iopub.status.idle": "2023-01-10T12:40:59.573177Z",
     "shell.execute_reply": "2023-01-10T12:40:59.572376Z",
     "shell.execute_reply.started": "2023-01-10T12:40:59.558748Z"
    },
    "tags": []
   },
   "outputs": [
    {
     "name": "stdout",
     "output_type": "stream",
     "text": [
      "1.6318195809992289 -1.3126202757666159 2.2190737061805903\n"
     ]
    },
    {
     "data": {
      "text/html": [
       "<div>\n",
       "<style scoped>\n",
       "    .dataframe tbody tr th:only-of-type {\n",
       "        vertical-align: middle;\n",
       "    }\n",
       "\n",
       "    .dataframe tbody tr th {\n",
       "        vertical-align: top;\n",
       "    }\n",
       "\n",
       "    .dataframe thead th {\n",
       "        text-align: right;\n",
       "    }\n",
       "</style>\n",
       "<table border=\"1\" class=\"dataframe\">\n",
       "  <thead>\n",
       "    <tr style=\"text-align: right;\">\n",
       "      <th></th>\n",
       "      <th>x1</th>\n",
       "      <th>x2</th>\n",
       "      <th>y</th>\n",
       "      <th>y_pred</th>\n",
       "      <th>err_se</th>\n",
       "    </tr>\n",
       "  </thead>\n",
       "  <tbody>\n",
       "    <tr>\n",
       "      <th>0</th>\n",
       "      <td>1.14</td>\n",
       "      <td>2.14</td>\n",
       "      <td>1.60</td>\n",
       "      <td>1.270341</td>\n",
       "      <td>1.086753e-01</td>\n",
       "    </tr>\n",
       "    <tr>\n",
       "      <th>1</th>\n",
       "      <td>3.64</td>\n",
       "      <td>4.64</td>\n",
       "      <td>0.49</td>\n",
       "      <td>2.068339</td>\n",
       "      <td>2.491154e+00</td>\n",
       "    </tr>\n",
       "    <tr>\n",
       "      <th>2</th>\n",
       "      <td>5.31</td>\n",
       "      <td>6.31</td>\n",
       "      <td>4.14</td>\n",
       "      <td>2.601402</td>\n",
       "      <td>2.367285e+00</td>\n",
       "    </tr>\n",
       "    <tr>\n",
       "      <th>3</th>\n",
       "      <td>8.61</td>\n",
       "      <td>7.61</td>\n",
       "      <td>6.28</td>\n",
       "      <td>6.280000</td>\n",
       "      <td>3.155444e-30</td>\n",
       "    </tr>\n",
       "    <tr>\n",
       "      <th>4</th>\n",
       "      <td>9.66</td>\n",
       "      <td>10.66</td>\n",
       "      <td>3.70</td>\n",
       "      <td>3.989919</td>\n",
       "      <td>8.405286e-02</td>\n",
       "    </tr>\n",
       "  </tbody>\n",
       "</table>\n",
       "</div>"
      ],
      "text/plain": [
       "     x1     x2     y    y_pred        err_se\n",
       "0  1.14   2.14  1.60  1.270341  1.086753e-01\n",
       "1  3.64   4.64  0.49  2.068339  2.491154e+00\n",
       "2  5.31   6.31  4.14  2.601402  2.367285e+00\n",
       "3  8.61   7.61  6.28  6.280000  3.155444e-30\n",
       "4  9.66  10.66  3.70  3.989919  8.405286e-02"
      ]
     },
     "metadata": {},
     "output_type": "display_data"
    },
    {
     "name": "stdout",
     "output_type": "stream",
     "text": [
      "1.0102332896314787\n"
     ]
    }
   ],
   "source": [
    "df =pd.DataFrame({'x1':[1.14,3.64,5.31,8.61,9.66],'x2':[2.14,4.64,6.31,7.61,10.66],'y':[1.6,0.49,4.14,6.28,3.7]})\n",
    "\n",
    "m1=model.coef_[0][0]\n",
    "m2=model.coef_[0][1]\n",
    "b=model.intercept_[0]\n",
    "print(m1,m2,b)\n",
    "\n",
    "df['y_pred']=df['x1']*m1+df['x2']*m2 +b\n",
    "df['err_se']=(df['y']-df['y_pred'])**2\n",
    "display(df)\n",
    "print(df['err_se'].mean())"
   ]
  },
  {
   "cell_type": "markdown",
   "id": "0f5e9671-1d7d-4b45-91d7-01650c520ba7",
   "metadata": {},
   "source": [
    "**Results or sklearn LinearRegression are close, but it uses r2 instead of MSE  and probably more sophisticated algorithms**"
   ]
  }
 ],
 "metadata": {
  "kernelspec": {
   "display_name": "Python 3 (ipykernel)",
   "language": "python",
   "name": "python3"
  },
  "language_info": {
   "codemirror_mode": {
    "name": "ipython",
    "version": 3
   },
   "file_extension": ".py",
   "mimetype": "text/x-python",
   "name": "python",
   "nbconvert_exporter": "python",
   "pygments_lexer": "ipython3",
   "version": "3.10.6"
  },
  "toc": {
   "base_numbering": 1,
   "nav_menu": {},
   "number_sections": true,
   "sideBar": true,
   "skip_h1_title": false,
   "title_cell": "Содержание",
   "title_sidebar": "Содержание",
   "toc_cell": true,
   "toc_position": {
    "height": "calc(100% - 180px)",
    "left": "10px",
    "top": "150px",
    "width": "256px"
   },
   "toc_section_display": true,
   "toc_window_display": true
  }
 },
 "nbformat": 4,
 "nbformat_minor": 5
}
