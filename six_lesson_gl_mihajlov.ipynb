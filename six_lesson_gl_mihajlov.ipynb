{
 "cells": [
  {
   "cell_type": "markdown",
   "id": "ac5005b4",
   "metadata": {
    "toc": true
   },
   "source": [
    "<h1>Содержание<span class=\"tocSkip\"></span></h1>\n",
    "<div class=\"toc\"><ul class=\"toc-item\"><li><span><a href=\"#Samples-in-Python\" data-toc-modified-id=\"Samples-in-Python-1\"><span class=\"toc-item-num\">1&nbsp;&nbsp;</span>Samples in Python</a></span></li></ul></div>"
   ]
  },
  {
   "cell_type": "code",
   "execution_count": 1,
   "id": "a8d29ca4",
   "metadata": {
    "ExecuteTime": {
     "end_time": "2023-02-16T21:08:12.598365Z",
     "start_time": "2023-02-16T21:08:11.558792Z"
    }
   },
   "outputs": [],
   "source": [
    "import matplotlib.pyplot as plt\n",
    "\n",
    "\n",
    "plt.style.use('dark_background')\n",
    "import pandas as pd\n",
    "import numpy as np\n",
    "import seaborn as sns\n",
    "from statsmodels.stats.proportion import proportions_ztest\n",
    "from tqdm import tqdm\n",
    "\n",
    "from scipy.stats import ttest_ind, mannwhitneyu\n",
    "import statsmodels.stats.api as sms"
   ]
  },
  {
   "cell_type": "code",
   "execution_count": null,
   "id": "85aeab61",
   "metadata": {},
   "outputs": [],
   "source": []
  },
  {
   "cell_type": "code",
   "execution_count": null,
   "id": "0e9a028c",
   "metadata": {},
   "outputs": [],
   "source": []
  },
  {
   "cell_type": "markdown",
   "id": "d3f6629f",
   "metadata": {},
   "source": [
    "https://www.evanmiller.org/ab-testing/sample-size.html"
   ]
  },
  {
   "cell_type": "code",
   "execution_count": 2,
   "id": "88d38e1b",
   "metadata": {
    "ExecuteTime": {
     "end_time": "2023-02-16T21:08:12.613326Z",
     "start_time": "2023-02-16T21:08:12.600362Z"
    }
   },
   "outputs": [],
   "source": [
    "mde = 0.05\n",
    "baseline = 0.2\n",
    "sample_size = 1030"
   ]
  },
  {
   "cell_type": "code",
   "execution_count": 3,
   "id": "5bb1a5cf",
   "metadata": {
    "ExecuteTime": {
     "end_time": "2023-02-16T21:08:12.645240Z",
     "start_time": "2023-02-16T21:08:12.615320Z"
    }
   },
   "outputs": [
    {
     "data": {
      "text/plain": [
       "0.19514563106796118"
      ]
     },
     "execution_count": 3,
     "metadata": {},
     "output_type": "execute_result"
    }
   ],
   "source": [
    "np.random.binomial(1,baseline,size=sample_size).mean()\n"
   ]
  },
  {
   "cell_type": "code",
   "execution_count": 4,
   "id": "0a4d4eda",
   "metadata": {
    "ExecuteTime": {
     "end_time": "2023-02-16T21:08:12.660201Z",
     "start_time": "2023-02-16T21:08:12.646237Z"
    }
   },
   "outputs": [
    {
     "data": {
      "text/plain": [
       "0.23689320388349513"
      ]
     },
     "execution_count": 4,
     "metadata": {},
     "output_type": "execute_result"
    }
   ],
   "source": [
    "np.random.binomial(1,baseline+mde,size=sample_size).mean()"
   ]
  },
  {
   "cell_type": "markdown",
   "id": "b9e5059e",
   "metadata": {},
   "source": [
    "Fisher exaxt test,\n",
    "\n",
    "Z test == Chi Square test (exactly in this case)\n",
    "\n",
    "T test,\n",
    "\n",
    "CHi square test, \n",
    "\n",
    "Bootstrap (Monte carlo)\n",
    "\n",
    "\n",
    "\n",
    "\n",
    "Ho.No difference - so samples are from the same distribution"
   ]
  },
  {
   "cell_type": "code",
   "execution_count": null,
   "id": "244d500d",
   "metadata": {},
   "outputs": [],
   "source": []
  },
  {
   "cell_type": "code",
   "execution_count": 5,
   "id": "59069e14",
   "metadata": {
    "ExecuteTime": {
     "end_time": "2023-02-16T21:08:12.675710Z",
     "start_time": "2023-02-16T21:08:12.661198Z"
    }
   },
   "outputs": [
    {
     "data": {
      "text/plain": [
       "(-1.9075332466798707, 0.056451570011201276)"
      ]
     },
     "execution_count": 5,
     "metadata": {},
     "output_type": "execute_result"
    }
   ],
   "source": [
    "a=np.random.binomial(1,baseline,size=sample_size)\n",
    "b=np.random.binomial(1,baseline+mde,size=sample_size)\n",
    "proportions_ztest([a.sum(),b.sum()],[len(a),len(b)])"
   ]
  },
  {
   "cell_type": "code",
   "execution_count": 6,
   "id": "227481d2",
   "metadata": {
    "ExecuteTime": {
     "end_time": "2023-02-16T21:08:28.779245Z",
     "start_time": "2023-02-16T21:08:12.676708Z"
    }
   },
   "outputs": [
    {
     "name": "stderr",
     "output_type": "stream",
     "text": [
      "100%|████████████████████████████████████████████████████████████████████████| 100000/100000 [00:16<00:00, 6224.87it/s]\n"
     ]
    }
   ],
   "source": [
    "result = []\n",
    "for _ in tqdm(range(100000)):\n",
    "  a = np.random.binomial(1,baseline,size=sample_size)\n",
    "  b = np.random.binomial(1,baseline + mde,size=sample_size)\n",
    "  _, pval = proportions_ztest([a.sum(),b.sum()],[len(a),len(b)])\n",
    "  result.append(pval)"
   ]
  },
  {
   "cell_type": "code",
   "execution_count": 7,
   "id": "35a6664e",
   "metadata": {
    "ExecuteTime": {
     "end_time": "2023-02-16T21:08:28.810197Z",
     "start_time": "2023-02-16T21:08:28.780214Z"
    }
   },
   "outputs": [],
   "source": [
    "t = pd.Series(result)"
   ]
  },
  {
   "cell_type": "code",
   "execution_count": 8,
   "id": "45644540",
   "metadata": {
    "ExecuteTime": {
     "end_time": "2023-02-16T21:08:29.089864Z",
     "start_time": "2023-02-16T21:08:28.812187Z"
    }
   },
   "outputs": [
    {
     "data": {
      "text/plain": [
       "<AxesSubplot:>"
      ]
     },
     "execution_count": 8,
     "metadata": {},
     "output_type": "execute_result"
    },
    {
     "data": {
      "image/png": "[encoded data removed]",
      "text/plain": [
       "<Figure size 432x288 with 1 Axes>"
      ]
     },
     "metadata": {},
     "output_type": "display_data"
    }
   ],
   "source": [
    "t.hist()"
   ]
  },
  {
   "cell_type": "code",
   "execution_count": 9,
   "id": "62630247",
   "metadata": {
    "ExecuteTime": {
     "end_time": "2023-02-16T21:08:29.104794Z",
     "start_time": "2023-02-16T21:08:29.091826Z"
    }
   },
   "outputs": [
    {
     "data": {
      "text/plain": [
       "0.77689"
      ]
     },
     "execution_count": 9,
     "metadata": {},
     "output_type": "execute_result"
    }
   ],
   "source": [
    "(t<0.05).mean() #this is power"
   ]
  },
  {
   "cell_type": "code",
   "execution_count": 10,
   "id": "6a7bb7eb",
   "metadata": {
    "ExecuteTime": {
     "end_time": "2023-02-16T21:08:32.035000Z",
     "start_time": "2023-02-16T21:08:29.105792Z"
    }
   },
   "outputs": [
    {
     "name": "stderr",
     "output_type": "stream",
     "text": [
      "100%|██████████████████████████████████████████████████████████████████████████| 10000/10000 [00:02<00:00, 3425.56it/s]\n"
     ]
    }
   ],
   "source": [
    "result = []\n",
    "for _ in tqdm(range(10000)):\n",
    "    a = np.random.binomial(1,baseline,size=sample_size)\n",
    "    b = np.random.binomial(1,baseline + mde,size=sample_size)\n",
    "    _, pval =  ttest_ind(a,b,equal_var=False)\n",
    "    result.append(pval)"
   ]
  },
  {
   "cell_type": "code",
   "execution_count": 11,
   "id": "27003d06",
   "metadata": {
    "ExecuteTime": {
     "end_time": "2023-02-16T21:08:32.050006Z",
     "start_time": "2023-02-16T21:08:32.035999Z"
    }
   },
   "outputs": [
    {
     "data": {
      "text/plain": [
       "0.778"
      ]
     },
     "execution_count": 11,
     "metadata": {},
     "output_type": "execute_result"
    }
   ],
   "source": [
    "t = pd.Series(result)\n",
    "(t<0.05).mean() #this is power"
   ]
  },
  {
   "cell_type": "markdown",
   "id": "99acc938",
   "metadata": {},
   "source": [
    "Mann-Whitney"
   ]
  },
  {
   "cell_type": "code",
   "execution_count": 12,
   "id": "76427525",
   "metadata": {
    "ExecuteTime": {
     "end_time": "2023-02-16T21:08:35.621340Z",
     "start_time": "2023-02-16T21:08:32.051005Z"
    }
   },
   "outputs": [
    {
     "name": "stderr",
     "output_type": "stream",
     "text": [
      "100%|██████████████████████████████████████████████████████████████████████████| 10000/10000 [00:03<00:00, 2824.64it/s]\n"
     ]
    }
   ],
   "source": [
    "result = []\n",
    "for _ in tqdm(range(10000)):\n",
    "    a = np.random.binomial(1,baseline,size=sample_size)\n",
    "    b = np.random.binomial(1,baseline + mde,size=sample_size)\n",
    "    _, pval = mannwhitneyu(a,b)\n",
    "    result.append(pval)"
   ]
  },
  {
   "cell_type": "code",
   "execution_count": 13,
   "id": "3ec23865",
   "metadata": {
    "ExecuteTime": {
     "end_time": "2023-02-16T21:08:35.636302Z",
     "start_time": "2023-02-16T21:08:35.622337Z"
    }
   },
   "outputs": [
    {
     "data": {
      "text/plain": [
       "0.8594"
      ]
     },
     "execution_count": 13,
     "metadata": {},
     "output_type": "execute_result"
    }
   ],
   "source": [
    "t = pd.Series(result)\n",
    "(t<0.05).mean() #this is power"
   ]
  },
  {
   "cell_type": "markdown",
   "id": "772e6f86",
   "metadata": {},
   "source": [
    "Z-test is the statistical hypothesis used to determine whether the two samples’ means calculated are different if the standard deviation is available and the sample is large. In contrast, the T-test determines how averages of different data sets differ in case the standard deviation or the variance is unknown.\n",
    "\n",
    "\n",
    "Usually, T-tests are more appropriate when dealing with problems with a limited sample size\n",
    " (i.e., n < 30).\n",
    " \n",
    " \n",
    "  A Z-test will compare a sample to a defined population one typically uses for dealing with problems relating to large samples (i.e., n > 30). Mostly, they are very useful when the standard deviation is known.\n",
    "  \n",
    "  \n",
    "  \n",
    "  Z=test is based on normal distribution\n",
    "  \n",
    "  \n",
    "  T-test is based on t-Student distribution"
   ]
  },
  {
   "cell_type": "markdown",
   "id": "2488771d",
   "metadata": {},
   "source": [
    "AA test"
   ]
  },
  {
   "cell_type": "code",
   "execution_count": 14,
   "id": "12e8a057",
   "metadata": {
    "ExecuteTime": {
     "end_time": "2023-02-16T21:08:39.134221Z",
     "start_time": "2023-02-16T21:08:35.637299Z"
    }
   },
   "outputs": [
    {
     "name": "stderr",
     "output_type": "stream",
     "text": [
      "100%|██████████████████████████████████████████████████████████████████████████| 10000/10000 [00:03<00:00, 2895.63it/s]\n"
     ]
    }
   ],
   "source": [
    "result = []\n",
    "for _ in tqdm(range(10000)):\n",
    "  a = np.random.binomial(1,baseline,size=sample_size)\n",
    "  b = np.random.binomial(1,baseline,size=sample_size)\n",
    "  _, pval = mannwhitneyu(a,b)\n",
    "  result.append(pval)"
   ]
  },
  {
   "cell_type": "code",
   "execution_count": 15,
   "id": "a4d9276b",
   "metadata": {
    "ExecuteTime": {
     "end_time": "2023-02-16T21:08:39.149181Z",
     "start_time": "2023-02-16T21:08:39.135218Z"
    },
    "scrolled": true
   },
   "outputs": [
    {
     "data": {
      "text/plain": [
       "0.0924"
      ]
     },
     "execution_count": 15,
     "metadata": {},
     "output_type": "execute_result"
    }
   ],
   "source": [
    "t = pd.Series(result)\n",
    "(t<0.05).mean() #this is power"
   ]
  },
  {
   "cell_type": "code",
   "execution_count": 16,
   "id": "2beb8da1",
   "metadata": {
    "ExecuteTime": {
     "end_time": "2023-02-16T21:08:39.273435Z",
     "start_time": "2023-02-16T21:08:39.150178Z"
    }
   },
   "outputs": [
    {
     "data": {
      "text/plain": [
       "<AxesSubplot:ylabel='Proportion'>"
      ]
     },
     "execution_count": 16,
     "metadata": {},
     "output_type": "execute_result"
    },
    {
     "data": {
      "image/png": "[encoded data removed]",
      "text/plain": [
       "<Figure size 432x288 with 1 Axes>"
      ]
     },
     "metadata": {},
     "output_type": "display_data"
    }
   ],
   "source": [
    "sns.ecdfplot(t)"
   ]
  },
  {
   "cell_type": "markdown",
   "id": "544cb5ce",
   "metadata": {},
   "source": [
    "Thats why we cannot use ManWitney here, because we made AA test and got big FPR "
   ]
  },
  {
   "cell_type": "code",
   "execution_count": 17,
   "id": "cbbd2c0c",
   "metadata": {
    "ExecuteTime": {
     "end_time": "2023-02-16T21:08:39.289390Z",
     "start_time": "2023-02-16T21:08:39.274401Z"
    }
   },
   "outputs": [
    {
     "data": {
      "text/plain": [
       "0.0924"
      ]
     },
     "execution_count": 17,
     "metadata": {},
     "output_type": "execute_result"
    }
   ],
   "source": [
    "(t<0.05).mean()"
   ]
  },
  {
   "cell_type": "code",
   "execution_count": 18,
   "id": "54ce6318",
   "metadata": {
    "ExecuteTime": {
     "end_time": "2023-02-16T21:08:40.948366Z",
     "start_time": "2023-02-16T21:08:39.290358Z"
    }
   },
   "outputs": [
    {
     "name": "stderr",
     "output_type": "stream",
     "text": [
      "100%|██████████████████████████████████████████████████████████████████████████| 10000/10000 [00:01<00:00, 6105.56it/s]\n"
     ]
    }
   ],
   "source": [
    "result = []\n",
    "for _ in tqdm(range(10000)):\n",
    "  a = np.random.binomial(1,baseline,size=sample_size)\n",
    "  b = np.random.binomial(1,baseline,size=sample_size)\n",
    "  _, pval = proportions_ztest([a.sum(),b.sum()],[len(a),len(b)])\n",
    "  result.append(pval)"
   ]
  },
  {
   "cell_type": "code",
   "execution_count": 19,
   "id": "71532180",
   "metadata": {
    "ExecuteTime": {
     "end_time": "2023-02-16T21:08:40.963226Z",
     "start_time": "2023-02-16T21:08:40.949260Z"
    }
   },
   "outputs": [
    {
     "data": {
      "text/plain": [
       "0.0499"
      ]
     },
     "execution_count": 19,
     "metadata": {},
     "output_type": "execute_result"
    }
   ],
   "source": [
    "t = pd.Series(result)\n",
    "(t<0.05).mean() #this is power"
   ]
  },
  {
   "cell_type": "code",
   "execution_count": 20,
   "id": "9cb26940",
   "metadata": {
    "ExecuteTime": {
     "end_time": "2023-02-16T21:08:41.133056Z",
     "start_time": "2023-02-16T21:08:40.963753Z"
    }
   },
   "outputs": [
    {
     "data": {
      "text/plain": [
       "<AxesSubplot:ylabel='Proportion'>"
      ]
     },
     "execution_count": 20,
     "metadata": {},
     "output_type": "execute_result"
    },
    {
     "data": {
      "image/png": "[encoded data removed]",
      "text/plain": [
       "<Figure size 432x288 with 1 Axes>"
      ]
     },
     "metadata": {},
     "output_type": "display_data"
    }
   ],
   "source": [
    "sns.ecdfplot(t)"
   ]
  },
  {
   "cell_type": "code",
   "execution_count": 21,
   "id": "5734a317",
   "metadata": {
    "ExecuteTime": {
     "end_time": "2023-02-16T21:08:41.148020Z",
     "start_time": "2023-02-16T21:08:41.134054Z"
    }
   },
   "outputs": [
    {
     "data": {
      "text/plain": [
       "0.0499"
      ]
     },
     "execution_count": 21,
     "metadata": {},
     "output_type": "execute_result"
    }
   ],
   "source": [
    "(t<0.05).mean()"
   ]
  },
  {
   "cell_type": "markdown",
   "id": "a78e57af",
   "metadata": {},
   "source": [
    "## Samples in Python"
   ]
  },
  {
   "cell_type": "code",
   "execution_count": 22,
   "id": "c7a115c1",
   "metadata": {
    "ExecuteTime": {
     "end_time": "2023-02-16T21:08:41.163702Z",
     "start_time": "2023-02-16T21:08:41.148711Z"
    }
   },
   "outputs": [],
   "source": [
    "\n",
    "es = sms.proportion_effectsize(0.20, 0.25)\n",
    "sample_size = round(sms.NormalIndPower().solve_power(es, power=0.80, alpha=0.05, ratio=1))"
   ]
  },
  {
   "cell_type": "code",
   "execution_count": 23,
   "id": "4f279efd",
   "metadata": {
    "ExecuteTime": {
     "end_time": "2023-02-16T21:08:41.179667Z",
     "start_time": "2023-02-16T21:08:41.166667Z"
    }
   },
   "outputs": [
    {
     "data": {
      "text/plain": [
       "1092"
      ]
     },
     "execution_count": 23,
     "metadata": {},
     "output_type": "execute_result"
    }
   ],
   "source": [
    "sample_size"
   ]
  },
  {
   "cell_type": "code",
   "execution_count": 24,
   "id": "5b961afb",
   "metadata": {
    "ExecuteTime": {
     "end_time": "2023-02-16T21:08:42.840708Z",
     "start_time": "2023-02-16T21:08:41.180668Z"
    }
   },
   "outputs": [
    {
     "name": "stderr",
     "output_type": "stream",
     "text": [
      "100%|██████████████████████████████████████████████████████████████████████████| 10000/10000 [00:01<00:00, 6093.46it/s]\n"
     ]
    }
   ],
   "source": [
    "result = []\n",
    "for _ in tqdm(range(10000)):\n",
    "  a = np.random.binomial(1,baseline,size=sample_size)\n",
    "  b = np.random.binomial(1,baseline + mde,size=sample_size)\n",
    "  _, pval = proportions_ztest([a.sum(),b.sum()],[len(a),len(b)])\n",
    "  result.append(pval)"
   ]
  },
  {
   "cell_type": "code",
   "execution_count": 25,
   "id": "31e8216a",
   "metadata": {
    "ExecuteTime": {
     "end_time": "2023-02-16T21:08:42.855669Z",
     "start_time": "2023-02-16T21:08:42.841706Z"
    }
   },
   "outputs": [
    {
     "data": {
      "text/plain": [
       "0.8055"
      ]
     },
     "execution_count": 25,
     "metadata": {},
     "output_type": "execute_result"
    }
   ],
   "source": [
    "t = pd.Series(result)\n",
    "(t<0.05).mean() #this is power"
   ]
  },
  {
   "cell_type": "markdown",
   "id": "45a763e9",
   "metadata": {},
   "source": [
    "Even Miller cannot work with diff size samples"
   ]
  },
  {
   "cell_type": "code",
   "execution_count": 26,
   "id": "599a3e1b",
   "metadata": {
    "ExecuteTime": {
     "end_time": "2023-02-16T21:08:42.902693Z",
     "start_time": "2023-02-16T21:08:42.856666Z"
    }
   },
   "outputs": [],
   "source": [
    "import statsmodels.stats.api as sms\n",
    "es = sms.proportion_effectsize(0.20, 0.25)\n",
    "sample_size1 = round(sms.NormalIndPower().solve_power(es, power=0.80, alpha=0.05, ratio=1/3))"
   ]
  },
  {
   "cell_type": "code",
   "execution_count": 27,
   "id": "bcf1901d",
   "metadata": {
    "ExecuteTime": {
     "end_time": "2023-02-16T21:08:42.918653Z",
     "start_time": "2023-02-16T21:08:42.903737Z"
    }
   },
   "outputs": [
    {
     "data": {
      "text/plain": [
       "2184"
      ]
     },
     "execution_count": 27,
     "metadata": {},
     "output_type": "execute_result"
    }
   ],
   "source": [
    "sample_size1"
   ]
  },
  {
   "cell_type": "code",
   "execution_count": 28,
   "id": "41502d48",
   "metadata": {
    "ExecuteTime": {
     "end_time": "2023-02-16T21:08:42.933612Z",
     "start_time": "2023-02-16T21:08:42.919651Z"
    }
   },
   "outputs": [],
   "source": [
    "sample_size2=round(sample_size1*1/3)"
   ]
  },
  {
   "cell_type": "code",
   "execution_count": 29,
   "id": "d44d8572",
   "metadata": {
    "ExecuteTime": {
     "end_time": "2023-02-16T21:08:44.727016Z",
     "start_time": "2023-02-16T21:08:42.934609Z"
    }
   },
   "outputs": [
    {
     "name": "stderr",
     "output_type": "stream",
     "text": [
      "100%|██████████████████████████████████████████████████████████████████████████| 10000/10000 [00:01<00:00, 5642.64it/s]\n"
     ]
    }
   ],
   "source": [
    "result = []\n",
    "for _ in tqdm(range(10000)):\n",
    "  a = np.random.binomial(1,baseline,size=sample_size1)\n",
    "  b = np.random.binomial(1,baseline + mde,size=sample_size2)\n",
    "  _, pval = proportions_ztest([a.sum(),b.sum()],[len(a),len(b)])\n",
    "  result.append(pval)"
   ]
  },
  {
   "cell_type": "code",
   "execution_count": 30,
   "id": "59fd25f5",
   "metadata": {
    "ExecuteTime": {
     "end_time": "2023-02-16T21:08:44.741837Z",
     "start_time": "2023-02-16T21:08:44.727872Z"
    }
   },
   "outputs": [
    {
     "data": {
      "text/plain": [
       "0.8045"
      ]
     },
     "execution_count": 30,
     "metadata": {},
     "output_type": "execute_result"
    }
   ],
   "source": [
    "t = pd.Series(result)\n",
    "(t<0.05).mean() #this is power"
   ]
  },
  {
   "cell_type": "code",
   "execution_count": 31,
   "id": "df1d9fe5",
   "metadata": {
    "ExecuteTime": {
     "end_time": "2023-02-16T21:08:45.188420Z",
     "start_time": "2023-02-16T21:08:44.742835Z"
    }
   },
   "outputs": [
    {
     "name": "stderr",
     "output_type": "stream",
     "text": [
      "100%|████████████████████████████████████████████████████████████████████████████| 1000/1000 [00:00<00:00, 2449.34it/s]\n"
     ]
    },
    {
     "data": {
      "text/plain": [
       "0.805"
      ]
     },
     "execution_count": 31,
     "metadata": {},
     "output_type": "execute_result"
    }
   ],
   "source": [
    "sample_size = 8392\n",
    "baseline = 0.3\n",
    "mde = 0.02\n",
    "result = []\n",
    "for _ in tqdm(range(1000)):\n",
    "  a = np.random.binomial(1,baseline,size=sample_size)\n",
    "  b = np.random.binomial(1,baseline + mde,size=sample_size)\n",
    "  _, pval = proportions_ztest([a.sum(),b.sum()],[len(a),len(b)])\n",
    "  result.append(pval)\n",
    "\n",
    "t = pd.Series(result)\n",
    "(t < 0.05).mean()"
   ]
  },
  {
   "cell_type": "code",
   "execution_count": 32,
   "id": "47a2ac91",
   "metadata": {
    "ExecuteTime": {
     "end_time": "2023-02-16T21:08:45.204377Z",
     "start_time": "2023-02-16T21:08:45.189417Z"
    }
   },
   "outputs": [],
   "source": [
    "#Lets check with math\n",
    "import statsmodels.stats.api as sms\n",
    "es = sms.proportion_effectsize(0.3, 0.32)\n",
    "sample_size = round(sms.NormalIndPower().solve_power(es, power=0.80, alpha=0.05, ratio=1))"
   ]
  },
  {
   "cell_type": "code",
   "execution_count": 33,
   "id": "2b759251",
   "metadata": {
    "ExecuteTime": {
     "end_time": "2023-02-16T21:08:45.249553Z",
     "start_time": "2023-02-16T21:08:45.205404Z"
    }
   },
   "outputs": [
    {
     "data": {
      "text/plain": [
       "8392"
      ]
     },
     "execution_count": 33,
     "metadata": {},
     "output_type": "execute_result"
    }
   ],
   "source": [
    "sample_size"
   ]
  },
  {
   "cell_type": "code",
   "execution_count": 34,
   "id": "5287171b",
   "metadata": {
    "ExecuteTime": {
     "end_time": "2023-02-16T21:08:45.265503Z",
     "start_time": "2023-02-16T21:08:45.254507Z"
    }
   },
   "outputs": [],
   "source": [
    "# 0.2 , 0.25 | разница была"
   ]
  },
  {
   "cell_type": "code",
   "execution_count": 35,
   "id": "060f3dd5",
   "metadata": {
    "ExecuteTime": {
     "end_time": "2023-02-16T21:08:45.713321Z",
     "start_time": "2023-02-16T21:08:45.266473Z"
    }
   },
   "outputs": [
    {
     "name": "stderr",
     "output_type": "stream",
     "text": [
      "100%|████████████████████████████████████████████████████████████████████████████| 1000/1000 [00:00<00:00, 2337.06it/s]\n"
     ]
    }
   ],
   "source": [
    "sample_size = 8393\n",
    "baseline = 0.3\n",
    "mde = 0.02\n",
    "result = []\n",
    "for _ in tqdm(range(1000)):\n",
    "  a = np.random.binomial(1,baseline,size=sample_size)\n",
    "  b = np.random.binomial(1,baseline + mde,size=sample_size)\n",
    "  _, pval = proportions_ztest([a.sum(),b.sum()],[len(a),len(b)])\n",
    "  result.append((1,pval))"
   ]
  },
  {
   "cell_type": "code",
   "execution_count": 36,
   "id": "e4254ce4",
   "metadata": {
    "ExecuteTime": {
     "end_time": "2023-02-16T21:08:45.728331Z",
     "start_time": "2023-02-16T21:08:45.714317Z"
    }
   },
   "outputs": [],
   "source": [
    "t = pd.DataFrame(result,columns=['y_true','y_score'])"
   ]
  },
  {
   "cell_type": "code",
   "execution_count": 37,
   "id": "79199fe0",
   "metadata": {
    "ExecuteTime": {
     "end_time": "2023-02-16T21:08:45.759705Z",
     "start_time": "2023-02-16T21:08:45.729328Z"
    }
   },
   "outputs": [
    {
     "data": {
      "text/html": [
       "<div>\n",
       "<style scoped>\n",
       "    .dataframe tbody tr th:only-of-type {\n",
       "        vertical-align: middle;\n",
       "    }\n",
       "\n",
       "    .dataframe tbody tr th {\n",
       "        vertical-align: top;\n",
       "    }\n",
       "\n",
       "    .dataframe thead th {\n",
       "        text-align: right;\n",
       "    }\n",
       "</style>\n",
       "<table border=\"1\" class=\"dataframe\">\n",
       "  <thead>\n",
       "    <tr style=\"text-align: right;\">\n",
       "      <th></th>\n",
       "      <th>y_true</th>\n",
       "      <th>y_score</th>\n",
       "    </tr>\n",
       "  </thead>\n",
       "  <tbody>\n",
       "    <tr>\n",
       "      <th>0</th>\n",
       "      <td>1</td>\n",
       "      <td>0.146810</td>\n",
       "    </tr>\n",
       "    <tr>\n",
       "      <th>1</th>\n",
       "      <td>1</td>\n",
       "      <td>0.085782</td>\n",
       "    </tr>\n",
       "    <tr>\n",
       "      <th>2</th>\n",
       "      <td>1</td>\n",
       "      <td>0.000147</td>\n",
       "    </tr>\n",
       "    <tr>\n",
       "      <th>3</th>\n",
       "      <td>1</td>\n",
       "      <td>0.005004</td>\n",
       "    </tr>\n",
       "    <tr>\n",
       "      <th>4</th>\n",
       "      <td>1</td>\n",
       "      <td>0.002546</td>\n",
       "    </tr>\n",
       "    <tr>\n",
       "      <th>...</th>\n",
       "      <td>...</td>\n",
       "      <td>...</td>\n",
       "    </tr>\n",
       "    <tr>\n",
       "      <th>995</th>\n",
       "      <td>1</td>\n",
       "      <td>0.002451</td>\n",
       "    </tr>\n",
       "    <tr>\n",
       "      <th>996</th>\n",
       "      <td>1</td>\n",
       "      <td>0.000008</td>\n",
       "    </tr>\n",
       "    <tr>\n",
       "      <th>997</th>\n",
       "      <td>1</td>\n",
       "      <td>0.056448</td>\n",
       "    </tr>\n",
       "    <tr>\n",
       "      <th>998</th>\n",
       "      <td>1</td>\n",
       "      <td>0.000006</td>\n",
       "    </tr>\n",
       "    <tr>\n",
       "      <th>999</th>\n",
       "      <td>1</td>\n",
       "      <td>0.001716</td>\n",
       "    </tr>\n",
       "  </tbody>\n",
       "</table>\n",
       "<p>1000 rows × 2 columns</p>\n",
       "</div>"
      ],
      "text/plain": [
       "     y_true   y_score\n",
       "0         1  0.146810\n",
       "1         1  0.085782\n",
       "2         1  0.000147\n",
       "3         1  0.005004\n",
       "4         1  0.002546\n",
       "..      ...       ...\n",
       "995       1  0.002451\n",
       "996       1  0.000008\n",
       "997       1  0.056448\n",
       "998       1  0.000006\n",
       "999       1  0.001716\n",
       "\n",
       "[1000 rows x 2 columns]"
      ]
     },
     "execution_count": 37,
     "metadata": {},
     "output_type": "execute_result"
    }
   ],
   "source": [
    "t"
   ]
  },
  {
   "cell_type": "code",
   "execution_count": 43,
   "id": "bd2f93b9",
   "metadata": {
    "ExecuteTime": {
     "end_time": "2023-02-16T21:10:23.515457Z",
     "start_time": "2023-02-16T21:10:23.508476Z"
    }
   },
   "outputs": [],
   "source": [
    "t['y_pred'] = (t['y_score'] < 0.05)*1"
   ]
  },
  {
   "cell_type": "code",
   "execution_count": 44,
   "id": "d6ca03d0",
   "metadata": {
    "ExecuteTime": {
     "end_time": "2023-02-16T21:10:25.496031Z",
     "start_time": "2023-02-16T21:10:25.484062Z"
    }
   },
   "outputs": [
    {
     "data": {
      "text/html": [
       "<div>\n",
       "<style scoped>\n",
       "    .dataframe tbody tr th:only-of-type {\n",
       "        vertical-align: middle;\n",
       "    }\n",
       "\n",
       "    .dataframe tbody tr th {\n",
       "        vertical-align: top;\n",
       "    }\n",
       "\n",
       "    .dataframe thead th {\n",
       "        text-align: right;\n",
       "    }\n",
       "</style>\n",
       "<table border=\"1\" class=\"dataframe\">\n",
       "  <thead>\n",
       "    <tr style=\"text-align: right;\">\n",
       "      <th></th>\n",
       "      <th>y_true</th>\n",
       "      <th>y_score</th>\n",
       "      <th>y_pred</th>\n",
       "    </tr>\n",
       "  </thead>\n",
       "  <tbody>\n",
       "    <tr>\n",
       "      <th>0</th>\n",
       "      <td>1</td>\n",
       "      <td>0.146810</td>\n",
       "      <td>0</td>\n",
       "    </tr>\n",
       "    <tr>\n",
       "      <th>1</th>\n",
       "      <td>1</td>\n",
       "      <td>0.085782</td>\n",
       "      <td>0</td>\n",
       "    </tr>\n",
       "    <tr>\n",
       "      <th>2</th>\n",
       "      <td>1</td>\n",
       "      <td>0.000147</td>\n",
       "      <td>1</td>\n",
       "    </tr>\n",
       "    <tr>\n",
       "      <th>3</th>\n",
       "      <td>1</td>\n",
       "      <td>0.005004</td>\n",
       "      <td>1</td>\n",
       "    </tr>\n",
       "    <tr>\n",
       "      <th>4</th>\n",
       "      <td>1</td>\n",
       "      <td>0.002546</td>\n",
       "      <td>1</td>\n",
       "    </tr>\n",
       "    <tr>\n",
       "      <th>...</th>\n",
       "      <td>...</td>\n",
       "      <td>...</td>\n",
       "      <td>...</td>\n",
       "    </tr>\n",
       "    <tr>\n",
       "      <th>995</th>\n",
       "      <td>1</td>\n",
       "      <td>0.002451</td>\n",
       "      <td>1</td>\n",
       "    </tr>\n",
       "    <tr>\n",
       "      <th>996</th>\n",
       "      <td>1</td>\n",
       "      <td>0.000008</td>\n",
       "      <td>1</td>\n",
       "    </tr>\n",
       "    <tr>\n",
       "      <th>997</th>\n",
       "      <td>1</td>\n",
       "      <td>0.056448</td>\n",
       "      <td>0</td>\n",
       "    </tr>\n",
       "    <tr>\n",
       "      <th>998</th>\n",
       "      <td>1</td>\n",
       "      <td>0.000006</td>\n",
       "      <td>1</td>\n",
       "    </tr>\n",
       "    <tr>\n",
       "      <th>999</th>\n",
       "      <td>1</td>\n",
       "      <td>0.001716</td>\n",
       "      <td>1</td>\n",
       "    </tr>\n",
       "  </tbody>\n",
       "</table>\n",
       "<p>1000 rows × 3 columns</p>\n",
       "</div>"
      ],
      "text/plain": [
       "     y_true   y_score  y_pred\n",
       "0         1  0.146810       0\n",
       "1         1  0.085782       0\n",
       "2         1  0.000147       1\n",
       "3         1  0.005004       1\n",
       "4         1  0.002546       1\n",
       "..      ...       ...     ...\n",
       "995       1  0.002451       1\n",
       "996       1  0.000008       1\n",
       "997       1  0.056448       0\n",
       "998       1  0.000006       1\n",
       "999       1  0.001716       1\n",
       "\n",
       "[1000 rows x 3 columns]"
      ]
     },
     "execution_count": 44,
     "metadata": {},
     "output_type": "execute_result"
    }
   ],
   "source": [
    "t"
   ]
  },
  {
   "cell_type": "code",
   "execution_count": 45,
   "id": "ed380328",
   "metadata": {
    "ExecuteTime": {
     "end_time": "2023-02-16T21:10:34.449855Z",
     "start_time": "2023-02-16T21:10:34.436890Z"
    }
   },
   "outputs": [
    {
     "data": {
      "text/plain": [
       "0.801"
      ]
     },
     "execution_count": 45,
     "metadata": {},
     "output_type": "execute_result"
    }
   ],
   "source": [
    "t['y_pred'].mean()"
   ]
  },
  {
   "cell_type": "code",
   "execution_count": 40,
   "id": "48df751c",
   "metadata": {
    "ExecuteTime": {
     "end_time": "2023-02-16T21:08:45.807548Z",
     "start_time": "2023-02-16T21:08:45.793587Z"
    }
   },
   "outputs": [],
   "source": [
    "t = pd.DataFrame(result,columns=['y_true','y_score'])"
   ]
  },
  {
   "cell_type": "code",
   "execution_count": 55,
   "id": "146a4bee",
   "metadata": {
    "ExecuteTime": {
     "end_time": "2023-02-16T21:33:12.203098Z",
     "start_time": "2023-02-16T21:33:10.480813Z"
    }
   },
   "outputs": [
    {
     "name": "stderr",
     "output_type": "stream",
     "text": [
      "100%|██████████████████████████████████████████████████████████████████████████| 10000/10000 [00:01<00:00, 5859.57it/s]\n"
     ]
    }
   ],
   "source": [
    "sample_size = 1090\n",
    "baseline = 0.2\n",
    "mde = 0.05\n",
    "result = []\n",
    "class_balance = 0.95\n",
    "for _ in tqdm(range(10000)):\n",
    "    if np.random.binomial(1,class_balance):\n",
    "        a = np.random.binomial(1,baseline,size=sample_size)\n",
    "        b = np.random.binomial(1,baseline,size=sample_size)\n",
    "        _, pval = proportions_ztest([a.sum(),b.sum()],[len(a),len(b)])\n",
    "\n",
    "        result.append((0,pval))\n",
    "    else:\n",
    "        a = np.random.binomial(1,baseline,size=sample_size)\n",
    "        b = np.random.binomial(1,baseline+mde,size=sample_size)\n",
    "        _, pval = proportions_ztest([a.sum(),b.sum()],[len(a),len(b)])\n",
    "\n",
    "        result.append((1,pval))\n",
    "        "
   ]
  },
  {
   "cell_type": "code",
   "execution_count": 56,
   "id": "bca810a9",
   "metadata": {
    "ExecuteTime": {
     "end_time": "2023-02-16T21:33:13.073589Z",
     "start_time": "2023-02-16T21:33:13.058657Z"
    }
   },
   "outputs": [],
   "source": [
    "t = pd.DataFrame(result,columns=['y_true','y_score'])"
   ]
  },
  {
   "cell_type": "code",
   "execution_count": 57,
   "id": "f2190932",
   "metadata": {
    "ExecuteTime": {
     "end_time": "2023-02-16T21:33:15.072123Z",
     "start_time": "2023-02-16T21:33:15.056195Z"
    }
   },
   "outputs": [
    {
     "data": {
      "text/html": [
       "<div>\n",
       "<style scoped>\n",
       "    .dataframe tbody tr th:only-of-type {\n",
       "        vertical-align: middle;\n",
       "    }\n",
       "\n",
       "    .dataframe tbody tr th {\n",
       "        vertical-align: top;\n",
       "    }\n",
       "\n",
       "    .dataframe thead th {\n",
       "        text-align: right;\n",
       "    }\n",
       "</style>\n",
       "<table border=\"1\" class=\"dataframe\">\n",
       "  <thead>\n",
       "    <tr style=\"text-align: right;\">\n",
       "      <th></th>\n",
       "      <th>y_true</th>\n",
       "      <th>y_score</th>\n",
       "    </tr>\n",
       "  </thead>\n",
       "  <tbody>\n",
       "    <tr>\n",
       "      <th>0</th>\n",
       "      <td>0</td>\n",
       "      <td>0.749251</td>\n",
       "    </tr>\n",
       "    <tr>\n",
       "      <th>1</th>\n",
       "      <td>0</td>\n",
       "      <td>0.282555</td>\n",
       "    </tr>\n",
       "    <tr>\n",
       "      <th>2</th>\n",
       "      <td>0</td>\n",
       "      <td>0.876311</td>\n",
       "    </tr>\n",
       "    <tr>\n",
       "      <th>3</th>\n",
       "      <td>0</td>\n",
       "      <td>0.588434</td>\n",
       "    </tr>\n",
       "    <tr>\n",
       "      <th>4</th>\n",
       "      <td>0</td>\n",
       "      <td>0.519809</td>\n",
       "    </tr>\n",
       "    <tr>\n",
       "      <th>...</th>\n",
       "      <td>...</td>\n",
       "      <td>...</td>\n",
       "    </tr>\n",
       "    <tr>\n",
       "      <th>9995</th>\n",
       "      <td>0</td>\n",
       "      <td>0.137120</td>\n",
       "    </tr>\n",
       "    <tr>\n",
       "      <th>9996</th>\n",
       "      <td>0</td>\n",
       "      <td>0.914424</td>\n",
       "    </tr>\n",
       "    <tr>\n",
       "      <th>9997</th>\n",
       "      <td>0</td>\n",
       "      <td>0.914572</td>\n",
       "    </tr>\n",
       "    <tr>\n",
       "      <th>9998</th>\n",
       "      <td>0</td>\n",
       "      <td>0.790138</td>\n",
       "    </tr>\n",
       "    <tr>\n",
       "      <th>9999</th>\n",
       "      <td>0</td>\n",
       "      <td>0.178813</td>\n",
       "    </tr>\n",
       "  </tbody>\n",
       "</table>\n",
       "<p>10000 rows × 2 columns</p>\n",
       "</div>"
      ],
      "text/plain": [
       "      y_true   y_score\n",
       "0          0  0.749251\n",
       "1          0  0.282555\n",
       "2          0  0.876311\n",
       "3          0  0.588434\n",
       "4          0  0.519809\n",
       "...      ...       ...\n",
       "9995       0  0.137120\n",
       "9996       0  0.914424\n",
       "9997       0  0.914572\n",
       "9998       0  0.790138\n",
       "9999       0  0.178813\n",
       "\n",
       "[10000 rows x 2 columns]"
      ]
     },
     "execution_count": 57,
     "metadata": {},
     "output_type": "execute_result"
    }
   ],
   "source": [
    "t"
   ]
  },
  {
   "cell_type": "code",
   "execution_count": 58,
   "id": "4e60002d",
   "metadata": {
    "ExecuteTime": {
     "end_time": "2023-02-16T21:33:17.523260Z",
     "start_time": "2023-02-16T21:33:17.507302Z"
    }
   },
   "outputs": [],
   "source": [
    "t['y_pred'] = (t['y_score'] < 0.05)*1"
   ]
  },
  {
   "cell_type": "code",
   "execution_count": 59,
   "id": "b407285b",
   "metadata": {
    "ExecuteTime": {
     "end_time": "2023-02-16T21:33:18.980250Z",
     "start_time": "2023-02-16T21:33:18.971274Z"
    }
   },
   "outputs": [
    {
     "data": {
      "text/plain": [
       "0.0455"
      ]
     },
     "execution_count": 59,
     "metadata": {},
     "output_type": "execute_result"
    }
   ],
   "source": [
    "t['y_true'].mean()"
   ]
  },
  {
   "cell_type": "code",
   "execution_count": 52,
   "id": "9a7fd346",
   "metadata": {
    "ExecuteTime": {
     "end_time": "2023-02-16T21:24:09.615362Z",
     "start_time": "2023-02-16T21:24:06.195803Z"
    }
   },
   "outputs": [],
   "source": [
    "from sklearn.metrics import classification_report"
   ]
  },
  {
   "cell_type": "code",
   "execution_count": 60,
   "id": "e1c13067",
   "metadata": {
    "ExecuteTime": {
     "end_time": "2023-02-16T21:33:22.563004Z",
     "start_time": "2023-02-16T21:33:22.539069Z"
    }
   },
   "outputs": [
    {
     "name": "stdout",
     "output_type": "stream",
     "text": [
      "              precision    recall  f1-score   support\n",
      "\n",
      "           0       0.99      0.95      0.97      9545\n",
      "           1       0.41      0.78      0.54       455\n",
      "\n",
      "    accuracy                           0.94     10000\n",
      "   macro avg       0.70      0.86      0.75     10000\n",
      "weighted avg       0.96      0.94      0.95     10000\n",
      "\n"
     ]
    }
   ],
   "source": [
    "print(classification_report(t['y_true'],t['y_pred']))"
   ]
  },
  {
   "cell_type": "code",
   "execution_count": 61,
   "id": "f0ba5787",
   "metadata": {
    "ExecuteTime": {
     "end_time": "2023-02-16T21:33:24.937418Z",
     "start_time": "2023-02-16T21:33:24.923456Z"
    }
   },
   "outputs": [
    {
     "data": {
      "text/plain": [
       "0.41327124563445866"
      ]
     },
     "execution_count": 61,
     "metadata": {},
     "output_type": "execute_result"
    }
   ],
   "source": [
    "t[t['y_pred'] == 1]['y_true'].mean()"
   ]
  },
  {
   "cell_type": "code",
   "execution_count": 62,
   "id": "41563b2f",
   "metadata": {
    "ExecuteTime": {
     "end_time": "2023-02-16T21:36:29.091717Z",
     "start_time": "2023-02-16T21:36:29.074791Z"
    }
   },
   "outputs": [],
   "source": [
    "t['y_pred'] = (t['y_score'] < 0.01)*1"
   ]
  },
  {
   "cell_type": "code",
   "execution_count": 63,
   "id": "7ee37e5e",
   "metadata": {
    "ExecuteTime": {
     "end_time": "2023-02-16T21:36:33.553844Z",
     "start_time": "2023-02-16T21:36:33.538884Z"
    }
   },
   "outputs": [
    {
     "name": "stdout",
     "output_type": "stream",
     "text": [
      "              precision    recall  f1-score   support\n",
      "\n",
      "           0       0.98      0.99      0.98      9545\n",
      "           1       0.71      0.59      0.64       455\n",
      "\n",
      "    accuracy                           0.97     10000\n",
      "   macro avg       0.85      0.79      0.81     10000\n",
      "weighted avg       0.97      0.97      0.97     10000\n",
      "\n"
     ]
    }
   ],
   "source": [
    "print(classification_report(t['y_true'],t['y_pred']))"
   ]
  },
  {
   "cell_type": "code",
   "execution_count": 67,
   "id": "0bf7cdd6",
   "metadata": {
    "ExecuteTime": {
     "end_time": "2023-02-16T21:42:02.607098Z",
     "start_time": "2023-02-16T21:42:02.595130Z"
    }
   },
   "outputs": [
    {
     "data": {
      "text/plain": [
       "0.6425992779783394"
      ]
     },
     "execution_count": 67,
     "metadata": {},
     "output_type": "execute_result"
    }
   ],
   "source": [
    "from sklearn.metrics import f1_score\n",
    "f1_score(t['y_true'], t['y_pred'])"
   ]
  },
  {
   "cell_type": "code",
   "execution_count": 74,
   "id": "5bb34811",
   "metadata": {
    "ExecuteTime": {
     "end_time": "2023-02-16T21:44:50.020999Z",
     "start_time": "2023-02-16T21:44:50.003046Z"
    }
   },
   "outputs": [
    {
     "data": {
      "text/plain": [
       "0.968949467523621"
      ]
     },
     "execution_count": 74,
     "metadata": {},
     "output_type": "execute_result"
    }
   ],
   "source": [
    "from sklearn.metrics import f1_score\n",
    "f1_score(t['y_true'], t['y_pred'],average= 'weighted')"
   ]
  },
  {
   "cell_type": "code",
   "execution_count": 72,
   "id": "9053197f",
   "metadata": {
    "ExecuteTime": {
     "end_time": "2023-02-16T21:44:01.507989Z",
     "start_time": "2023-02-16T21:44:01.491035Z"
    }
   },
   "outputs": [
    {
     "data": {
      "text/plain": [
       "0.9703"
      ]
     },
     "execution_count": 72,
     "metadata": {},
     "output_type": "execute_result"
    }
   ],
   "source": [
    " from sklearn.metrics import accuracy_score\n",
    "accuracy_score(t['y_true'], t['y_pred'])\n",
    "    \n",
    "    "
   ]
  },
  {
   "cell_type": "code",
   "execution_count": null,
   "id": "2b39081f",
   "metadata": {},
   "outputs": [],
   "source": []
  },
  {
   "cell_type": "code",
   "execution_count": 64,
   "id": "950a1805",
   "metadata": {
    "ExecuteTime": {
     "end_time": "2023-02-16T21:36:52.761642Z",
     "start_time": "2023-02-16T21:36:52.747675Z"
    }
   },
   "outputs": [
    {
     "data": {
      "text/plain": [
       "0.7101063829787234"
      ]
     },
     "execution_count": 64,
     "metadata": {},
     "output_type": "execute_result"
    }
   ],
   "source": [
    "t[t['y_pred'] == 1]['y_true'].mean()"
   ]
  },
  {
   "cell_type": "code",
   "execution_count": 75,
   "id": "c6131eea",
   "metadata": {
    "ExecuteTime": {
     "end_time": "2023-02-16T21:48:03.416680Z",
     "start_time": "2023-02-16T21:48:03.410696Z"
    }
   },
   "outputs": [],
   "source": [
    " from sklearn.metrics import precision_score"
   ]
  },
  {
   "cell_type": "code",
   "execution_count": 90,
   "id": "c1b69f97",
   "metadata": {
    "ExecuteTime": {
     "end_time": "2023-02-16T21:56:27.235458Z",
     "start_time": "2023-02-16T21:56:27.215512Z"
    }
   },
   "outputs": [],
   "source": [
    "first=(\n",
    "    t.loc[lambda x:(x['y_true']==0) & (x['y_pred']==0)].shape[0]/\n",
    " (t.loc[lambda x:(x['y_true']==0) & (x['y_pred']==0)].shape[0]+t.loc[lambda x:(x['y_true']==1) & (x['y_pred']==0)].shape[0])   \n",
    ")"
   ]
  },
  {
   "cell_type": "code",
   "execution_count": 91,
   "id": "7583b546",
   "metadata": {
    "ExecuteTime": {
     "end_time": "2023-02-16T21:56:31.435491Z",
     "start_time": "2023-02-16T21:56:31.426539Z"
    }
   },
   "outputs": [],
   "source": [
    "second=(\n",
    "    t.loc[lambda x:(x['y_true']==1) & (x['y_pred']==1)].shape[0]/\n",
    " (t.loc[lambda x:(x['y_true']==1) & (x['y_pred']==1)].shape[0]+t.loc[lambda x:(x['y_true']==0) & (x['y_pred']==1)].shape[0])   \n",
    ")"
   ]
  },
  {
   "cell_type": "code",
   "execution_count": 92,
   "id": "d00f67a8",
   "metadata": {
    "ExecuteTime": {
     "end_time": "2023-02-16T21:56:43.405455Z",
     "start_time": "2023-02-16T21:56:43.386535Z"
    }
   },
   "outputs": [
    {
     "data": {
      "text/plain": [
       "0.8452859429440582"
      ]
     },
     "execution_count": 92,
     "metadata": {},
     "output_type": "execute_result"
    }
   ],
   "source": [
    "(first+second)/2"
   ]
  },
  {
   "cell_type": "code",
   "execution_count": 103,
   "id": "e8604b6d",
   "metadata": {
    "ExecuteTime": {
     "end_time": "2023-02-16T21:58:34.540619Z",
     "start_time": "2023-02-16T21:58:34.526656Z"
    }
   },
   "outputs": [
    {
     "data": {
      "text/plain": [
       "0.96797056883878"
      ]
     },
     "execution_count": 103,
     "metadata": {},
     "output_type": "execute_result"
    }
   ],
   "source": [
    "(first*9545+second*455)/(2+9545+455)"
   ]
  },
  {
   "cell_type": "code",
   "execution_count": 106,
   "id": "a982b8e5",
   "metadata": {
    "ExecuteTime": {
     "end_time": "2023-02-16T22:00:12.480069Z",
     "start_time": "2023-02-16T22:00:12.473088Z"
    }
   },
   "outputs": [],
   "source": [
    "w1=t.loc[lambda x:(x['y_true']==0)].shape[0]/len(t)"
   ]
  },
  {
   "cell_type": "code",
   "execution_count": 107,
   "id": "47143e03",
   "metadata": {
    "ExecuteTime": {
     "end_time": "2023-02-16T22:00:13.844850Z",
     "start_time": "2023-02-16T22:00:13.826899Z"
    }
   },
   "outputs": [],
   "source": [
    "w2=t.loc[lambda x:(x['y_true']==1)].shape[0]/len(t)"
   ]
  },
  {
   "cell_type": "code",
   "execution_count": 108,
   "id": "ac2ac14c",
   "metadata": {
    "ExecuteTime": {
     "end_time": "2023-02-16T22:00:35.858213Z",
     "start_time": "2023-02-16T22:00:35.842256Z"
    }
   },
   "outputs": [
    {
     "data": {
      "text/plain": [
       "0.9681641629525477"
      ]
     },
     "execution_count": 108,
     "metadata": {},
     "output_type": "execute_result"
    }
   ],
   "source": [
    "first*w1+second*w2"
   ]
  },
  {
   "cell_type": "code",
   "execution_count": 84,
   "id": "d00a9d8d",
   "metadata": {
    "ExecuteTime": {
     "end_time": "2023-02-16T21:53:06.513204Z",
     "start_time": "2023-02-16T21:53:06.498253Z"
    }
   },
   "outputs": [
    {
     "data": {
      "text/plain": [
       "9624"
      ]
     },
     "execution_count": 84,
     "metadata": {},
     "output_type": "execute_result"
    }
   ],
   "source": [
    "\n",
    "(t.loc[lambda x:(x['y_true']==0) & (x['y_pred']==0)].shape[0]+t.loc[lambda x:(x['y_true']==1) & (x['y_pred']==0)].shape[0])"
   ]
  },
  {
   "cell_type": "code",
   "execution_count": 77,
   "id": "c162bdf4",
   "metadata": {
    "ExecuteTime": {
     "end_time": "2023-02-16T21:48:38.261111Z",
     "start_time": "2023-02-16T21:48:38.251109Z"
    }
   },
   "outputs": [
    {
     "data": {
      "text/plain": [
       "0.5868131868131868"
      ]
     },
     "execution_count": 77,
     "metadata": {},
     "output_type": "execute_result"
    }
   ],
   "source": [
    "precision_score(t['y_pred'],t['y_true'])"
   ]
  },
  {
   "cell_type": "code",
   "execution_count": 76,
   "id": "f11bdc41",
   "metadata": {
    "ExecuteTime": {
     "end_time": "2023-02-16T21:48:23.223462Z",
     "start_time": "2023-02-16T21:48:23.210497Z"
    }
   },
   "outputs": [
    {
     "data": {
      "text/plain": [
       "0.7101063829787234"
      ]
     },
     "execution_count": 76,
     "metadata": {},
     "output_type": "execute_result"
    }
   ],
   "source": [
    "precision_score(t['y_true'], t['y_pred'])"
   ]
  },
  {
   "cell_type": "markdown",
   "id": "ec3cba6c",
   "metadata": {},
   "source": [
    "https://vkteam.medium.com/practitioners-guide-to-statistical-tests-ed2d580ef04f"
   ]
  }
 ],
 "metadata": {
  "kernelspec": {
   "display_name": "Python 3",
   "language": "python",
   "name": "python3"
  },
  "language_info": {
   "codemirror_mode": {
    "name": "ipython",
    "version": 3
   },
   "file_extension": ".py",
   "mimetype": "text/x-python",
   "name": "python",
   "nbconvert_exporter": "python",
   "pygments_lexer": "ipython3",
   "version": "3.8.8"
  },
  "toc": {
   "base_numbering": 1,
   "nav_menu": {},
   "number_sections": true,
   "sideBar": true,
   "skip_h1_title": false,
   "title_cell": "Содержание",
   "title_sidebar": "Содержание",
   "toc_cell": true,
   "toc_position": {},
   "toc_section_display": true,
   "toc_window_display": true
  }
 },
 "nbformat": 4,
 "nbformat_minor": 5
}
